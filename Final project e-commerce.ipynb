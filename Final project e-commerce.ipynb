{
 "cells": [
  {
   "cell_type": "markdown",
   "id": "743da7df",
   "metadata": {},
   "source": [
    "# Проект для интернет магазина «Пока все ещё тут»"
   ]
  },
  {
   "cell_type": "markdown",
   "id": "5f27b854",
   "metadata": {},
   "source": [
    "**Материалы**\n",
    "Презентация: https://disk.yandex.ru/i/knaUAkmbMX-7sA"
   ]
  },
  {
   "cell_type": "markdown",
   "id": "5db1363a",
   "metadata": {},
   "source": [
    "## Задача\n",
    "Интернет-магазин товаров для дома «Пока все ещё тут» в срочном порядке ищет аналитиков. Вы поможете нашему магазину стать лучше, а клиентам — обустроить дом своей мечты. Наши ближайшие задачи — выявление профилей покупателей, а также их сегментация и анализ."
   ]
  },
  {
   "cell_type": "markdown",
   "id": "8e93c594",
   "metadata": {},
   "source": [
    "**1 Предобработка данных** \n",
    "- Открыть и изучить данные.\n",
    "- Проверить и исправить пропущенные значения\n",
    "- Проверить датасет на дубликаты\n",
    "- Проверить тип данных. Если есть необходимость изменить тип.\n",
    "- Найти и устранить редкие и выбивающиеся значения\n",
    "\n",
    "**2 Исследовательский анализ данных** \\\n",
    "Выделить основные показатели интернет-магазина и изучить динамику. Интерпритировать результат.\n",
    "\n",
    "- Выручка\n",
    "- Средний чек\n",
    "- Средняя выручка с покупателя\n",
    "- Категории товаров\n",
    "\n",
    "**3 Сегментация покупателей на основе истории их покупок** \\\n",
    "Обнаружить группы клиентов, похожих друг на друга, охарактеризовать их, предложить рекомендации по работе с каждой группой.\n",
    "\n",
    "- Кто часто совершает сезонные покупки? Делают ли повторные?\n",
    "- Кто делает несколько заказов?\n",
    "- Кто часто оформляет заказа?\n",
    "- Кто делает крупные покупки?\n",
    "- Какая у них структура потребления?\n",
    "- По каким категориям товаров делятся покупатели?\n",
    "\n",
    "**4 Проверка статистических гипотез** \\\n",
    "Первая гипотеза\n",
    "\n",
    "H0: Есть разница в средней выручке между сегментами \\\n",
    "H1: Нет разницы в средней выручке между сегментами\n",
    "\n",
    "Вторая гипотеза\n",
    "\n",
    "H0: Есть разница в частоте оформления заказов между сегментами \\\n",
    "H1: Нет разницы в частоте оформления заказов между сегментами\n",
    "\n",
    "**5 Выводы и рекомендации** \\\n",
    "Описать общие выводи и написать рекомендации для интернет-магазина «Пока все ещё тут»."
   ]
  },
  {
   "cell_type": "markdown",
   "id": "217370db",
   "metadata": {},
   "source": [
    "### Предобработка данных"
   ]
  },
  {
   "cell_type": "code",
   "execution_count": 1,
   "id": "55187064",
   "metadata": {},
   "outputs": [],
   "source": [
    "import pandas as pd\n",
    "import numpy as np\n",
    "import matplotlib.pyplot as plt\n",
    "import seaborn as sns\n",
    "import plotly.express as px\n",
    "import re\n",
    "import datetime as dt\n",
    "import json\n",
    "from scipy import stats as st\n",
    "\n",
    "\n",
    "import warnings\n",
    "warnings.filterwarnings(\"ignore\")"
   ]
  },
  {
   "cell_type": "code",
   "execution_count": 2,
   "id": "d4653b0b",
   "metadata": {},
   "outputs": [],
   "source": [
    "try:\n",
    "    df = pd.read_csv('https://code.s3.yandex.net/datasets/ecom_dataset_upd.csv', sep=',')\n",
    "    \n",
    "except:    \n",
    "    df = pd.read_csv('C:\\\\Users\\\\bazel\\\\ecom_dataset_upd.csv', sep=',')"
   ]
  },
  {
   "cell_type": "code",
   "execution_count": 3,
   "id": "4105f9fa",
   "metadata": {
    "scrolled": true
   },
   "outputs": [
    {
     "data": {
      "text/html": [
       "<div>\n",
       "<style scoped>\n",
       "    .dataframe tbody tr th:only-of-type {\n",
       "        vertical-align: middle;\n",
       "    }\n",
       "\n",
       "    .dataframe tbody tr th {\n",
       "        vertical-align: top;\n",
       "    }\n",
       "\n",
       "    .dataframe thead th {\n",
       "        text-align: right;\n",
       "    }\n",
       "</style>\n",
       "<table border=\"1\" class=\"dataframe\">\n",
       "  <thead>\n",
       "    <tr style=\"text-align: right;\">\n",
       "      <th></th>\n",
       "      <th>date</th>\n",
       "      <th>customer_id</th>\n",
       "      <th>order_id</th>\n",
       "      <th>product</th>\n",
       "      <th>quantity</th>\n",
       "      <th>price</th>\n",
       "    </tr>\n",
       "  </thead>\n",
       "  <tbody>\n",
       "    <tr>\n",
       "      <th>0</th>\n",
       "      <td>2018100100</td>\n",
       "      <td>ee47d746-6d2f-4d3c-9622-c31412542920</td>\n",
       "      <td>68477</td>\n",
       "      <td>Комнатное растение в горшке Алое Вера, d12, h30</td>\n",
       "      <td>1</td>\n",
       "      <td>142.0</td>\n",
       "    </tr>\n",
       "    <tr>\n",
       "      <th>1</th>\n",
       "      <td>2018100100</td>\n",
       "      <td>ee47d746-6d2f-4d3c-9622-c31412542920</td>\n",
       "      <td>68477</td>\n",
       "      <td>Комнатное растение в горшке Кофе Арабика, d12,...</td>\n",
       "      <td>1</td>\n",
       "      <td>194.0</td>\n",
       "    </tr>\n",
       "    <tr>\n",
       "      <th>2</th>\n",
       "      <td>2018100100</td>\n",
       "      <td>ee47d746-6d2f-4d3c-9622-c31412542920</td>\n",
       "      <td>68477</td>\n",
       "      <td>Радермахера d-12 см h-20 см</td>\n",
       "      <td>1</td>\n",
       "      <td>112.0</td>\n",
       "    </tr>\n",
       "    <tr>\n",
       "      <th>3</th>\n",
       "      <td>2018100100</td>\n",
       "      <td>ee47d746-6d2f-4d3c-9622-c31412542920</td>\n",
       "      <td>68477</td>\n",
       "      <td>Хризолидокарпус Лутесценс d-9 см</td>\n",
       "      <td>1</td>\n",
       "      <td>179.0</td>\n",
       "    </tr>\n",
       "    <tr>\n",
       "      <th>4</th>\n",
       "      <td>2018100100</td>\n",
       "      <td>ee47d746-6d2f-4d3c-9622-c31412542920</td>\n",
       "      <td>68477</td>\n",
       "      <td>Циперус Зумула d-12 см h-25 см</td>\n",
       "      <td>1</td>\n",
       "      <td>112.0</td>\n",
       "    </tr>\n",
       "    <tr>\n",
       "      <th>...</th>\n",
       "      <td>...</td>\n",
       "      <td>...</td>\n",
       "      <td>...</td>\n",
       "      <td>...</td>\n",
       "      <td>...</td>\n",
       "      <td>...</td>\n",
       "    </tr>\n",
       "    <tr>\n",
       "      <th>7469</th>\n",
       "      <td>2020013021</td>\n",
       "      <td>63208953-a8e4-4f77-9b47-3a46e7b72eee</td>\n",
       "      <td>104002</td>\n",
       "      <td>томата (помидор) Черниченский черри № 116 сорт...</td>\n",
       "      <td>2</td>\n",
       "      <td>38.0</td>\n",
       "    </tr>\n",
       "    <tr>\n",
       "      <th>7470</th>\n",
       "      <td>2020013022</td>\n",
       "      <td>d99d25f1-4017-4fcd-8d29-c580cc695a1a</td>\n",
       "      <td>107336</td>\n",
       "      <td>Дендробиум Санок Анна Грин 1 ствол d-12 см</td>\n",
       "      <td>1</td>\n",
       "      <td>869.0</td>\n",
       "    </tr>\n",
       "    <tr>\n",
       "      <th>7471</th>\n",
       "      <td>2020013102</td>\n",
       "      <td>2c9bd08d-8c55-4e7a-9bfb-8c56ba42c6d6</td>\n",
       "      <td>106336</td>\n",
       "      <td>Подставка для обуви резиновая Attribute 80x40 ...</td>\n",
       "      <td>1</td>\n",
       "      <td>354.0</td>\n",
       "    </tr>\n",
       "    <tr>\n",
       "      <th>7472</th>\n",
       "      <td>2020013112</td>\n",
       "      <td>cdd17932-623e-415f-a577-3b31312fd0e2</td>\n",
       "      <td>102002</td>\n",
       "      <td>Тагетис крупноцветковый рассада однолетних цве...</td>\n",
       "      <td>1</td>\n",
       "      <td>128.0</td>\n",
       "    </tr>\n",
       "    <tr>\n",
       "      <th>7473</th>\n",
       "      <td>2020013115</td>\n",
       "      <td>2e460a26-35af-453d-a369-a036e95a40e0</td>\n",
       "      <td>103225</td>\n",
       "      <td>Вешалка для блузок 41 см красный Attribute AHM781</td>\n",
       "      <td>1</td>\n",
       "      <td>104.0</td>\n",
       "    </tr>\n",
       "  </tbody>\n",
       "</table>\n",
       "<p>7474 rows × 6 columns</p>\n",
       "</div>"
      ],
      "text/plain": [
       "            date                           customer_id  order_id  \\\n",
       "0     2018100100  ee47d746-6d2f-4d3c-9622-c31412542920     68477   \n",
       "1     2018100100  ee47d746-6d2f-4d3c-9622-c31412542920     68477   \n",
       "2     2018100100  ee47d746-6d2f-4d3c-9622-c31412542920     68477   \n",
       "3     2018100100  ee47d746-6d2f-4d3c-9622-c31412542920     68477   \n",
       "4     2018100100  ee47d746-6d2f-4d3c-9622-c31412542920     68477   \n",
       "...          ...                                   ...       ...   \n",
       "7469  2020013021  63208953-a8e4-4f77-9b47-3a46e7b72eee    104002   \n",
       "7470  2020013022  d99d25f1-4017-4fcd-8d29-c580cc695a1a    107336   \n",
       "7471  2020013102  2c9bd08d-8c55-4e7a-9bfb-8c56ba42c6d6    106336   \n",
       "7472  2020013112  cdd17932-623e-415f-a577-3b31312fd0e2    102002   \n",
       "7473  2020013115  2e460a26-35af-453d-a369-a036e95a40e0    103225   \n",
       "\n",
       "                                                product  quantity  price  \n",
       "0       Комнатное растение в горшке Алое Вера, d12, h30         1  142.0  \n",
       "1     Комнатное растение в горшке Кофе Арабика, d12,...         1  194.0  \n",
       "2                           Радермахера d-12 см h-20 см         1  112.0  \n",
       "3                      Хризолидокарпус Лутесценс d-9 см         1  179.0  \n",
       "4                        Циперус Зумула d-12 см h-25 см         1  112.0  \n",
       "...                                                 ...       ...    ...  \n",
       "7469  томата (помидор) Черниченский черри № 116 сорт...         2   38.0  \n",
       "7470         Дендробиум Санок Анна Грин 1 ствол d-12 см         1  869.0  \n",
       "7471  Подставка для обуви резиновая Attribute 80x40 ...         1  354.0  \n",
       "7472  Тагетис крупноцветковый рассада однолетних цве...         1  128.0  \n",
       "7473  Вешалка для блузок 41 см красный Attribute AHM781         1  104.0  \n",
       "\n",
       "[7474 rows x 6 columns]"
      ]
     },
     "execution_count": 3,
     "metadata": {},
     "output_type": "execute_result"
    }
   ],
   "source": [
    "df"
   ]
  },
  {
   "cell_type": "markdown",
   "id": "fd7040a9",
   "metadata": {},
   "source": [
    "Магазин продает товары для дома"
   ]
  },
  {
   "cell_type": "code",
   "execution_count": 4,
   "id": "d50906a2",
   "metadata": {},
   "outputs": [
    {
     "data": {
      "text/plain": [
       "date           0\n",
       "customer_id    0\n",
       "order_id       0\n",
       "product        0\n",
       "quantity       0\n",
       "price          0\n",
       "dtype: int64"
      ]
     },
     "execution_count": 4,
     "metadata": {},
     "output_type": "execute_result"
    }
   ],
   "source": [
    "df.isna().sum()"
   ]
  },
  {
   "cell_type": "markdown",
   "id": "8c4d0c2a",
   "metadata": {},
   "source": [
    "Пропусков нет, отлично"
   ]
  },
  {
   "cell_type": "code",
   "execution_count": 5,
   "id": "0cbf4c95",
   "metadata": {},
   "outputs": [
    {
     "data": {
      "text/plain": [
       "0"
      ]
     },
     "execution_count": 5,
     "metadata": {},
     "output_type": "execute_result"
    }
   ],
   "source": [
    "df.duplicated().sum()"
   ]
  },
  {
   "cell_type": "code",
   "execution_count": 6,
   "id": "511da0f7",
   "metadata": {},
   "outputs": [],
   "source": [
    "df = df.drop_duplicates(subset=['order_id','product', 'date'], keep='first')"
   ]
  },
  {
   "cell_type": "code",
   "execution_count": 7,
   "id": "4358afd1",
   "metadata": {},
   "outputs": [],
   "source": [
    "df = df.drop_duplicates(subset=['order_id','product', 'customer_id'], keep='first')"
   ]
  },
  {
   "cell_type": "markdown",
   "id": "3a28dbe5",
   "metadata": {},
   "source": [
    "Удаляем дубликаты по времени и по id пользователя"
   ]
  },
  {
   "cell_type": "code",
   "execution_count": 8,
   "id": "7377c120",
   "metadata": {},
   "outputs": [
    {
     "data": {
      "text/html": [
       "<div>\n",
       "<style scoped>\n",
       "    .dataframe tbody tr th:only-of-type {\n",
       "        vertical-align: middle;\n",
       "    }\n",
       "\n",
       "    .dataframe tbody tr th {\n",
       "        vertical-align: top;\n",
       "    }\n",
       "\n",
       "    .dataframe thead th {\n",
       "        text-align: right;\n",
       "    }\n",
       "</style>\n",
       "<table border=\"1\" class=\"dataframe\">\n",
       "  <thead>\n",
       "    <tr style=\"text-align: right;\">\n",
       "      <th></th>\n",
       "      <th>date</th>\n",
       "      <th>customer_id</th>\n",
       "      <th>order_id</th>\n",
       "      <th>product</th>\n",
       "      <th>quantity</th>\n",
       "      <th>price</th>\n",
       "    </tr>\n",
       "  </thead>\n",
       "  <tbody>\n",
       "    <tr>\n",
       "      <th>0</th>\n",
       "      <td>2018100100</td>\n",
       "      <td>ee47d746-6d2f-4d3c-9622-c31412542920</td>\n",
       "      <td>68477</td>\n",
       "      <td>Комнатное растение в горшке Алое Вера, d12, h30</td>\n",
       "      <td>1</td>\n",
       "      <td>142.0</td>\n",
       "    </tr>\n",
       "    <tr>\n",
       "      <th>1</th>\n",
       "      <td>2018100100</td>\n",
       "      <td>ee47d746-6d2f-4d3c-9622-c31412542920</td>\n",
       "      <td>68477</td>\n",
       "      <td>Комнатное растение в горшке Кофе Арабика, d12,...</td>\n",
       "      <td>1</td>\n",
       "      <td>194.0</td>\n",
       "    </tr>\n",
       "    <tr>\n",
       "      <th>2</th>\n",
       "      <td>2018100100</td>\n",
       "      <td>ee47d746-6d2f-4d3c-9622-c31412542920</td>\n",
       "      <td>68477</td>\n",
       "      <td>Радермахера d-12 см h-20 см</td>\n",
       "      <td>1</td>\n",
       "      <td>112.0</td>\n",
       "    </tr>\n",
       "    <tr>\n",
       "      <th>3</th>\n",
       "      <td>2018100100</td>\n",
       "      <td>ee47d746-6d2f-4d3c-9622-c31412542920</td>\n",
       "      <td>68477</td>\n",
       "      <td>Хризолидокарпус Лутесценс d-9 см</td>\n",
       "      <td>1</td>\n",
       "      <td>179.0</td>\n",
       "    </tr>\n",
       "    <tr>\n",
       "      <th>4</th>\n",
       "      <td>2018100100</td>\n",
       "      <td>ee47d746-6d2f-4d3c-9622-c31412542920</td>\n",
       "      <td>68477</td>\n",
       "      <td>Циперус Зумула d-12 см h-25 см</td>\n",
       "      <td>1</td>\n",
       "      <td>112.0</td>\n",
       "    </tr>\n",
       "    <tr>\n",
       "      <th>...</th>\n",
       "      <td>...</td>\n",
       "      <td>...</td>\n",
       "      <td>...</td>\n",
       "      <td>...</td>\n",
       "      <td>...</td>\n",
       "      <td>...</td>\n",
       "    </tr>\n",
       "    <tr>\n",
       "      <th>7469</th>\n",
       "      <td>2020013021</td>\n",
       "      <td>63208953-a8e4-4f77-9b47-3a46e7b72eee</td>\n",
       "      <td>104002</td>\n",
       "      <td>томата (помидор) Черниченский черри № 116 сорт...</td>\n",
       "      <td>2</td>\n",
       "      <td>38.0</td>\n",
       "    </tr>\n",
       "    <tr>\n",
       "      <th>7470</th>\n",
       "      <td>2020013022</td>\n",
       "      <td>d99d25f1-4017-4fcd-8d29-c580cc695a1a</td>\n",
       "      <td>107336</td>\n",
       "      <td>Дендробиум Санок Анна Грин 1 ствол d-12 см</td>\n",
       "      <td>1</td>\n",
       "      <td>869.0</td>\n",
       "    </tr>\n",
       "    <tr>\n",
       "      <th>7471</th>\n",
       "      <td>2020013102</td>\n",
       "      <td>2c9bd08d-8c55-4e7a-9bfb-8c56ba42c6d6</td>\n",
       "      <td>106336</td>\n",
       "      <td>Подставка для обуви резиновая Attribute 80x40 ...</td>\n",
       "      <td>1</td>\n",
       "      <td>354.0</td>\n",
       "    </tr>\n",
       "    <tr>\n",
       "      <th>7472</th>\n",
       "      <td>2020013112</td>\n",
       "      <td>cdd17932-623e-415f-a577-3b31312fd0e2</td>\n",
       "      <td>102002</td>\n",
       "      <td>Тагетис крупноцветковый рассада однолетних цве...</td>\n",
       "      <td>1</td>\n",
       "      <td>128.0</td>\n",
       "    </tr>\n",
       "    <tr>\n",
       "      <th>7473</th>\n",
       "      <td>2020013115</td>\n",
       "      <td>2e460a26-35af-453d-a369-a036e95a40e0</td>\n",
       "      <td>103225</td>\n",
       "      <td>Вешалка для блузок 41 см красный Attribute AHM781</td>\n",
       "      <td>1</td>\n",
       "      <td>104.0</td>\n",
       "    </tr>\n",
       "  </tbody>\n",
       "</table>\n",
       "<p>5587 rows × 6 columns</p>\n",
       "</div>"
      ],
      "text/plain": [
       "            date                           customer_id  order_id  \\\n",
       "0     2018100100  ee47d746-6d2f-4d3c-9622-c31412542920     68477   \n",
       "1     2018100100  ee47d746-6d2f-4d3c-9622-c31412542920     68477   \n",
       "2     2018100100  ee47d746-6d2f-4d3c-9622-c31412542920     68477   \n",
       "3     2018100100  ee47d746-6d2f-4d3c-9622-c31412542920     68477   \n",
       "4     2018100100  ee47d746-6d2f-4d3c-9622-c31412542920     68477   \n",
       "...          ...                                   ...       ...   \n",
       "7469  2020013021  63208953-a8e4-4f77-9b47-3a46e7b72eee    104002   \n",
       "7470  2020013022  d99d25f1-4017-4fcd-8d29-c580cc695a1a    107336   \n",
       "7471  2020013102  2c9bd08d-8c55-4e7a-9bfb-8c56ba42c6d6    106336   \n",
       "7472  2020013112  cdd17932-623e-415f-a577-3b31312fd0e2    102002   \n",
       "7473  2020013115  2e460a26-35af-453d-a369-a036e95a40e0    103225   \n",
       "\n",
       "                                                product  quantity  price  \n",
       "0       Комнатное растение в горшке Алое Вера, d12, h30         1  142.0  \n",
       "1     Комнатное растение в горшке Кофе Арабика, d12,...         1  194.0  \n",
       "2                           Радермахера d-12 см h-20 см         1  112.0  \n",
       "3                      Хризолидокарпус Лутесценс d-9 см         1  179.0  \n",
       "4                        Циперус Зумула d-12 см h-25 см         1  112.0  \n",
       "...                                                 ...       ...    ...  \n",
       "7469  томата (помидор) Черниченский черри № 116 сорт...         2   38.0  \n",
       "7470         Дендробиум Санок Анна Грин 1 ствол d-12 см         1  869.0  \n",
       "7471  Подставка для обуви резиновая Attribute 80x40 ...         1  354.0  \n",
       "7472  Тагетис крупноцветковый рассада однолетних цве...         1  128.0  \n",
       "7473  Вешалка для блузок 41 см красный Attribute AHM781         1  104.0  \n",
       "\n",
       "[5587 rows x 6 columns]"
      ]
     },
     "execution_count": 8,
     "metadata": {},
     "output_type": "execute_result"
    }
   ],
   "source": [
    "df"
   ]
  },
  {
   "cell_type": "code",
   "execution_count": 9,
   "id": "9e456bd2",
   "metadata": {
    "scrolled": true
   },
   "outputs": [
    {
     "name": "stdout",
     "output_type": "stream",
     "text": [
      "<class 'pandas.core.frame.DataFrame'>\n",
      "Int64Index: 5587 entries, 0 to 7473\n",
      "Data columns (total 6 columns):\n",
      " #   Column       Non-Null Count  Dtype  \n",
      "---  ------       --------------  -----  \n",
      " 0   date         5587 non-null   int64  \n",
      " 1   customer_id  5587 non-null   object \n",
      " 2   order_id     5587 non-null   int64  \n",
      " 3   product      5587 non-null   object \n",
      " 4   quantity     5587 non-null   int64  \n",
      " 5   price        5587 non-null   float64\n",
      "dtypes: float64(1), int64(3), object(2)\n",
      "memory usage: 305.5+ KB\n"
     ]
    }
   ],
   "source": [
    "df.info()"
   ]
  },
  {
   "cell_type": "code",
   "execution_count": 10,
   "id": "1ba4d61b",
   "metadata": {},
   "outputs": [],
   "source": [
    "df[\"date\"] = pd.to_datetime(df['date'], format=\"%Y%m%d%H\")"
   ]
  },
  {
   "cell_type": "code",
   "execution_count": 11,
   "id": "aa47c291",
   "metadata": {},
   "outputs": [
    {
     "name": "stdout",
     "output_type": "stream",
     "text": [
      "2018-10-01 00:00:00\n",
      "2020-01-31 15:00:00\n"
     ]
    }
   ],
   "source": [
    "print(df['date'].min())\n",
    "print(df['date'].max())"
   ]
  },
  {
   "cell_type": "markdown",
   "id": "b5c13ed6",
   "metadata": {},
   "source": [
    "Данные от 01.10.2018 до 31.01.2020 (15:00)"
   ]
  },
  {
   "cell_type": "code",
   "execution_count": 12,
   "id": "bb14782f",
   "metadata": {},
   "outputs": [],
   "source": [
    "df['product'] = df['product'].str.lower()"
   ]
  },
  {
   "cell_type": "markdown",
   "id": "a9a707b1",
   "metadata": {},
   "source": [
    "### Исследовательский анализ данных"
   ]
  },
  {
   "cell_type": "markdown",
   "id": "bdc13bd3",
   "metadata": {},
   "source": [
    "#### Изучение выручки"
   ]
  },
  {
   "cell_type": "code",
   "execution_count": 13,
   "id": "b779b1c4",
   "metadata": {},
   "outputs": [
    {
     "data": {
      "text/plain": [
       "count     5587.000000\n",
       "mean       531.347071\n",
       "std        973.306691\n",
       "min          9.000000\n",
       "25%         90.000000\n",
       "50%        150.000000\n",
       "75%        524.000000\n",
       "max      14917.000000\n",
       "Name: price, dtype: float64"
      ]
     },
     "execution_count": 13,
     "metadata": {},
     "output_type": "execute_result"
    }
   ],
   "source": [
    "df['price'].describe()"
   ]
  },
  {
   "cell_type": "code",
   "execution_count": 14,
   "id": "b984ff9a",
   "metadata": {},
   "outputs": [],
   "source": [
    "df['sales'] = df['price'] * df['quantity']"
   ]
  },
  {
   "cell_type": "markdown",
   "id": "0c21b229",
   "metadata": {},
   "source": [
    "Так как у нас представлены только цены на товар и количество товара в заказе, сделаем столбец с стоимостью заказа "
   ]
  },
  {
   "cell_type": "code",
   "execution_count": 15,
   "id": "cc33e6cd",
   "metadata": {},
   "outputs": [
    {
     "data": {
      "text/plain": [
       "count      5587.000000\n",
       "mean        829.978238\n",
       "std        9171.011013\n",
       "min           9.000000\n",
       "25%         120.000000\n",
       "50%         194.000000\n",
       "75%         734.000000\n",
       "max      675000.000000\n",
       "Name: sales, dtype: float64"
      ]
     },
     "execution_count": 15,
     "metadata": {},
     "output_type": "execute_result"
    }
   ],
   "source": [
    "df.sales.describe()"
   ]
  },
  {
   "cell_type": "markdown",
   "id": "15e38b7d",
   "metadata": {},
   "source": [
    "Максимальная цена 675000, странно. "
   ]
  },
  {
   "cell_type": "code",
   "execution_count": 16,
   "id": "3be38444",
   "metadata": {},
   "outputs": [
    {
     "data": {
      "text/html": [
       "<div>\n",
       "<style scoped>\n",
       "    .dataframe tbody tr th:only-of-type {\n",
       "        vertical-align: middle;\n",
       "    }\n",
       "\n",
       "    .dataframe tbody tr th {\n",
       "        vertical-align: top;\n",
       "    }\n",
       "\n",
       "    .dataframe thead th {\n",
       "        text-align: right;\n",
       "    }\n",
       "</style>\n",
       "<table border=\"1\" class=\"dataframe\">\n",
       "  <thead>\n",
       "    <tr style=\"text-align: right;\">\n",
       "      <th></th>\n",
       "      <th>date</th>\n",
       "      <th>customer_id</th>\n",
       "      <th>order_id</th>\n",
       "      <th>product</th>\n",
       "      <th>quantity</th>\n",
       "      <th>price</th>\n",
       "      <th>sales</th>\n",
       "    </tr>\n",
       "  </thead>\n",
       "  <tbody>\n",
       "    <tr>\n",
       "      <th>5456</th>\n",
       "      <td>2019-06-18 15:00:00</td>\n",
       "      <td>312e9a3e-5fca-43ff-a6a1-892d2b2d5ba6</td>\n",
       "      <td>71743</td>\n",
       "      <td>вантуз с деревянной ручкой d14 см красный, bur...</td>\n",
       "      <td>1000</td>\n",
       "      <td>675.0</td>\n",
       "      <td>675000.0</td>\n",
       "    </tr>\n",
       "  </tbody>\n",
       "</table>\n",
       "</div>"
      ],
      "text/plain": [
       "                    date                           customer_id  order_id  \\\n",
       "5456 2019-06-18 15:00:00  312e9a3e-5fca-43ff-a6a1-892d2b2d5ba6     71743   \n",
       "\n",
       "                                                product  quantity  price  \\\n",
       "5456  вантуз с деревянной ручкой d14 см красный, bur...      1000  675.0   \n",
       "\n",
       "         sales  \n",
       "5456  675000.0  "
      ]
     },
     "execution_count": 16,
     "metadata": {},
     "output_type": "execute_result"
    }
   ],
   "source": [
    "df[df['sales'] == 675000]"
   ]
  },
  {
   "cell_type": "markdown",
   "id": "97107f8e",
   "metadata": {},
   "source": [
    "1000 вантузов - это тестовый заказ, поэтому удалим его."
   ]
  },
  {
   "cell_type": "code",
   "execution_count": 17,
   "id": "b31c06b5",
   "metadata": {},
   "outputs": [],
   "source": [
    "df = df.query('sales != 675000')"
   ]
  },
  {
   "cell_type": "code",
   "execution_count": 18,
   "id": "d4d3535b",
   "metadata": {},
   "outputs": [
    {
     "data": {
      "text/html": [
       "<div>\n",
       "<style scoped>\n",
       "    .dataframe tbody tr th:only-of-type {\n",
       "        vertical-align: middle;\n",
       "    }\n",
       "\n",
       "    .dataframe tbody tr th {\n",
       "        vertical-align: top;\n",
       "    }\n",
       "\n",
       "    .dataframe thead th {\n",
       "        text-align: right;\n",
       "    }\n",
       "</style>\n",
       "<table border=\"1\" class=\"dataframe\">\n",
       "  <thead>\n",
       "    <tr style=\"text-align: right;\">\n",
       "      <th></th>\n",
       "      <th>date</th>\n",
       "      <th>customer_id</th>\n",
       "      <th>order_id</th>\n",
       "      <th>product</th>\n",
       "      <th>quantity</th>\n",
       "      <th>price</th>\n",
       "      <th>sales</th>\n",
       "    </tr>\n",
       "  </thead>\n",
       "  <tbody>\n",
       "    <tr>\n",
       "      <th>5992</th>\n",
       "      <td>2019-07-29 17:00:00</td>\n",
       "      <td>0d87f4ae-465a-4fac-81e6-5d629761783e</td>\n",
       "      <td>72139</td>\n",
       "      <td>сушилка уличная leifheit 85210 linomatic v 400...</td>\n",
       "      <td>1</td>\n",
       "      <td>14917.0</td>\n",
       "      <td>14917.0</td>\n",
       "    </tr>\n",
       "  </tbody>\n",
       "</table>\n",
       "</div>"
      ],
      "text/plain": [
       "                    date                           customer_id  order_id  \\\n",
       "5992 2019-07-29 17:00:00  0d87f4ae-465a-4fac-81e6-5d629761783e     72139   \n",
       "\n",
       "                                                product  quantity    price  \\\n",
       "5992  сушилка уличная leifheit 85210 linomatic v 400...         1  14917.0   \n",
       "\n",
       "        sales  \n",
       "5992  14917.0  "
      ]
     },
     "execution_count": 18,
     "metadata": {},
     "output_type": "execute_result"
    }
   ],
   "source": [
    "df[df['price'] == 14917]"
   ]
  },
  {
   "cell_type": "markdown",
   "id": "39d0028a",
   "metadata": {},
   "source": [
    "А они действительно в +- такую цену. Пруф: https://san-premium.ru/catalog/model/6590/sushilka-dlya-belya-ulichnaya-leifheit-linomatic-v-400-40m-85210/"
   ]
  },
  {
   "cell_type": "code",
   "execution_count": 19,
   "id": "09c98fa6",
   "metadata": {},
   "outputs": [
    {
     "data": {
      "text/plain": [
       "2450"
      ]
     },
     "execution_count": 19,
     "metadata": {},
     "output_type": "execute_result"
    }
   ],
   "source": [
    "df['customer_id'].nunique()"
   ]
  },
  {
   "cell_type": "markdown",
   "id": "7de0c4a5",
   "metadata": {},
   "source": [
    "Это мы посмотрели уникальных пользователей"
   ]
  },
  {
   "cell_type": "code",
   "execution_count": 20,
   "id": "5e0e315a",
   "metadata": {},
   "outputs": [
    {
     "data": {
      "text/plain": [
       "3962088.4166666665"
      ]
     },
     "execution_count": 20,
     "metadata": {},
     "output_type": "execute_result"
    }
   ],
   "source": [
    "df['sales'].sum()"
   ]
  },
  {
   "cell_type": "markdown",
   "id": "368bfbdb",
   "metadata": {},
   "source": [
    "А это сколько всего денег потратили. Теперь создадим столбцы с распределением по годам, месяцам, а так же сезонам."
   ]
  },
  {
   "cell_type": "code",
   "execution_count": 21,
   "id": "6c9fc756",
   "metadata": {},
   "outputs": [],
   "source": [
    "df['month'] = df['date'].dt.month\n",
    "df['year'] = df['date'].dt.year\n",
    "df['date_day'] = df['date'].dt.date"
   ]
  },
  {
   "cell_type": "code",
   "execution_count": 22,
   "id": "e7a22125",
   "metadata": {},
   "outputs": [],
   "source": [
    "def season(month):\n",
    "    if  3 <= month <= 5:\n",
    "        return 'весна'\n",
    "    elif 6 <= month <= 8:\n",
    "        return 'лето'\n",
    "    elif 9 <= month <= 11:\n",
    "        return 'осень'\n",
    "    else:\n",
    "        return \"зима\" "
   ]
  },
  {
   "cell_type": "code",
   "execution_count": 23,
   "id": "490a29dc",
   "metadata": {},
   "outputs": [],
   "source": [
    "df['season'] = df['month'].apply(season)"
   ]
  },
  {
   "cell_type": "code",
   "execution_count": 24,
   "id": "d9ac125b",
   "metadata": {},
   "outputs": [
    {
     "data": {
      "text/html": [
       "<div>\n",
       "<style scoped>\n",
       "    .dataframe tbody tr th:only-of-type {\n",
       "        vertical-align: middle;\n",
       "    }\n",
       "\n",
       "    .dataframe tbody tr th {\n",
       "        vertical-align: top;\n",
       "    }\n",
       "\n",
       "    .dataframe thead th {\n",
       "        text-align: right;\n",
       "    }\n",
       "</style>\n",
       "<table border=\"1\" class=\"dataframe\">\n",
       "  <thead>\n",
       "    <tr style=\"text-align: right;\">\n",
       "      <th></th>\n",
       "      <th>month</th>\n",
       "      <th>year</th>\n",
       "      <th>season</th>\n",
       "      <th>sales</th>\n",
       "    </tr>\n",
       "  </thead>\n",
       "  <tbody>\n",
       "    <tr>\n",
       "      <th>0</th>\n",
       "      <td>1</td>\n",
       "      <td>2019</td>\n",
       "      <td>зима</td>\n",
       "      <td>235432.000000</td>\n",
       "    </tr>\n",
       "    <tr>\n",
       "      <th>1</th>\n",
       "      <td>1</td>\n",
       "      <td>2020</td>\n",
       "      <td>зима</td>\n",
       "      <td>174036.333333</td>\n",
       "    </tr>\n",
       "    <tr>\n",
       "      <th>2</th>\n",
       "      <td>2</td>\n",
       "      <td>2019</td>\n",
       "      <td>зима</td>\n",
       "      <td>307996.000000</td>\n",
       "    </tr>\n",
       "    <tr>\n",
       "      <th>3</th>\n",
       "      <td>3</td>\n",
       "      <td>2019</td>\n",
       "      <td>весна</td>\n",
       "      <td>253589.000000</td>\n",
       "    </tr>\n",
       "    <tr>\n",
       "      <th>4</th>\n",
       "      <td>4</td>\n",
       "      <td>2019</td>\n",
       "      <td>весна</td>\n",
       "      <td>318171.000000</td>\n",
       "    </tr>\n",
       "    <tr>\n",
       "      <th>5</th>\n",
       "      <td>5</td>\n",
       "      <td>2019</td>\n",
       "      <td>весна</td>\n",
       "      <td>237955.000000</td>\n",
       "    </tr>\n",
       "    <tr>\n",
       "      <th>6</th>\n",
       "      <td>6</td>\n",
       "      <td>2019</td>\n",
       "      <td>лето</td>\n",
       "      <td>228023.000000</td>\n",
       "    </tr>\n",
       "    <tr>\n",
       "      <th>7</th>\n",
       "      <td>7</td>\n",
       "      <td>2019</td>\n",
       "      <td>лето</td>\n",
       "      <td>234932.000000</td>\n",
       "    </tr>\n",
       "    <tr>\n",
       "      <th>8</th>\n",
       "      <td>8</td>\n",
       "      <td>2019</td>\n",
       "      <td>лето</td>\n",
       "      <td>172443.000000</td>\n",
       "    </tr>\n",
       "    <tr>\n",
       "      <th>9</th>\n",
       "      <td>9</td>\n",
       "      <td>2019</td>\n",
       "      <td>осень</td>\n",
       "      <td>181082.000000</td>\n",
       "    </tr>\n",
       "    <tr>\n",
       "      <th>10</th>\n",
       "      <td>10</td>\n",
       "      <td>2018</td>\n",
       "      <td>осень</td>\n",
       "      <td>351910.000000</td>\n",
       "    </tr>\n",
       "    <tr>\n",
       "      <th>11</th>\n",
       "      <td>10</td>\n",
       "      <td>2019</td>\n",
       "      <td>осень</td>\n",
       "      <td>218978.000000</td>\n",
       "    </tr>\n",
       "    <tr>\n",
       "      <th>12</th>\n",
       "      <td>11</td>\n",
       "      <td>2018</td>\n",
       "      <td>осень</td>\n",
       "      <td>359348.000000</td>\n",
       "    </tr>\n",
       "    <tr>\n",
       "      <th>13</th>\n",
       "      <td>11</td>\n",
       "      <td>2019</td>\n",
       "      <td>осень</td>\n",
       "      <td>128791.750000</td>\n",
       "    </tr>\n",
       "    <tr>\n",
       "      <th>14</th>\n",
       "      <td>12</td>\n",
       "      <td>2018</td>\n",
       "      <td>зима</td>\n",
       "      <td>356516.000000</td>\n",
       "    </tr>\n",
       "    <tr>\n",
       "      <th>15</th>\n",
       "      <td>12</td>\n",
       "      <td>2019</td>\n",
       "      <td>зима</td>\n",
       "      <td>202885.333333</td>\n",
       "    </tr>\n",
       "  </tbody>\n",
       "</table>\n",
       "</div>"
      ],
      "text/plain": [
       "    month  year season          sales\n",
       "0       1  2019   зима  235432.000000\n",
       "1       1  2020   зима  174036.333333\n",
       "2       2  2019   зима  307996.000000\n",
       "3       3  2019  весна  253589.000000\n",
       "4       4  2019  весна  318171.000000\n",
       "5       5  2019  весна  237955.000000\n",
       "6       6  2019   лето  228023.000000\n",
       "7       7  2019   лето  234932.000000\n",
       "8       8  2019   лето  172443.000000\n",
       "9       9  2019  осень  181082.000000\n",
       "10     10  2018  осень  351910.000000\n",
       "11     10  2019  осень  218978.000000\n",
       "12     11  2018  осень  359348.000000\n",
       "13     11  2019  осень  128791.750000\n",
       "14     12  2018   зима  356516.000000\n",
       "15     12  2019   зима  202885.333333"
      ]
     },
     "execution_count": 24,
     "metadata": {},
     "output_type": "execute_result"
    }
   ],
   "source": [
    "temp = df.groupby(['month', 'year', 'season'])['sales'].sum().reset_index()\n",
    "temp"
   ]
  },
  {
   "cell_type": "code",
   "execution_count": 25,
   "id": "f7fa8e07",
   "metadata": {},
   "outputs": [
    {
     "data": {
      "text/plain": [
       "1067774.0"
      ]
     },
     "execution_count": 25,
     "metadata": {},
     "output_type": "execute_result"
    }
   ],
   "source": [
    "temp[temp['year'] == 2018]['sales'].sum()"
   ]
  },
  {
   "cell_type": "code",
   "execution_count": 26,
   "id": "60a5635e",
   "metadata": {
    "scrolled": true
   },
   "outputs": [
    {
     "data": {
      "text/plain": [
       "2720278.0833333335"
      ]
     },
     "execution_count": 26,
     "metadata": {},
     "output_type": "execute_result"
    }
   ],
   "source": [
    "temp[temp['year'] == 2019]['sales'].sum()"
   ]
  },
  {
   "cell_type": "code",
   "execution_count": 27,
   "id": "5153f24d",
   "metadata": {},
   "outputs": [
    {
     "data": {
      "text/plain": [
       "174036.33333333334"
      ]
     },
     "execution_count": 27,
     "metadata": {},
     "output_type": "execute_result"
    }
   ],
   "source": [
    "temp[temp['year'] == 2020]['sales'].sum()"
   ]
  },
  {
   "cell_type": "code",
   "execution_count": 28,
   "id": "8041ac2b",
   "metadata": {},
   "outputs": [
    {
     "data": {
      "text/plain": [
       "1276865.6666666667"
      ]
     },
     "execution_count": 28,
     "metadata": {},
     "output_type": "execute_result"
    }
   ],
   "source": [
    "temp[temp['season'] == 'зима']['sales'].sum()"
   ]
  },
  {
   "cell_type": "code",
   "execution_count": 29,
   "id": "f74f728e",
   "metadata": {},
   "outputs": [
    {
     "data": {
      "text/plain": [
       "635398.0"
      ]
     },
     "execution_count": 29,
     "metadata": {},
     "output_type": "execute_result"
    }
   ],
   "source": [
    "temp[temp['season'] == 'лето']['sales'].sum()"
   ]
  },
  {
   "cell_type": "code",
   "execution_count": 30,
   "id": "ecc6239f",
   "metadata": {},
   "outputs": [
    {
     "data": {
      "text/plain": [
       "1240109.75"
      ]
     },
     "execution_count": 30,
     "metadata": {},
     "output_type": "execute_result"
    }
   ],
   "source": [
    "temp[temp['season'] == 'осень']['sales'].sum()"
   ]
  },
  {
   "cell_type": "code",
   "execution_count": 31,
   "id": "f61516e3",
   "metadata": {},
   "outputs": [
    {
     "data": {
      "text/plain": [
       "809715.0"
      ]
     },
     "execution_count": 31,
     "metadata": {},
     "output_type": "execute_result"
    }
   ],
   "source": [
    "temp[temp['season'] == 'весна']['sales'].sum()"
   ]
  },
  {
   "cell_type": "code",
   "execution_count": 32,
   "id": "3ec43ccc",
   "metadata": {},
   "outputs": [
    {
     "data": {
      "text/plain": [
       "746313.3333333333"
      ]
     },
     "execution_count": 32,
     "metadata": {},
     "output_type": "execute_result"
    }
   ],
   "source": [
    "temp[(temp['season'] == 'зима') & (temp['year'] != 2020) & (temp['year'] != 2018)]['sales'].sum()"
   ]
  },
  {
   "cell_type": "code",
   "execution_count": 33,
   "id": "7b4f84aa",
   "metadata": {},
   "outputs": [
    {
     "data": {
      "text/plain": [
       "528851.75"
      ]
     },
     "execution_count": 33,
     "metadata": {},
     "output_type": "execute_result"
    }
   ],
   "source": [
    "temp[(temp['season'] == 'осень') & (temp['year'] != 2020) & (temp['year'] != 2018)]['sales'].sum()"
   ]
  },
  {
   "cell_type": "code",
   "execution_count": 34,
   "id": "51b2b04e",
   "metadata": {},
   "outputs": [
    {
     "data": {
      "image/png": "[encoded data removed]",
      "text/plain": [
       "<Figure size 1152x432 with 1 Axes>"
      ]
     },
     "metadata": {
      "needs_background": "light"
     },
     "output_type": "display_data"
    }
   ],
   "source": [
    "plt.figure(figsize=(16, 6))\n",
    "sns.barplot(x = 'month', y = 'sales', hue = 'year', ci=None, data = temp)\n",
    "plt.ylabel('Выручка')\n",
    "plt.xlabel('Месяц')\n",
    "plt.show()"
   ]
  },
  {
   "cell_type": "code",
   "execution_count": 35,
   "id": "c6fca168",
   "metadata": {},
   "outputs": [
    {
     "data": {
      "image/png": "[encoded data removed]",
      "text/plain": [
       "<Figure size 1152x432 with 1 Axes>"
      ]
     },
     "metadata": {
      "needs_background": "light"
     },
     "output_type": "display_data"
    }
   ],
   "source": [
    "plt.figure(figsize=(16, 6))\n",
    "sns.barplot(x = 'season', y = 'sales', hue = 'year', ci=None, data = temp)\n",
    "plt.ylabel('Выручка')\n",
    "plt.xlabel('Сезон')\n",
    "plt.show()"
   ]
  },
  {
   "cell_type": "markdown",
   "id": "6835673d",
   "metadata": {},
   "source": [
    "Получили график трат по месяцам, годам и сезонам. Самый прибыльные месяца - Июнь 2019 и Октябрь 2018. Самый прибыльный сезон для магазина - зима и осень в 2018, в 2019 - весна. "
   ]
  },
  {
   "cell_type": "markdown",
   "id": "09f899ea",
   "metadata": {},
   "source": [
    "#### Изучение товаров и разбиение заказов по категориям"
   ]
  },
  {
   "cell_type": "code",
   "execution_count": 36,
   "id": "f83ec0e9",
   "metadata": {},
   "outputs": [
    {
     "data": {
      "text/plain": [
       "2340"
      ]
     },
     "execution_count": 36,
     "metadata": {},
     "output_type": "execute_result"
    }
   ],
   "source": [
    "df['product'].nunique()"
   ]
  },
  {
   "cell_type": "markdown",
   "id": "2e1a1413",
   "metadata": {},
   "source": [
    "2341 уникальных позиций. Но это на первый взгляд."
   ]
  },
  {
   "cell_type": "code",
   "execution_count": 37,
   "id": "cbc422b9",
   "metadata": {},
   "outputs": [],
   "source": [
    "df['product_reduction'] = df['product'].apply(lambda x: x.split()[:2]).apply(lambda x: ' '.join(x))"
   ]
  },
  {
   "cell_type": "code",
   "execution_count": 38,
   "id": "e66d198e",
   "metadata": {},
   "outputs": [
    {
     "data": {
      "text/html": [
       "<div>\n",
       "<style scoped>\n",
       "    .dataframe tbody tr th:only-of-type {\n",
       "        vertical-align: middle;\n",
       "    }\n",
       "\n",
       "    .dataframe tbody tr th {\n",
       "        vertical-align: top;\n",
       "    }\n",
       "\n",
       "    .dataframe thead th {\n",
       "        text-align: right;\n",
       "    }\n",
       "</style>\n",
       "<table border=\"1\" class=\"dataframe\">\n",
       "  <thead>\n",
       "    <tr style=\"text-align: right;\">\n",
       "      <th></th>\n",
       "      <th>date</th>\n",
       "      <th>customer_id</th>\n",
       "      <th>order_id</th>\n",
       "      <th>product</th>\n",
       "      <th>quantity</th>\n",
       "      <th>price</th>\n",
       "      <th>sales</th>\n",
       "      <th>month</th>\n",
       "      <th>year</th>\n",
       "      <th>date_day</th>\n",
       "      <th>season</th>\n",
       "      <th>product_reduction</th>\n",
       "    </tr>\n",
       "  </thead>\n",
       "  <tbody>\n",
       "    <tr>\n",
       "      <th>0</th>\n",
       "      <td>2018-10-01</td>\n",
       "      <td>ee47d746-6d2f-4d3c-9622-c31412542920</td>\n",
       "      <td>68477</td>\n",
       "      <td>комнатное растение в горшке алое вера, d12, h30</td>\n",
       "      <td>1</td>\n",
       "      <td>142.0</td>\n",
       "      <td>142.0</td>\n",
       "      <td>10</td>\n",
       "      <td>2018</td>\n",
       "      <td>2018-10-01</td>\n",
       "      <td>осень</td>\n",
       "      <td>комнатное растение</td>\n",
       "    </tr>\n",
       "    <tr>\n",
       "      <th>1</th>\n",
       "      <td>2018-10-01</td>\n",
       "      <td>ee47d746-6d2f-4d3c-9622-c31412542920</td>\n",
       "      <td>68477</td>\n",
       "      <td>комнатное растение в горшке кофе арабика, d12,...</td>\n",
       "      <td>1</td>\n",
       "      <td>194.0</td>\n",
       "      <td>194.0</td>\n",
       "      <td>10</td>\n",
       "      <td>2018</td>\n",
       "      <td>2018-10-01</td>\n",
       "      <td>осень</td>\n",
       "      <td>комнатное растение</td>\n",
       "    </tr>\n",
       "    <tr>\n",
       "      <th>2</th>\n",
       "      <td>2018-10-01</td>\n",
       "      <td>ee47d746-6d2f-4d3c-9622-c31412542920</td>\n",
       "      <td>68477</td>\n",
       "      <td>радермахера d-12 см h-20 см</td>\n",
       "      <td>1</td>\n",
       "      <td>112.0</td>\n",
       "      <td>112.0</td>\n",
       "      <td>10</td>\n",
       "      <td>2018</td>\n",
       "      <td>2018-10-01</td>\n",
       "      <td>осень</td>\n",
       "      <td>радермахера d-12</td>\n",
       "    </tr>\n",
       "    <tr>\n",
       "      <th>3</th>\n",
       "      <td>2018-10-01</td>\n",
       "      <td>ee47d746-6d2f-4d3c-9622-c31412542920</td>\n",
       "      <td>68477</td>\n",
       "      <td>хризолидокарпус лутесценс d-9 см</td>\n",
       "      <td>1</td>\n",
       "      <td>179.0</td>\n",
       "      <td>179.0</td>\n",
       "      <td>10</td>\n",
       "      <td>2018</td>\n",
       "      <td>2018-10-01</td>\n",
       "      <td>осень</td>\n",
       "      <td>хризолидокарпус лутесценс</td>\n",
       "    </tr>\n",
       "    <tr>\n",
       "      <th>4</th>\n",
       "      <td>2018-10-01</td>\n",
       "      <td>ee47d746-6d2f-4d3c-9622-c31412542920</td>\n",
       "      <td>68477</td>\n",
       "      <td>циперус зумула d-12 см h-25 см</td>\n",
       "      <td>1</td>\n",
       "      <td>112.0</td>\n",
       "      <td>112.0</td>\n",
       "      <td>10</td>\n",
       "      <td>2018</td>\n",
       "      <td>2018-10-01</td>\n",
       "      <td>осень</td>\n",
       "      <td>циперус зумула</td>\n",
       "    </tr>\n",
       "  </tbody>\n",
       "</table>\n",
       "</div>"
      ],
      "text/plain": [
       "        date                           customer_id  order_id  \\\n",
       "0 2018-10-01  ee47d746-6d2f-4d3c-9622-c31412542920     68477   \n",
       "1 2018-10-01  ee47d746-6d2f-4d3c-9622-c31412542920     68477   \n",
       "2 2018-10-01  ee47d746-6d2f-4d3c-9622-c31412542920     68477   \n",
       "3 2018-10-01  ee47d746-6d2f-4d3c-9622-c31412542920     68477   \n",
       "4 2018-10-01  ee47d746-6d2f-4d3c-9622-c31412542920     68477   \n",
       "\n",
       "                                             product  quantity  price  sales  \\\n",
       "0    комнатное растение в горшке алое вера, d12, h30         1  142.0  142.0   \n",
       "1  комнатное растение в горшке кофе арабика, d12,...         1  194.0  194.0   \n",
       "2                        радермахера d-12 см h-20 см         1  112.0  112.0   \n",
       "3                   хризолидокарпус лутесценс d-9 см         1  179.0  179.0   \n",
       "4                     циперус зумула d-12 см h-25 см         1  112.0  112.0   \n",
       "\n",
       "   month  year    date_day season          product_reduction  \n",
       "0     10  2018  2018-10-01  осень         комнатное растение  \n",
       "1     10  2018  2018-10-01  осень         комнатное растение  \n",
       "2     10  2018  2018-10-01  осень           радермахера d-12  \n",
       "3     10  2018  2018-10-01  осень  хризолидокарпус лутесценс  \n",
       "4     10  2018  2018-10-01  осень             циперус зумула  "
      ]
     },
     "execution_count": 38,
     "metadata": {},
     "output_type": "execute_result"
    }
   ],
   "source": [
    "df.head()"
   ]
  },
  {
   "cell_type": "code",
   "execution_count": 39,
   "id": "2d4edea5",
   "metadata": {},
   "outputs": [
    {
     "data": {
      "text/plain": [
       "926"
      ]
     },
     "execution_count": 39,
     "metadata": {},
     "output_type": "execute_result"
    }
   ],
   "source": [
    "df.product_reduction.nunique()"
   ]
  },
  {
   "cell_type": "markdown",
   "id": "f3c3b2ab",
   "metadata": {},
   "source": [
    "Сократили наименования позиций до 2х слов, теперь значительно стало проще"
   ]
  },
  {
   "cell_type": "code",
   "execution_count": 40,
   "id": "af5c5436",
   "metadata": {
    "scrolled": true
   },
   "outputs": [
    {
     "data": {
      "text/plain": [
       "array(['комнатное растение', 'радермахера d-12',\n",
       "       'хризолидокарпус лутесценс', 'циперус зумула', 'шеффлера лузеана',\n",
       "       'юкка нитчатая', 'настенная сушилка', 'таз пластмассовый',\n",
       "       'чехол для', 'вешалка для', 'сушилка для', 'чехол eurogold',\n",
       "       'крючок одежный', 'корзина мягкая', 'мини-сковорода marmiton',\n",
       "       'сковорода алюминиевая', 'стеклянная крышка', 'доска гладильная',\n",
       "       'сумка-тележка 2-х', 'многолетнее растение', 'рассада зелени',\n",
       "       'муляж \"райские', 'муляж банан,', 'муляж виноград', 'муляж гранат',\n",
       "       'муляж груша', 'муляж груша,', 'муляж зеленое', 'муляж клубника',\n",
       "       'муляж красное', 'муляж лимон,', 'муляж мандарин,', 'муляж перец,',\n",
       "       'муляж персики', 'муляж томат,', 'муляж черешня',\n",
       "       'щетка-сметка 3-х', 'щетка-сметка 4-х', 'сумка для',\n",
       "       'тарелка обеденная', 'вилка столовая', 'ложка столовая',\n",
       "       'ложка чайная', 'нож столовый', 'герань домашняя', 'ерш для',\n",
       "       'пеларгония зональная', 'котел алюминиевый', 'суккулент микс',\n",
       "       'эхеверия перл', 'набор прищепок', 'коврик придверный',\n",
       "       'коврик bacchetta', 'корзина для', 'корзина пластиковая',\n",
       "       'подкладка под', 'набор кружек', 'коврик интерьерный',\n",
       "       'дозатор для', 'ёрш унитазный', 'нож для', 'эвкалипт гунни',\n",
       "       'муляж виноград,', 'муляж вишня,', 'муляж персик,',\n",
       "       'набор фужеров', 'цветок искусственный',\n",
       "       'сумка-тележка хозяйственная', 'мусорный контейнер',\n",
       "       'плед флисовый', 'скатерть династия', 'коврик хлопковый',\n",
       "       'кувшин пластмассовый', 'муляж перец', 'адиантум лиза',\n",
       "       'ковер придверный', 'перчатки латексные', 'стремянка алюминиевая',\n",
       "       'гладильная доска', 'лестница-стремянка dogrular', 'толкушка для',\n",
       "       'тележка багажная', 'готовая скатерть', 'искусственный цветок',\n",
       "       'простыня на', 'чайник эмалированный', 'ёрш для', 'набор вешалок',\n",
       "       'штора текстильная', 'банка со', 'стяжка оконная',\n",
       "       'сумка-тележка 3-х', 'набор ковров', 'комплект для',\n",
       "       'муляж апельсин', 'муляж яблоко', 'кампанула махровая',\n",
       "       'пеларгония душистая', 'декоративная композиция',\n",
       "       'противень прямоугольный', 'калатея микс', 'нолина в',\n",
       "       'плечики пластмассовые', 'подушка декоративная',\n",
       "       'полотенце кухонное', 'хлорофитум d-13', 'цикламен d-13',\n",
       "       'крепеж для', 'пружина дверная', 'глоксиния d-13', 'азалия индика',\n",
       "       'гортензия микс', 'хризантема космо', 'муляж тыквы',\n",
       "       'петля приварная', 'салфетка protec', 'вкладыши для',\n",
       "       'миксер delta', 'коврик влаговпитывающий', 'кофр для',\n",
       "       'стиральный биопорошок', 'чистящий крем', 'tepмокружка avex',\n",
       "       'щетка для', 'мирт d-20', 'цветущее комнатное', 'штора для',\n",
       "       'стремянки colombo', 'щетка-утюжок с', 'светильник настольный',\n",
       "       'муляж лимон', 'кориандр в', 'жидкое мыло', 'ковёр придверный',\n",
       "       'коврик резиновый', 'пена для', 'тележка хозяйственная',\n",
       "       'подрукавник складной', 'штора со', 'иссоп лекарственный',\n",
       "       'сантолина d-9', 'аспарагус d-12', 'афеляндра скуарроса',\n",
       "       'набор сверел', 'сверло-фреза, 6', 'сверло-фреза, 8',\n",
       "       'контейнер для', 'зубная паста', 'антуриум андрианум',\n",
       "       'молодило микс', 'фиалка d-11', 'гладильная доска-стремянка',\n",
       "       'гербера d-13', 'душица обыкновенная', 'мелисса лекарственная',\n",
       "       'роза кордана', 'фиалка карнавал', 'хризантема белая',\n",
       "       'хризантема красная', 'карниз алюминиевый', 'веник сорго',\n",
       "       'стремянка металлическая', 'швабра многофункциональная,',\n",
       "       'ящик для', 'щетка палубная', 'скатерть лувр', 'подголовник для',\n",
       "       'пеларгония розоцветная', 'банка с', 'ведро для',\n",
       "       'вешалка деревянная', 'вешалка с', 'короб стеллажный',\n",
       "       'коробка для', 'наматрасник wellness', 'наматрицник-чехол natures',\n",
       "       'насадка для', 'швабра многофункциональная', 'швабра сальса',\n",
       "       'коврик придверный,', 'ножеточка универсальная',\n",
       "       'вешалка-плечики без', 'салфетка камушки', 'бегония ампельная,',\n",
       "       'рассада пеларгония', 'хризантема корейская',\n",
       "       'настольная гладильная', 'розмарин d-12', 'сиденье в',\n",
       "       'масленка коровка', 'стремянка бытовая', 'подрукавник gimi',\n",
       "       'утюг электрический', 'корыто оцинкованное', 'холодная сварка',\n",
       "       'муляж вишня', 'муляж мандарин', 'муляж чеснок',\n",
       "       'сервировочная салфетка', 'коврик противоскользящий',\n",
       "       'салатник luminarc', 'тарелка десертная', 'тарелка суповая',\n",
       "       'муляж ананас', 'муляж баклажан', 'муляж банан', 'муляж манго',\n",
       "       'муляж морковь', 'муляж персик', 'сковорода scovo',\n",
       "       'банка стеклянная', 'скатерть из', 'шнур резиновый',\n",
       "       'урна уличная', 'скатерть азалия', 'чайный набор',\n",
       "       'набор эмалированных', 'мыло жидкое', 'стремянка 5',\n",
       "       'рыбочистка металлическая,', 'сиденье для',\n",
       "       'овощеварка алюминиевая', 'сметка с', 'халат вафельный',\n",
       "       'измерительный алюминиевый', 'линейка, длина', 'терка webber',\n",
       "       'кружка 350', 'кружка для', 'кружка luminarc', 'ложка обувная',\n",
       "       'лопатка attribute', 'лопатка c', 'полотенце махровое',\n",
       "       'салфетка махровая', 'салфетница металлическая', 'стакан низкий',\n",
       "       'стакан пластмассовый', 'столовая ложка', 'чайная ложка',\n",
       "       'коврик для', 'альбука спиралис', 'коврик sochi', 'овощечистка с',\n",
       "       'бальзамин новогвинейский', 'бегония клубневая', 'крассула овата',\n",
       "       'артемизия (полынь', 'насадка к', 'средство для', 'фиалка микс',\n",
       "       'коврик ворсовый', 'вешалка напольная', 'бензин для',\n",
       "       'скатерть прямоугольная', 'паста для', 'петля-стрела пс-286',\n",
       "       'лаванда d-9', 'мята d-9', 'чайник электрический',\n",
       "       'вешалка-стойка №', 'муляж желудь', 'муляж яблоко,',\n",
       "       'сумка-тележка gimi', 'каланхое каландива', 'примула акаулис',\n",
       "       'держатель для', 'пробка для', 'измельчитель овощей',\n",
       "       'сумка-тележка delta', 'лоток для', 'вешалка-плечики 3',\n",
       "       'вешалки мягкие', 'губка спираль', 'перчатки резиновые',\n",
       "       'сушилка мульти', 'салатник романтик', 'фен дорожный',\n",
       "       'вешалка настенная', 'вешалка самоклеющая', 'салатник амори',\n",
       "       'салатник колорама', 'салатник рапсоди', 'дендробиум санок',\n",
       "       'калоцефалус брауни', 'антижир posh', 'каллуна гарден',\n",
       "       'капсикум сальса', 'кофр малый', 'мимоза стыдливая',\n",
       "       'набор кухонных', 'соланум d-10', 'универсальное средство',\n",
       "       'мантоварка алюминиевая', 'ролик для', 'сменный блок',\n",
       "       'пеларгония d-13', 'роза патио', 'набор бокалов', 'набор стаканов',\n",
       "       'термометр на', 'термометр уличный', 'ящик почтовый',\n",
       "       'бархатцы веселая', 'космея очаровашка', 'морковь детская',\n",
       "       'настурция драгоценность', 'огурец засолочный', 'петуния каскад',\n",
       "       'шило с', 'банка из', 'сумка-тележка twin', 'ковш пластмассовый',\n",
       "       'кухонные ножницы', 'набор ножей', 'нож кухонный', 'рыбочистка с',\n",
       "       'кисточка силиконовая', 'скребок кондитерский', 'комод эльфпласт',\n",
       "       'картофелемялка металлическая', 'салатник воларэ',\n",
       "       'ароматизированное средство', 'бальзам для', 'коврик кухонный',\n",
       "       'алиссум (лобулярия)', 'гвоздика турецкая', 'годеция рембранд',\n",
       "       'календула пинк', 'капуста декоративная', 'кореопсис толл',\n",
       "       'космея клюквенный', 'космея кэнди', 'лапчатка огненное',\n",
       "       'львиный зев', 'флокс друммонда', 'цинерария серебряная',\n",
       "       'эшшольция карминный', 'жестяная банка', 'кружка нордик',\n",
       "       'рассекатель пламени', 'ополаскиватель для', 'сетка для',\n",
       "       'покрывало жаккард', 'вешалка гардеробная', 'набор форм',\n",
       "       'весы напольные', 'диффенбахия d-12', 'комплект постельного',\n",
       "       'фаленопсис королевский', 'подставка для', 'вешалка-сушилка gimi',\n",
       "       'миска пластмассовая', 'кружка прозрачная', 'одеяло silver',\n",
       "       'подсолнечник низкорослый', 'ручка-скоба рс-100', 'пуансетия d-12',\n",
       "       'пресс для', 'лестница-стремянка примус', 'щетка-сметка с',\n",
       "       'термостакан webber', 'гиностемма укорененный', 'ель канадская',\n",
       "       'кипарисовик лавсона', 'аптения d-10', 'банка рондо', 'роза палас',\n",
       "       'новогоднее дерево', 'мыльница пластмассовая',\n",
       "       'подголовник bacchetta', 'коврик dasch', 'пеларгония грандифлора',\n",
       "       'мыло ручной', 'защитный экран', 'многофункциональный инструмент',\n",
       "       'роза мини', 'коврик в', 'стремянка-табурет алюминиевая',\n",
       "       'пуансеттия d-12', 'петля рояльная', 'крассула d-17',\n",
       "       'комплект махровых', 'набор столовых', 'пуансеттия d-15',\n",
       "       'кольца для', 'скатерть сидней', 'кувшин luminarc',\n",
       "       'скатерть towa', 'вантуз черный', 'термокружка alpenkok',\n",
       "       'фоторамка alparaisa', 'этажерка 2', 'скатерть джулия',\n",
       "       'термос со', 'скиммия японская', 'аспарагус спренжери',\n",
       "       'доска разделочная', 'розмарин d-9', 'пуансеттия d-23',\n",
       "       'сумка хозяйственная', 'скатерть 350х180', 'кружка бамбук',\n",
       "       'скатерть арлет', 'кондиционер для', 'фарфоровая кружка',\n",
       "       'вешалка металлическая', 'термос 1л', 'стремянка framar',\n",
       "       'скатерть виниловая', 'электроштопор qwerty', 'стремянка eurogold',\n",
       "       'простынь вафельная', 'столовый нож', 'вешалка valiant',\n",
       "       'блюдце утро', 'скатерть ажурная', 'фиттония скелетон',\n",
       "       'скатерть беатрис', 'роза кустовая', 'полки qwerty', 'тимьян d-9',\n",
       "       'бульонница luminarc', 'алоэ вера', 'роза одноголовая',\n",
       "       'миксер василиса', 'ключница картина', 'разделочная доска',\n",
       "       'аптения d-12', 'мантоварка-пароварка webber',\n",
       "       'складная картонная', 'спатифиллум шопен', 'контейнер герметичный',\n",
       "       'емкость для', 'фикус каучуконосный', 'защитная соль',\n",
       "       'гипоаллергенный концентрированный', 'скатерть 150х120',\n",
       "       'вешалка-перекладина valiant', 'скатерть муза', 'кружка мерная',\n",
       "       'фиалка d-9', 'модульная стеклянная', 'перчатки fabrikators',\n",
       "       'лестница стремянка', 'карниз для', 'пеларгония розебудная',\n",
       "       'крючок проволочный', 'просеиватель для', 'пеларгония toscana',\n",
       "       'скатерть meiwa', 'кастрюля чугунная', 'весы настольные',\n",
       "       'декоративная коробка', 'толкушка деревянная',\n",
       "       'махровое полотенце', 'вешалка ника', 'швабра для',\n",
       "       'искусственная лиана', 'кодонанта укорененный', 'совок и',\n",
       "       'хлебница деревянная', 'скатерть dasch', 'гербера комнатная',\n",
       "       'насадка-отжим пластиковая', 'муляж оранжевое',\n",
       "       'ведро пластиковое', 'цикламен, цвет', 'фаленопсис люкс',\n",
       "       'кружка марли', 'цикламен d-12', 'гимнокалициум микс',\n",
       "       'нетканые салфетки', 'примула желтая', 'пылесос delta',\n",
       "       'рассада пряной', 'калатея кроката', 'кофе арабика',\n",
       "       'антуриум тропик', 'эхинокактус грузони', 'термокружка вакуумная',\n",
       "       'набор махровых', 'чайник заварочный', 'стремянка colombo',\n",
       "       'фал капроновый', 'форма аlpenkok', 'орехоколка viva,',\n",
       "       'штанга для', 'увлажняющая маска', 'эхеверия микс', 'салфетка на',\n",
       "       'фиалка химера', 'ведро ampari', 'крокусы pickwick',\n",
       "       'термокружка яромир', 'кухонное полотенце', 'спатифиллум d-7',\n",
       "       'гипсофила аврора', 'подарочный набор', 'сушилка meliconi',\n",
       "       'кастрюля круглая', 'примула комнатная', 'дендробиум фиолетовый',\n",
       "       'калибрахоа ампельная,', 'роза садовая', 'миксер электрический',\n",
       "       'эпипремнум ауреум', 'фаленопсис желтый', 'мирт d-9',\n",
       "       'набор vileda', 'пуансеттия в', 'рассада огурца', 'рассада томата',\n",
       "       'цикламен комнатный', 'хризантема кустовая', 'махровый халат',\n",
       "       'аквилегия обыкновенная', 'базилик смесь', 'горох амброзия',\n",
       "       'земляника барон', 'незабудка смесь', 'седум почвопокровный',\n",
       "       'тимьян овощной', 'томат балконное', 'укроп обильнолистный',\n",
       "       'нефролепис бостон', 'калла крупноцветковая', 'декабрист в',\n",
       "       'дендробиум яблоневый', 'тюльпан louvre',\n",
       "       'искусственная композиция', 'штангенциркуль 150',\n",
       "       'скатерть 350х150', 'мыло-скраб с', 'мята перечная',\n",
       "       'гиацинт blue', 'вербена рассада', 'однолетнее растение',\n",
       "       'петуния гибридная', 'петуния махровая', 'скалка силиконовая,',\n",
       "       'утюг delta', 'ведро овальное', 'набор прецизионных', 'корзина на',\n",
       "       'рукав для', 'чабер bolero', 'бакопа ампельная',\n",
       "       'калибрахоа aloha', 'калибрахоа mini', 'калибрахоа sweet',\n",
       "       'коробка прямоугольная', 'ранункулус клуни',\n",
       "       'лестница-стремянка sarayli', 'венчик с', 'гвоздика стандартная',\n",
       "       'пеларгония angeleyes', 'сито webber', 'бак для', 'сковорода hard',\n",
       "       'миска фазенда', 'вешалка надверная', 'газания рассада',\n",
       "       'овсянница сизая', 'концентрат для', 'форма для',\n",
       "       'тортница curver', 'георгина черная', 'календула бронзовая',\n",
       "       'космея лимонад', 'космея попсокс', 'космея снежный',\n",
       "       'смолевка звездный', 'цинния ацтек', 'цинния хаага',\n",
       "       'средство против', 'базилик зеленый', 'базилик овощной',\n",
       "       'базилик пурпурные', 'лаванда торх', 'лавр в', 'мята колосистая',\n",
       "       'мята aura', 'тимьян крымский', 'вербейник монетчатый',\n",
       "       'виола рассада', 'гвоздика травянка', 'колокольчик персиколистный',\n",
       "       'котовник блю', 'рассада остеоспермум', 'флокс растопыренный',\n",
       "       'эхинацея микс', 'ясколка войлочная', 'блюдо pasabahce',\n",
       "       'полка для', 'мята махито', 'окномойка с', 'урна-пепельница из',\n",
       "       'веник для', 'калибрахоа bloomtastic', 'калибрахоа rave',\n",
       "       'петуния surprice', 'петуния sweetunia', 'термокружка забава',\n",
       "       'бегония вечноцветущая', 'щетка хозяйственная', 'лаванда в',\n",
       "       'виола рогатая', 'лилейник высокорослый', 'папоротник страусник',\n",
       "       'платикодон махровый', 'энотера миссурийская', 'сменная насадка',\n",
       "       'ложка кухонная', 'швабра хозяйственная', 'ткань универсальная',\n",
       "       'рассада капусты', 'рассада перца', 'рассада тыквы',\n",
       "       'гвоздика садовая', 'петуния простая', 'петуния изи',\n",
       "       'рассада огурец', 'вербена микс', 'пеларгония плющелистная',\n",
       "       'петуния surfinia', 'фуксия blue', 'фуксия dark',\n",
       "       'фуксия swingtime', 'цитрофортунелла кумкват', 'пеперомия d-12',\n",
       "       'гортензия метельчатая', 'дыня млада', 'дыня симпатия',\n",
       "       'рассада арбуза', 'рассада дыни', 'рассада клубники',\n",
       "       'циния рассада', 'синнингия (глоксиния)', 'насадка-моп rozenbal',\n",
       "       'гардения d-9', 'томата (помидор)', 'бальзамин валера',\n",
       "       'земляника садовая', 'календула суприм', 'цинния коралловая',\n",
       "       'цинния оранжевый', 'базилик застольный', 'лобелия ампельная,',\n",
       "       'настурция лунный', 'настурция орхидное', 'подвесное кашпо',\n",
       "       'табак душистый', 'этажерка для', 'наматрацник natures',\n",
       "       'одеяло wellness', 'автоматическая щетка', 'тряпкодержатель с',\n",
       "       'весы электронные', 'девичий виноград', 'бельевые прищепки',\n",
       "       'тимьян в', 'сверло по', 'фиксатор-шар хром',\n",
       "       'петуния крупноцветковая', 'петуния orange', 'петуния sanguna',\n",
       "       'вербена ампельная,', 'лобелия регатта', 'петуния pegasus',\n",
       "       'петуния surprise', 'кружка о', 'эвкалипт сильвердроп',\n",
       "       'вербена крупноцветковая', 'вербена red', 'мускари white',\n",
       "       'пиретрум робинсон', 'флокс метельчатый', 'агератум рассада',\n",
       "       'алиссум рассада', 'колеус рассада', 'тагетис крупноцветковый',\n",
       "       'цинерания рассада', 'лобелия рассада', 'петуния potunia',\n",
       "       'муррайя d-9', 'петуния рассада', 'ёрш радиаторный',\n",
       "       'кореопсис золотой', 'портулак рассада', 'астра рассада',\n",
       "       'набор посуды', 'аргирантерум рассада', 'левкой рассада',\n",
       "       'петуния свитуния', 'петуния baby', 'петуния bordeaux',\n",
       "       'петуния crazytunia', 'петуния sky', 'вероника колосковая',\n",
       "       'целозия гребенчатая', 'капуста белокочанная', 'примула рассада',\n",
       "       'арбуз огонек', 'арбуз сибирские', 'арбуз холодок', 'арбуз шуга',\n",
       "       'баклажан самурай', 'дыня алтайская', 'дыня дина', 'дыня золотой',\n",
       "       'дыня колхозница', 'дыня медовый', 'дыня награда',\n",
       "       'клубника альба', 'клубника мара', 'клубника хоней',\n",
       "       'патиссон диск', 'патиссон нло', 'вербена fuhcsia',\n",
       "       'маттиола ночная', 'капуста брокколи', 'кориандр стимул',\n",
       "       'рассада кабачка', 'сальвия рассада', 'лук порей',\n",
       "       'петуния ампельная', 'джункус пенсил', 'рассада патиссона',\n",
       "       'драцена фрагранс', 'арбуз волгоградец', 'рассада в',\n",
       "       'фуксия ампельная,', 'муляж булка', 'фатсия японская',\n",
       "       'хоста микс', 'рассада кабачок', 'капуста цветная', 'огурец алтай',\n",
       "       'огурец аристократ', 'огурец багратион', 'огурец боярский',\n",
       "       'томат государь', 'томат детерминантный', 'наволочка wellness',\n",
       "       'нож универсальный', 'кружка тачки', 'гайлардия крупноцветковая',\n",
       "       'монарда гибридная', 'нивянник (ромашка)', 'рудбекия тайгер',\n",
       "       'насадка на', 'скребок 44', 'обувница-3 квадро',\n",
       "       'лапчатка травянистая', 'седум (очиток)', 'бакопа ампельная,',\n",
       "       'барвинок синий', 'вербена white', 'скребок для',\n",
       "       'бегония элатиор,', 'пододеяльник 214х150', 'осина обыкновенная,',\n",
       "       'молодило в', 'отжим для', 'вешалка-стойка сакура', 'сциндапсус в',\n",
       "       'пеларгония тюльпановидная', 'покрывало karna', 'скатерть круглая',\n",
       "       'пряные травы', 'аквилегия махровая', 'алиссум скальный',\n",
       "       'астра альпийская', 'бузульник пржевальского',\n",
       "       'камнеломка арендса', 'солидаго желтый', 'физостегия вергинская',\n",
       "       'капуста брюссельская', 'патиссон зонтик', 'бадан сердцелистный',\n",
       "       'камнеломка тенистая', 'колокольчик карпатский', 'лен небесная',\n",
       "       'стремянка scab', 'полотенце прессованное', 'антинакипин для',\n",
       "       'ведро без', 'салатник эмпилабль', 'фатсия d-17',\n",
       "       'шпагат полипропиленовый', 'таз алюминиевый,', 'скатерть 180',\n",
       "       'муляж лайм', 'кастрюля эмалированная,', 'сотейник алюминиевый',\n",
       "       'хлебница webber', 'салатник аспен', 'стеллаж для', 'лавр нобилис',\n",
       "       'бидон пластмассовый', 'лантана d-13', 'складной детский',\n",
       "       'искусственный лист', 'лаватера монт', 'этажерка цветочная',\n",
       "       'ванна 70', 'анемона белый', 'буддлея вейера',\n",
       "       'валериана лекарственная', 'змееголовник молдавский',\n",
       "       'капуста кольраби', 'любисток удалец', 'монарда в',\n",
       "       'петрушка корневая', 'петрушка листовая', 'сельдерей листовой',\n",
       "       'табак бордовый', 'табак курительный', 'фуксия e4',\n",
       "       'шалфей овощной', 'корзинка с', 'ваза маскарад', 'вигна лилиана',\n",
       "       'кабачок изумруд', 'огурец закусочный', 'тыква крупноплодная',\n",
       "       'кастрюля алюминиевая', 'лоток knit', 'хамедорея d-12',\n",
       "       'лантана в', 'стремянка dogrular', 'зверобой продырявленный',\n",
       "       'муляж томат', 'цикламен розовый', 'прищепки для',\n",
       "       'ведро полимербыт', 'коробка infinity', 'мединилла магнифика',\n",
       "       'шнур хозяйственный', 'отделитель косточек', 'муляж долька',\n",
       "       'нож поварской', 'сушилка уличная', 'измерительный угольник,',\n",
       "       'набор для', 'спатифиллум свит', 'фиалка махровая',\n",
       "       'шприц кондитерский', 'крышка оцинкованная', 'импатиенс нью',\n",
       "       'покрытие для', 'клен ложноплатановый', 'хлебница пластмасовая',\n",
       "       'веревка полипропиленовая', 'миска для', 'мешок для', 'вешалка -',\n",
       "       'набор инструментов', 'ткань для', 'замиокулькас d-15',\n",
       "       'отбеливатель пероксоль', 'сахарница фарфоровая', 'паста зубная',\n",
       "       'завертка форточная', 'ручка мебельная', 'роза чайно-гибридная',\n",
       "       'перчатки latex', 'розмарин в', 'стакан для', 'покрывало стеганый',\n",
       "       'амариллис red', 'чайник со', 'соковарка webber',\n",
       "       'щетка универсальная', 'соковарка алюминиевая', 'пьезозажигалка с',\n",
       "       'скатерть жаклин', 'соковыжималка для', 'решетка вентиляционная',\n",
       "       'запасная насадка', 'терка для', 'скатерть рим', 'щётка для',\n",
       "       'простыня двуспальная', 'диффенбахия камилла', 'универсальный нож',\n",
       "       'перчатки extra', 'уголок оконный', 'петрушка итальянский',\n",
       "       'салат рукола', 'вакуумный пакет', 'эхеверия лила',\n",
       "       'шеффлера голд', 'корзина city', 'тряпка для',\n",
       "       'совок металический', 'совок для', 'кружка с', 'цикламен d-15',\n",
       "       'половник attribute', 'швабра leifheit', 'двуспальное постельное',\n",
       "       'муляж хлеб', 'подрукавник leifheit', 'сумка-тележка brava',\n",
       "       'хризантема сиреневая', 'кипятильник электрический',\n",
       "       'фуксия ампельная', 'фуксия прямостоячая', 'фуксия bella',\n",
       "       'пахира акватика', 'кастрюля эмалированная', 'простыня сатиновая',\n",
       "       'подушка 40х40', 'стремянка 7', 'салатник карин', 'ёрш бутылочный',\n",
       "       'основание для', 'мерный стакан', 'стяжки для',\n",
       "       'ведро резинопластиковое', 'хлорофитум d-7', 'шпингалет 80',\n",
       "       'лавр d-9', 'литопс микс'], dtype=object)"
      ]
     },
     "execution_count": 40,
     "metadata": {},
     "output_type": "execute_result"
    }
   ],
   "source": [
    "df['product_reduction'].unique()"
   ]
  },
  {
   "cell_type": "code",
   "execution_count": 41,
   "id": "29ce5d2e",
   "metadata": {},
   "outputs": [],
   "source": [
    "garden = ['комнатное растение',\n",
    "  'радермахера d-12',\n",
    "  'хризолидокарпус лутесценс',\n",
    "  'циперус зумула',\n",
    "  'мединилла магнифика',\n",
    "  'шеффлера лузеана',\n",
    "  'шеффлера голд',\n",
    "  'юкка нитчатая',\n",
    "  'многолетнее растение',\n",
    "  'рассада зелени',\n",
    "  'рассада пеларгония',\n",
    "  'рассада пряной',\n",
    "  'рассада огурца',\n",
    "  'рассада томата',\n",
    "  'вербена рассада',\n",
    "  'газания рассада',\n",
    "  'виола рассада',\n",
    "  'рассада остеоспермум',\n",
    "  'рассада капусты',\n",
    "  'рассада перца',\n",
    "  'рассада капусты',\n",
    "  'рассада тыквы',\n",
    "  'рассада огурец',\n",
    "  'рассада арбуза', 'рассада дыни', 'рассада клубники',\n",
    "       'циния рассада',\n",
    "  'флокс метельчатый', 'агератум рассада',\n",
    "       'алиссум рассада', 'колеус рассада',\n",
    "  'цинерания рассада', 'лобелия рассада',\n",
    "  'петуния рассада',\n",
    "  'портулак рассада', 'астра рассада',\n",
    "  'аргирантерум рассада', 'левкой рассада',\n",
    "  'примула рассада',\n",
    "  'рассада кабачка', 'сальвия рассада',\n",
    "  'рассада патиссона',\n",
    "  'рассада в',\n",
    "  'рассада кабачок',\n",
    "  'герань домашняя',\n",
    "  'пеларгония зональная',\n",
    "  'пеларгония душистая',\n",
    "  'пеларгония розоцветная',\n",
    "  'пеларгония d-13',\n",
    "  'пеларгония грандифлора',\n",
    "  'пеларгония розебудная',\n",
    "  'пеларгония toscana',\n",
    "  'пеларгония angeleyes',\n",
    "  'пеларгония плющелистная',\n",
    "  'пеларгония тюльпановидная',\n",
    "  'суккулент микс',\n",
    "  'эхеверия перл',\n",
    "  'эхеверия микс',\n",
    "  'эхеверия лила',\n",
    "  'эвкалипт гунни',\n",
    "  'эвкалипт сильвердроп',\n",
    "  'адиантум лиза',\n",
    "  'кампанула махровая',\n",
    "  'калатея микс',\n",
    "  'калатея кроката',\n",
    "  'нолина в',\n",
    "  'хлорофитум d-13',\n",
    "  'хлорофитум d-7',\n",
    "  'цикламен d-13',\n",
    "  'цикламен, цвет',\n",
    "  'цикламен d-12',\n",
    "  'цикламен комнатный',\n",
    "  'цикламен розовый',\n",
    "  'цикламен d-15',\n",
    "  'глоксиния d-13',\n",
    "  'азалия индика',\n",
    "  'гортензия микс',\n",
    "  'гортензия метельчатая',\n",
    "  'хризантема космо',\n",
    "  'хризантема белая',\n",
    "       'хризантема красная',\n",
    "  'хризантема корейская',\n",
    "  'хризантема кустовая',\n",
    "  'хризантема сиреневая',\n",
    "  'мирт d-20',\n",
    "  'мирт d-9',\n",
    "  'цветущее комнатное',\n",
    "  'кориандр в',\n",
    "  'кориандр стимул',\n",
    "  'иссоп лекарственный',\n",
    "  'сантолина d-9',\n",
    "  'аспарагус d-12',\n",
    "  'аспарагус спренжери',\n",
    "  'афеляндра скуарроса',\n",
    "  'антуриум андрианум',\n",
    "  'антуриум тропик',\n",
    "  'молодило микс',\n",
    "  'молодило в',\n",
    "  'фиалка d-11',\n",
    "  'фиалка карнавал',\n",
    "  'фиалка микс',\n",
    "  'фиалка d-9',\n",
    "  'фиалка химера',\n",
    "  'фиалка махровая',\n",
    "  'гербера d-13',\n",
    "  'гербера комнатная',\n",
    "  'душица обыкновенная',\n",
    "  'мелисса лекарственная',\n",
    "  'роза кордана',\n",
    "  'роза патио',\n",
    "  'роза палас',\n",
    "  'роза мини',\n",
    "  'роза кустовая',\n",
    "  'роза одноголовая',\n",
    "  'роза садовая',\n",
    "  'роза чайно-гибридная',\n",
    "  'бегония элатиор',\n",
    "  'бегония ампельная,',\n",
    "  'бегония клубневая',\n",
    "  'бегония вечноцветущая',\n",
    "  'розмарин d-12',\n",
    "  'розмарин d-9',\n",
    "  'розмарин в',\n",
    "  'альбука спиралис',\n",
    "  'бальзамин новогвинейский',\n",
    "  'бальзам для',\n",
    "  'бальзамин валера',\n",
    "  'крассула d-17',\n",
    "  'крассула овата',\n",
    "  'артемизия (полынь',\n",
    "  'лаванда d-9',\n",
    "  'лаванда торх',\n",
    "  'лаванда в',\n",
    "  'мята d-9',\n",
    "  'мята перечная',\n",
    "  'мята колосистая',\n",
    "       'мята aura',\n",
    "  'мята махито',\n",
    "  'каланхое каландива',\n",
    "  'примула акаулис',\n",
    "  'примула желтая',\n",
    "  'примула комнатная',\n",
    "  'дендробиум санок',\n",
    "  'дендробиум фиолетовый',\n",
    "  'дендробиум яблоневый',\n",
    "  'калоцефалус брауни',\n",
    "  'каллуна гарден',\n",
    "  'капсикум сальса',\n",
    "  'мимоза стыдливая',\n",
    "  'соланум d-10',\n",
    "  'бархатцы веселая',\n",
    "  'космея очаровашка',\n",
    "  'космея клюквенный', 'космея кэнди',\n",
    "  'космея лимонад', 'космея попсокс', 'космея снежный',\n",
    "  'морковь детская',\n",
    "  'настурция драгоценность',\n",
    "  'настурция лунный', 'настурция орхидное',\n",
    "  'огурец засолочный',\n",
    "  'огурец алтай',\n",
    "  'огурец аристократ', 'огурец багратион', 'огурец боярский',\n",
    "  'огурец закусочный',\n",
    "  'петуния каскад',\n",
    "  'петуния гибридная', 'петуния махровая',\n",
    "  'петуния surprice', 'петуния sweetunia',\n",
    "  'петуния простая', 'петуния изи',\n",
    "  'петуния surfinia',\n",
    "  'петуния крупноцветковая', 'петуния orange', 'петуния sanguna',\n",
    "  'петуния pegasus',\n",
    "       'петуния surprise',\n",
    "  'петуния potunia',\n",
    "  'петуния рассада',\n",
    "  'петуния свитуния', 'петуния baby', 'петуния bordeaux',\n",
    "       'петуния crazytunia', 'петуния sky',\n",
    "  'петуния ампельная',\n",
    "  'алиссум (лобулярия)',\n",
    "  'алиссум скальный',\n",
    "  'гвоздика турецкая',\n",
    "  'гвоздика стандартная',\n",
    "  'гвоздика травянка',\n",
    "  'гвоздика садовая',\n",
    "  'годеция рембранд',\n",
    "  'календула пинк',\n",
    "  'календула бронзовая',\n",
    "  'календула суприм',\n",
    "  'капуста декоративная',\n",
    "  'капуста белокочанная',\n",
    "  'капуста брокколи',\n",
    "  'капуста цветная',\n",
    "  'капуста брюссельская',\n",
    "  'капуста кольраби',\n",
    "  'кореопсис толл',\n",
    "  'кореопсис золотой',\n",
    "  'лапчатка огненное',\n",
    "  'лапчатка травянистая',\n",
    "  'львиный зев',\n",
    "  'флокс друммонда',\n",
    "  'флокс растопыренный',\n",
    "  'флокс метельчатый',\n",
    "  'цинерария серебряная',\n",
    "  'эшшольция карминный',\n",
    "  'диффенбахия d-12',\n",
    "  'диффенбахия камилла',\n",
    "  'фаленопсис королевский',\n",
    "  'фаленопсис люкс',\n",
    "  'фаленопсис желтый',\n",
    "  'подсолнечник низкорослый',\n",
    "  'пуансетия d-12',\n",
    "  'гиностемма укорененный',\n",
    "  'ель канадская',\n",
    "  'кипарисовик лавсона',\n",
    "  'аптения d-10',\n",
    "  'аптения d-12',\n",
    "  'новогоднее дерево',\n",
    "  'пуансеттия d-12',\n",
    "  'пуансеттия d-15',\n",
    "  'пуансеттия d-23',\n",
    "  'пуансеттия в',\n",
    "  'скиммия японская',\n",
    "  'фиттония скелетон',\n",
    "  'тимьян d-9',\n",
    "  'тимьян овощной',\n",
    "  'тимьян крымский',\n",
    "  'тимьян в',\n",
    "  'алоэ вера',\n",
    "  'спатифиллум шопен',\n",
    "  'спатифиллум d-7',\n",
    "  'спатифиллум свит',\n",
    "  'фикус каучуконосный',\n",
    "  'кодонанта укорененный',\n",
    "  'гимнокалициум микс',\n",
    "  'кофе арабика',\n",
    "  'эхинокактус грузони',\n",
    "  'крокусы pickwick',\n",
    "  'гипсофила аврора',\n",
    "  'калибрахоа ампельная',\n",
    "  'калибрахоа aloha', 'калибрахоа mini', 'калибрахоа sweet',\n",
    "  'калибрахоа bloomtastic', 'калибрахоа rave',\n",
    "  'эпипремнум ауреум',\n",
    "  'аквилегия обыкновенная',\n",
    "  'аквилегия махровая',\n",
    "  'базилик застольный',\n",
    " 'базилик смесь',\n",
    "  'базилик зеленый', 'базилик овощной',\n",
    "       'базилик пурпурные',\n",
    "  'горох амброзия',\n",
    "  'земляника барон',\n",
    "  'земляника садовая',\n",
    "  'незабудка смесь',\n",
    "  'седум почвопокровный',\n",
    "  'седум (очиток)',\n",
    "  'томат балконное',\n",
    "  'томата (помидор)',\n",
    "  'томат государь', 'томат детерминантный',\n",
    "  'укроп обильнолистный',\n",
    "  'нефролепис бостон',\n",
    "  'калла крупноцветковая',\n",
    "  'декабрист в',\n",
    "  'тюльпан louvre',\n",
    "  'гиацинт blue',\n",
    "  'вербена микс',\n",
    "  'вербена ампельная,',\n",
    "  'вербена крупноцветковая', 'вербена red',\n",
    "  'вербена fuhcsia',\n",
    "  'вербена white',\n",
    "  'однолетнее растение',\n",
    "  'чабер bolero',\n",
    "  'бакопа ампельная',\n",
    "  'бакопа ампельная,',\n",
    "  'ранункулус клуни',\n",
    "  'овсянница сизая',\n",
    "  'георгина черная',\n",
    "  'смолевка звездный',\n",
    "  'цинния ацтек', 'цинния хаага',\n",
    "  'цинния коралловая',\n",
    "       'цинния оранжевый',\n",
    "  'лавр в',\n",
    "  'лавр нобилис',\n",
    "  'лавр d-9',\n",
    "  'вербейник монетчатый',\n",
    "  'виола рогатая',\n",
    "  'колокольчик карпатский',\n",
    "  'колокольчик персиколистный',\n",
    "  'котовник блю',\n",
    "  'эхинацея микс',\n",
    "  'ясколка войлочная',\n",
    "  'лилейник высокорослый',\n",
    "  'папоротник страусник',\n",
    "  'платикодон махровый',\n",
    "  'энотера миссурийская',\n",
    "  'фуксия ампельная',\n",
    "  'фуксия blue', 'фуксия dark',\n",
    "       'фуксия swingtime',\n",
    "  'фуксия e4',\n",
    "  'фуксия ампельная', 'фуксия прямостоячая', 'фуксия bella',\n",
    "  'цитрофортунелла кумкват',\n",
    "  'пеперомия d-12',\n",
    "  'дыня алтайская', 'дыня дина', 'дыня золотой',\n",
    "       'дыня колхозница', 'дыня медовый', 'дыня награда',\n",
    "  'дыня млада', 'дыня симпатия',\n",
    "  'синнингия (глоксиния)',\n",
    "  'гардения d-9',\n",
    "  'лобелия ампельная',\n",
    "  'лобелия регатта',\n",
    "  'табак душистый',\n",
    "  'табак бордовый', 'табак курительный',\n",
    "  'девичий виноград',\n",
    "  'мускари white',\n",
    "  'пиретрум робинсон',\n",
    "  'тагетис крупноцветковый',\n",
    "  'муррайя d-9',\n",
    "  'астра альпийская',\n",
    "  'вероника колосковая',\n",
    "  'целозия гребенчатая',\n",
    "  'арбуз волгоградец',\n",
    "  'арбуз огонек', 'арбуз сибирские', 'арбуз холодок', 'арбуз шуга',\n",
    "  'баклажан самурай',\n",
    "  'клубника альба', 'клубника мара', 'клубника хоней',\n",
    "  'патиссон зонтик',\n",
    "  'патиссон диск', 'патиссон нло',\n",
    "  'маттиола ночная',\n",
    "  'лук порей',\n",
    "  'джункус пенсил',\n",
    "  'драцена фрагранс',\n",
    "  'фатсия японская',\n",
    "  'фатсия d-17',\n",
    "  'хоста микс',\n",
    "  'гайлардия крупноцветковая',\n",
    "  'монарда гибридная',\n",
    "  'монарда в',\n",
    "  'нивянник (ромашка)',\n",
    "  'рудбекия тайгер',\n",
    "  'барвинок синий',\n",
    "  'осина обыкновенная,',\n",
    "  'сциндапсус в',\n",
    "  'пряные травы',\n",
    "  'бузульник пржевальского',\n",
    "  'камнеломка арендса',\n",
    "  'камнеломка тенистая',\n",
    "  'солидаго желтый',\n",
    "  'физостегия вергинская',\n",
    "  'бадан сердцелистный',\n",
    "  'лен небесная',\n",
    "  'лантана d-13',\n",
    "  'лантана в',\n",
    "  'лаватера монт',\n",
    "  'анемона белый',\n",
    "  'буддлея вейера',\n",
    "  'валериана лекарственная',\n",
    "  'змееголовник молдавский',\n",
    "  'любисток удалец',\n",
    "  'петрушка корневая', 'петрушка листовая',\n",
    "  'петрушка итальянский',\n",
    "  'сельдерей листовой',\n",
    "  'шалфей овощной',\n",
    "  'вигна лилиана',\n",
    "  'кабачок изумруд',\n",
    "  'тыква крупноплодная',\n",
    "  'хамедорея d-12',\n",
    "  'зверобой продырявленный',\n",
    "  'импатиенс нью',\n",
    "  'клен ложноплатановый',\n",
    "  'замиокулькас d-15',\n",
    "  'амариллис red',\n",
    "  'салат рукола',\n",
    "  'пахира акватика',\n",
    "  'литопс микс']"
   ]
  },
  {
   "cell_type": "code",
   "execution_count": 42,
   "id": "84323f2a",
   "metadata": {},
   "outputs": [],
   "source": [
    "hoz = ['настенная сушилка',\n",
    "  'антинакипин для',\n",
    "  'таз пластмассовый',\n",
    "  'таз алюминиевый,',\n",
    "  'чехол для',\n",
    "  'чехол eurogold',\n",
    "  'вешалка для',\n",
    "  'вешалка деревянная', 'вешалка с',\n",
    "  'вешалка-плечики без',\n",
    "  'вешалка напольная',\n",
    "  'вешалка-стойка №',\n",
    "  'вешалка-плечики 3',\n",
    "  'вешалка настенная', 'вешалка самоклеющая',\n",
    "  'вешалка гардеробная',\n",
    "  'вешалка-сушилка gimi',\n",
    "  'вешалка металлическая',\n",
    "  'вешалка valiant',\n",
    "  'вешалка-перекладина valiant',\n",
    "  'вешалка ника',\n",
    "  'вешалка надверная',\n",
    "  'вешалка-стойка сакура',\n",
    "  'вешалка -',\n",
    "  'сушилка для',\n",
    "  'шнур хозяйственный',\n",
    "  'сушилка мульти',\n",
    "  'сушилка meliconi',\n",
    "  'сушилка уличная',\n",
    "  'крючок одежный',\n",
    "  'крючок проволочный',\n",
    "  'корзина мягкая',\n",
    "  'корзина для', 'корзина пластиковая',\n",
    "  'корзина на',\n",
    "  'корзина city',\n",
    "  'доска гладильная',\n",
    "  'щетка-сметка 3-х', 'щетка-сметка 4-х',\n",
    "  'щетка-сметка с',\n",
    "  'ерш для',\n",
    "  'ёрш унитазный',\n",
    "  'ёрш для',\n",
    "  'ёрш радиаторный',\n",
    "  'ёрш бутылочный',\n",
    "  'набор прищепок',\n",
    "  'набор кружек',\n",
    "  'набор фужеров',\n",
    "  'набор вешалок',\n",
    "  'набор ковров',\n",
    "  'набор сверел',\n",
    "  'набор эмалированных',\n",
    "  'набор кухонных',\n",
    "  'набор бокалов', 'набор стаканов',\n",
    "  'набор ножей',\n",
    "  'набор форм',\n",
    "  'набор столовых',\n",
    "  'набор махровых',\n",
    "  'набор vileda',\n",
    "  'набор прецизионных',\n",
    "  'набор посуды',\n",
    "  'набор для',\n",
    "  'набор инструментов',\n",
    "  'подкладка под',\n",
    "  'мусорный контейнер',\n",
    "  'перчатки латексные',\n",
    "  'перчатки резиновые',\n",
    "  'перчатки fabrikators',\n",
    "  'перчатки latex',\n",
    "  'перчатки extra',\n",
    "  'стремянка алюминиевая',\n",
    "  'стремянка металлическая',\n",
    "  'стремянка бытовая',\n",
    "  'стремянка 5',\n",
    "  'стремянка-табурет алюминиевая',\n",
    "  'стремянка framar',\n",
    "  'стремянка eurogold',\n",
    "  'стремянка colombo',\n",
    "  'стремянка scab',\n",
    "  'стремянка dogrular',\n",
    "  'стремянка 7',\n",
    "  'гладильная доска',\n",
    "  'гладильная доска-стремянка',\n",
    "  'лестница-стремянка dogrular',\n",
    "  'лестница-стремянка примус',\n",
    "  'лестница-стремянка sarayli',\n",
    "  'стяжка оконная',\n",
    "  'комплект для',\n",
    "  'комплект постельного',\n",
    "  'комплект махровых',\n",
    "  'плечики пластмассовые',\n",
    "  'крепеж для',\n",
    "  'пружина дверная',\n",
    "  'петля приварная',\n",
    "  'петля-стрела пс-286',\n",
    "  'петля рояльная',\n",
    "  'стиральный биопорошок',\n",
    "  'чистящий крем',\n",
    "  'щетка для',\n",
    "  'щетка-утюжок с',\n",
    "  'щетка палубная',\n",
    "  'щетка хозяйственная',\n",
    "  'щетка универсальная',\n",
    "  'щётка для',\n",
    "  'стремянки colombo',\n",
    "  'жидкое мыло',\n",
    "  'пена для',\n",
    "  'подрукавник складной', 'подрукавник gimi', 'подрукавник leifheit',\n",
    "  'сверло-фреза, 6', 'сверло-фреза, 8',\n",
    "  'зубная паста',\n",
    "  'веник сорго',\n",
    "  'веник для',\n",
    "  'швабра многофункциональная',\n",
    "  'швабра многофункциональная,',\n",
    "  'швабра сальса',\n",
    "  'швабра для',\n",
    "  'швабра хозяйственная',\n",
    "  'швабра leifheit',\n",
    "  'насадка для',\n",
    "  'насадка к',\n",
    "  'насадка-отжим пластиковая',\n",
    "  'насадка-моп rozenbal',\n",
    "  'насадка на',\n",
    "  'ножеточка универсальная',\n",
    "  'вешалка-плечики без',\n",
    "  'вешалка-плечики 3',\n",
    "  'настольная гладильная',\n",
    "  'холодная сварка',\n",
    "  'шнур резиновый',\n",
    "  'урна уличная',\n",
    "  'урна-пепельница из',\n",
    "  'мыло-скраб с',\n",
    "  'мыло жидкое',\n",
    "  'мыло ручной',\n",
    "  'сметка с',\n",
    "  'измерительный алюминиевый',\n",
    "  'измерительный угольник,',\n",
    "  'линейка, длина',\n",
    "  'средство для',\n",
    "  'средство против',\n",
    "  'бензин для',\n",
    "  'паста для',\n",
    "  'паста зубная',\n",
    "  'петля-стрела пс-286',\n",
    "  'держатель для',\n",
    "  'пробка для',\n",
    "  'вешалки мягкие',\n",
    "  'губка спираль',\n",
    "  'антижир posh',\n",
    "  'универсальное средство',\n",
    "  'ролик для',\n",
    "  'сменный блок',\n",
    "  'термометр на', \n",
    "  'термометр уличный',\n",
    "  'шило с',\n",
    "  'кухонные ножницы',\n",
    "  'ароматизированное средство',\n",
    "  'бальзам для',\n",
    "  'рассекатель пламени',\n",
    "  'ополаскиватель для',\n",
    "  'сетка для',\n",
    "  'ручка-скоба рс-100',\n",
    "  'мыльница пластмассовая',\n",
    "  'многофункциональный инструмент',\n",
    "  'кольца для',\n",
    "  'вантуз черный',\n",
    "  'вантуз с',\n",
    "  'кондиционер для',\n",
    "  'защитная соль',\n",
    "  'гипоаллергенный концентрированный',\n",
    "  'лестница-стремянка dogrular',\n",
    "  'лестница-стремянка примус',\n",
    "  'лестница стремянка',\n",
    "  'лестница-стремянка sarayli',\n",
    "  'совок и',\n",
    "  'совок металический', \n",
    "  'совок для',\n",
    "  'штанга для',\n",
    "  'увлажняющая маска',\n",
    "  'штангенциркуль 150',\n",
    "  'рукав для',\n",
    "  'бак для',\n",
    "  'концентрат для',\n",
    "  'окномойка с',\n",
    "  'фал капроновый',\n",
    "  'сменная насадка',\n",
    "  'подвесное кашпо',\n",
    "  'автоматическая щетка',\n",
    "  'тряпкодержатель с',\n",
    "  'бельевые прищепки',\n",
    "  'сверло по',\n",
    "  'фиксатор-шар хром',\n",
    "  'отжим для',\n",
    "  'шпагат полипропиленовый',\n",
    "  'ванна 70',\n",
    "  'прищепки для',\n",
    "  'покрытие для',\n",
    "  'веревка полипропиленовая',\n",
    "  'мешок для',\n",
    "  'отбеливатель пероксоль',\n",
    "  'ручка-скоба рс-100',\n",
    "  'ручка мебельная',\n",
    "  'пьезозажигалка с',\n",
    "  'решетка вентиляционная',\n",
    "  'запасная насадка',\n",
    "  'уголок оконный',\n",
    "  'вакуумный пакет',\n",
    "  'тряпка для',\n",
    "  'основание для',\n",
    "  'стяжки для',\n",
    "  'шпингалет 80']"
   ]
  },
  {
   "cell_type": "code",
   "execution_count": 43,
   "id": "46b4ce2e",
   "metadata": {},
   "outputs": [],
   "source": [
    "pos = ['мини-сковорода marmiton',\n",
    "  'сковорода алюминиевая',\n",
    "  'сковорода scovo',\n",
    "  'сковорода hard',\n",
    "  'стеклянная крышка',\n",
    "  'тарелка обеденная',\n",
    "  'тарелка десертная', 'тарелка суповая',\n",
    "  'вилка столовая',\n",
    "  'ложка столовая',\n",
    "  'ложка чайная',\n",
    "  'ложка обувная',\n",
    "  'ложка кухонная',\n",
    "  'нож столовый',\n",
    "  'нож для',\n",
    "  'нож кухонный',\n",
    "  'нож универсальный',\n",
    "  'нож поварской',\n",
    "  'котел алюминиевый',\n",
    "  'дозатор для',\n",
    "  'кувшин пластмассовый',\n",
    "  'кувшин luminarc',\n",
    "  'толкушка для',\n",
    "  'толкушка деревянная',\n",
    "  'банка со',\n",
    "  'банка с',\n",
    "  'банка стеклянная',\n",
    "  'банка из',\n",
    "  'банка рондо',\n",
    "  'противень прямоугольный',\n",
    "  'вкладыши для',\n",
    "  'tepмокружка avex',\n",
    "  'контейнер для',\n",
    "  'контейнер герметичный',\n",
    "  'ведро для',\n",
    "  'ведро пластиковое',\n",
    "  'ведро ampari',\n",
    "  'ведро овальное',\n",
    "  'ведро без',\n",
    "  'ведро полимербыт',\n",
    "  'ведро резинопластиковое',\n",
    "  'масленка коровка',\n",
    "  'корыто оцинкованное',\n",
    "  'салатник luminarc',\n",
    "  'салатник романтик',\n",
    "  'салатник амори',\n",
    "       'салатник колорама', 'салатник рапсоди',\n",
    "  'салатник воларэ',\n",
    "  'салатник эмпилабль',\n",
    "  'салатник аспен',\n",
    "  'салатник карин',\n",
    "  'чайный набор',\n",
    "  'рыбочистка металлическая',\n",
    "  'рыбочистка с',\n",
    "  'терка webber',\n",
    "  'терка для',\n",
    "  'кружка 350',\n",
    "  'кружка для', 'кружка luminarc',\n",
    "  'кружка нордик',\n",
    "  'кружка прозрачная',\n",
    "  'кружка бамбук',\n",
    "  'кружка мерная',\n",
    "  'кружка марли',\n",
    "  'кружка о',\n",
    "  'кружка тачки',\n",
    "  'кружка с',\n",
    "  'лопатка attribute', 'лопатка c',\n",
    "  'салфетница металлическая',\n",
    "  'стакан низкий',\n",
    "  'стакан пластмассовый',\n",
    "  'стакан для',\n",
    "  'столовая ложка',\n",
    "  'чайная ложка',\n",
    "  'овощечистка с',\n",
    "  'лоток для',\n",
    "  'лоток knit',\n",
    "  'ковш пластмассовый',\n",
    "  'кисточка силиконовая',\n",
    "  'скребок кондитерский',\n",
    "  'скребок 44',\n",
    "  'скребок для',\n",
    "  'картофелемялка металлическая',\n",
    "  'жестяная банка',\n",
    "  'миска пластмассовая',\n",
    "  'миска фазенда',\n",
    "  'миска для',\n",
    "  'пресс для',\n",
    "  'термостакан webber',\n",
    "  'защитный экран',\n",
    "  'термокружка alpenkok',\n",
    "  'термокружка вакуумная',\n",
    "  'термокружка яромир',\n",
    "  'термокружка забава',\n",
    "  'термос со',\n",
    "  'термос 1л',\n",
    "  'фарфоровая кружка',\n",
    "  'столовый нож',\n",
    "  'блюдце утро',\n",
    "  'бульонница luminarc',\n",
    "  'разделочная доска',\n",
    "  'доска разделочная',\n",
    "  'емкость для',\n",
    "  'модульная стеклянная',\n",
    "  'просеиватель для',\n",
    "  'кастрюля чугунная',\n",
    "  'кастрюля круглая',\n",
    "  'кастрюля эмалированная,',\n",
    "  'кастрюля алюминиевая',\n",
    "  'кастрюля эмалированная',\n",
    "  'хлебница деревянная',\n",
    "  'хлебница webber',\n",
    "  'хлебница пластмасовая',\n",
    "  'форма для',\n",
    "  'форма аlpenkok',\n",
    "  'орехоколка viva',\n",
    "  'скалка силиконовая',\n",
    "  'венчик с',\n",
    "  'сито webber',\n",
    "  'тортница curver',\n",
    "  'блюдо pasabahce',\n",
    "  'сотейник алюминиевый',\n",
    "  'бидон пластмассовый',\n",
    "  'ваза маскарад',\n",
    "  'отделитель косточек',\n",
    "  'шприц кондитерский',\n",
    "  'крышка оцинкованная',\n",
    "  'сахарница фарфоровая',\n",
    "  'универсальный нож',\n",
    "  'половник attribute',\n",
    "  'мерный стакан']"
   ]
  },
  {
   "cell_type": "code",
   "execution_count": 44,
   "id": "4d7afa52",
   "metadata": {},
   "outputs": [],
   "source": [
    "bags = ['сумка-тележка 2-х',\n",
    "  'сумка-тележка хозяйственная',\n",
    "  'сумка-тележка 3-х',\n",
    "  'сумка-тележка gimi',\n",
    "  'сумка-тележка delta',\n",
    "  'сумка-тележка twin',\n",
    "  'сумка-тележка brava',\n",
    "  'сумка для',\n",
    "  'сумка хозяйственная',\n",
    "  'тележка багажная',\n",
    "  'тележка хозяйственная',\n",
    "  'кофр малый',\n",
    "  'кофр для',\n",
    "  'ящик для',\n",
    "  'ящик почтовый',\n",
    "  'короб стеллажный',\n",
    "  'коробка прямоугольная',\n",
    "  'коробка infinity',\n",
    "  'коробка для',\n",
    "  'складная картонная',\n",
    "  'корзинка с']"
   ]
  },
  {
   "cell_type": "code",
   "execution_count": 45,
   "id": "1a61721f",
   "metadata": {},
   "outputs": [],
   "source": [
    "int = ['муляж \"райские', 'муляж банан,', 'муляж виноград', 'муляж гранат',\n",
    "       'муляж груша', 'муляж груша,', 'муляж зеленое', 'муляж клубника',\n",
    "       'муляж красное', 'муляж лимон,', 'муляж мандарин,', 'муляж перец,',\n",
    "       'муляж персики', 'муляж томат,', 'муляж черешня',\n",
    "  'муляж виноград,', 'муляж вишня,', 'муляж персик,',\n",
    "  'муляж перец', 'муляж апельсин', 'муляж яблоко',\n",
    "  'муляж тыквы', 'муляж лимон', 'муляж вишня', 'муляж мандарин', 'муляж чеснок',\n",
    "  'муляж ананас', 'муляж баклажан', 'муляж банан', 'муляж манго',\n",
    "       'муляж морковь', 'муляж персик', 'муляж желудь', 'муляж яблоко,', 'муляж оранжевое',\n",
    "  'муляж булка', 'муляж лайм', 'муляж томат', 'муляж долька', 'муляж хлеб',\n",
    "  'коврик придверный',\n",
    "       'коврик bacchetta', 'коврик интерьерный', 'коврик хлопковый',\n",
    "  'коврик влаговпитывающий', 'коврик резиновый', 'коврик придверный,',\n",
    "  'коврик противоскользящий', 'коврик для', 'коврик sochi',\n",
    "  'коврик ворсовый', 'коврик кухонный',\n",
    "  'коврик dasch', 'коврик в',\n",
    "  'плед флисовый',\n",
    "  'скатерть династия',\n",
    "  'скатерть лувр',\n",
    "  'скатерть из',\n",
    "  'скатерть азалия',\n",
    "  'скатерть прямоугольная',\n",
    "  'скатерть сидней',\n",
    "  'скатерть towa',\n",
    "  'подушка декоративная',\n",
    "  'скатерть джулия',\n",
    "  'скатерть 350х180',\n",
    "  'скатерть арлет',\n",
    "  'скатерть виниловая',\n",
    "  'скатерть ажурная',\n",
    "  'скатерть беатрис',\n",
    "  'скатерть 150х120',\n",
    "  'скатерть муза',\n",
    "  'скатерть meiwa',\n",
    "  'скатерть dasch',\n",
    "  'скатерть 350х150',\n",
    "  'скатерть круглая',\n",
    "  'скатерть 180',\n",
    "  'скатерть жаклин',\n",
    "  'скатерть рим',\n",
    "  'ковер придверный',\n",
    "  'ковёр придверный',\n",
    "  'готовая скатерть',\n",
    "  'искусственный цветок',\n",
    "  'цветок искусственный',\n",
    "  'искусственный лист',\n",
    "  'простыня на',\n",
    "  'простыня двуспальная',\n",
    "  'простыня сатиновая',\n",
    "  'штора текстильная',\n",
    "  'штора для',\n",
    "  'штора со',\n",
    "  'декоративная композиция',\n",
    "  'декоративная коробка',\n",
    "  'подушка 40х40',\n",
    "  'полотенце кухонное',\n",
    "  'полотенце махровое',\n",
    "  'полотенце прессованное',\n",
    "  'салфетка protec',\n",
    "  'салфетка камушки',\n",
    "  'салфетка махровая',\n",
    "  'салфетка на',\n",
    "  'ковёр придверный',\n",
    "  'карниз алюминиевый',\n",
    "  'карниз для',\n",
    "  'подголовник для',\n",
    "  'подголовник bacchetta',\n",
    "  'наматрасник wellness',\n",
    "  'наматрицник-чехол natures',\n",
    "  'сиденье в',\n",
    "  'сиденье для',\n",
    "  'сервировочная салфетка',\n",
    "  'халат вафельный',\n",
    "  'комод эльфпласт',\n",
    "  'покрывало жаккард',\n",
    "  'покрывало karna',\n",
    "  'покрывало стеганый',\n",
    "  'подставка для',\n",
    "  'одеяло silver',\n",
    "  'одеяло wellness',\n",
    "  'фоторамка alparaisa',\n",
    "  'этажерка 2',\n",
    "  'этажерка для',\n",
    "  'этажерка цветочная',\n",
    "  'простынь вафельная',\n",
    "  'полки qwerty',\n",
    "  'ключница картина',\n",
    "  'махровое полотенце',\n",
    "  'искусственная лиана',\n",
    "  'искусственная композиция',\n",
    "  'нетканые салфетки',\n",
    "  'кухонное полотенце',\n",
    "  'подарочный набор',\n",
    "  'махровый халат',\n",
    "  'полка для',\n",
    "  'урна-пепельница из',\n",
    "  'ткань универсальная',\n",
    "  'ткань для',\n",
    "  'наматрацник natures',\n",
    "  'наволочка wellness',\n",
    "  'обувница-3 квадро',\n",
    "  'пододеяльник 214х150',\n",
    "  'стеллаж для',\n",
    "  'складной детский',\n",
    "  'завертка форточная',\n",
    "  'двуспальное постельное']"
   ]
  },
  {
   "cell_type": "code",
   "execution_count": 46,
   "id": "75225163",
   "metadata": {},
   "outputs": [],
   "source": [
    "tech = ['чайник со',\n",
    "  'чайник эмалированный',\n",
    "  'чайник электрический',\n",
    "  'чайник заварочный',\n",
    "  'миксер delta',\n",
    "  'миксер василиса',\n",
    "  'миксер электрический',\n",
    "  'светильник настольный',\n",
    "  'утюг электрический',\n",
    "  'утюг delta',\n",
    "  'овощеварка алюминиевая',\n",
    "  'измельчитель овощей',\n",
    "  'фен дорожный',\n",
    "  'мантоварка алюминиевая',\n",
    "  'весы напольные',\n",
    "  'весы настольные',\n",
    "  'весы электронные',\n",
    "  'электроштопор qwerty',\n",
    "  'мантоварка-пароварка webber',\n",
    "  'пылесос delta',\n",
    "  'соковарка webber',\n",
    "  'соковарка алюминиевая',\n",
    "  'соковыжималка для',\n",
    "  'кипятильник электрический']"
   ]
  },
  {
   "cell_type": "markdown",
   "id": "00bc43c7",
   "metadata": {},
   "source": [
    "Создали списки под категории, далее распределим заказы по категориям."
   ]
  },
  {
   "cell_type": "code",
   "execution_count": 47,
   "id": "05263bcb",
   "metadata": {},
   "outputs": [],
   "source": [
    "def category(name):\n",
    "    if name in garden:\n",
    "        return 'растения'\n",
    "    if name in hoz:\n",
    "        return 'хозтовары'\n",
    "    if name in pos:\n",
    "        return 'посуда'\n",
    "    if name in int:\n",
    "        return 'интерьер'\n",
    "    if name in tech:\n",
    "        return 'техника'\n",
    "    if name in bags:\n",
    "        return 'сумки'\n",
    "    else:\n",
    "        'Нет категории'"
   ]
  },
  {
   "cell_type": "code",
   "execution_count": 48,
   "id": "d8cbdd2c",
   "metadata": {},
   "outputs": [],
   "source": [
    "df['category'] = df['product_reduction'].apply(category)"
   ]
  },
  {
   "cell_type": "code",
   "execution_count": 49,
   "id": "c2102406",
   "metadata": {},
   "outputs": [
    {
     "data": {
      "text/plain": [
       "растения     2742\n",
       "хозтовары    1221\n",
       "интерьер      751\n",
       "сумки         407\n",
       "посуда        385\n",
       "техника        62\n",
       "Name: category, dtype: int64"
      ]
     },
     "execution_count": 49,
     "metadata": {},
     "output_type": "execute_result"
    }
   ],
   "source": [
    "\n",
    "df['category'].value_counts(ascending = False)"
   ]
  },
  {
   "cell_type": "markdown",
   "id": "4b138e5b",
   "metadata": {},
   "source": [
    "По категориям разбили, прекрасно"
   ]
  },
  {
   "cell_type": "markdown",
   "id": "f8a7e40c",
   "metadata": {},
   "source": [
    "#### Изучение выручки по категориям"
   ]
  },
  {
   "cell_type": "code",
   "execution_count": 50,
   "id": "6dbe58b2",
   "metadata": {},
   "outputs": [
    {
     "data": {
      "text/html": [
       "<div>\n",
       "<style scoped>\n",
       "    .dataframe tbody tr th:only-of-type {\n",
       "        vertical-align: middle;\n",
       "    }\n",
       "\n",
       "    .dataframe tbody tr th {\n",
       "        vertical-align: top;\n",
       "    }\n",
       "\n",
       "    .dataframe thead th {\n",
       "        text-align: right;\n",
       "    }\n",
       "</style>\n",
       "<table border=\"1\" class=\"dataframe\">\n",
       "  <thead>\n",
       "    <tr style=\"text-align: right;\">\n",
       "      <th></th>\n",
       "      <th>month</th>\n",
       "      <th>year</th>\n",
       "      <th>season</th>\n",
       "      <th>category</th>\n",
       "      <th>sales</th>\n",
       "    </tr>\n",
       "  </thead>\n",
       "  <tbody>\n",
       "    <tr>\n",
       "      <th>0</th>\n",
       "      <td>1</td>\n",
       "      <td>2019</td>\n",
       "      <td>зима</td>\n",
       "      <td>интерьер</td>\n",
       "      <td>84991.0</td>\n",
       "    </tr>\n",
       "    <tr>\n",
       "      <th>1</th>\n",
       "      <td>1</td>\n",
       "      <td>2019</td>\n",
       "      <td>зима</td>\n",
       "      <td>посуда</td>\n",
       "      <td>20342.0</td>\n",
       "    </tr>\n",
       "    <tr>\n",
       "      <th>2</th>\n",
       "      <td>1</td>\n",
       "      <td>2019</td>\n",
       "      <td>зима</td>\n",
       "      <td>растения</td>\n",
       "      <td>23234.0</td>\n",
       "    </tr>\n",
       "    <tr>\n",
       "      <th>3</th>\n",
       "      <td>1</td>\n",
       "      <td>2019</td>\n",
       "      <td>зима</td>\n",
       "      <td>сумки</td>\n",
       "      <td>26201.0</td>\n",
       "    </tr>\n",
       "    <tr>\n",
       "      <th>4</th>\n",
       "      <td>1</td>\n",
       "      <td>2019</td>\n",
       "      <td>зима</td>\n",
       "      <td>техника</td>\n",
       "      <td>10242.0</td>\n",
       "    </tr>\n",
       "    <tr>\n",
       "      <th>...</th>\n",
       "      <td>...</td>\n",
       "      <td>...</td>\n",
       "      <td>...</td>\n",
       "      <td>...</td>\n",
       "      <td>...</td>\n",
       "    </tr>\n",
       "    <tr>\n",
       "      <th>89</th>\n",
       "      <td>12</td>\n",
       "      <td>2019</td>\n",
       "      <td>зима</td>\n",
       "      <td>посуда</td>\n",
       "      <td>8401.0</td>\n",
       "    </tr>\n",
       "    <tr>\n",
       "      <th>90</th>\n",
       "      <td>12</td>\n",
       "      <td>2019</td>\n",
       "      <td>зима</td>\n",
       "      <td>растения</td>\n",
       "      <td>16702.0</td>\n",
       "    </tr>\n",
       "    <tr>\n",
       "      <th>91</th>\n",
       "      <td>12</td>\n",
       "      <td>2019</td>\n",
       "      <td>зима</td>\n",
       "      <td>сумки</td>\n",
       "      <td>63438.5</td>\n",
       "    </tr>\n",
       "    <tr>\n",
       "      <th>92</th>\n",
       "      <td>12</td>\n",
       "      <td>2019</td>\n",
       "      <td>зима</td>\n",
       "      <td>техника</td>\n",
       "      <td>3686.0</td>\n",
       "    </tr>\n",
       "    <tr>\n",
       "      <th>93</th>\n",
       "      <td>12</td>\n",
       "      <td>2019</td>\n",
       "      <td>зима</td>\n",
       "      <td>хозтовары</td>\n",
       "      <td>74969.5</td>\n",
       "    </tr>\n",
       "  </tbody>\n",
       "</table>\n",
       "<p>94 rows × 5 columns</p>\n",
       "</div>"
      ],
      "text/plain": [
       "    month  year season   category    sales\n",
       "0       1  2019   зима   интерьер  84991.0\n",
       "1       1  2019   зима     посуда  20342.0\n",
       "2       1  2019   зима   растения  23234.0\n",
       "3       1  2019   зима      сумки  26201.0\n",
       "4       1  2019   зима    техника  10242.0\n",
       "..    ...   ...    ...        ...      ...\n",
       "89     12  2019   зима     посуда   8401.0\n",
       "90     12  2019   зима   растения  16702.0\n",
       "91     12  2019   зима      сумки  63438.5\n",
       "92     12  2019   зима    техника   3686.0\n",
       "93     12  2019   зима  хозтовары  74969.5\n",
       "\n",
       "[94 rows x 5 columns]"
      ]
     },
     "execution_count": 50,
     "metadata": {},
     "output_type": "execute_result"
    }
   ],
   "source": [
    "temp2 = df.groupby(['month', 'year', 'season', 'category'])['sales'].sum().reset_index()\n",
    "temp2"
   ]
  },
  {
   "cell_type": "code",
   "execution_count": 51,
   "id": "bfe358e7",
   "metadata": {},
   "outputs": [],
   "source": [
    "flowers = temp2.query('category == \"растения\"')\n",
    "household_goods = temp2.query('category == \"хозтовары\"')\n",
    "tableware = temp2.query('category == \"посуда\"')\n",
    "bag = temp2.query('category == \"сумки\"')\n",
    "interior_goods = temp2.query('category == \"интерьер\"')\n",
    "equipment = temp2.query('category == \"техника\"')"
   ]
  },
  {
   "cell_type": "code",
   "execution_count": 52,
   "id": "5dc72e42",
   "metadata": {
    "scrolled": false
   },
   "outputs": [
    {
     "data": {
      "image/png": "[encoded data removed]",
      "text/plain": [
       "<Figure size 1152x432 with 1 Axes>"
      ]
     },
     "metadata": {
      "needs_background": "light"
     },
     "output_type": "display_data"
    }
   ],
   "source": [
    "plt.figure(figsize=(16, 6))\n",
    "sns.barplot(x = 'category', y = 'sales', ci=None, data = temp2)\n",
    "plt.ylabel('Выручка')\n",
    "plt.xlabel('Категория')\n",
    "plt.show()"
   ]
  },
  {
   "cell_type": "markdown",
   "id": "7b5ca4df",
   "metadata": {},
   "source": [
    "Общий график продаж по категориям. Самая прибыльная категория - хозтовары."
   ]
  },
  {
   "cell_type": "code",
   "execution_count": 53,
   "id": "48d9905c",
   "metadata": {},
   "outputs": [
    {
     "data": {
      "image/png": "[encoded data removed]",
      "text/plain": [
       "<Figure size 1152x432 with 1 Axes>"
      ]
     },
     "metadata": {
      "needs_background": "light"
     },
     "output_type": "display_data"
    }
   ],
   "source": [
    "plt.figure(figsize=(16, 6))\n",
    "sns.barplot(x = 'month', y = 'sales', hue = 'category', ci=None, data = temp2)\n",
    "plt.ylabel('Выручка')\n",
    "plt.xlabel('Месяц')\n",
    "plt.show()"
   ]
  },
  {
   "cell_type": "markdown",
   "id": "d1103676",
   "metadata": {},
   "source": [
    "График продаж по месяцам, распределенные по категориям. В большинстве случаев, лидируют хозтовары, но иногда выбиваются вперед и другие категории, такие как - растения и сумки"
   ]
  },
  {
   "cell_type": "markdown",
   "id": "1764fb4c",
   "metadata": {},
   "source": [
    "**Категория: Растения**"
   ]
  },
  {
   "cell_type": "code",
   "execution_count": 54,
   "id": "6fb3d6d7",
   "metadata": {},
   "outputs": [
    {
     "data": {
      "image/png": "[encoded data removed]",
      "text/plain": [
       "<Figure size 1152x432 with 1 Axes>"
      ]
     },
     "metadata": {
      "needs_background": "light"
     },
     "output_type": "display_data"
    }
   ],
   "source": [
    "plt.figure(figsize=(16, 6))\n",
    "sns.barplot(x = 'month', y = 'sales', hue = 'year', ci=None, data = flowers)\n",
    "plt.ylabel('Выручка')\n",
    "plt.xlabel('Месяц')\n",
    "plt.show()"
   ]
  },
  {
   "cell_type": "code",
   "execution_count": 55,
   "id": "5e8200bb",
   "metadata": {},
   "outputs": [
    {
     "data": {
      "image/png": "[encoded data removed]",
      "text/plain": [
       "<Figure size 1152x432 with 1 Axes>"
      ]
     },
     "metadata": {
      "needs_background": "light"
     },
     "output_type": "display_data"
    }
   ],
   "source": [
    "plt.figure(figsize=(16, 6))\n",
    "sns.barplot(x = 'season', y = 'sales', ci=None, data = flowers)\n",
    "plt.ylabel('Выручка')\n",
    "plt.xlabel('Сезон')\n",
    "plt.show()"
   ]
  },
  {
   "cell_type": "markdown",
   "id": "2cc63d4f",
   "metadata": {},
   "source": [
    "Основной приток средств в категории весной, летом прибыль уменьшается, когда же осенью и зимой прибыль минимальна. "
   ]
  },
  {
   "cell_type": "markdown",
   "id": "f2eb133e",
   "metadata": {},
   "source": [
    "**Категория: Хозтовары**"
   ]
  },
  {
   "cell_type": "code",
   "execution_count": 56,
   "id": "e7b3915e",
   "metadata": {},
   "outputs": [
    {
     "data": {
      "image/png": "[encoded data removed]",
      "text/plain": [
       "<Figure size 1152x432 with 1 Axes>"
      ]
     },
     "metadata": {
      "needs_background": "light"
     },
     "output_type": "display_data"
    }
   ],
   "source": [
    "plt.figure(figsize=(16, 6))\n",
    "sns.barplot(x = 'month', y = 'sales', hue = 'year', ci=None, data = household_goods)\n",
    "plt.ylabel('Выручка')\n",
    "plt.xlabel('Месяц')\n",
    "plt.show()"
   ]
  },
  {
   "cell_type": "code",
   "execution_count": 57,
   "id": "7ebe3f77",
   "metadata": {},
   "outputs": [
    {
     "data": {
      "image/png": "[encoded data removed]",
      "text/plain": [
       "<Figure size 1152x432 with 1 Axes>"
      ]
     },
     "metadata": {
      "needs_background": "light"
     },
     "output_type": "display_data"
    }
   ],
   "source": [
    "plt.figure(figsize=(16, 6))\n",
    "sns.barplot(x = 'season', y = 'sales', ci=None, data = household_goods)\n",
    "plt.ylabel('Выручка')\n",
    "plt.xlabel('Сезон')\n",
    "plt.show()"
   ]
  },
  {
   "cell_type": "markdown",
   "id": "a90beb30",
   "metadata": {},
   "source": [
    "Хозтовары приносят прибыль на одном уровне, но все же лидером является осенее время, а аутсайдером - весна. "
   ]
  },
  {
   "cell_type": "markdown",
   "id": "97e8fbfe",
   "metadata": {},
   "source": [
    "**Категория: Посуда**"
   ]
  },
  {
   "cell_type": "code",
   "execution_count": 58,
   "id": "0358aef5",
   "metadata": {
    "scrolled": false
   },
   "outputs": [
    {
     "data": {
      "image/png": "[encoded data removed]",
      "text/plain": [
       "<Figure size 1152x432 with 1 Axes>"
      ]
     },
     "metadata": {
      "needs_background": "light"
     },
     "output_type": "display_data"
    }
   ],
   "source": [
    "plt.figure(figsize=(16, 6))\n",
    "sns.barplot(x = 'month', y = 'sales', hue = 'year', ci=None, data = tableware)\n",
    "plt.ylabel('Выручка')\n",
    "plt.xlabel('Месяц')\n",
    "plt.show()"
   ]
  },
  {
   "cell_type": "code",
   "execution_count": 59,
   "id": "215d9676",
   "metadata": {},
   "outputs": [
    {
     "data": {
      "image/png": "[encoded data removed]",
      "text/plain": [
       "<Figure size 1152x432 with 1 Axes>"
      ]
     },
     "metadata": {
      "needs_background": "light"
     },
     "output_type": "display_data"
    }
   ],
   "source": [
    "plt.figure(figsize=(16, 6))\n",
    "sns.barplot(x = 'season', y = 'sales', ci=None, data = tableware)\n",
    "plt.ylabel('Выручка')\n",
    "plt.xlabel('Сезон')\n",
    "plt.show()"
   ]
  },
  {
   "cell_type": "markdown",
   "id": "f69b4345",
   "metadata": {},
   "source": [
    "Посуда чаще приносит прибыль зимой. "
   ]
  },
  {
   "cell_type": "markdown",
   "id": "f967a63a",
   "metadata": {},
   "source": [
    "**Категория: Сумки**"
   ]
  },
  {
   "cell_type": "code",
   "execution_count": 60,
   "id": "792b72af",
   "metadata": {},
   "outputs": [
    {
     "data": {
      "image/png": "[encoded data removed]",
      "text/plain": [
       "<Figure size 1152x432 with 1 Axes>"
      ]
     },
     "metadata": {
      "needs_background": "light"
     },
     "output_type": "display_data"
    }
   ],
   "source": [
    "plt.figure(figsize=(16, 6))\n",
    "sns.barplot(x = 'month', y = 'sales', hue = 'year', ci=None, data = bag)\n",
    "plt.ylabel('Выручка')\n",
    "plt.xlabel('Месяц')\n",
    "plt.show()"
   ]
  },
  {
   "cell_type": "code",
   "execution_count": 61,
   "id": "bc965d0d",
   "metadata": {},
   "outputs": [
    {
     "data": {
      "image/png": "[encoded data removed]",
      "text/plain": [
       "<Figure size 1152x432 with 1 Axes>"
      ]
     },
     "metadata": {
      "needs_background": "light"
     },
     "output_type": "display_data"
    }
   ],
   "source": [
    "plt.figure(figsize=(16, 6))\n",
    "sns.barplot(x = 'season', y = 'sales', ci=None, data = bag)\n",
    "plt.ylabel('Выручка')\n",
    "plt.xlabel('Сезон')\n",
    "plt.show()"
   ]
  },
  {
   "cell_type": "markdown",
   "id": "4fe8551e",
   "metadata": {},
   "source": [
    "Сумки больше принесли прибыли весной. "
   ]
  },
  {
   "cell_type": "markdown",
   "id": "4b328535",
   "metadata": {},
   "source": [
    "**Категория: Интерьер**"
   ]
  },
  {
   "cell_type": "code",
   "execution_count": 62,
   "id": "9dbb5203",
   "metadata": {},
   "outputs": [
    {
     "data": {
      "image/png": "[encoded data removed]",
      "text/plain": [
       "<Figure size 1152x432 with 1 Axes>"
      ]
     },
     "metadata": {
      "needs_background": "light"
     },
     "output_type": "display_data"
    }
   ],
   "source": [
    "plt.figure(figsize=(16, 6))\n",
    "sns.barplot(x = 'month', y = 'sales', hue = 'year', ci=None, data = interior_goods)\n",
    "plt.ylabel('Выручка')\n",
    "plt.xlabel('Месяц')\n",
    "plt.show()"
   ]
  },
  {
   "cell_type": "code",
   "execution_count": 63,
   "id": "e356d642",
   "metadata": {},
   "outputs": [
    {
     "data": {
      "image/png": "[encoded data removed]",
      "text/plain": [
       "<Figure size 1152x432 with 1 Axes>"
      ]
     },
     "metadata": {
      "needs_background": "light"
     },
     "output_type": "display_data"
    }
   ],
   "source": [
    "plt.figure(figsize=(16, 6))\n",
    "sns.barplot(x = 'season', y = 'sales', ci=None, data = interior_goods)\n",
    "plt.ylabel('Выручка')\n",
    "plt.xlabel('Сезон')\n",
    "plt.show()"
   ]
  },
  {
   "cell_type": "markdown",
   "id": "c1592ac2",
   "metadata": {},
   "source": [
    "Зима с весной практически держатся наравне в интерьере. "
   ]
  },
  {
   "cell_type": "markdown",
   "id": "32c16cd9",
   "metadata": {},
   "source": [
    "**Категория: Техника**"
   ]
  },
  {
   "cell_type": "code",
   "execution_count": 64,
   "id": "08998951",
   "metadata": {},
   "outputs": [
    {
     "data": {
      "image/png": "[encoded data removed]",
      "text/plain": [
       "<Figure size 1152x432 with 1 Axes>"
      ]
     },
     "metadata": {
      "needs_background": "light"
     },
     "output_type": "display_data"
    }
   ],
   "source": [
    "plt.figure(figsize=(16, 6))\n",
    "sns.barplot(x = 'month', y = 'sales', hue = 'year', ci=None, data = equipment)\n",
    "plt.ylabel('Выручка')\n",
    "plt.xlabel('Месяц')\n",
    "plt.show()"
   ]
  },
  {
   "cell_type": "code",
   "execution_count": 65,
   "id": "d7c806d5",
   "metadata": {},
   "outputs": [
    {
     "data": {
      "image/png": "[encoded data removed]",
      "text/plain": [
       "<Figure size 1152x432 with 1 Axes>"
      ]
     },
     "metadata": {
      "needs_background": "light"
     },
     "output_type": "display_data"
    }
   ],
   "source": [
    "plt.figure(figsize=(16, 6))\n",
    "sns.barplot(x = 'season', y = 'sales', hue = 'year', ci=None, data = equipment)\n",
    "plt.ylabel('Выручка')\n",
    "plt.xlabel('Сезон')\n",
    "plt.show()"
   ]
  },
  {
   "cell_type": "markdown",
   "id": "70c4f998",
   "metadata": {},
   "source": [
    "Техника показала себя более прибыльной зимой. Но тем не менее есть сильные просадки летом. "
   ]
  },
  {
   "cell_type": "code",
   "execution_count": 66,
   "id": "5533207e",
   "metadata": {},
   "outputs": [
    {
     "data": {
      "text/html": [
       "<div>\n",
       "<style scoped>\n",
       "    .dataframe tbody tr th:only-of-type {\n",
       "        vertical-align: middle;\n",
       "    }\n",
       "\n",
       "    .dataframe tbody tr th {\n",
       "        vertical-align: top;\n",
       "    }\n",
       "\n",
       "    .dataframe thead th {\n",
       "        text-align: right;\n",
       "    }\n",
       "</style>\n",
       "<table border=\"1\" class=\"dataframe\">\n",
       "  <thead>\n",
       "    <tr style=\"text-align: right;\">\n",
       "      <th></th>\n",
       "      <th>sales</th>\n",
       "    </tr>\n",
       "    <tr>\n",
       "      <th>customer_id</th>\n",
       "      <th></th>\n",
       "    </tr>\n",
       "  </thead>\n",
       "  <tbody>\n",
       "    <tr>\n",
       "      <th>c971fb21-d54c-4134-938f-16b62ee86d3b</th>\n",
       "      <td>159508.0</td>\n",
       "    </tr>\n",
       "    <tr>\n",
       "      <th>4d93d3f6-8b24-403b-a74b-f5173e40d7db</th>\n",
       "      <td>57278.0</td>\n",
       "    </tr>\n",
       "    <tr>\n",
       "      <th>58a4c3cc-504f-43ea-a74a-bae19e665552</th>\n",
       "      <td>53232.0</td>\n",
       "    </tr>\n",
       "    <tr>\n",
       "      <th>146cd9bf-a95c-4afb-915b-5f6684b17444</th>\n",
       "      <td>49432.0</td>\n",
       "    </tr>\n",
       "    <tr>\n",
       "      <th>498f12a4-6a62-4725-8516-cf5dc9ab8a3a</th>\n",
       "      <td>41900.0</td>\n",
       "    </tr>\n",
       "    <tr>\n",
       "      <th>...</th>\n",
       "      <td>...</td>\n",
       "    </tr>\n",
       "    <tr>\n",
       "      <th>eec973c9-6ae9-4c1b-b1c7-a2718fde2f84</th>\n",
       "      <td>22.0</td>\n",
       "    </tr>\n",
       "    <tr>\n",
       "      <th>21df03ad-d9ac-47e9-a482-5372fd3e2464</th>\n",
       "      <td>22.0</td>\n",
       "    </tr>\n",
       "    <tr>\n",
       "      <th>55b8d928-77f8-40fc-a2e9-08424d13b0e4</th>\n",
       "      <td>22.0</td>\n",
       "    </tr>\n",
       "    <tr>\n",
       "      <th>f420bf6d-9985-47bc-95a7-5c640ad6d001</th>\n",
       "      <td>22.0</td>\n",
       "    </tr>\n",
       "    <tr>\n",
       "      <th>2330d859-e9cb-4c8f-abd0-55f9e27e6745</th>\n",
       "      <td>15.0</td>\n",
       "    </tr>\n",
       "  </tbody>\n",
       "</table>\n",
       "<p>2450 rows × 1 columns</p>\n",
       "</div>"
      ],
      "text/plain": [
       "                                         sales\n",
       "customer_id                                   \n",
       "c971fb21-d54c-4134-938f-16b62ee86d3b  159508.0\n",
       "4d93d3f6-8b24-403b-a74b-f5173e40d7db   57278.0\n",
       "58a4c3cc-504f-43ea-a74a-bae19e665552   53232.0\n",
       "146cd9bf-a95c-4afb-915b-5f6684b17444   49432.0\n",
       "498f12a4-6a62-4725-8516-cf5dc9ab8a3a   41900.0\n",
       "...                                        ...\n",
       "eec973c9-6ae9-4c1b-b1c7-a2718fde2f84      22.0\n",
       "21df03ad-d9ac-47e9-a482-5372fd3e2464      22.0\n",
       "55b8d928-77f8-40fc-a2e9-08424d13b0e4      22.0\n",
       "f420bf6d-9985-47bc-95a7-5c640ad6d001      22.0\n",
       "2330d859-e9cb-4c8f-abd0-55f9e27e6745      15.0\n",
       "\n",
       "[2450 rows x 1 columns]"
      ]
     },
     "execution_count": 66,
     "metadata": {},
     "output_type": "execute_result"
    }
   ],
   "source": [
    "df.loc[:,['customer_id', 'sales']].groupby('customer_id').sum().sort_values('sales', ascending= False)"
   ]
  },
  {
   "cell_type": "markdown",
   "id": "40813dab",
   "metadata": {},
   "source": [
    "Топ 5 клиентов по затратам"
   ]
  },
  {
   "cell_type": "markdown",
   "id": "ff7fd4ac",
   "metadata": {},
   "source": [
    "**Итог:** \n",
    "По анализу представленных данных мы выяснили, что общая выручка состявляет - 3599031. Так же выяснили, что самы прибыльный период у нас это зима и осень, неудивительно, ведь у нас есть данные  доп данные за зиму 2020 и осень-зиму 2018. Если смотреть в разрезе чисто по 2019 году, самы прибыльный сезон - весна. \n",
    "Далее мы распределили заказы по категориям на 6 штук:\n",
    "1. Растения\n",
    "2. Хозтовары\n",
    "3. Посуда\n",
    "4. Сумки\n",
    "5. Интерьер \n",
    "6. Техника.\n",
    "\n",
    "По категориям так же проверили информацию по выручке - больше всего денег принесла категория Хозтовары, меньше всего - техника. "
   ]
  },
  {
   "cell_type": "markdown",
   "id": "20d88709",
   "metadata": {},
   "source": [
    "### Сегментация покупателей на основе истории их покупок"
   ]
  },
  {
   "cell_type": "markdown",
   "id": "36aea98d",
   "metadata": {},
   "source": [
    "Воспользуюсь для выявления сегментов схемой RFM, с небольшими добавками от себя. Добавлю так же разнообразие покупателей в приобретаемых категориях. "
   ]
  },
  {
   "cell_type": "code",
   "execution_count": 67,
   "id": "d4e22733",
   "metadata": {},
   "outputs": [
    {
     "data": {
      "text/html": [
       "<div>\n",
       "<style scoped>\n",
       "    .dataframe tbody tr th:only-of-type {\n",
       "        vertical-align: middle;\n",
       "    }\n",
       "\n",
       "    .dataframe tbody tr th {\n",
       "        vertical-align: top;\n",
       "    }\n",
       "\n",
       "    .dataframe thead th {\n",
       "        text-align: right;\n",
       "    }\n",
       "</style>\n",
       "<table border=\"1\" class=\"dataframe\">\n",
       "  <thead>\n",
       "    <tr style=\"text-align: right;\">\n",
       "      <th></th>\n",
       "      <th>date</th>\n",
       "      <th>customer_id</th>\n",
       "      <th>order_id</th>\n",
       "      <th>product</th>\n",
       "      <th>quantity</th>\n",
       "      <th>price</th>\n",
       "      <th>sales</th>\n",
       "      <th>month</th>\n",
       "      <th>year</th>\n",
       "      <th>date_day</th>\n",
       "      <th>season</th>\n",
       "      <th>product_reduction</th>\n",
       "      <th>category</th>\n",
       "    </tr>\n",
       "  </thead>\n",
       "  <tbody>\n",
       "    <tr>\n",
       "      <th>0</th>\n",
       "      <td>2018-10-01 00:00:00</td>\n",
       "      <td>ee47d746-6d2f-4d3c-9622-c31412542920</td>\n",
       "      <td>68477</td>\n",
       "      <td>комнатное растение в горшке алое вера, d12, h30</td>\n",
       "      <td>1</td>\n",
       "      <td>142.0</td>\n",
       "      <td>142.0</td>\n",
       "      <td>10</td>\n",
       "      <td>2018</td>\n",
       "      <td>2018-10-01</td>\n",
       "      <td>осень</td>\n",
       "      <td>комнатное растение</td>\n",
       "      <td>растения</td>\n",
       "    </tr>\n",
       "    <tr>\n",
       "      <th>1</th>\n",
       "      <td>2018-10-01 00:00:00</td>\n",
       "      <td>ee47d746-6d2f-4d3c-9622-c31412542920</td>\n",
       "      <td>68477</td>\n",
       "      <td>комнатное растение в горшке кофе арабика, d12,...</td>\n",
       "      <td>1</td>\n",
       "      <td>194.0</td>\n",
       "      <td>194.0</td>\n",
       "      <td>10</td>\n",
       "      <td>2018</td>\n",
       "      <td>2018-10-01</td>\n",
       "      <td>осень</td>\n",
       "      <td>комнатное растение</td>\n",
       "      <td>растения</td>\n",
       "    </tr>\n",
       "    <tr>\n",
       "      <th>2</th>\n",
       "      <td>2018-10-01 00:00:00</td>\n",
       "      <td>ee47d746-6d2f-4d3c-9622-c31412542920</td>\n",
       "      <td>68477</td>\n",
       "      <td>радермахера d-12 см h-20 см</td>\n",
       "      <td>1</td>\n",
       "      <td>112.0</td>\n",
       "      <td>112.0</td>\n",
       "      <td>10</td>\n",
       "      <td>2018</td>\n",
       "      <td>2018-10-01</td>\n",
       "      <td>осень</td>\n",
       "      <td>радермахера d-12</td>\n",
       "      <td>растения</td>\n",
       "    </tr>\n",
       "    <tr>\n",
       "      <th>3</th>\n",
       "      <td>2018-10-01 00:00:00</td>\n",
       "      <td>ee47d746-6d2f-4d3c-9622-c31412542920</td>\n",
       "      <td>68477</td>\n",
       "      <td>хризолидокарпус лутесценс d-9 см</td>\n",
       "      <td>1</td>\n",
       "      <td>179.0</td>\n",
       "      <td>179.0</td>\n",
       "      <td>10</td>\n",
       "      <td>2018</td>\n",
       "      <td>2018-10-01</td>\n",
       "      <td>осень</td>\n",
       "      <td>хризолидокарпус лутесценс</td>\n",
       "      <td>растения</td>\n",
       "    </tr>\n",
       "    <tr>\n",
       "      <th>4</th>\n",
       "      <td>2018-10-01 00:00:00</td>\n",
       "      <td>ee47d746-6d2f-4d3c-9622-c31412542920</td>\n",
       "      <td>68477</td>\n",
       "      <td>циперус зумула d-12 см h-25 см</td>\n",
       "      <td>1</td>\n",
       "      <td>112.0</td>\n",
       "      <td>112.0</td>\n",
       "      <td>10</td>\n",
       "      <td>2018</td>\n",
       "      <td>2018-10-01</td>\n",
       "      <td>осень</td>\n",
       "      <td>циперус зумула</td>\n",
       "      <td>растения</td>\n",
       "    </tr>\n",
       "    <tr>\n",
       "      <th>...</th>\n",
       "      <td>...</td>\n",
       "      <td>...</td>\n",
       "      <td>...</td>\n",
       "      <td>...</td>\n",
       "      <td>...</td>\n",
       "      <td>...</td>\n",
       "      <td>...</td>\n",
       "      <td>...</td>\n",
       "      <td>...</td>\n",
       "      <td>...</td>\n",
       "      <td>...</td>\n",
       "      <td>...</td>\n",
       "      <td>...</td>\n",
       "    </tr>\n",
       "    <tr>\n",
       "      <th>7469</th>\n",
       "      <td>2020-01-30 21:00:00</td>\n",
       "      <td>63208953-a8e4-4f77-9b47-3a46e7b72eee</td>\n",
       "      <td>104002</td>\n",
       "      <td>томата (помидор) черниченский черри № 116 сорт...</td>\n",
       "      <td>2</td>\n",
       "      <td>38.0</td>\n",
       "      <td>76.0</td>\n",
       "      <td>1</td>\n",
       "      <td>2020</td>\n",
       "      <td>2020-01-30</td>\n",
       "      <td>зима</td>\n",
       "      <td>томата (помидор)</td>\n",
       "      <td>растения</td>\n",
       "    </tr>\n",
       "    <tr>\n",
       "      <th>7470</th>\n",
       "      <td>2020-01-30 22:00:00</td>\n",
       "      <td>d99d25f1-4017-4fcd-8d29-c580cc695a1a</td>\n",
       "      <td>107336</td>\n",
       "      <td>дендробиум санок анна грин 1 ствол d-12 см</td>\n",
       "      <td>1</td>\n",
       "      <td>869.0</td>\n",
       "      <td>869.0</td>\n",
       "      <td>1</td>\n",
       "      <td>2020</td>\n",
       "      <td>2020-01-30</td>\n",
       "      <td>зима</td>\n",
       "      <td>дендробиум санок</td>\n",
       "      <td>растения</td>\n",
       "    </tr>\n",
       "    <tr>\n",
       "      <th>7471</th>\n",
       "      <td>2020-01-31 02:00:00</td>\n",
       "      <td>2c9bd08d-8c55-4e7a-9bfb-8c56ba42c6d6</td>\n",
       "      <td>106336</td>\n",
       "      <td>подставка для обуви резиновая attribute 80x40 ...</td>\n",
       "      <td>1</td>\n",
       "      <td>354.0</td>\n",
       "      <td>354.0</td>\n",
       "      <td>1</td>\n",
       "      <td>2020</td>\n",
       "      <td>2020-01-31</td>\n",
       "      <td>зима</td>\n",
       "      <td>подставка для</td>\n",
       "      <td>интерьер</td>\n",
       "    </tr>\n",
       "    <tr>\n",
       "      <th>7472</th>\n",
       "      <td>2020-01-31 12:00:00</td>\n",
       "      <td>cdd17932-623e-415f-a577-3b31312fd0e2</td>\n",
       "      <td>102002</td>\n",
       "      <td>тагетис крупноцветковый рассада однолетних цве...</td>\n",
       "      <td>1</td>\n",
       "      <td>128.0</td>\n",
       "      <td>128.0</td>\n",
       "      <td>1</td>\n",
       "      <td>2020</td>\n",
       "      <td>2020-01-31</td>\n",
       "      <td>зима</td>\n",
       "      <td>тагетис крупноцветковый</td>\n",
       "      <td>растения</td>\n",
       "    </tr>\n",
       "    <tr>\n",
       "      <th>7473</th>\n",
       "      <td>2020-01-31 15:00:00</td>\n",
       "      <td>2e460a26-35af-453d-a369-a036e95a40e0</td>\n",
       "      <td>103225</td>\n",
       "      <td>вешалка для блузок 41 см красный attribute ahm781</td>\n",
       "      <td>1</td>\n",
       "      <td>104.0</td>\n",
       "      <td>104.0</td>\n",
       "      <td>1</td>\n",
       "      <td>2020</td>\n",
       "      <td>2020-01-31</td>\n",
       "      <td>зима</td>\n",
       "      <td>вешалка для</td>\n",
       "      <td>хозтовары</td>\n",
       "    </tr>\n",
       "  </tbody>\n",
       "</table>\n",
       "<p>5586 rows × 13 columns</p>\n",
       "</div>"
      ],
      "text/plain": [
       "                    date                           customer_id  order_id  \\\n",
       "0    2018-10-01 00:00:00  ee47d746-6d2f-4d3c-9622-c31412542920     68477   \n",
       "1    2018-10-01 00:00:00  ee47d746-6d2f-4d3c-9622-c31412542920     68477   \n",
       "2    2018-10-01 00:00:00  ee47d746-6d2f-4d3c-9622-c31412542920     68477   \n",
       "3    2018-10-01 00:00:00  ee47d746-6d2f-4d3c-9622-c31412542920     68477   \n",
       "4    2018-10-01 00:00:00  ee47d746-6d2f-4d3c-9622-c31412542920     68477   \n",
       "...                  ...                                   ...       ...   \n",
       "7469 2020-01-30 21:00:00  63208953-a8e4-4f77-9b47-3a46e7b72eee    104002   \n",
       "7470 2020-01-30 22:00:00  d99d25f1-4017-4fcd-8d29-c580cc695a1a    107336   \n",
       "7471 2020-01-31 02:00:00  2c9bd08d-8c55-4e7a-9bfb-8c56ba42c6d6    106336   \n",
       "7472 2020-01-31 12:00:00  cdd17932-623e-415f-a577-3b31312fd0e2    102002   \n",
       "7473 2020-01-31 15:00:00  2e460a26-35af-453d-a369-a036e95a40e0    103225   \n",
       "\n",
       "                                                product  quantity  price  \\\n",
       "0       комнатное растение в горшке алое вера, d12, h30         1  142.0   \n",
       "1     комнатное растение в горшке кофе арабика, d12,...         1  194.0   \n",
       "2                           радермахера d-12 см h-20 см         1  112.0   \n",
       "3                      хризолидокарпус лутесценс d-9 см         1  179.0   \n",
       "4                        циперус зумула d-12 см h-25 см         1  112.0   \n",
       "...                                                 ...       ...    ...   \n",
       "7469  томата (помидор) черниченский черри № 116 сорт...         2   38.0   \n",
       "7470         дендробиум санок анна грин 1 ствол d-12 см         1  869.0   \n",
       "7471  подставка для обуви резиновая attribute 80x40 ...         1  354.0   \n",
       "7472  тагетис крупноцветковый рассада однолетних цве...         1  128.0   \n",
       "7473  вешалка для блузок 41 см красный attribute ahm781         1  104.0   \n",
       "\n",
       "      sales  month  year    date_day season          product_reduction  \\\n",
       "0     142.0     10  2018  2018-10-01  осень         комнатное растение   \n",
       "1     194.0     10  2018  2018-10-01  осень         комнатное растение   \n",
       "2     112.0     10  2018  2018-10-01  осень           радермахера d-12   \n",
       "3     179.0     10  2018  2018-10-01  осень  хризолидокарпус лутесценс   \n",
       "4     112.0     10  2018  2018-10-01  осень             циперус зумула   \n",
       "...     ...    ...   ...         ...    ...                        ...   \n",
       "7469   76.0      1  2020  2020-01-30   зима           томата (помидор)   \n",
       "7470  869.0      1  2020  2020-01-30   зима           дендробиум санок   \n",
       "7471  354.0      1  2020  2020-01-31   зима              подставка для   \n",
       "7472  128.0      1  2020  2020-01-31   зима    тагетис крупноцветковый   \n",
       "7473  104.0      1  2020  2020-01-31   зима                вешалка для   \n",
       "\n",
       "       category  \n",
       "0      растения  \n",
       "1      растения  \n",
       "2      растения  \n",
       "3      растения  \n",
       "4      растения  \n",
       "...         ...  \n",
       "7469   растения  \n",
       "7470   растения  \n",
       "7471   интерьер  \n",
       "7472   растения  \n",
       "7473  хозтовары  \n",
       "\n",
       "[5586 rows x 13 columns]"
      ]
     },
     "execution_count": 67,
     "metadata": {},
     "output_type": "execute_result"
    }
   ],
   "source": [
    "df"
   ]
  },
  {
   "cell_type": "code",
   "execution_count": 68,
   "id": "6475c409",
   "metadata": {},
   "outputs": [
    {
     "data": {
      "text/plain": [
       "(5586, 5)"
      ]
     },
     "execution_count": 68,
     "metadata": {},
     "output_type": "execute_result"
    }
   ],
   "source": [
    "temp3=['customer_id', 'order_id', 'date_day', 'sales', 'category']\n",
    "RFM_df=df[temp3]\n",
    "RFM_df.shape"
   ]
  },
  {
   "cell_type": "code",
   "execution_count": 69,
   "id": "316b1d36",
   "metadata": {},
   "outputs": [
    {
     "data": {
      "text/html": [
       "<div>\n",
       "<style scoped>\n",
       "    .dataframe tbody tr th:only-of-type {\n",
       "        vertical-align: middle;\n",
       "    }\n",
       "\n",
       "    .dataframe tbody tr th {\n",
       "        vertical-align: top;\n",
       "    }\n",
       "\n",
       "    .dataframe thead th {\n",
       "        text-align: right;\n",
       "    }\n",
       "</style>\n",
       "<table border=\"1\" class=\"dataframe\">\n",
       "  <thead>\n",
       "    <tr style=\"text-align: right;\">\n",
       "      <th></th>\n",
       "      <th>customer_id</th>\n",
       "      <th>order_id</th>\n",
       "      <th>date_day</th>\n",
       "      <th>sales</th>\n",
       "      <th>category</th>\n",
       "    </tr>\n",
       "  </thead>\n",
       "  <tbody>\n",
       "    <tr>\n",
       "      <th>0</th>\n",
       "      <td>ee47d746-6d2f-4d3c-9622-c31412542920</td>\n",
       "      <td>68477</td>\n",
       "      <td>2018-10-01</td>\n",
       "      <td>142.0</td>\n",
       "      <td>растения</td>\n",
       "    </tr>\n",
       "    <tr>\n",
       "      <th>1</th>\n",
       "      <td>ee47d746-6d2f-4d3c-9622-c31412542920</td>\n",
       "      <td>68477</td>\n",
       "      <td>2018-10-01</td>\n",
       "      <td>194.0</td>\n",
       "      <td>растения</td>\n",
       "    </tr>\n",
       "    <tr>\n",
       "      <th>2</th>\n",
       "      <td>ee47d746-6d2f-4d3c-9622-c31412542920</td>\n",
       "      <td>68477</td>\n",
       "      <td>2018-10-01</td>\n",
       "      <td>112.0</td>\n",
       "      <td>растения</td>\n",
       "    </tr>\n",
       "    <tr>\n",
       "      <th>3</th>\n",
       "      <td>ee47d746-6d2f-4d3c-9622-c31412542920</td>\n",
       "      <td>68477</td>\n",
       "      <td>2018-10-01</td>\n",
       "      <td>179.0</td>\n",
       "      <td>растения</td>\n",
       "    </tr>\n",
       "    <tr>\n",
       "      <th>4</th>\n",
       "      <td>ee47d746-6d2f-4d3c-9622-c31412542920</td>\n",
       "      <td>68477</td>\n",
       "      <td>2018-10-01</td>\n",
       "      <td>112.0</td>\n",
       "      <td>растения</td>\n",
       "    </tr>\n",
       "    <tr>\n",
       "      <th>...</th>\n",
       "      <td>...</td>\n",
       "      <td>...</td>\n",
       "      <td>...</td>\n",
       "      <td>...</td>\n",
       "      <td>...</td>\n",
       "    </tr>\n",
       "    <tr>\n",
       "      <th>7469</th>\n",
       "      <td>63208953-a8e4-4f77-9b47-3a46e7b72eee</td>\n",
       "      <td>104002</td>\n",
       "      <td>2020-01-30</td>\n",
       "      <td>76.0</td>\n",
       "      <td>растения</td>\n",
       "    </tr>\n",
       "    <tr>\n",
       "      <th>7470</th>\n",
       "      <td>d99d25f1-4017-4fcd-8d29-c580cc695a1a</td>\n",
       "      <td>107336</td>\n",
       "      <td>2020-01-30</td>\n",
       "      <td>869.0</td>\n",
       "      <td>растения</td>\n",
       "    </tr>\n",
       "    <tr>\n",
       "      <th>7471</th>\n",
       "      <td>2c9bd08d-8c55-4e7a-9bfb-8c56ba42c6d6</td>\n",
       "      <td>106336</td>\n",
       "      <td>2020-01-31</td>\n",
       "      <td>354.0</td>\n",
       "      <td>интерьер</td>\n",
       "    </tr>\n",
       "    <tr>\n",
       "      <th>7472</th>\n",
       "      <td>cdd17932-623e-415f-a577-3b31312fd0e2</td>\n",
       "      <td>102002</td>\n",
       "      <td>2020-01-31</td>\n",
       "      <td>128.0</td>\n",
       "      <td>растения</td>\n",
       "    </tr>\n",
       "    <tr>\n",
       "      <th>7473</th>\n",
       "      <td>2e460a26-35af-453d-a369-a036e95a40e0</td>\n",
       "      <td>103225</td>\n",
       "      <td>2020-01-31</td>\n",
       "      <td>104.0</td>\n",
       "      <td>хозтовары</td>\n",
       "    </tr>\n",
       "  </tbody>\n",
       "</table>\n",
       "<p>5586 rows × 5 columns</p>\n",
       "</div>"
      ],
      "text/plain": [
       "                               customer_id  order_id    date_day  sales  \\\n",
       "0     ee47d746-6d2f-4d3c-9622-c31412542920     68477  2018-10-01  142.0   \n",
       "1     ee47d746-6d2f-4d3c-9622-c31412542920     68477  2018-10-01  194.0   \n",
       "2     ee47d746-6d2f-4d3c-9622-c31412542920     68477  2018-10-01  112.0   \n",
       "3     ee47d746-6d2f-4d3c-9622-c31412542920     68477  2018-10-01  179.0   \n",
       "4     ee47d746-6d2f-4d3c-9622-c31412542920     68477  2018-10-01  112.0   \n",
       "...                                    ...       ...         ...    ...   \n",
       "7469  63208953-a8e4-4f77-9b47-3a46e7b72eee    104002  2020-01-30   76.0   \n",
       "7470  d99d25f1-4017-4fcd-8d29-c580cc695a1a    107336  2020-01-30  869.0   \n",
       "7471  2c9bd08d-8c55-4e7a-9bfb-8c56ba42c6d6    106336  2020-01-31  354.0   \n",
       "7472  cdd17932-623e-415f-a577-3b31312fd0e2    102002  2020-01-31  128.0   \n",
       "7473  2e460a26-35af-453d-a369-a036e95a40e0    103225  2020-01-31  104.0   \n",
       "\n",
       "       category  \n",
       "0      растения  \n",
       "1      растения  \n",
       "2      растения  \n",
       "3      растения  \n",
       "4      растения  \n",
       "...         ...  \n",
       "7469   растения  \n",
       "7470   растения  \n",
       "7471   интерьер  \n",
       "7472   растения  \n",
       "7473  хозтовары  \n",
       "\n",
       "[5586 rows x 5 columns]"
      ]
     },
     "execution_count": 69,
     "metadata": {},
     "output_type": "execute_result"
    }
   ],
   "source": [
    "RFM_df"
   ]
  },
  {
   "cell_type": "code",
   "execution_count": 70,
   "id": "fd02b251",
   "metadata": {},
   "outputs": [
    {
     "data": {
      "text/html": [
       "<div>\n",
       "<style scoped>\n",
       "    .dataframe tbody tr th:only-of-type {\n",
       "        vertical-align: middle;\n",
       "    }\n",
       "\n",
       "    .dataframe tbody tr th {\n",
       "        vertical-align: top;\n",
       "    }\n",
       "\n",
       "    .dataframe thead th {\n",
       "        text-align: right;\n",
       "    }\n",
       "</style>\n",
       "<table border=\"1\" class=\"dataframe\">\n",
       "  <thead>\n",
       "    <tr style=\"text-align: right;\">\n",
       "      <th></th>\n",
       "      <th>recency</th>\n",
       "      <th>frequency</th>\n",
       "      <th>monetary_value</th>\n",
       "      <th>category</th>\n",
       "    </tr>\n",
       "    <tr>\n",
       "      <th>customer_id</th>\n",
       "      <th></th>\n",
       "      <th></th>\n",
       "      <th></th>\n",
       "      <th></th>\n",
       "    </tr>\n",
       "  </thead>\n",
       "  <tbody>\n",
       "    <tr>\n",
       "      <th>000d6849-084e-4d9f-ac03-37174eaf60c4</th>\n",
       "      <td>107</td>\n",
       "      <td>1</td>\n",
       "      <td>555.0</td>\n",
       "      <td>1</td>\n",
       "    </tr>\n",
       "    <tr>\n",
       "      <th>001cee7f-0b29-4716-b202-0042213ab038</th>\n",
       "      <td>349</td>\n",
       "      <td>1</td>\n",
       "      <td>442.0</td>\n",
       "      <td>1</td>\n",
       "    </tr>\n",
       "    <tr>\n",
       "      <th>00299f34-5385-4d13-9aea-c80b81658e1b</th>\n",
       "      <td>109</td>\n",
       "      <td>1</td>\n",
       "      <td>914.0</td>\n",
       "      <td>1</td>\n",
       "    </tr>\n",
       "    <tr>\n",
       "      <th>002d4d3a-4a59-406b-86ec-c3314357e498</th>\n",
       "      <td>369</td>\n",
       "      <td>1</td>\n",
       "      <td>1649.0</td>\n",
       "      <td>1</td>\n",
       "    </tr>\n",
       "    <tr>\n",
       "      <th>003bbd39-0000-41ff-b7f9-2ddaec152037</th>\n",
       "      <td>124</td>\n",
       "      <td>1</td>\n",
       "      <td>2324.0</td>\n",
       "      <td>1</td>\n",
       "    </tr>\n",
       "  </tbody>\n",
       "</table>\n",
       "</div>"
      ],
      "text/plain": [
       "                                      recency  frequency  monetary_value  \\\n",
       "customer_id                                                                \n",
       "000d6849-084e-4d9f-ac03-37174eaf60c4      107          1           555.0   \n",
       "001cee7f-0b29-4716-b202-0042213ab038      349          1           442.0   \n",
       "00299f34-5385-4d13-9aea-c80b81658e1b      109          1           914.0   \n",
       "002d4d3a-4a59-406b-86ec-c3314357e498      369          1          1649.0   \n",
       "003bbd39-0000-41ff-b7f9-2ddaec152037      124          1          2324.0   \n",
       "\n",
       "                                      category  \n",
       "customer_id                                     \n",
       "000d6849-084e-4d9f-ac03-37174eaf60c4         1  \n",
       "001cee7f-0b29-4716-b202-0042213ab038         1  \n",
       "00299f34-5385-4d13-9aea-c80b81658e1b         1  \n",
       "002d4d3a-4a59-406b-86ec-c3314357e498         1  \n",
       "003bbd39-0000-41ff-b7f9-2ddaec152037         1  "
      ]
     },
     "execution_count": 70,
     "metadata": {},
     "output_type": "execute_result"
    }
   ],
   "source": [
    "NOW = dt.datetime(2020,1,31)\n",
    "RFM_df['date_day'] = pd.to_datetime(RFM_df['date_day'])\n",
    "RFM_table=RFM_df.groupby('customer_id').agg({'date_day': lambda x: (NOW - x.max()).days, # Recency\n",
    "                                                'order_id': lambda x: len(x.unique()), # Frequency\n",
    "                                                'sales': lambda x: x.sum(), # Monetary\n",
    "                                                'category': lambda x: len(x.unique())}) #Category     \n",
    "\n",
    "\n",
    "\n",
    "RFM_table.rename(columns={'date_day': 'recency', \n",
    "                         'order_id': 'frequency',\n",
    "                         'sales': 'monetary_value'}, inplace=True)\n",
    "RFM_table.head()"
   ]
  },
  {
   "cell_type": "code",
   "execution_count": 71,
   "id": "fe885522",
   "metadata": {},
   "outputs": [
    {
     "data": {
      "text/html": [
       "<div>\n",
       "<style scoped>\n",
       "    .dataframe tbody tr th:only-of-type {\n",
       "        vertical-align: middle;\n",
       "    }\n",
       "\n",
       "    .dataframe tbody tr th {\n",
       "        vertical-align: top;\n",
       "    }\n",
       "\n",
       "    .dataframe thead th {\n",
       "        text-align: right;\n",
       "    }\n",
       "</style>\n",
       "<table border=\"1\" class=\"dataframe\">\n",
       "  <thead>\n",
       "    <tr style=\"text-align: right;\">\n",
       "      <th></th>\n",
       "      <th>recency</th>\n",
       "      <th>frequency</th>\n",
       "      <th>monetary_value</th>\n",
       "      <th>category</th>\n",
       "    </tr>\n",
       "  </thead>\n",
       "  <tbody>\n",
       "    <tr>\n",
       "      <th>0.25</th>\n",
       "      <td>74.0</td>\n",
       "      <td>1.0</td>\n",
       "      <td>389.0</td>\n",
       "      <td>1.0</td>\n",
       "    </tr>\n",
       "    <tr>\n",
       "      <th>0.50</th>\n",
       "      <td>210.0</td>\n",
       "      <td>1.0</td>\n",
       "      <td>838.5</td>\n",
       "      <td>1.0</td>\n",
       "    </tr>\n",
       "    <tr>\n",
       "      <th>0.75</th>\n",
       "      <td>344.0</td>\n",
       "      <td>2.0</td>\n",
       "      <td>1798.0</td>\n",
       "      <td>2.0</td>\n",
       "    </tr>\n",
       "  </tbody>\n",
       "</table>\n",
       "</div>"
      ],
      "text/plain": [
       "      recency  frequency  monetary_value  category\n",
       "0.25     74.0        1.0           389.0       1.0\n",
       "0.50    210.0        1.0           838.5       1.0\n",
       "0.75    344.0        2.0          1798.0       2.0"
      ]
     },
     "execution_count": 71,
     "metadata": {},
     "output_type": "execute_result"
    }
   ],
   "source": [
    "quantiles = RFM_table.quantile(q=[0.25,0.5,0.75])\n",
    "quantiles"
   ]
  },
  {
   "cell_type": "code",
   "execution_count": 72,
   "id": "53463653",
   "metadata": {},
   "outputs": [],
   "source": [
    "quantiles = quantiles.to_dict()\n",
    "\n",
    "RFM_Segment = RFM_table.copy()\n",
    "\n",
    "def R_Class(x,p,d):\n",
    "    if x <= d[p][0.25]:\n",
    "        return 4\n",
    "    elif x <= d[p][0.50]:\n",
    "        return 3\n",
    "    elif x <= d[p][0.75]: \n",
    "        return 2\n",
    "    else:\n",
    "        return 1\n",
    "    \n",
    "# Arguments (x = value, p = recency, monetary_value, frequency, k = quartiles dict)\n",
    "def FM_Class(x,p,d):\n",
    "    if x <= d[p][0.25]:\n",
    "        return 1\n",
    "    elif x <= d[p][0.50]:\n",
    "        return 2\n",
    "    elif x <= d[p][0.75]: \n",
    "        return 3\n",
    "    else:\n",
    "        return 4\n",
    "RFM_Segment['R_Quartile'] = RFM_Segment['recency'].apply(R_Class, args=('recency',quantiles,))\n",
    "RFM_Segment['F_Quartile'] = RFM_Segment['frequency'].apply(FM_Class, args=('frequency',quantiles,))\n",
    "RFM_Segment['M_Quartile'] = RFM_Segment['monetary_value'].apply(FM_Class, args=('monetary_value',quantiles,))\n",
    "RFM_Segment['C_Quartile'] = RFM_Segment['category'].apply(FM_Class, args=('category', quantiles,))\n",
    "RFM_Segment['RFMClass'] = RFM_Segment.R_Quartile.map(str) \\\n",
    "                            + RFM_Segment.F_Quartile.map(str) \\\n",
    "                            + RFM_Segment.M_Quartile.map(str) \\\n",
    "                            + RFM_Segment.C_Quartile.map(str)"
   ]
  },
  {
   "cell_type": "code",
   "execution_count": 73,
   "id": "914a84cc",
   "metadata": {},
   "outputs": [],
   "source": [
    "RFM_Segment = RFM_Segment.reset_index()"
   ]
  },
  {
   "cell_type": "code",
   "execution_count": 74,
   "id": "96d927d3",
   "metadata": {},
   "outputs": [
    {
     "data": {
      "text/plain": [
       "array(['3121', '1121', '3131', '1131', '3141', '3343', '4311', '4333',\n",
       "       '4313', '2441', '4343', '2121', '1141', '2111', '3111', '2341',\n",
       "       '1341', '4341', '3331', '2141', '3333', '4323', '3323', '2131',\n",
       "       '1111', '2331', '3341', '2311', '1133', '4321', '4331', '1343',\n",
       "       '3411', '3431', '3313', '1113', '2343', '1143', '2321', '3133',\n",
       "       '2143', '1321', '3321', '3311', '2133', '1331', '1324', '2421',\n",
       "       '2123', '2431', '2443', '1144', '1444', '1441', '1421', '1431',\n",
       "       '1443', '3443', '3421', '1323', '1134', '1311', '3444', '2423',\n",
       "       '2323', '2333', '4111', '1123', '2444', '3441', '1313', '1124',\n",
       "       '2144', '2434'], dtype=object)"
      ]
     },
     "execution_count": 74,
     "metadata": {},
     "output_type": "execute_result"
    }
   ],
   "source": [
    "RFM_Segment['RFMClass'].unique()"
   ]
  },
  {
   "cell_type": "code",
   "execution_count": 75,
   "id": "e800bee1",
   "metadata": {},
   "outputs": [],
   "source": [
    "best_more_category = RFM_Segment[(RFM_Segment['R_Quartile'] == 4) & (RFM_Segment['F_Quartile'] >= 3) &(RFM_Segment['M_Quartile'] == 4) & (RFM_Segment['C_Quartile'] >= 3)].sort_values('monetary_value', ascending=False)\n",
    "bms = best_more_category['customer_id'].tolist()"
   ]
  },
  {
   "cell_type": "code",
   "execution_count": 76,
   "id": "9c5f8f1f",
   "metadata": {},
   "outputs": [
    {
     "data": {
      "text/html": [
       "<div>\n",
       "<style scoped>\n",
       "    .dataframe tbody tr th:only-of-type {\n",
       "        vertical-align: middle;\n",
       "    }\n",
       "\n",
       "    .dataframe tbody tr th {\n",
       "        vertical-align: top;\n",
       "    }\n",
       "\n",
       "    .dataframe thead th {\n",
       "        text-align: right;\n",
       "    }\n",
       "</style>\n",
       "<table border=\"1\" class=\"dataframe\">\n",
       "  <thead>\n",
       "    <tr style=\"text-align: right;\">\n",
       "      <th></th>\n",
       "      <th>customer_id</th>\n",
       "      <th>recency</th>\n",
       "      <th>frequency</th>\n",
       "      <th>monetary_value</th>\n",
       "      <th>category</th>\n",
       "      <th>R_Quartile</th>\n",
       "      <th>F_Quartile</th>\n",
       "      <th>M_Quartile</th>\n",
       "      <th>C_Quartile</th>\n",
       "      <th>RFMClass</th>\n",
       "    </tr>\n",
       "  </thead>\n",
       "  <tbody>\n",
       "    <tr>\n",
       "      <th>2318</th>\n",
       "      <td>f279d50f-a508-40b4-bde5-5cb4a1be3ad0</td>\n",
       "      <td>31</td>\n",
       "      <td>2</td>\n",
       "      <td>16557.0</td>\n",
       "      <td>2</td>\n",
       "      <td>4</td>\n",
       "      <td>3</td>\n",
       "      <td>4</td>\n",
       "      <td>3</td>\n",
       "      <td>4343</td>\n",
       "    </tr>\n",
       "    <tr>\n",
       "      <th>1621</th>\n",
       "      <td>ad66d870-22f5-43bc-958f-73420822586b</td>\n",
       "      <td>68</td>\n",
       "      <td>2</td>\n",
       "      <td>13731.0</td>\n",
       "      <td>2</td>\n",
       "      <td>4</td>\n",
       "      <td>3</td>\n",
       "      <td>4</td>\n",
       "      <td>3</td>\n",
       "      <td>4343</td>\n",
       "    </tr>\n",
       "    <tr>\n",
       "      <th>1749</th>\n",
       "      <td>b7dffbd3-810c-4125-889a-454ee093eb73</td>\n",
       "      <td>8</td>\n",
       "      <td>2</td>\n",
       "      <td>10168.0</td>\n",
       "      <td>2</td>\n",
       "      <td>4</td>\n",
       "      <td>3</td>\n",
       "      <td>4</td>\n",
       "      <td>3</td>\n",
       "      <td>4343</td>\n",
       "    </tr>\n",
       "    <tr>\n",
       "      <th>1611</th>\n",
       "      <td>ac250053-a236-467a-97d2-ddbb9bf4a1ba</td>\n",
       "      <td>50</td>\n",
       "      <td>2</td>\n",
       "      <td>8684.0</td>\n",
       "      <td>2</td>\n",
       "      <td>4</td>\n",
       "      <td>3</td>\n",
       "      <td>4</td>\n",
       "      <td>3</td>\n",
       "      <td>4343</td>\n",
       "    </tr>\n",
       "    <tr>\n",
       "      <th>1672</th>\n",
       "      <td>b16a52b7-499b-4be8-9220-19076ed22bc9</td>\n",
       "      <td>44</td>\n",
       "      <td>2</td>\n",
       "      <td>8307.0</td>\n",
       "      <td>2</td>\n",
       "      <td>4</td>\n",
       "      <td>3</td>\n",
       "      <td>4</td>\n",
       "      <td>3</td>\n",
       "      <td>4343</td>\n",
       "    </tr>\n",
       "    <tr>\n",
       "      <th>...</th>\n",
       "      <td>...</td>\n",
       "      <td>...</td>\n",
       "      <td>...</td>\n",
       "      <td>...</td>\n",
       "      <td>...</td>\n",
       "      <td>...</td>\n",
       "      <td>...</td>\n",
       "      <td>...</td>\n",
       "      <td>...</td>\n",
       "      <td>...</td>\n",
       "    </tr>\n",
       "    <tr>\n",
       "      <th>923</th>\n",
       "      <td>61d1d23e-085c-4725-9234-e7fc80b6adfb</td>\n",
       "      <td>15</td>\n",
       "      <td>2</td>\n",
       "      <td>1837.0</td>\n",
       "      <td>2</td>\n",
       "      <td>4</td>\n",
       "      <td>3</td>\n",
       "      <td>4</td>\n",
       "      <td>3</td>\n",
       "      <td>4343</td>\n",
       "    </tr>\n",
       "    <tr>\n",
       "      <th>2368</th>\n",
       "      <td>f6f64601-5375-4ada-ab77-2ff0acdebbff</td>\n",
       "      <td>19</td>\n",
       "      <td>2</td>\n",
       "      <td>1836.0</td>\n",
       "      <td>2</td>\n",
       "      <td>4</td>\n",
       "      <td>3</td>\n",
       "      <td>4</td>\n",
       "      <td>3</td>\n",
       "      <td>4343</td>\n",
       "    </tr>\n",
       "    <tr>\n",
       "      <th>2257</th>\n",
       "      <td>ed2ac5b5-7851-4c5e-8ca7-91b87063f8be</td>\n",
       "      <td>49</td>\n",
       "      <td>2</td>\n",
       "      <td>1828.0</td>\n",
       "      <td>2</td>\n",
       "      <td>4</td>\n",
       "      <td>3</td>\n",
       "      <td>4</td>\n",
       "      <td>3</td>\n",
       "      <td>4343</td>\n",
       "    </tr>\n",
       "    <tr>\n",
       "      <th>1364</th>\n",
       "      <td>904015ba-31f2-4ce4-b68e-02362280a43d</td>\n",
       "      <td>2</td>\n",
       "      <td>2</td>\n",
       "      <td>1821.0</td>\n",
       "      <td>2</td>\n",
       "      <td>4</td>\n",
       "      <td>3</td>\n",
       "      <td>4</td>\n",
       "      <td>3</td>\n",
       "      <td>4343</td>\n",
       "    </tr>\n",
       "    <tr>\n",
       "      <th>2117</th>\n",
       "      <td>dd83d927-ca87-4c0e-b20e-25c94579b144</td>\n",
       "      <td>70</td>\n",
       "      <td>2</td>\n",
       "      <td>1799.0</td>\n",
       "      <td>2</td>\n",
       "      <td>4</td>\n",
       "      <td>3</td>\n",
       "      <td>4</td>\n",
       "      <td>3</td>\n",
       "      <td>4343</td>\n",
       "    </tr>\n",
       "  </tbody>\n",
       "</table>\n",
       "<p>160 rows × 10 columns</p>\n",
       "</div>"
      ],
      "text/plain": [
       "                               customer_id  recency  frequency  \\\n",
       "2318  f279d50f-a508-40b4-bde5-5cb4a1be3ad0       31          2   \n",
       "1621  ad66d870-22f5-43bc-958f-73420822586b       68          2   \n",
       "1749  b7dffbd3-810c-4125-889a-454ee093eb73        8          2   \n",
       "1611  ac250053-a236-467a-97d2-ddbb9bf4a1ba       50          2   \n",
       "1672  b16a52b7-499b-4be8-9220-19076ed22bc9       44          2   \n",
       "...                                    ...      ...        ...   \n",
       "923   61d1d23e-085c-4725-9234-e7fc80b6adfb       15          2   \n",
       "2368  f6f64601-5375-4ada-ab77-2ff0acdebbff       19          2   \n",
       "2257  ed2ac5b5-7851-4c5e-8ca7-91b87063f8be       49          2   \n",
       "1364  904015ba-31f2-4ce4-b68e-02362280a43d        2          2   \n",
       "2117  dd83d927-ca87-4c0e-b20e-25c94579b144       70          2   \n",
       "\n",
       "      monetary_value  category  R_Quartile  F_Quartile  M_Quartile  \\\n",
       "2318         16557.0         2           4           3           4   \n",
       "1621         13731.0         2           4           3           4   \n",
       "1749         10168.0         2           4           3           4   \n",
       "1611          8684.0         2           4           3           4   \n",
       "1672          8307.0         2           4           3           4   \n",
       "...              ...       ...         ...         ...         ...   \n",
       "923           1837.0         2           4           3           4   \n",
       "2368          1836.0         2           4           3           4   \n",
       "2257          1828.0         2           4           3           4   \n",
       "1364          1821.0         2           4           3           4   \n",
       "2117          1799.0         2           4           3           4   \n",
       "\n",
       "      C_Quartile RFMClass  \n",
       "2318           3     4343  \n",
       "1621           3     4343  \n",
       "1749           3     4343  \n",
       "1611           3     4343  \n",
       "1672           3     4343  \n",
       "...          ...      ...  \n",
       "923            3     4343  \n",
       "2368           3     4343  \n",
       "2257           3     4343  \n",
       "1364           3     4343  \n",
       "2117           3     4343  \n",
       "\n",
       "[160 rows x 10 columns]"
      ]
     },
     "execution_count": 76,
     "metadata": {},
     "output_type": "execute_result"
    }
   ],
   "source": [
    "best_more_category"
   ]
  },
  {
   "cell_type": "markdown",
   "id": "2c8cbd0b",
   "metadata": {},
   "source": [
    "Первый сегмент, лучшие клиенты с разнообразными категориями"
   ]
  },
  {
   "cell_type": "code",
   "execution_count": 77,
   "id": "afb44a68",
   "metadata": {},
   "outputs": [],
   "source": [
    "best_less_category = RFM_Segment[(RFM_Segment['R_Quartile'] == 4) & (RFM_Segment['F_Quartile'] >= 3) &(RFM_Segment['M_Quartile'] == 4) & (RFM_Segment['C_Quartile'] < 3)].sort_values('monetary_value', ascending=False)\n",
    "bls = best_less_category['customer_id'].tolist()"
   ]
  },
  {
   "cell_type": "code",
   "execution_count": 78,
   "id": "f4bea56d",
   "metadata": {},
   "outputs": [
    {
     "data": {
      "text/html": [
       "<div>\n",
       "<style scoped>\n",
       "    .dataframe tbody tr th:only-of-type {\n",
       "        vertical-align: middle;\n",
       "    }\n",
       "\n",
       "    .dataframe tbody tr th {\n",
       "        vertical-align: top;\n",
       "    }\n",
       "\n",
       "    .dataframe thead th {\n",
       "        text-align: right;\n",
       "    }\n",
       "</style>\n",
       "<table border=\"1\" class=\"dataframe\">\n",
       "  <thead>\n",
       "    <tr style=\"text-align: right;\">\n",
       "      <th></th>\n",
       "      <th>customer_id</th>\n",
       "      <th>recency</th>\n",
       "      <th>frequency</th>\n",
       "      <th>monetary_value</th>\n",
       "      <th>category</th>\n",
       "      <th>R_Quartile</th>\n",
       "      <th>F_Quartile</th>\n",
       "      <th>M_Quartile</th>\n",
       "      <th>C_Quartile</th>\n",
       "      <th>RFMClass</th>\n",
       "    </tr>\n",
       "  </thead>\n",
       "  <tbody>\n",
       "    <tr>\n",
       "      <th>1426</th>\n",
       "      <td>9704352f-7f7f-4fa7-aa1c-64296156a722</td>\n",
       "      <td>36</td>\n",
       "      <td>2</td>\n",
       "      <td>8249.0</td>\n",
       "      <td>1</td>\n",
       "      <td>4</td>\n",
       "      <td>3</td>\n",
       "      <td>4</td>\n",
       "      <td>1</td>\n",
       "      <td>4341</td>\n",
       "    </tr>\n",
       "    <tr>\n",
       "      <th>2095</th>\n",
       "      <td>db6caedb-e231-4adc-bcd0-e45b8992f3da</td>\n",
       "      <td>23</td>\n",
       "      <td>2</td>\n",
       "      <td>8203.0</td>\n",
       "      <td>1</td>\n",
       "      <td>4</td>\n",
       "      <td>3</td>\n",
       "      <td>4</td>\n",
       "      <td>1</td>\n",
       "      <td>4341</td>\n",
       "    </tr>\n",
       "    <tr>\n",
       "      <th>303</th>\n",
       "      <td>1f502315-d58f-401c-8ba2-88b16e53d0b3</td>\n",
       "      <td>7</td>\n",
       "      <td>2</td>\n",
       "      <td>7993.0</td>\n",
       "      <td>1</td>\n",
       "      <td>4</td>\n",
       "      <td>3</td>\n",
       "      <td>4</td>\n",
       "      <td>1</td>\n",
       "      <td>4341</td>\n",
       "    </tr>\n",
       "    <tr>\n",
       "      <th>1257</th>\n",
       "      <td>85716494-dd51-4d1d-ab28-8c74b87f14dc</td>\n",
       "      <td>23</td>\n",
       "      <td>2</td>\n",
       "      <td>7902.0</td>\n",
       "      <td>1</td>\n",
       "      <td>4</td>\n",
       "      <td>3</td>\n",
       "      <td>4</td>\n",
       "      <td>1</td>\n",
       "      <td>4341</td>\n",
       "    </tr>\n",
       "    <tr>\n",
       "      <th>835</th>\n",
       "      <td>5853eef2-4e02-4597-a69c-b4e274dce7ae</td>\n",
       "      <td>34</td>\n",
       "      <td>2</td>\n",
       "      <td>7798.0</td>\n",
       "      <td>1</td>\n",
       "      <td>4</td>\n",
       "      <td>3</td>\n",
       "      <td>4</td>\n",
       "      <td>1</td>\n",
       "      <td>4341</td>\n",
       "    </tr>\n",
       "    <tr>\n",
       "      <th>505</th>\n",
       "      <td>350505d8-40bf-4405-a296-ca6cfc6869c0</td>\n",
       "      <td>9</td>\n",
       "      <td>2</td>\n",
       "      <td>6336.0</td>\n",
       "      <td>1</td>\n",
       "      <td>4</td>\n",
       "      <td>3</td>\n",
       "      <td>4</td>\n",
       "      <td>1</td>\n",
       "      <td>4341</td>\n",
       "    </tr>\n",
       "    <tr>\n",
       "      <th>2354</th>\n",
       "      <td>f5a5bf01-7180-4b07-bda7-13d34d879f45</td>\n",
       "      <td>62</td>\n",
       "      <td>2</td>\n",
       "      <td>6298.0</td>\n",
       "      <td>1</td>\n",
       "      <td>4</td>\n",
       "      <td>3</td>\n",
       "      <td>4</td>\n",
       "      <td>1</td>\n",
       "      <td>4341</td>\n",
       "    </tr>\n",
       "    <tr>\n",
       "      <th>1372</th>\n",
       "      <td>91aac803-c8fc-44fd-a1d7-494e16e2ac2d</td>\n",
       "      <td>24</td>\n",
       "      <td>2</td>\n",
       "      <td>5871.0</td>\n",
       "      <td>1</td>\n",
       "      <td>4</td>\n",
       "      <td>3</td>\n",
       "      <td>4</td>\n",
       "      <td>1</td>\n",
       "      <td>4341</td>\n",
       "    </tr>\n",
       "    <tr>\n",
       "      <th>220</th>\n",
       "      <td>16e422c6-94fe-4ccf-9c97-05493f3e99c4</td>\n",
       "      <td>13</td>\n",
       "      <td>2</td>\n",
       "      <td>5481.0</td>\n",
       "      <td>1</td>\n",
       "      <td>4</td>\n",
       "      <td>3</td>\n",
       "      <td>4</td>\n",
       "      <td>1</td>\n",
       "      <td>4341</td>\n",
       "    </tr>\n",
       "    <tr>\n",
       "      <th>1028</th>\n",
       "      <td>6d27f0da-201b-4630-8678-c6abcf90eaa7</td>\n",
       "      <td>13</td>\n",
       "      <td>2</td>\n",
       "      <td>4273.0</td>\n",
       "      <td>1</td>\n",
       "      <td>4</td>\n",
       "      <td>3</td>\n",
       "      <td>4</td>\n",
       "      <td>1</td>\n",
       "      <td>4341</td>\n",
       "    </tr>\n",
       "    <tr>\n",
       "      <th>614</th>\n",
       "      <td>3f3cb1b7-b1a6-48ab-b83f-271b4db13752</td>\n",
       "      <td>7</td>\n",
       "      <td>2</td>\n",
       "      <td>4085.5</td>\n",
       "      <td>1</td>\n",
       "      <td>4</td>\n",
       "      <td>3</td>\n",
       "      <td>4</td>\n",
       "      <td>1</td>\n",
       "      <td>4341</td>\n",
       "    </tr>\n",
       "    <tr>\n",
       "      <th>1042</th>\n",
       "      <td>6e9a859b-b863-43ec-8efb-6570bdb4ea5f</td>\n",
       "      <td>64</td>\n",
       "      <td>2</td>\n",
       "      <td>4048.0</td>\n",
       "      <td>1</td>\n",
       "      <td>4</td>\n",
       "      <td>3</td>\n",
       "      <td>4</td>\n",
       "      <td>1</td>\n",
       "      <td>4341</td>\n",
       "    </tr>\n",
       "    <tr>\n",
       "      <th>1115</th>\n",
       "      <td>75db5223-35cc-48d0-b632-36ec7bbd61f8</td>\n",
       "      <td>50</td>\n",
       "      <td>2</td>\n",
       "      <td>3598.0</td>\n",
       "      <td>1</td>\n",
       "      <td>4</td>\n",
       "      <td>3</td>\n",
       "      <td>4</td>\n",
       "      <td>1</td>\n",
       "      <td>4341</td>\n",
       "    </tr>\n",
       "    <tr>\n",
       "      <th>179</th>\n",
       "      <td>125382f5-51b5-4535-9af8-b0cbfd1363c3</td>\n",
       "      <td>51</td>\n",
       "      <td>2</td>\n",
       "      <td>3561.0</td>\n",
       "      <td>1</td>\n",
       "      <td>4</td>\n",
       "      <td>3</td>\n",
       "      <td>4</td>\n",
       "      <td>1</td>\n",
       "      <td>4341</td>\n",
       "    </tr>\n",
       "    <tr>\n",
       "      <th>1504</th>\n",
       "      <td>9efad297-db81-4f2c-8ced-07d91cf51769</td>\n",
       "      <td>36</td>\n",
       "      <td>2</td>\n",
       "      <td>3523.0</td>\n",
       "      <td>1</td>\n",
       "      <td>4</td>\n",
       "      <td>3</td>\n",
       "      <td>4</td>\n",
       "      <td>1</td>\n",
       "      <td>4341</td>\n",
       "    </tr>\n",
       "    <tr>\n",
       "      <th>1502</th>\n",
       "      <td>9ecc5887-b4d4-4cea-b446-88748df71d9c</td>\n",
       "      <td>27</td>\n",
       "      <td>2</td>\n",
       "      <td>3441.0</td>\n",
       "      <td>1</td>\n",
       "      <td>4</td>\n",
       "      <td>3</td>\n",
       "      <td>4</td>\n",
       "      <td>1</td>\n",
       "      <td>4341</td>\n",
       "    </tr>\n",
       "    <tr>\n",
       "      <th>1720</th>\n",
       "      <td>b5874dd2-babd-43a5-9b7a-f39e40fbf78c</td>\n",
       "      <td>70</td>\n",
       "      <td>2</td>\n",
       "      <td>3387.0</td>\n",
       "      <td>1</td>\n",
       "      <td>4</td>\n",
       "      <td>3</td>\n",
       "      <td>4</td>\n",
       "      <td>1</td>\n",
       "      <td>4341</td>\n",
       "    </tr>\n",
       "    <tr>\n",
       "      <th>1607</th>\n",
       "      <td>abedd6ad-e720-431b-8ea2-a1d58008165b</td>\n",
       "      <td>15</td>\n",
       "      <td>2</td>\n",
       "      <td>3351.0</td>\n",
       "      <td>1</td>\n",
       "      <td>4</td>\n",
       "      <td>3</td>\n",
       "      <td>4</td>\n",
       "      <td>1</td>\n",
       "      <td>4341</td>\n",
       "    </tr>\n",
       "    <tr>\n",
       "      <th>2206</th>\n",
       "      <td>e802986e-de4c-4279-8e60-a0ac278d4724</td>\n",
       "      <td>22</td>\n",
       "      <td>2</td>\n",
       "      <td>3036.0</td>\n",
       "      <td>1</td>\n",
       "      <td>4</td>\n",
       "      <td>3</td>\n",
       "      <td>4</td>\n",
       "      <td>1</td>\n",
       "      <td>4341</td>\n",
       "    </tr>\n",
       "    <tr>\n",
       "      <th>1449</th>\n",
       "      <td>99380b8a-8be1-41e5-9c61-fc80cce43de5</td>\n",
       "      <td>20</td>\n",
       "      <td>2</td>\n",
       "      <td>3029.0</td>\n",
       "      <td>1</td>\n",
       "      <td>4</td>\n",
       "      <td>3</td>\n",
       "      <td>4</td>\n",
       "      <td>1</td>\n",
       "      <td>4341</td>\n",
       "    </tr>\n",
       "    <tr>\n",
       "      <th>1048</th>\n",
       "      <td>6ef85347-f866-4507-8ac6-78536e085570</td>\n",
       "      <td>46</td>\n",
       "      <td>2</td>\n",
       "      <td>2998.0</td>\n",
       "      <td>1</td>\n",
       "      <td>4</td>\n",
       "      <td>3</td>\n",
       "      <td>4</td>\n",
       "      <td>1</td>\n",
       "      <td>4341</td>\n",
       "    </tr>\n",
       "    <tr>\n",
       "      <th>997</th>\n",
       "      <td>6a087991-1301-470a-82c4-7df67e38ae1e</td>\n",
       "      <td>60</td>\n",
       "      <td>2</td>\n",
       "      <td>2923.0</td>\n",
       "      <td>1</td>\n",
       "      <td>4</td>\n",
       "      <td>3</td>\n",
       "      <td>4</td>\n",
       "      <td>1</td>\n",
       "      <td>4341</td>\n",
       "    </tr>\n",
       "    <tr>\n",
       "      <th>1125</th>\n",
       "      <td>76615b86-9e6a-47d9-a98d-989b3e15e6e7</td>\n",
       "      <td>14</td>\n",
       "      <td>2</td>\n",
       "      <td>2833.0</td>\n",
       "      <td>1</td>\n",
       "      <td>4</td>\n",
       "      <td>3</td>\n",
       "      <td>4</td>\n",
       "      <td>1</td>\n",
       "      <td>4341</td>\n",
       "    </tr>\n",
       "    <tr>\n",
       "      <th>1012</th>\n",
       "      <td>6b16114a-1d24-49ef-b137-aea6b1bb1c43</td>\n",
       "      <td>25</td>\n",
       "      <td>2</td>\n",
       "      <td>2818.0</td>\n",
       "      <td>1</td>\n",
       "      <td>4</td>\n",
       "      <td>3</td>\n",
       "      <td>4</td>\n",
       "      <td>1</td>\n",
       "      <td>4341</td>\n",
       "    </tr>\n",
       "    <tr>\n",
       "      <th>474</th>\n",
       "      <td>31e26121-aae6-4615-95d8-608f9a2de0f0</td>\n",
       "      <td>71</td>\n",
       "      <td>2</td>\n",
       "      <td>2759.0</td>\n",
       "      <td>1</td>\n",
       "      <td>4</td>\n",
       "      <td>3</td>\n",
       "      <td>4</td>\n",
       "      <td>1</td>\n",
       "      <td>4341</td>\n",
       "    </tr>\n",
       "    <tr>\n",
       "      <th>40</th>\n",
       "      <td>036d75ea-b633-41a8-8974-3f84fee8c65e</td>\n",
       "      <td>39</td>\n",
       "      <td>2</td>\n",
       "      <td>2743.5</td>\n",
       "      <td>1</td>\n",
       "      <td>4</td>\n",
       "      <td>3</td>\n",
       "      <td>4</td>\n",
       "      <td>1</td>\n",
       "      <td>4341</td>\n",
       "    </tr>\n",
       "    <tr>\n",
       "      <th>1091</th>\n",
       "      <td>72efabc6-66cb-493f-84ef-bf6476f0ee22</td>\n",
       "      <td>14</td>\n",
       "      <td>2</td>\n",
       "      <td>2586.0</td>\n",
       "      <td>1</td>\n",
       "      <td>4</td>\n",
       "      <td>3</td>\n",
       "      <td>4</td>\n",
       "      <td>1</td>\n",
       "      <td>4341</td>\n",
       "    </tr>\n",
       "    <tr>\n",
       "      <th>642</th>\n",
       "      <td>42df590c-dd51-459c-b1ec-4ea8539aaccf</td>\n",
       "      <td>33</td>\n",
       "      <td>2</td>\n",
       "      <td>2099.0</td>\n",
       "      <td>1</td>\n",
       "      <td>4</td>\n",
       "      <td>3</td>\n",
       "      <td>4</td>\n",
       "      <td>1</td>\n",
       "      <td>4341</td>\n",
       "    </tr>\n",
       "    <tr>\n",
       "      <th>2240</th>\n",
       "      <td>ebaa2c16-1a52-48d1-bd2f-e590d8a957f9</td>\n",
       "      <td>64</td>\n",
       "      <td>2</td>\n",
       "      <td>2024.0</td>\n",
       "      <td>1</td>\n",
       "      <td>4</td>\n",
       "      <td>3</td>\n",
       "      <td>4</td>\n",
       "      <td>1</td>\n",
       "      <td>4341</td>\n",
       "    </tr>\n",
       "    <tr>\n",
       "      <th>1772</th>\n",
       "      <td>ba3f3dd5-f63d-4744-823b-4f6c96bc46fd</td>\n",
       "      <td>58</td>\n",
       "      <td>2</td>\n",
       "      <td>1971.0</td>\n",
       "      <td>1</td>\n",
       "      <td>4</td>\n",
       "      <td>3</td>\n",
       "      <td>4</td>\n",
       "      <td>1</td>\n",
       "      <td>4341</td>\n",
       "    </tr>\n",
       "    <tr>\n",
       "      <th>2255</th>\n",
       "      <td>ed16f4d7-d6b3-4a9d-8821-f2ae3028f9f9</td>\n",
       "      <td>64</td>\n",
       "      <td>2</td>\n",
       "      <td>1963.0</td>\n",
       "      <td>1</td>\n",
       "      <td>4</td>\n",
       "      <td>3</td>\n",
       "      <td>4</td>\n",
       "      <td>1</td>\n",
       "      <td>4341</td>\n",
       "    </tr>\n",
       "    <tr>\n",
       "      <th>1797</th>\n",
       "      <td>bc36411d-ab04-436f-87a5-e866a516508a</td>\n",
       "      <td>69</td>\n",
       "      <td>2</td>\n",
       "      <td>1934.0</td>\n",
       "      <td>1</td>\n",
       "      <td>4</td>\n",
       "      <td>3</td>\n",
       "      <td>4</td>\n",
       "      <td>1</td>\n",
       "      <td>4341</td>\n",
       "    </tr>\n",
       "    <tr>\n",
       "      <th>2413</th>\n",
       "      <td>fc27f307-1dcc-4d25-b6d5-be898aed4d50</td>\n",
       "      <td>29</td>\n",
       "      <td>2</td>\n",
       "      <td>1918.0</td>\n",
       "      <td>1</td>\n",
       "      <td>4</td>\n",
       "      <td>3</td>\n",
       "      <td>4</td>\n",
       "      <td>1</td>\n",
       "      <td>4341</td>\n",
       "    </tr>\n",
       "    <tr>\n",
       "      <th>71</th>\n",
       "      <td>06f64a2f-e4bb-452b-93dc-dfc64cc8db43</td>\n",
       "      <td>66</td>\n",
       "      <td>2</td>\n",
       "      <td>1873.0</td>\n",
       "      <td>1</td>\n",
       "      <td>4</td>\n",
       "      <td>3</td>\n",
       "      <td>4</td>\n",
       "      <td>1</td>\n",
       "      <td>4341</td>\n",
       "    </tr>\n",
       "    <tr>\n",
       "      <th>320</th>\n",
       "      <td>22239abc-ece1-46da-b7bb-e54402d53ab9</td>\n",
       "      <td>7</td>\n",
       "      <td>2</td>\n",
       "      <td>1873.0</td>\n",
       "      <td>1</td>\n",
       "      <td>4</td>\n",
       "      <td>3</td>\n",
       "      <td>4</td>\n",
       "      <td>1</td>\n",
       "      <td>4341</td>\n",
       "    </tr>\n",
       "    <tr>\n",
       "      <th>380</th>\n",
       "      <td>28437f82-c2a8-41ea-a7c1-bcedece59d8b</td>\n",
       "      <td>2</td>\n",
       "      <td>2</td>\n",
       "      <td>1858.0</td>\n",
       "      <td>1</td>\n",
       "      <td>4</td>\n",
       "      <td>3</td>\n",
       "      <td>4</td>\n",
       "      <td>1</td>\n",
       "      <td>4341</td>\n",
       "    </tr>\n",
       "    <tr>\n",
       "      <th>2321</th>\n",
       "      <td>f2ae382b-5682-4c9d-ac9b-f7264bd8190c</td>\n",
       "      <td>15</td>\n",
       "      <td>2</td>\n",
       "      <td>1836.0</td>\n",
       "      <td>1</td>\n",
       "      <td>4</td>\n",
       "      <td>3</td>\n",
       "      <td>4</td>\n",
       "      <td>1</td>\n",
       "      <td>4341</td>\n",
       "    </tr>\n",
       "    <tr>\n",
       "      <th>864</th>\n",
       "      <td>5be0f4b4-947f-4672-b147-73ef5936ecd4</td>\n",
       "      <td>70</td>\n",
       "      <td>2</td>\n",
       "      <td>1829.0</td>\n",
       "      <td>1</td>\n",
       "      <td>4</td>\n",
       "      <td>3</td>\n",
       "      <td>4</td>\n",
       "      <td>1</td>\n",
       "      <td>4341</td>\n",
       "    </tr>\n",
       "    <tr>\n",
       "      <th>571</th>\n",
       "      <td>3b2e7ead-3582-43bc-807e-4486f6511c47</td>\n",
       "      <td>49</td>\n",
       "      <td>2</td>\n",
       "      <td>1821.0</td>\n",
       "      <td>1</td>\n",
       "      <td>4</td>\n",
       "      <td>3</td>\n",
       "      <td>4</td>\n",
       "      <td>1</td>\n",
       "      <td>4341</td>\n",
       "    </tr>\n",
       "    <tr>\n",
       "      <th>1114</th>\n",
       "      <td>75c1d45a-be89-4f94-8c38-0d386f718943</td>\n",
       "      <td>3</td>\n",
       "      <td>2</td>\n",
       "      <td>1821.0</td>\n",
       "      <td>1</td>\n",
       "      <td>4</td>\n",
       "      <td>3</td>\n",
       "      <td>4</td>\n",
       "      <td>1</td>\n",
       "      <td>4341</td>\n",
       "    </tr>\n",
       "  </tbody>\n",
       "</table>\n",
       "</div>"
      ],
      "text/plain": [
       "                               customer_id  recency  frequency  \\\n",
       "1426  9704352f-7f7f-4fa7-aa1c-64296156a722       36          2   \n",
       "2095  db6caedb-e231-4adc-bcd0-e45b8992f3da       23          2   \n",
       "303   1f502315-d58f-401c-8ba2-88b16e53d0b3        7          2   \n",
       "1257  85716494-dd51-4d1d-ab28-8c74b87f14dc       23          2   \n",
       "835   5853eef2-4e02-4597-a69c-b4e274dce7ae       34          2   \n",
       "505   350505d8-40bf-4405-a296-ca6cfc6869c0        9          2   \n",
       "2354  f5a5bf01-7180-4b07-bda7-13d34d879f45       62          2   \n",
       "1372  91aac803-c8fc-44fd-a1d7-494e16e2ac2d       24          2   \n",
       "220   16e422c6-94fe-4ccf-9c97-05493f3e99c4       13          2   \n",
       "1028  6d27f0da-201b-4630-8678-c6abcf90eaa7       13          2   \n",
       "614   3f3cb1b7-b1a6-48ab-b83f-271b4db13752        7          2   \n",
       "1042  6e9a859b-b863-43ec-8efb-6570bdb4ea5f       64          2   \n",
       "1115  75db5223-35cc-48d0-b632-36ec7bbd61f8       50          2   \n",
       "179   125382f5-51b5-4535-9af8-b0cbfd1363c3       51          2   \n",
       "1504  9efad297-db81-4f2c-8ced-07d91cf51769       36          2   \n",
       "1502  9ecc5887-b4d4-4cea-b446-88748df71d9c       27          2   \n",
       "1720  b5874dd2-babd-43a5-9b7a-f39e40fbf78c       70          2   \n",
       "1607  abedd6ad-e720-431b-8ea2-a1d58008165b       15          2   \n",
       "2206  e802986e-de4c-4279-8e60-a0ac278d4724       22          2   \n",
       "1449  99380b8a-8be1-41e5-9c61-fc80cce43de5       20          2   \n",
       "1048  6ef85347-f866-4507-8ac6-78536e085570       46          2   \n",
       "997   6a087991-1301-470a-82c4-7df67e38ae1e       60          2   \n",
       "1125  76615b86-9e6a-47d9-a98d-989b3e15e6e7       14          2   \n",
       "1012  6b16114a-1d24-49ef-b137-aea6b1bb1c43       25          2   \n",
       "474   31e26121-aae6-4615-95d8-608f9a2de0f0       71          2   \n",
       "40    036d75ea-b633-41a8-8974-3f84fee8c65e       39          2   \n",
       "1091  72efabc6-66cb-493f-84ef-bf6476f0ee22       14          2   \n",
       "642   42df590c-dd51-459c-b1ec-4ea8539aaccf       33          2   \n",
       "2240  ebaa2c16-1a52-48d1-bd2f-e590d8a957f9       64          2   \n",
       "1772  ba3f3dd5-f63d-4744-823b-4f6c96bc46fd       58          2   \n",
       "2255  ed16f4d7-d6b3-4a9d-8821-f2ae3028f9f9       64          2   \n",
       "1797  bc36411d-ab04-436f-87a5-e866a516508a       69          2   \n",
       "2413  fc27f307-1dcc-4d25-b6d5-be898aed4d50       29          2   \n",
       "71    06f64a2f-e4bb-452b-93dc-dfc64cc8db43       66          2   \n",
       "320   22239abc-ece1-46da-b7bb-e54402d53ab9        7          2   \n",
       "380   28437f82-c2a8-41ea-a7c1-bcedece59d8b        2          2   \n",
       "2321  f2ae382b-5682-4c9d-ac9b-f7264bd8190c       15          2   \n",
       "864   5be0f4b4-947f-4672-b147-73ef5936ecd4       70          2   \n",
       "571   3b2e7ead-3582-43bc-807e-4486f6511c47       49          2   \n",
       "1114  75c1d45a-be89-4f94-8c38-0d386f718943        3          2   \n",
       "\n",
       "      monetary_value  category  R_Quartile  F_Quartile  M_Quartile  \\\n",
       "1426          8249.0         1           4           3           4   \n",
       "2095          8203.0         1           4           3           4   \n",
       "303           7993.0         1           4           3           4   \n",
       "1257          7902.0         1           4           3           4   \n",
       "835           7798.0         1           4           3           4   \n",
       "505           6336.0         1           4           3           4   \n",
       "2354          6298.0         1           4           3           4   \n",
       "1372          5871.0         1           4           3           4   \n",
       "220           5481.0         1           4           3           4   \n",
       "1028          4273.0         1           4           3           4   \n",
       "614           4085.5         1           4           3           4   \n",
       "1042          4048.0         1           4           3           4   \n",
       "1115          3598.0         1           4           3           4   \n",
       "179           3561.0         1           4           3           4   \n",
       "1504          3523.0         1           4           3           4   \n",
       "1502          3441.0         1           4           3           4   \n",
       "1720          3387.0         1           4           3           4   \n",
       "1607          3351.0         1           4           3           4   \n",
       "2206          3036.0         1           4           3           4   \n",
       "1449          3029.0         1           4           3           4   \n",
       "1048          2998.0         1           4           3           4   \n",
       "997           2923.0         1           4           3           4   \n",
       "1125          2833.0         1           4           3           4   \n",
       "1012          2818.0         1           4           3           4   \n",
       "474           2759.0         1           4           3           4   \n",
       "40            2743.5         1           4           3           4   \n",
       "1091          2586.0         1           4           3           4   \n",
       "642           2099.0         1           4           3           4   \n",
       "2240          2024.0         1           4           3           4   \n",
       "1772          1971.0         1           4           3           4   \n",
       "2255          1963.0         1           4           3           4   \n",
       "1797          1934.0         1           4           3           4   \n",
       "2413          1918.0         1           4           3           4   \n",
       "71            1873.0         1           4           3           4   \n",
       "320           1873.0         1           4           3           4   \n",
       "380           1858.0         1           4           3           4   \n",
       "2321          1836.0         1           4           3           4   \n",
       "864           1829.0         1           4           3           4   \n",
       "571           1821.0         1           4           3           4   \n",
       "1114          1821.0         1           4           3           4   \n",
       "\n",
       "      C_Quartile RFMClass  \n",
       "1426           1     4341  \n",
       "2095           1     4341  \n",
       "303            1     4341  \n",
       "1257           1     4341  \n",
       "835            1     4341  \n",
       "505            1     4341  \n",
       "2354           1     4341  \n",
       "1372           1     4341  \n",
       "220            1     4341  \n",
       "1028           1     4341  \n",
       "614            1     4341  \n",
       "1042           1     4341  \n",
       "1115           1     4341  \n",
       "179            1     4341  \n",
       "1504           1     4341  \n",
       "1502           1     4341  \n",
       "1720           1     4341  \n",
       "1607           1     4341  \n",
       "2206           1     4341  \n",
       "1449           1     4341  \n",
       "1048           1     4341  \n",
       "997            1     4341  \n",
       "1125           1     4341  \n",
       "1012           1     4341  \n",
       "474            1     4341  \n",
       "40             1     4341  \n",
       "1091           1     4341  \n",
       "642            1     4341  \n",
       "2240           1     4341  \n",
       "1772           1     4341  \n",
       "2255           1     4341  \n",
       "1797           1     4341  \n",
       "2413           1     4341  \n",
       "71             1     4341  \n",
       "320            1     4341  \n",
       "380            1     4341  \n",
       "2321           1     4341  \n",
       "864            1     4341  \n",
       "571            1     4341  \n",
       "1114           1     4341  "
      ]
     },
     "execution_count": 78,
     "metadata": {},
     "output_type": "execute_result"
    }
   ],
   "source": [
    "best_less_category"
   ]
  },
  {
   "cell_type": "markdown",
   "id": "812b7e68",
   "metadata": {},
   "source": [
    "Второй сегмент, лучшие клиенты без разнообразия в категориях"
   ]
  },
  {
   "cell_type": "code",
   "execution_count": 79,
   "id": "a373d033",
   "metadata": {},
   "outputs": [],
   "source": [
    "loyal_more_category = RFM_Segment[(RFM_Segment['F_Quartile'] >= 3) & (RFM_Segment['C_Quartile'] >= 3)].sort_values('monetary_value', ascending=False)\n",
    "lms = loyal_more_category['customer_id'].tolist()"
   ]
  },
  {
   "cell_type": "code",
   "execution_count": 80,
   "id": "48b1e288",
   "metadata": {},
   "outputs": [
    {
     "data": {
      "text/html": [
       "<div>\n",
       "<style scoped>\n",
       "    .dataframe tbody tr th:only-of-type {\n",
       "        vertical-align: middle;\n",
       "    }\n",
       "\n",
       "    .dataframe tbody tr th {\n",
       "        vertical-align: top;\n",
       "    }\n",
       "\n",
       "    .dataframe thead th {\n",
       "        text-align: right;\n",
       "    }\n",
       "</style>\n",
       "<table border=\"1\" class=\"dataframe\">\n",
       "  <thead>\n",
       "    <tr style=\"text-align: right;\">\n",
       "      <th></th>\n",
       "      <th>customer_id</th>\n",
       "      <th>recency</th>\n",
       "      <th>frequency</th>\n",
       "      <th>monetary_value</th>\n",
       "      <th>category</th>\n",
       "      <th>R_Quartile</th>\n",
       "      <th>F_Quartile</th>\n",
       "      <th>M_Quartile</th>\n",
       "      <th>C_Quartile</th>\n",
       "      <th>RFMClass</th>\n",
       "    </tr>\n",
       "  </thead>\n",
       "  <tbody>\n",
       "    <tr>\n",
       "      <th>1915</th>\n",
       "      <td>c971fb21-d54c-4134-938f-16b62ee86d3b</td>\n",
       "      <td>331</td>\n",
       "      <td>126</td>\n",
       "      <td>159508.0</td>\n",
       "      <td>7</td>\n",
       "      <td>2</td>\n",
       "      <td>4</td>\n",
       "      <td>4</td>\n",
       "      <td>4</td>\n",
       "      <td>2444</td>\n",
       "    </tr>\n",
       "    <tr>\n",
       "      <th>741</th>\n",
       "      <td>4d93d3f6-8b24-403b-a74b-f5173e40d7db</td>\n",
       "      <td>464</td>\n",
       "      <td>35</td>\n",
       "      <td>57278.0</td>\n",
       "      <td>6</td>\n",
       "      <td>1</td>\n",
       "      <td>4</td>\n",
       "      <td>4</td>\n",
       "      <td>4</td>\n",
       "      <td>1444</td>\n",
       "    </tr>\n",
       "    <tr>\n",
       "      <th>698</th>\n",
       "      <td>498f12a4-6a62-4725-8516-cf5dc9ab8a3a</td>\n",
       "      <td>287</td>\n",
       "      <td>4</td>\n",
       "      <td>41900.0</td>\n",
       "      <td>2</td>\n",
       "      <td>2</td>\n",
       "      <td>4</td>\n",
       "      <td>4</td>\n",
       "      <td>3</td>\n",
       "      <td>2443</td>\n",
       "    </tr>\n",
       "    <tr>\n",
       "      <th>1100</th>\n",
       "      <td>73d1cd35-5e5f-4629-8cf2-3fda829d4e58</td>\n",
       "      <td>92</td>\n",
       "      <td>17</td>\n",
       "      <td>21361.0</td>\n",
       "      <td>5</td>\n",
       "      <td>3</td>\n",
       "      <td>4</td>\n",
       "      <td>4</td>\n",
       "      <td>4</td>\n",
       "      <td>3444</td>\n",
       "    </tr>\n",
       "    <tr>\n",
       "      <th>2318</th>\n",
       "      <td>f279d50f-a508-40b4-bde5-5cb4a1be3ad0</td>\n",
       "      <td>31</td>\n",
       "      <td>2</td>\n",
       "      <td>16557.0</td>\n",
       "      <td>2</td>\n",
       "      <td>4</td>\n",
       "      <td>3</td>\n",
       "      <td>4</td>\n",
       "      <td>3</td>\n",
       "      <td>4343</td>\n",
       "    </tr>\n",
       "    <tr>\n",
       "      <th>...</th>\n",
       "      <td>...</td>\n",
       "      <td>...</td>\n",
       "      <td>...</td>\n",
       "      <td>...</td>\n",
       "      <td>...</td>\n",
       "      <td>...</td>\n",
       "      <td>...</td>\n",
       "      <td>...</td>\n",
       "      <td>...</td>\n",
       "      <td>...</td>\n",
       "    </tr>\n",
       "    <tr>\n",
       "      <th>1030</th>\n",
       "      <td>6d4bd7d2-52f3-40e4-b394-80da6f977f1f</td>\n",
       "      <td>26</td>\n",
       "      <td>2</td>\n",
       "      <td>138.0</td>\n",
       "      <td>2</td>\n",
       "      <td>4</td>\n",
       "      <td>3</td>\n",
       "      <td>1</td>\n",
       "      <td>3</td>\n",
       "      <td>4313</td>\n",
       "    </tr>\n",
       "    <tr>\n",
       "      <th>536</th>\n",
       "      <td>375cde3e-440e-46bd-9a5c-afff1396f277</td>\n",
       "      <td>34</td>\n",
       "      <td>2</td>\n",
       "      <td>138.0</td>\n",
       "      <td>2</td>\n",
       "      <td>4</td>\n",
       "      <td>3</td>\n",
       "      <td>1</td>\n",
       "      <td>3</td>\n",
       "      <td>4313</td>\n",
       "    </tr>\n",
       "    <tr>\n",
       "      <th>1928</th>\n",
       "      <td>cab090a5-b8dd-442d-a206-0ef3bf5fc1d8</td>\n",
       "      <td>24</td>\n",
       "      <td>2</td>\n",
       "      <td>120.0</td>\n",
       "      <td>2</td>\n",
       "      <td>4</td>\n",
       "      <td>3</td>\n",
       "      <td>1</td>\n",
       "      <td>3</td>\n",
       "      <td>4313</td>\n",
       "    </tr>\n",
       "    <tr>\n",
       "      <th>25</th>\n",
       "      <td>01f95d43-4a8d-45e5-9c23-cccd211e6d30</td>\n",
       "      <td>33</td>\n",
       "      <td>2</td>\n",
       "      <td>118.0</td>\n",
       "      <td>2</td>\n",
       "      <td>4</td>\n",
       "      <td>3</td>\n",
       "      <td>1</td>\n",
       "      <td>3</td>\n",
       "      <td>4313</td>\n",
       "    </tr>\n",
       "    <tr>\n",
       "      <th>653</th>\n",
       "      <td>43ff529f-8ff0-473d-8168-4b730137a2e1</td>\n",
       "      <td>4</td>\n",
       "      <td>2</td>\n",
       "      <td>94.0</td>\n",
       "      <td>2</td>\n",
       "      <td>4</td>\n",
       "      <td>3</td>\n",
       "      <td>1</td>\n",
       "      <td>3</td>\n",
       "      <td>4313</td>\n",
       "    </tr>\n",
       "  </tbody>\n",
       "</table>\n",
       "<p>576 rows × 10 columns</p>\n",
       "</div>"
      ],
      "text/plain": [
       "                               customer_id  recency  frequency  \\\n",
       "1915  c971fb21-d54c-4134-938f-16b62ee86d3b      331        126   \n",
       "741   4d93d3f6-8b24-403b-a74b-f5173e40d7db      464         35   \n",
       "698   498f12a4-6a62-4725-8516-cf5dc9ab8a3a      287          4   \n",
       "1100  73d1cd35-5e5f-4629-8cf2-3fda829d4e58       92         17   \n",
       "2318  f279d50f-a508-40b4-bde5-5cb4a1be3ad0       31          2   \n",
       "...                                    ...      ...        ...   \n",
       "1030  6d4bd7d2-52f3-40e4-b394-80da6f977f1f       26          2   \n",
       "536   375cde3e-440e-46bd-9a5c-afff1396f277       34          2   \n",
       "1928  cab090a5-b8dd-442d-a206-0ef3bf5fc1d8       24          2   \n",
       "25    01f95d43-4a8d-45e5-9c23-cccd211e6d30       33          2   \n",
       "653   43ff529f-8ff0-473d-8168-4b730137a2e1        4          2   \n",
       "\n",
       "      monetary_value  category  R_Quartile  F_Quartile  M_Quartile  \\\n",
       "1915        159508.0         7           2           4           4   \n",
       "741          57278.0         6           1           4           4   \n",
       "698          41900.0         2           2           4           4   \n",
       "1100         21361.0         5           3           4           4   \n",
       "2318         16557.0         2           4           3           4   \n",
       "...              ...       ...         ...         ...         ...   \n",
       "1030           138.0         2           4           3           1   \n",
       "536            138.0         2           4           3           1   \n",
       "1928           120.0         2           4           3           1   \n",
       "25             118.0         2           4           3           1   \n",
       "653             94.0         2           4           3           1   \n",
       "\n",
       "      C_Quartile RFMClass  \n",
       "1915           4     2444  \n",
       "741            4     1444  \n",
       "698            3     2443  \n",
       "1100           4     3444  \n",
       "2318           3     4343  \n",
       "...          ...      ...  \n",
       "1030           3     4313  \n",
       "536            3     4313  \n",
       "1928           3     4313  \n",
       "25             3     4313  \n",
       "653            3     4313  \n",
       "\n",
       "[576 rows x 10 columns]"
      ]
     },
     "execution_count": 80,
     "metadata": {},
     "output_type": "execute_result"
    }
   ],
   "source": [
    "loyal_more_category"
   ]
  },
  {
   "cell_type": "markdown",
   "id": "f6825c50",
   "metadata": {},
   "source": [
    "Третий сегмент, лояльные клиенты с разнообразными категориями "
   ]
  },
  {
   "cell_type": "code",
   "execution_count": 81,
   "id": "2afb5548",
   "metadata": {},
   "outputs": [],
   "source": [
    "loyal_less_category = RFM_Segment[(RFM_Segment['F_Quartile'] >= 3) & (RFM_Segment['C_Quartile'] < 3)].sort_values('monetary_value', ascending=False)\n",
    "lls = loyal_less_category['customer_id'].tolist()"
   ]
  },
  {
   "cell_type": "code",
   "execution_count": 82,
   "id": "c99b00ac",
   "metadata": {},
   "outputs": [
    {
     "data": {
      "text/html": [
       "<div>\n",
       "<style scoped>\n",
       "    .dataframe tbody tr th:only-of-type {\n",
       "        vertical-align: middle;\n",
       "    }\n",
       "\n",
       "    .dataframe tbody tr th {\n",
       "        vertical-align: top;\n",
       "    }\n",
       "\n",
       "    .dataframe thead th {\n",
       "        text-align: right;\n",
       "    }\n",
       "</style>\n",
       "<table border=\"1\" class=\"dataframe\">\n",
       "  <thead>\n",
       "    <tr style=\"text-align: right;\">\n",
       "      <th></th>\n",
       "      <th>customer_id</th>\n",
       "      <th>recency</th>\n",
       "      <th>frequency</th>\n",
       "      <th>monetary_value</th>\n",
       "      <th>category</th>\n",
       "      <th>R_Quartile</th>\n",
       "      <th>F_Quartile</th>\n",
       "      <th>M_Quartile</th>\n",
       "      <th>C_Quartile</th>\n",
       "      <th>RFMClass</th>\n",
       "    </tr>\n",
       "  </thead>\n",
       "  <tbody>\n",
       "    <tr>\n",
       "      <th>838</th>\n",
       "      <td>58a4c3cc-504f-43ea-a74a-bae19e665552</td>\n",
       "      <td>381</td>\n",
       "      <td>2</td>\n",
       "      <td>53232.000000</td>\n",
       "      <td>1</td>\n",
       "      <td>1</td>\n",
       "      <td>3</td>\n",
       "      <td>4</td>\n",
       "      <td>1</td>\n",
       "      <td>1341</td>\n",
       "    </tr>\n",
       "    <tr>\n",
       "      <th>1394</th>\n",
       "      <td>940c175f-ea87-44e0-9e16-0a3d0a9abecd</td>\n",
       "      <td>233</td>\n",
       "      <td>2</td>\n",
       "      <td>20232.000000</td>\n",
       "      <td>1</td>\n",
       "      <td>2</td>\n",
       "      <td>3</td>\n",
       "      <td>4</td>\n",
       "      <td>1</td>\n",
       "      <td>2341</td>\n",
       "    </tr>\n",
       "    <tr>\n",
       "      <th>1267</th>\n",
       "      <td>86c97bf1-c834-423e-9e38-8acda68f97e8</td>\n",
       "      <td>410</td>\n",
       "      <td>2</td>\n",
       "      <td>11548.000000</td>\n",
       "      <td>1</td>\n",
       "      <td>1</td>\n",
       "      <td>3</td>\n",
       "      <td>4</td>\n",
       "      <td>1</td>\n",
       "      <td>1341</td>\n",
       "    </tr>\n",
       "    <tr>\n",
       "      <th>1580</th>\n",
       "      <td>a9089b7e-e6a5-48f9-9b76-48693b63a092</td>\n",
       "      <td>259</td>\n",
       "      <td>3</td>\n",
       "      <td>11495.000000</td>\n",
       "      <td>1</td>\n",
       "      <td>2</td>\n",
       "      <td>4</td>\n",
       "      <td>4</td>\n",
       "      <td>1</td>\n",
       "      <td>2441</td>\n",
       "    </tr>\n",
       "    <tr>\n",
       "      <th>32</th>\n",
       "      <td>02adb72a-3067-45e9-a3b5-f93d79d7496a</td>\n",
       "      <td>301</td>\n",
       "      <td>2</td>\n",
       "      <td>10723.000000</td>\n",
       "      <td>1</td>\n",
       "      <td>2</td>\n",
       "      <td>3</td>\n",
       "      <td>4</td>\n",
       "      <td>1</td>\n",
       "      <td>2341</td>\n",
       "    </tr>\n",
       "    <tr>\n",
       "      <th>...</th>\n",
       "      <td>...</td>\n",
       "      <td>...</td>\n",
       "      <td>...</td>\n",
       "      <td>...</td>\n",
       "      <td>...</td>\n",
       "      <td>...</td>\n",
       "      <td>...</td>\n",
       "      <td>...</td>\n",
       "      <td>...</td>\n",
       "      <td>...</td>\n",
       "    </tr>\n",
       "    <tr>\n",
       "      <th>2236</th>\n",
       "      <td>eb878d66-20ae-45d5-a189-35b5b10a4c53</td>\n",
       "      <td>10</td>\n",
       "      <td>2</td>\n",
       "      <td>114.666667</td>\n",
       "      <td>1</td>\n",
       "      <td>4</td>\n",
       "      <td>3</td>\n",
       "      <td>1</td>\n",
       "      <td>1</td>\n",
       "      <td>4311</td>\n",
       "    </tr>\n",
       "    <tr>\n",
       "      <th>80</th>\n",
       "      <td>07bde29d-a3b1-4d72-9f37-ad5a52b07f25</td>\n",
       "      <td>7</td>\n",
       "      <td>2</td>\n",
       "      <td>112.000000</td>\n",
       "      <td>1</td>\n",
       "      <td>4</td>\n",
       "      <td>3</td>\n",
       "      <td>1</td>\n",
       "      <td>1</td>\n",
       "      <td>4311</td>\n",
       "    </tr>\n",
       "    <tr>\n",
       "      <th>452</th>\n",
       "      <td>2f639db6-6ce7-426b-9a6d-edbb9025463c</td>\n",
       "      <td>146</td>\n",
       "      <td>2</td>\n",
       "      <td>95.000000</td>\n",
       "      <td>1</td>\n",
       "      <td>3</td>\n",
       "      <td>3</td>\n",
       "      <td>1</td>\n",
       "      <td>1</td>\n",
       "      <td>3311</td>\n",
       "    </tr>\n",
       "    <tr>\n",
       "      <th>1631</th>\n",
       "      <td>ae036d1b-b1d5-41e4-8c85-d2bd1b0b4e18</td>\n",
       "      <td>4</td>\n",
       "      <td>2</td>\n",
       "      <td>88.000000</td>\n",
       "      <td>1</td>\n",
       "      <td>4</td>\n",
       "      <td>3</td>\n",
       "      <td>1</td>\n",
       "      <td>1</td>\n",
       "      <td>4311</td>\n",
       "    </tr>\n",
       "    <tr>\n",
       "      <th>1594</th>\n",
       "      <td>aa7151ae-8da0-41ca-85b6-5c1b331d5bdc</td>\n",
       "      <td>23</td>\n",
       "      <td>2</td>\n",
       "      <td>84.000000</td>\n",
       "      <td>1</td>\n",
       "      <td>4</td>\n",
       "      <td>3</td>\n",
       "      <td>1</td>\n",
       "      <td>1</td>\n",
       "      <td>4311</td>\n",
       "    </tr>\n",
       "  </tbody>\n",
       "</table>\n",
       "<p>320 rows × 10 columns</p>\n",
       "</div>"
      ],
      "text/plain": [
       "                               customer_id  recency  frequency  \\\n",
       "838   58a4c3cc-504f-43ea-a74a-bae19e665552      381          2   \n",
       "1394  940c175f-ea87-44e0-9e16-0a3d0a9abecd      233          2   \n",
       "1267  86c97bf1-c834-423e-9e38-8acda68f97e8      410          2   \n",
       "1580  a9089b7e-e6a5-48f9-9b76-48693b63a092      259          3   \n",
       "32    02adb72a-3067-45e9-a3b5-f93d79d7496a      301          2   \n",
       "...                                    ...      ...        ...   \n",
       "2236  eb878d66-20ae-45d5-a189-35b5b10a4c53       10          2   \n",
       "80    07bde29d-a3b1-4d72-9f37-ad5a52b07f25        7          2   \n",
       "452   2f639db6-6ce7-426b-9a6d-edbb9025463c      146          2   \n",
       "1631  ae036d1b-b1d5-41e4-8c85-d2bd1b0b4e18        4          2   \n",
       "1594  aa7151ae-8da0-41ca-85b6-5c1b331d5bdc       23          2   \n",
       "\n",
       "      monetary_value  category  R_Quartile  F_Quartile  M_Quartile  \\\n",
       "838     53232.000000         1           1           3           4   \n",
       "1394    20232.000000         1           2           3           4   \n",
       "1267    11548.000000         1           1           3           4   \n",
       "1580    11495.000000         1           2           4           4   \n",
       "32      10723.000000         1           2           3           4   \n",
       "...              ...       ...         ...         ...         ...   \n",
       "2236      114.666667         1           4           3           1   \n",
       "80        112.000000         1           4           3           1   \n",
       "452        95.000000         1           3           3           1   \n",
       "1631       88.000000         1           4           3           1   \n",
       "1594       84.000000         1           4           3           1   \n",
       "\n",
       "      C_Quartile RFMClass  \n",
       "838            1     1341  \n",
       "1394           1     2341  \n",
       "1267           1     1341  \n",
       "1580           1     2441  \n",
       "32             1     2341  \n",
       "...          ...      ...  \n",
       "2236           1     4311  \n",
       "80             1     4311  \n",
       "452            1     3311  \n",
       "1631           1     4311  \n",
       "1594           1     4311  \n",
       "\n",
       "[320 rows x 10 columns]"
      ]
     },
     "execution_count": 82,
     "metadata": {},
     "output_type": "execute_result"
    }
   ],
   "source": [
    "loyal_less_category"
   ]
  },
  {
   "cell_type": "markdown",
   "id": "8062271d",
   "metadata": {},
   "source": [
    "Четвертый сегмент, лояльные клиенты без разнообразия в категориях"
   ]
  },
  {
   "cell_type": "code",
   "execution_count": 83,
   "id": "34814889",
   "metadata": {},
   "outputs": [],
   "source": [
    "new_more_category = RFM_Segment[(RFM_Segment['F_Quartile'] == 1) & (RFM_Segment['R_Quartile'] >= 3) & (RFM_Segment['C_Quartile'] >= 3)]\n",
    "nmc = new_more_category['customer_id'].tolist()"
   ]
  },
  {
   "cell_type": "code",
   "execution_count": 84,
   "id": "bb80b17d",
   "metadata": {},
   "outputs": [
    {
     "data": {
      "text/html": [
       "<div>\n",
       "<style scoped>\n",
       "    .dataframe tbody tr th:only-of-type {\n",
       "        vertical-align: middle;\n",
       "    }\n",
       "\n",
       "    .dataframe tbody tr th {\n",
       "        vertical-align: top;\n",
       "    }\n",
       "\n",
       "    .dataframe thead th {\n",
       "        text-align: right;\n",
       "    }\n",
       "</style>\n",
       "<table border=\"1\" class=\"dataframe\">\n",
       "  <thead>\n",
       "    <tr style=\"text-align: right;\">\n",
       "      <th></th>\n",
       "      <th>customer_id</th>\n",
       "      <th>recency</th>\n",
       "      <th>frequency</th>\n",
       "      <th>monetary_value</th>\n",
       "      <th>category</th>\n",
       "      <th>R_Quartile</th>\n",
       "      <th>F_Quartile</th>\n",
       "      <th>M_Quartile</th>\n",
       "      <th>C_Quartile</th>\n",
       "      <th>RFMClass</th>\n",
       "    </tr>\n",
       "  </thead>\n",
       "  <tbody>\n",
       "    <tr>\n",
       "      <th>243</th>\n",
       "      <td>197e747c-e8c6-4874-af3c-a7d857b82afb</td>\n",
       "      <td>143</td>\n",
       "      <td>1</td>\n",
       "      <td>853.0</td>\n",
       "      <td>2</td>\n",
       "      <td>3</td>\n",
       "      <td>1</td>\n",
       "      <td>3</td>\n",
       "      <td>3</td>\n",
       "      <td>3133</td>\n",
       "    </tr>\n",
       "  </tbody>\n",
       "</table>\n",
       "</div>"
      ],
      "text/plain": [
       "                              customer_id  recency  frequency  monetary_value  \\\n",
       "243  197e747c-e8c6-4874-af3c-a7d857b82afb      143          1           853.0   \n",
       "\n",
       "     category  R_Quartile  F_Quartile  M_Quartile  C_Quartile RFMClass  \n",
       "243         2           3           1           3           3     3133  "
      ]
     },
     "execution_count": 84,
     "metadata": {},
     "output_type": "execute_result"
    }
   ],
   "source": [
    "new_more_category"
   ]
  },
  {
   "cell_type": "markdown",
   "id": "94d228e1",
   "metadata": {},
   "source": [
    "Пятый сегмент, новые клиенты с разнообразием в категориях"
   ]
  },
  {
   "cell_type": "code",
   "execution_count": 85,
   "id": "ca3feffe",
   "metadata": {},
   "outputs": [],
   "source": [
    "new_less_category = RFM_Segment[(RFM_Segment['F_Quartile'] == 1) & (RFM_Segment['R_Quartile'] >= 3) & (RFM_Segment['C_Quartile'] < 3)]\n",
    "nlc = new_less_category['customer_id'].tolist()"
   ]
  },
  {
   "cell_type": "code",
   "execution_count": 86,
   "id": "d213eab1",
   "metadata": {},
   "outputs": [
    {
     "data": {
      "text/html": [
       "<div>\n",
       "<style scoped>\n",
       "    .dataframe tbody tr th:only-of-type {\n",
       "        vertical-align: middle;\n",
       "    }\n",
       "\n",
       "    .dataframe tbody tr th {\n",
       "        vertical-align: top;\n",
       "    }\n",
       "\n",
       "    .dataframe thead th {\n",
       "        text-align: right;\n",
       "    }\n",
       "</style>\n",
       "<table border=\"1\" class=\"dataframe\">\n",
       "  <thead>\n",
       "    <tr style=\"text-align: right;\">\n",
       "      <th></th>\n",
       "      <th>customer_id</th>\n",
       "      <th>recency</th>\n",
       "      <th>frequency</th>\n",
       "      <th>monetary_value</th>\n",
       "      <th>category</th>\n",
       "      <th>R_Quartile</th>\n",
       "      <th>F_Quartile</th>\n",
       "      <th>M_Quartile</th>\n",
       "      <th>C_Quartile</th>\n",
       "      <th>RFMClass</th>\n",
       "    </tr>\n",
       "  </thead>\n",
       "  <tbody>\n",
       "    <tr>\n",
       "      <th>0</th>\n",
       "      <td>000d6849-084e-4d9f-ac03-37174eaf60c4</td>\n",
       "      <td>107</td>\n",
       "      <td>1</td>\n",
       "      <td>555.0</td>\n",
       "      <td>1</td>\n",
       "      <td>3</td>\n",
       "      <td>1</td>\n",
       "      <td>2</td>\n",
       "      <td>1</td>\n",
       "      <td>3121</td>\n",
       "    </tr>\n",
       "    <tr>\n",
       "      <th>2</th>\n",
       "      <td>00299f34-5385-4d13-9aea-c80b81658e1b</td>\n",
       "      <td>109</td>\n",
       "      <td>1</td>\n",
       "      <td>914.0</td>\n",
       "      <td>1</td>\n",
       "      <td>3</td>\n",
       "      <td>1</td>\n",
       "      <td>3</td>\n",
       "      <td>1</td>\n",
       "      <td>3131</td>\n",
       "    </tr>\n",
       "    <tr>\n",
       "      <th>4</th>\n",
       "      <td>003bbd39-0000-41ff-b7f9-2ddaec152037</td>\n",
       "      <td>124</td>\n",
       "      <td>1</td>\n",
       "      <td>2324.0</td>\n",
       "      <td>1</td>\n",
       "      <td>3</td>\n",
       "      <td>1</td>\n",
       "      <td>4</td>\n",
       "      <td>1</td>\n",
       "      <td>3141</td>\n",
       "    </tr>\n",
       "    <tr>\n",
       "      <th>11</th>\n",
       "      <td>00e59a12-06d5-47fc-9a33-bfc53aca1e9f</td>\n",
       "      <td>202</td>\n",
       "      <td>1</td>\n",
       "      <td>1798.0</td>\n",
       "      <td>1</td>\n",
       "      <td>3</td>\n",
       "      <td>1</td>\n",
       "      <td>3</td>\n",
       "      <td>1</td>\n",
       "      <td>3131</td>\n",
       "    </tr>\n",
       "    <tr>\n",
       "      <th>13</th>\n",
       "      <td>0114e87e-78e2-49bf-9c8c-bbddd7191a3f</td>\n",
       "      <td>108</td>\n",
       "      <td>1</td>\n",
       "      <td>974.0</td>\n",
       "      <td>1</td>\n",
       "      <td>3</td>\n",
       "      <td>1</td>\n",
       "      <td>3</td>\n",
       "      <td>1</td>\n",
       "      <td>3131</td>\n",
       "    </tr>\n",
       "    <tr>\n",
       "      <th>...</th>\n",
       "      <td>...</td>\n",
       "      <td>...</td>\n",
       "      <td>...</td>\n",
       "      <td>...</td>\n",
       "      <td>...</td>\n",
       "      <td>...</td>\n",
       "      <td>...</td>\n",
       "      <td>...</td>\n",
       "      <td>...</td>\n",
       "      <td>...</td>\n",
       "    </tr>\n",
       "    <tr>\n",
       "      <th>2429</th>\n",
       "      <td>fd4bc7b8-6ad6-4077-8e63-3593ab5e1cfd</td>\n",
       "      <td>126</td>\n",
       "      <td>1</td>\n",
       "      <td>1087.0</td>\n",
       "      <td>1</td>\n",
       "      <td>3</td>\n",
       "      <td>1</td>\n",
       "      <td>3</td>\n",
       "      <td>1</td>\n",
       "      <td>3131</td>\n",
       "    </tr>\n",
       "    <tr>\n",
       "      <th>2442</th>\n",
       "      <td>ff0c73c3-6b62-4e67-8e12-bb83ed1851d5</td>\n",
       "      <td>93</td>\n",
       "      <td>1</td>\n",
       "      <td>899.0</td>\n",
       "      <td>1</td>\n",
       "      <td>3</td>\n",
       "      <td>1</td>\n",
       "      <td>3</td>\n",
       "      <td>1</td>\n",
       "      <td>3131</td>\n",
       "    </tr>\n",
       "    <tr>\n",
       "      <th>2446</th>\n",
       "      <td>ffaeab76-3a8d-49ee-860f-17273b2fc8a2</td>\n",
       "      <td>93</td>\n",
       "      <td>1</td>\n",
       "      <td>397.0</td>\n",
       "      <td>1</td>\n",
       "      <td>3</td>\n",
       "      <td>1</td>\n",
       "      <td>2</td>\n",
       "      <td>1</td>\n",
       "      <td>3121</td>\n",
       "    </tr>\n",
       "    <tr>\n",
       "      <th>2448</th>\n",
       "      <td>ffb80538-3fda-4351-8ea9-9d2bec58bb07</td>\n",
       "      <td>144</td>\n",
       "      <td>1</td>\n",
       "      <td>974.0</td>\n",
       "      <td>1</td>\n",
       "      <td>3</td>\n",
       "      <td>1</td>\n",
       "      <td>3</td>\n",
       "      <td>1</td>\n",
       "      <td>3131</td>\n",
       "    </tr>\n",
       "    <tr>\n",
       "      <th>2449</th>\n",
       "      <td>ffe82299-3f5b-4214-87fe-3d36ecccfac3</td>\n",
       "      <td>101</td>\n",
       "      <td>1</td>\n",
       "      <td>577.0</td>\n",
       "      <td>1</td>\n",
       "      <td>3</td>\n",
       "      <td>1</td>\n",
       "      <td>2</td>\n",
       "      <td>1</td>\n",
       "      <td>3121</td>\n",
       "    </tr>\n",
       "  </tbody>\n",
       "</table>\n",
       "<p>443 rows × 10 columns</p>\n",
       "</div>"
      ],
      "text/plain": [
       "                               customer_id  recency  frequency  \\\n",
       "0     000d6849-084e-4d9f-ac03-37174eaf60c4      107          1   \n",
       "2     00299f34-5385-4d13-9aea-c80b81658e1b      109          1   \n",
       "4     003bbd39-0000-41ff-b7f9-2ddaec152037      124          1   \n",
       "11    00e59a12-06d5-47fc-9a33-bfc53aca1e9f      202          1   \n",
       "13    0114e87e-78e2-49bf-9c8c-bbddd7191a3f      108          1   \n",
       "...                                    ...      ...        ...   \n",
       "2429  fd4bc7b8-6ad6-4077-8e63-3593ab5e1cfd      126          1   \n",
       "2442  ff0c73c3-6b62-4e67-8e12-bb83ed1851d5       93          1   \n",
       "2446  ffaeab76-3a8d-49ee-860f-17273b2fc8a2       93          1   \n",
       "2448  ffb80538-3fda-4351-8ea9-9d2bec58bb07      144          1   \n",
       "2449  ffe82299-3f5b-4214-87fe-3d36ecccfac3      101          1   \n",
       "\n",
       "      monetary_value  category  R_Quartile  F_Quartile  M_Quartile  \\\n",
       "0              555.0         1           3           1           2   \n",
       "2              914.0         1           3           1           3   \n",
       "4             2324.0         1           3           1           4   \n",
       "11            1798.0         1           3           1           3   \n",
       "13             974.0         1           3           1           3   \n",
       "...              ...       ...         ...         ...         ...   \n",
       "2429          1087.0         1           3           1           3   \n",
       "2442           899.0         1           3           1           3   \n",
       "2446           397.0         1           3           1           2   \n",
       "2448           974.0         1           3           1           3   \n",
       "2449           577.0         1           3           1           2   \n",
       "\n",
       "      C_Quartile RFMClass  \n",
       "0              1     3121  \n",
       "2              1     3131  \n",
       "4              1     3141  \n",
       "11             1     3131  \n",
       "13             1     3131  \n",
       "...          ...      ...  \n",
       "2429           1     3131  \n",
       "2442           1     3131  \n",
       "2446           1     3121  \n",
       "2448           1     3131  \n",
       "2449           1     3121  \n",
       "\n",
       "[443 rows x 10 columns]"
      ]
     },
     "execution_count": 86,
     "metadata": {},
     "output_type": "execute_result"
    }
   ],
   "source": [
    "new_less_category"
   ]
  },
  {
   "cell_type": "markdown",
   "id": "3bb4aaae",
   "metadata": {},
   "source": [
    "Шестой сегмент, новые клиенты без разнообразия в категориях"
   ]
  },
  {
   "cell_type": "code",
   "execution_count": 87,
   "id": "87a594e5",
   "metadata": {},
   "outputs": [],
   "source": [
    "facet_more_category = RFM_Segment[(RFM_Segment['R_Quartile'] <= 2) & (RFM_Segment['C_Quartile'] >= 3)].sort_values('monetary_value', ascending=False)\n",
    "fmc = facet_more_category['customer_id'].tolist()"
   ]
  },
  {
   "cell_type": "code",
   "execution_count": 88,
   "id": "1fc86684",
   "metadata": {},
   "outputs": [
    {
     "data": {
      "text/html": [
       "<div>\n",
       "<style scoped>\n",
       "    .dataframe tbody tr th:only-of-type {\n",
       "        vertical-align: middle;\n",
       "    }\n",
       "\n",
       "    .dataframe tbody tr th {\n",
       "        vertical-align: top;\n",
       "    }\n",
       "\n",
       "    .dataframe thead th {\n",
       "        text-align: right;\n",
       "    }\n",
       "</style>\n",
       "<table border=\"1\" class=\"dataframe\">\n",
       "  <thead>\n",
       "    <tr style=\"text-align: right;\">\n",
       "      <th></th>\n",
       "      <th>customer_id</th>\n",
       "      <th>recency</th>\n",
       "      <th>frequency</th>\n",
       "      <th>monetary_value</th>\n",
       "      <th>category</th>\n",
       "      <th>R_Quartile</th>\n",
       "      <th>F_Quartile</th>\n",
       "      <th>M_Quartile</th>\n",
       "      <th>C_Quartile</th>\n",
       "      <th>RFMClass</th>\n",
       "    </tr>\n",
       "  </thead>\n",
       "  <tbody>\n",
       "    <tr>\n",
       "      <th>1915</th>\n",
       "      <td>c971fb21-d54c-4134-938f-16b62ee86d3b</td>\n",
       "      <td>331</td>\n",
       "      <td>126</td>\n",
       "      <td>159508.0</td>\n",
       "      <td>7</td>\n",
       "      <td>2</td>\n",
       "      <td>4</td>\n",
       "      <td>4</td>\n",
       "      <td>4</td>\n",
       "      <td>2444</td>\n",
       "    </tr>\n",
       "    <tr>\n",
       "      <th>741</th>\n",
       "      <td>4d93d3f6-8b24-403b-a74b-f5173e40d7db</td>\n",
       "      <td>464</td>\n",
       "      <td>35</td>\n",
       "      <td>57278.0</td>\n",
       "      <td>6</td>\n",
       "      <td>1</td>\n",
       "      <td>4</td>\n",
       "      <td>4</td>\n",
       "      <td>4</td>\n",
       "      <td>1444</td>\n",
       "    </tr>\n",
       "    <tr>\n",
       "      <th>698</th>\n",
       "      <td>498f12a4-6a62-4725-8516-cf5dc9ab8a3a</td>\n",
       "      <td>287</td>\n",
       "      <td>4</td>\n",
       "      <td>41900.0</td>\n",
       "      <td>2</td>\n",
       "      <td>2</td>\n",
       "      <td>4</td>\n",
       "      <td>4</td>\n",
       "      <td>3</td>\n",
       "      <td>2443</td>\n",
       "    </tr>\n",
       "    <tr>\n",
       "      <th>1359</th>\n",
       "      <td>8fba3604-ef57-4b9f-b2fe-3402fa8825c8</td>\n",
       "      <td>428</td>\n",
       "      <td>1</td>\n",
       "      <td>33680.0</td>\n",
       "      <td>2</td>\n",
       "      <td>1</td>\n",
       "      <td>1</td>\n",
       "      <td>4</td>\n",
       "      <td>3</td>\n",
       "      <td>1143</td>\n",
       "    </tr>\n",
       "    <tr>\n",
       "      <th>1505</th>\n",
       "      <td>9f1e7d7d-ff10-4eb1-b596-1cbf8075aa3f</td>\n",
       "      <td>462</td>\n",
       "      <td>1</td>\n",
       "      <td>22056.0</td>\n",
       "      <td>3</td>\n",
       "      <td>1</td>\n",
       "      <td>1</td>\n",
       "      <td>4</td>\n",
       "      <td>4</td>\n",
       "      <td>1144</td>\n",
       "    </tr>\n",
       "    <tr>\n",
       "      <th>...</th>\n",
       "      <td>...</td>\n",
       "      <td>...</td>\n",
       "      <td>...</td>\n",
       "      <td>...</td>\n",
       "      <td>...</td>\n",
       "      <td>...</td>\n",
       "      <td>...</td>\n",
       "      <td>...</td>\n",
       "      <td>...</td>\n",
       "      <td>...</td>\n",
       "    </tr>\n",
       "    <tr>\n",
       "      <th>2375</th>\n",
       "      <td>f7e11f53-18cc-4699-8da5-1d5c5e47349b</td>\n",
       "      <td>280</td>\n",
       "      <td>1</td>\n",
       "      <td>426.0</td>\n",
       "      <td>2</td>\n",
       "      <td>2</td>\n",
       "      <td>1</td>\n",
       "      <td>2</td>\n",
       "      <td>3</td>\n",
       "      <td>2123</td>\n",
       "    </tr>\n",
       "    <tr>\n",
       "      <th>192</th>\n",
       "      <td>13f31376-e99b-4a4a-a538-8a5dc64f6599</td>\n",
       "      <td>436</td>\n",
       "      <td>1</td>\n",
       "      <td>380.0</td>\n",
       "      <td>2</td>\n",
       "      <td>1</td>\n",
       "      <td>1</td>\n",
       "      <td>1</td>\n",
       "      <td>3</td>\n",
       "      <td>1113</td>\n",
       "    </tr>\n",
       "    <tr>\n",
       "      <th>369</th>\n",
       "      <td>278cffb9-4414-449a-8cb8-ffdbef1bf1d8</td>\n",
       "      <td>434</td>\n",
       "      <td>1</td>\n",
       "      <td>363.0</td>\n",
       "      <td>2</td>\n",
       "      <td>1</td>\n",
       "      <td>1</td>\n",
       "      <td>1</td>\n",
       "      <td>3</td>\n",
       "      <td>1113</td>\n",
       "    </tr>\n",
       "    <tr>\n",
       "      <th>672</th>\n",
       "      <td>45d39ca2-c2f6-456e-8a79-89988c74515c</td>\n",
       "      <td>460</td>\n",
       "      <td>1</td>\n",
       "      <td>328.0</td>\n",
       "      <td>2</td>\n",
       "      <td>1</td>\n",
       "      <td>1</td>\n",
       "      <td>1</td>\n",
       "      <td>3</td>\n",
       "      <td>1113</td>\n",
       "    </tr>\n",
       "    <tr>\n",
       "      <th>2155</th>\n",
       "      <td>e163be92-04cb-4859-a0f5-143ed106da73</td>\n",
       "      <td>373</td>\n",
       "      <td>2</td>\n",
       "      <td>231.0</td>\n",
       "      <td>2</td>\n",
       "      <td>1</td>\n",
       "      <td>3</td>\n",
       "      <td>1</td>\n",
       "      <td>3</td>\n",
       "      <td>1313</td>\n",
       "    </tr>\n",
       "  </tbody>\n",
       "</table>\n",
       "<p>67 rows × 10 columns</p>\n",
       "</div>"
      ],
      "text/plain": [
       "                               customer_id  recency  frequency  \\\n",
       "1915  c971fb21-d54c-4134-938f-16b62ee86d3b      331        126   \n",
       "741   4d93d3f6-8b24-403b-a74b-f5173e40d7db      464         35   \n",
       "698   498f12a4-6a62-4725-8516-cf5dc9ab8a3a      287          4   \n",
       "1359  8fba3604-ef57-4b9f-b2fe-3402fa8825c8      428          1   \n",
       "1505  9f1e7d7d-ff10-4eb1-b596-1cbf8075aa3f      462          1   \n",
       "...                                    ...      ...        ...   \n",
       "2375  f7e11f53-18cc-4699-8da5-1d5c5e47349b      280          1   \n",
       "192   13f31376-e99b-4a4a-a538-8a5dc64f6599      436          1   \n",
       "369   278cffb9-4414-449a-8cb8-ffdbef1bf1d8      434          1   \n",
       "672   45d39ca2-c2f6-456e-8a79-89988c74515c      460          1   \n",
       "2155  e163be92-04cb-4859-a0f5-143ed106da73      373          2   \n",
       "\n",
       "      monetary_value  category  R_Quartile  F_Quartile  M_Quartile  \\\n",
       "1915        159508.0         7           2           4           4   \n",
       "741          57278.0         6           1           4           4   \n",
       "698          41900.0         2           2           4           4   \n",
       "1359         33680.0         2           1           1           4   \n",
       "1505         22056.0         3           1           1           4   \n",
       "...              ...       ...         ...         ...         ...   \n",
       "2375           426.0         2           2           1           2   \n",
       "192            380.0         2           1           1           1   \n",
       "369            363.0         2           1           1           1   \n",
       "672            328.0         2           1           1           1   \n",
       "2155           231.0         2           1           3           1   \n",
       "\n",
       "      C_Quartile RFMClass  \n",
       "1915           4     2444  \n",
       "741            4     1444  \n",
       "698            3     2443  \n",
       "1359           3     1143  \n",
       "1505           4     1144  \n",
       "...          ...      ...  \n",
       "2375           3     2123  \n",
       "192            3     1113  \n",
       "369            3     1113  \n",
       "672            3     1113  \n",
       "2155           3     1313  \n",
       "\n",
       "[67 rows x 10 columns]"
      ]
     },
     "execution_count": 88,
     "metadata": {},
     "output_type": "execute_result"
    }
   ],
   "source": [
    "facet_more_category"
   ]
  },
  {
   "cell_type": "markdown",
   "id": "5a34ddaf",
   "metadata": {},
   "source": [
    "Седьмой сегмент, клиенты на грани оттока с разнообразием в категориях"
   ]
  },
  {
   "cell_type": "code",
   "execution_count": 89,
   "id": "93e049d7",
   "metadata": {},
   "outputs": [],
   "source": [
    "facet_less_category = RFM_Segment[(RFM_Segment['R_Quartile'] <= 2) & (RFM_Segment['C_Quartile'] < 3) & (RFM_Segment['RFMClass'] != '1111')].sort_values('monetary_value', ascending=False)\n",
    "flc = facet_less_category['customer_id'].tolist()"
   ]
  },
  {
   "cell_type": "code",
   "execution_count": 90,
   "id": "37338d47",
   "metadata": {},
   "outputs": [
    {
     "data": {
      "text/html": [
       "<div>\n",
       "<style scoped>\n",
       "    .dataframe tbody tr th:only-of-type {\n",
       "        vertical-align: middle;\n",
       "    }\n",
       "\n",
       "    .dataframe tbody tr th {\n",
       "        vertical-align: top;\n",
       "    }\n",
       "\n",
       "    .dataframe thead th {\n",
       "        text-align: right;\n",
       "    }\n",
       "</style>\n",
       "<table border=\"1\" class=\"dataframe\">\n",
       "  <thead>\n",
       "    <tr style=\"text-align: right;\">\n",
       "      <th></th>\n",
       "      <th>customer_id</th>\n",
       "      <th>recency</th>\n",
       "      <th>frequency</th>\n",
       "      <th>monetary_value</th>\n",
       "      <th>category</th>\n",
       "      <th>R_Quartile</th>\n",
       "      <th>F_Quartile</th>\n",
       "      <th>M_Quartile</th>\n",
       "      <th>C_Quartile</th>\n",
       "      <th>RFMClass</th>\n",
       "    </tr>\n",
       "  </thead>\n",
       "  <tbody>\n",
       "    <tr>\n",
       "      <th>838</th>\n",
       "      <td>58a4c3cc-504f-43ea-a74a-bae19e665552</td>\n",
       "      <td>381</td>\n",
       "      <td>2</td>\n",
       "      <td>53232.0</td>\n",
       "      <td>1</td>\n",
       "      <td>1</td>\n",
       "      <td>3</td>\n",
       "      <td>4</td>\n",
       "      <td>1</td>\n",
       "      <td>1341</td>\n",
       "    </tr>\n",
       "    <tr>\n",
       "      <th>199</th>\n",
       "      <td>146cd9bf-a95c-4afb-915b-5f6684b17444</td>\n",
       "      <td>234</td>\n",
       "      <td>1</td>\n",
       "      <td>49432.0</td>\n",
       "      <td>1</td>\n",
       "      <td>2</td>\n",
       "      <td>1</td>\n",
       "      <td>4</td>\n",
       "      <td>1</td>\n",
       "      <td>2141</td>\n",
       "    </tr>\n",
       "    <tr>\n",
       "      <th>992</th>\n",
       "      <td>6987e6d6-a63a-4ce2-a2d0-f424092d235e</td>\n",
       "      <td>406</td>\n",
       "      <td>1</td>\n",
       "      <td>32718.0</td>\n",
       "      <td>1</td>\n",
       "      <td>1</td>\n",
       "      <td>1</td>\n",
       "      <td>4</td>\n",
       "      <td>1</td>\n",
       "      <td>1141</td>\n",
       "    </tr>\n",
       "    <tr>\n",
       "      <th>267</th>\n",
       "      <td>1b2764ad-9151-4051-a46a-9b01b62e6335</td>\n",
       "      <td>451</td>\n",
       "      <td>1</td>\n",
       "      <td>24370.0</td>\n",
       "      <td>1</td>\n",
       "      <td>1</td>\n",
       "      <td>1</td>\n",
       "      <td>4</td>\n",
       "      <td>1</td>\n",
       "      <td>1141</td>\n",
       "    </tr>\n",
       "    <tr>\n",
       "      <th>1394</th>\n",
       "      <td>940c175f-ea87-44e0-9e16-0a3d0a9abecd</td>\n",
       "      <td>233</td>\n",
       "      <td>2</td>\n",
       "      <td>20232.0</td>\n",
       "      <td>1</td>\n",
       "      <td>2</td>\n",
       "      <td>3</td>\n",
       "      <td>4</td>\n",
       "      <td>1</td>\n",
       "      <td>2341</td>\n",
       "    </tr>\n",
       "    <tr>\n",
       "      <th>...</th>\n",
       "      <td>...</td>\n",
       "      <td>...</td>\n",
       "      <td>...</td>\n",
       "      <td>...</td>\n",
       "      <td>...</td>\n",
       "      <td>...</td>\n",
       "      <td>...</td>\n",
       "      <td>...</td>\n",
       "      <td>...</td>\n",
       "      <td>...</td>\n",
       "    </tr>\n",
       "    <tr>\n",
       "      <th>2224</th>\n",
       "      <td>e9e94e71-4cd2-47fc-9b3f-1ec96bd2d95e</td>\n",
       "      <td>283</td>\n",
       "      <td>1</td>\n",
       "      <td>22.0</td>\n",
       "      <td>1</td>\n",
       "      <td>2</td>\n",
       "      <td>1</td>\n",
       "      <td>1</td>\n",
       "      <td>1</td>\n",
       "      <td>2111</td>\n",
       "    </tr>\n",
       "    <tr>\n",
       "      <th>2038</th>\n",
       "      <td>d5660bff-407f-463d-b2ff-e90a9ca05976</td>\n",
       "      <td>289</td>\n",
       "      <td>1</td>\n",
       "      <td>22.0</td>\n",
       "      <td>1</td>\n",
       "      <td>2</td>\n",
       "      <td>1</td>\n",
       "      <td>1</td>\n",
       "      <td>1</td>\n",
       "      <td>2111</td>\n",
       "    </tr>\n",
       "    <tr>\n",
       "      <th>691</th>\n",
       "      <td>48788184-498b-49da-955e-7737bf7c9047</td>\n",
       "      <td>283</td>\n",
       "      <td>1</td>\n",
       "      <td>22.0</td>\n",
       "      <td>1</td>\n",
       "      <td>2</td>\n",
       "      <td>1</td>\n",
       "      <td>1</td>\n",
       "      <td>1</td>\n",
       "      <td>2111</td>\n",
       "    </tr>\n",
       "    <tr>\n",
       "      <th>408</th>\n",
       "      <td>2b6439c9-1ae1-4785-9509-ca4348b3d39a</td>\n",
       "      <td>277</td>\n",
       "      <td>1</td>\n",
       "      <td>22.0</td>\n",
       "      <td>1</td>\n",
       "      <td>2</td>\n",
       "      <td>1</td>\n",
       "      <td>1</td>\n",
       "      <td>1</td>\n",
       "      <td>2111</td>\n",
       "    </tr>\n",
       "    <tr>\n",
       "      <th>317</th>\n",
       "      <td>21df03ad-d9ac-47e9-a482-5372fd3e2464</td>\n",
       "      <td>303</td>\n",
       "      <td>1</td>\n",
       "      <td>22.0</td>\n",
       "      <td>1</td>\n",
       "      <td>2</td>\n",
       "      <td>1</td>\n",
       "      <td>1</td>\n",
       "      <td>1</td>\n",
       "      <td>2111</td>\n",
       "    </tr>\n",
       "  </tbody>\n",
       "</table>\n",
       "<p>1009 rows × 10 columns</p>\n",
       "</div>"
      ],
      "text/plain": [
       "                               customer_id  recency  frequency  \\\n",
       "838   58a4c3cc-504f-43ea-a74a-bae19e665552      381          2   \n",
       "199   146cd9bf-a95c-4afb-915b-5f6684b17444      234          1   \n",
       "992   6987e6d6-a63a-4ce2-a2d0-f424092d235e      406          1   \n",
       "267   1b2764ad-9151-4051-a46a-9b01b62e6335      451          1   \n",
       "1394  940c175f-ea87-44e0-9e16-0a3d0a9abecd      233          2   \n",
       "...                                    ...      ...        ...   \n",
       "2224  e9e94e71-4cd2-47fc-9b3f-1ec96bd2d95e      283          1   \n",
       "2038  d5660bff-407f-463d-b2ff-e90a9ca05976      289          1   \n",
       "691   48788184-498b-49da-955e-7737bf7c9047      283          1   \n",
       "408   2b6439c9-1ae1-4785-9509-ca4348b3d39a      277          1   \n",
       "317   21df03ad-d9ac-47e9-a482-5372fd3e2464      303          1   \n",
       "\n",
       "      monetary_value  category  R_Quartile  F_Quartile  M_Quartile  \\\n",
       "838          53232.0         1           1           3           4   \n",
       "199          49432.0         1           2           1           4   \n",
       "992          32718.0         1           1           1           4   \n",
       "267          24370.0         1           1           1           4   \n",
       "1394         20232.0         1           2           3           4   \n",
       "...              ...       ...         ...         ...         ...   \n",
       "2224            22.0         1           2           1           1   \n",
       "2038            22.0         1           2           1           1   \n",
       "691             22.0         1           2           1           1   \n",
       "408             22.0         1           2           1           1   \n",
       "317             22.0         1           2           1           1   \n",
       "\n",
       "      C_Quartile RFMClass  \n",
       "838            1     1341  \n",
       "199            1     2141  \n",
       "992            1     1141  \n",
       "267            1     1141  \n",
       "1394           1     2341  \n",
       "...          ...      ...  \n",
       "2224           1     2111  \n",
       "2038           1     2111  \n",
       "691            1     2111  \n",
       "408            1     2111  \n",
       "317            1     2111  \n",
       "\n",
       "[1009 rows x 10 columns]"
      ]
     },
     "execution_count": 90,
     "metadata": {},
     "output_type": "execute_result"
    }
   ],
   "source": [
    "facet_less_category"
   ]
  },
  {
   "cell_type": "markdown",
   "id": "05808065",
   "metadata": {},
   "source": [
    "Восьмой сегмент, клиенты на грани оттока без разнообразия в категориях"
   ]
  },
  {
   "cell_type": "code",
   "execution_count": 91,
   "id": "2ae30eab",
   "metadata": {},
   "outputs": [],
   "source": [
    "missed = RFM_Segment[RFM_Segment['RFMClass']=='1111'].sort_values('recency',ascending=False)\n",
    "m = missed['customer_id'].tolist()"
   ]
  },
  {
   "cell_type": "code",
   "execution_count": 92,
   "id": "077e3bed",
   "metadata": {},
   "outputs": [
    {
     "data": {
      "text/html": [
       "<div>\n",
       "<style scoped>\n",
       "    .dataframe tbody tr th:only-of-type {\n",
       "        vertical-align: middle;\n",
       "    }\n",
       "\n",
       "    .dataframe tbody tr th {\n",
       "        vertical-align: top;\n",
       "    }\n",
       "\n",
       "    .dataframe thead th {\n",
       "        text-align: right;\n",
       "    }\n",
       "</style>\n",
       "<table border=\"1\" class=\"dataframe\">\n",
       "  <thead>\n",
       "    <tr style=\"text-align: right;\">\n",
       "      <th></th>\n",
       "      <th>customer_id</th>\n",
       "      <th>recency</th>\n",
       "      <th>frequency</th>\n",
       "      <th>monetary_value</th>\n",
       "      <th>category</th>\n",
       "      <th>R_Quartile</th>\n",
       "      <th>F_Quartile</th>\n",
       "      <th>M_Quartile</th>\n",
       "      <th>C_Quartile</th>\n",
       "      <th>RFMClass</th>\n",
       "    </tr>\n",
       "  </thead>\n",
       "  <tbody>\n",
       "    <tr>\n",
       "      <th>904</th>\n",
       "      <td>5f75c73a-1305-4079-b040-2bcb42085002</td>\n",
       "      <td>486</td>\n",
       "      <td>1</td>\n",
       "      <td>299.0</td>\n",
       "      <td>1</td>\n",
       "      <td>1</td>\n",
       "      <td>1</td>\n",
       "      <td>1</td>\n",
       "      <td>1</td>\n",
       "      <td>1111</td>\n",
       "    </tr>\n",
       "    <tr>\n",
       "      <th>390</th>\n",
       "      <td>29a514f5-a27e-4939-85d5-874a0c3f7a2c</td>\n",
       "      <td>486</td>\n",
       "      <td>1</td>\n",
       "      <td>193.0</td>\n",
       "      <td>1</td>\n",
       "      <td>1</td>\n",
       "      <td>1</td>\n",
       "      <td>1</td>\n",
       "      <td>1</td>\n",
       "      <td>1111</td>\n",
       "    </tr>\n",
       "    <tr>\n",
       "      <th>478</th>\n",
       "      <td>32a85453-f14d-40c2-90ba-3851498a5f3b</td>\n",
       "      <td>486</td>\n",
       "      <td>1</td>\n",
       "      <td>374.0</td>\n",
       "      <td>1</td>\n",
       "      <td>1</td>\n",
       "      <td>1</td>\n",
       "      <td>1</td>\n",
       "      <td>1</td>\n",
       "      <td>1111</td>\n",
       "    </tr>\n",
       "    <tr>\n",
       "      <th>2291</th>\n",
       "      <td>f08d9018-438e-4e96-b519-f74c0302a433</td>\n",
       "      <td>486</td>\n",
       "      <td>1</td>\n",
       "      <td>359.0</td>\n",
       "      <td>1</td>\n",
       "      <td>1</td>\n",
       "      <td>1</td>\n",
       "      <td>1</td>\n",
       "      <td>1</td>\n",
       "      <td>1111</td>\n",
       "    </tr>\n",
       "    <tr>\n",
       "      <th>2276</th>\n",
       "      <td>eee7b1fa-ba81-4049-add6-370ee5e62e72</td>\n",
       "      <td>485</td>\n",
       "      <td>1</td>\n",
       "      <td>187.0</td>\n",
       "      <td>1</td>\n",
       "      <td>1</td>\n",
       "      <td>1</td>\n",
       "      <td>1</td>\n",
       "      <td>1</td>\n",
       "      <td>1111</td>\n",
       "    </tr>\n",
       "    <tr>\n",
       "      <th>...</th>\n",
       "      <td>...</td>\n",
       "      <td>...</td>\n",
       "      <td>...</td>\n",
       "      <td>...</td>\n",
       "      <td>...</td>\n",
       "      <td>...</td>\n",
       "      <td>...</td>\n",
       "      <td>...</td>\n",
       "      <td>...</td>\n",
       "      <td>...</td>\n",
       "    </tr>\n",
       "    <tr>\n",
       "      <th>728</th>\n",
       "      <td>4c177878-f465-421f-b7c2-4785d67c66d3</td>\n",
       "      <td>347</td>\n",
       "      <td>1</td>\n",
       "      <td>300.0</td>\n",
       "      <td>1</td>\n",
       "      <td>1</td>\n",
       "      <td>1</td>\n",
       "      <td>1</td>\n",
       "      <td>1</td>\n",
       "      <td>1111</td>\n",
       "    </tr>\n",
       "    <tr>\n",
       "      <th>2238</th>\n",
       "      <td>eb8a6adb-9211-4973-97c4-85f4f2695363</td>\n",
       "      <td>346</td>\n",
       "      <td>1</td>\n",
       "      <td>88.0</td>\n",
       "      <td>1</td>\n",
       "      <td>1</td>\n",
       "      <td>1</td>\n",
       "      <td>1</td>\n",
       "      <td>1</td>\n",
       "      <td>1111</td>\n",
       "    </tr>\n",
       "    <tr>\n",
       "      <th>2009</th>\n",
       "      <td>d220a441-2ed1-428e-8f3f-966beb50bd0e</td>\n",
       "      <td>345</td>\n",
       "      <td>1</td>\n",
       "      <td>314.0</td>\n",
       "      <td>1</td>\n",
       "      <td>1</td>\n",
       "      <td>1</td>\n",
       "      <td>1</td>\n",
       "      <td>1</td>\n",
       "      <td>1111</td>\n",
       "    </tr>\n",
       "    <tr>\n",
       "      <th>545</th>\n",
       "      <td>384c1e4b-ac85-44bf-8968-4377d626e983</td>\n",
       "      <td>345</td>\n",
       "      <td>1</td>\n",
       "      <td>134.0</td>\n",
       "      <td>1</td>\n",
       "      <td>1</td>\n",
       "      <td>1</td>\n",
       "      <td>1</td>\n",
       "      <td>1</td>\n",
       "      <td>1111</td>\n",
       "    </tr>\n",
       "    <tr>\n",
       "      <th>2437</th>\n",
       "      <td>fe7fbb35-03de-4f95-9386-14439d62c03e</td>\n",
       "      <td>345</td>\n",
       "      <td>1</td>\n",
       "      <td>374.0</td>\n",
       "      <td>1</td>\n",
       "      <td>1</td>\n",
       "      <td>1</td>\n",
       "      <td>1</td>\n",
       "      <td>1</td>\n",
       "      <td>1111</td>\n",
       "    </tr>\n",
       "  </tbody>\n",
       "</table>\n",
       "<p>147 rows × 10 columns</p>\n",
       "</div>"
      ],
      "text/plain": [
       "                               customer_id  recency  frequency  \\\n",
       "904   5f75c73a-1305-4079-b040-2bcb42085002      486          1   \n",
       "390   29a514f5-a27e-4939-85d5-874a0c3f7a2c      486          1   \n",
       "478   32a85453-f14d-40c2-90ba-3851498a5f3b      486          1   \n",
       "2291  f08d9018-438e-4e96-b519-f74c0302a433      486          1   \n",
       "2276  eee7b1fa-ba81-4049-add6-370ee5e62e72      485          1   \n",
       "...                                    ...      ...        ...   \n",
       "728   4c177878-f465-421f-b7c2-4785d67c66d3      347          1   \n",
       "2238  eb8a6adb-9211-4973-97c4-85f4f2695363      346          1   \n",
       "2009  d220a441-2ed1-428e-8f3f-966beb50bd0e      345          1   \n",
       "545   384c1e4b-ac85-44bf-8968-4377d626e983      345          1   \n",
       "2437  fe7fbb35-03de-4f95-9386-14439d62c03e      345          1   \n",
       "\n",
       "      monetary_value  category  R_Quartile  F_Quartile  M_Quartile  \\\n",
       "904            299.0         1           1           1           1   \n",
       "390            193.0         1           1           1           1   \n",
       "478            374.0         1           1           1           1   \n",
       "2291           359.0         1           1           1           1   \n",
       "2276           187.0         1           1           1           1   \n",
       "...              ...       ...         ...         ...         ...   \n",
       "728            300.0         1           1           1           1   \n",
       "2238            88.0         1           1           1           1   \n",
       "2009           314.0         1           1           1           1   \n",
       "545            134.0         1           1           1           1   \n",
       "2437           374.0         1           1           1           1   \n",
       "\n",
       "      C_Quartile RFMClass  \n",
       "904            1     1111  \n",
       "390            1     1111  \n",
       "478            1     1111  \n",
       "2291           1     1111  \n",
       "2276           1     1111  \n",
       "...          ...      ...  \n",
       "728            1     1111  \n",
       "2238           1     1111  \n",
       "2009           1     1111  \n",
       "545            1     1111  \n",
       "2437           1     1111  \n",
       "\n",
       "[147 rows x 10 columns]"
      ]
     },
     "execution_count": 92,
     "metadata": {},
     "output_type": "execute_result"
    }
   ],
   "source": [
    "missed"
   ]
  },
  {
   "cell_type": "markdown",
   "id": "68157aa7",
   "metadata": {},
   "source": [
    "Девятый сегмент, упущенные клиенты"
   ]
  },
  {
   "cell_type": "code",
   "execution_count": 93,
   "id": "91630549",
   "metadata": {},
   "outputs": [],
   "source": [
    "def segmentation(id):\n",
    "    if id in bms:\n",
    "        return 1\n",
    "    if id in bls:\n",
    "        return 2\n",
    "    if id in lms:\n",
    "        return 3\n",
    "    if id in lls:\n",
    "        return 4\n",
    "    if id in nmc:\n",
    "        return 5\n",
    "    if id in nlc:\n",
    "        return 6\n",
    "    if id in fmc:\n",
    "        return 7\n",
    "    if id in flc:\n",
    "        return 8\n",
    "    if id in m:\n",
    "        return 9\n",
    "    else:\n",
    "        return 0"
   ]
  },
  {
   "cell_type": "code",
   "execution_count": 94,
   "id": "914b9351",
   "metadata": {},
   "outputs": [
    {
     "data": {
      "text/html": [
       "<div>\n",
       "<style scoped>\n",
       "    .dataframe tbody tr th:only-of-type {\n",
       "        vertical-align: middle;\n",
       "    }\n",
       "\n",
       "    .dataframe tbody tr th {\n",
       "        vertical-align: top;\n",
       "    }\n",
       "\n",
       "    .dataframe thead th {\n",
       "        text-align: right;\n",
       "    }\n",
       "</style>\n",
       "<table border=\"1\" class=\"dataframe\">\n",
       "  <thead>\n",
       "    <tr style=\"text-align: right;\">\n",
       "      <th></th>\n",
       "      <th>customer_id</th>\n",
       "      <th>recency</th>\n",
       "      <th>frequency</th>\n",
       "      <th>monetary_value</th>\n",
       "      <th>category</th>\n",
       "      <th>R_Quartile</th>\n",
       "      <th>F_Quartile</th>\n",
       "      <th>M_Quartile</th>\n",
       "      <th>C_Quartile</th>\n",
       "      <th>RFMClass</th>\n",
       "      <th>segment</th>\n",
       "    </tr>\n",
       "  </thead>\n",
       "  <tbody>\n",
       "    <tr>\n",
       "      <th>0</th>\n",
       "      <td>000d6849-084e-4d9f-ac03-37174eaf60c4</td>\n",
       "      <td>107</td>\n",
       "      <td>1</td>\n",
       "      <td>555.0</td>\n",
       "      <td>1</td>\n",
       "      <td>3</td>\n",
       "      <td>1</td>\n",
       "      <td>2</td>\n",
       "      <td>1</td>\n",
       "      <td>3121</td>\n",
       "      <td>6</td>\n",
       "    </tr>\n",
       "    <tr>\n",
       "      <th>1</th>\n",
       "      <td>001cee7f-0b29-4716-b202-0042213ab038</td>\n",
       "      <td>349</td>\n",
       "      <td>1</td>\n",
       "      <td>442.0</td>\n",
       "      <td>1</td>\n",
       "      <td>1</td>\n",
       "      <td>1</td>\n",
       "      <td>2</td>\n",
       "      <td>1</td>\n",
       "      <td>1121</td>\n",
       "      <td>8</td>\n",
       "    </tr>\n",
       "    <tr>\n",
       "      <th>2</th>\n",
       "      <td>00299f34-5385-4d13-9aea-c80b81658e1b</td>\n",
       "      <td>109</td>\n",
       "      <td>1</td>\n",
       "      <td>914.0</td>\n",
       "      <td>1</td>\n",
       "      <td>3</td>\n",
       "      <td>1</td>\n",
       "      <td>3</td>\n",
       "      <td>1</td>\n",
       "      <td>3131</td>\n",
       "      <td>6</td>\n",
       "    </tr>\n",
       "    <tr>\n",
       "      <th>3</th>\n",
       "      <td>002d4d3a-4a59-406b-86ec-c3314357e498</td>\n",
       "      <td>369</td>\n",
       "      <td>1</td>\n",
       "      <td>1649.0</td>\n",
       "      <td>1</td>\n",
       "      <td>1</td>\n",
       "      <td>1</td>\n",
       "      <td>3</td>\n",
       "      <td>1</td>\n",
       "      <td>1131</td>\n",
       "      <td>8</td>\n",
       "    </tr>\n",
       "    <tr>\n",
       "      <th>4</th>\n",
       "      <td>003bbd39-0000-41ff-b7f9-2ddaec152037</td>\n",
       "      <td>124</td>\n",
       "      <td>1</td>\n",
       "      <td>2324.0</td>\n",
       "      <td>1</td>\n",
       "      <td>3</td>\n",
       "      <td>1</td>\n",
       "      <td>4</td>\n",
       "      <td>1</td>\n",
       "      <td>3141</td>\n",
       "      <td>6</td>\n",
       "    </tr>\n",
       "    <tr>\n",
       "      <th>...</th>\n",
       "      <td>...</td>\n",
       "      <td>...</td>\n",
       "      <td>...</td>\n",
       "      <td>...</td>\n",
       "      <td>...</td>\n",
       "      <td>...</td>\n",
       "      <td>...</td>\n",
       "      <td>...</td>\n",
       "      <td>...</td>\n",
       "      <td>...</td>\n",
       "      <td>...</td>\n",
       "    </tr>\n",
       "    <tr>\n",
       "      <th>2445</th>\n",
       "      <td>ff601403-b094-4b86-9ac6-264d725b9277</td>\n",
       "      <td>12</td>\n",
       "      <td>2</td>\n",
       "      <td>1739.0</td>\n",
       "      <td>2</td>\n",
       "      <td>4</td>\n",
       "      <td>3</td>\n",
       "      <td>3</td>\n",
       "      <td>3</td>\n",
       "      <td>4333</td>\n",
       "      <td>3</td>\n",
       "    </tr>\n",
       "    <tr>\n",
       "      <th>2446</th>\n",
       "      <td>ffaeab76-3a8d-49ee-860f-17273b2fc8a2</td>\n",
       "      <td>93</td>\n",
       "      <td>1</td>\n",
       "      <td>397.0</td>\n",
       "      <td>1</td>\n",
       "      <td>3</td>\n",
       "      <td>1</td>\n",
       "      <td>2</td>\n",
       "      <td>1</td>\n",
       "      <td>3121</td>\n",
       "      <td>6</td>\n",
       "    </tr>\n",
       "    <tr>\n",
       "      <th>2447</th>\n",
       "      <td>ffb5976a-7a4d-460b-95c4-5ffaba31cb24</td>\n",
       "      <td>413</td>\n",
       "      <td>1</td>\n",
       "      <td>389.0</td>\n",
       "      <td>1</td>\n",
       "      <td>1</td>\n",
       "      <td>1</td>\n",
       "      <td>1</td>\n",
       "      <td>1</td>\n",
       "      <td>1111</td>\n",
       "      <td>9</td>\n",
       "    </tr>\n",
       "    <tr>\n",
       "      <th>2448</th>\n",
       "      <td>ffb80538-3fda-4351-8ea9-9d2bec58bb07</td>\n",
       "      <td>144</td>\n",
       "      <td>1</td>\n",
       "      <td>974.0</td>\n",
       "      <td>1</td>\n",
       "      <td>3</td>\n",
       "      <td>1</td>\n",
       "      <td>3</td>\n",
       "      <td>1</td>\n",
       "      <td>3131</td>\n",
       "      <td>6</td>\n",
       "    </tr>\n",
       "    <tr>\n",
       "      <th>2449</th>\n",
       "      <td>ffe82299-3f5b-4214-87fe-3d36ecccfac3</td>\n",
       "      <td>101</td>\n",
       "      <td>1</td>\n",
       "      <td>577.0</td>\n",
       "      <td>1</td>\n",
       "      <td>3</td>\n",
       "      <td>1</td>\n",
       "      <td>2</td>\n",
       "      <td>1</td>\n",
       "      <td>3121</td>\n",
       "      <td>6</td>\n",
       "    </tr>\n",
       "  </tbody>\n",
       "</table>\n",
       "<p>2450 rows × 11 columns</p>\n",
       "</div>"
      ],
      "text/plain": [
       "                               customer_id  recency  frequency  \\\n",
       "0     000d6849-084e-4d9f-ac03-37174eaf60c4      107          1   \n",
       "1     001cee7f-0b29-4716-b202-0042213ab038      349          1   \n",
       "2     00299f34-5385-4d13-9aea-c80b81658e1b      109          1   \n",
       "3     002d4d3a-4a59-406b-86ec-c3314357e498      369          1   \n",
       "4     003bbd39-0000-41ff-b7f9-2ddaec152037      124          1   \n",
       "...                                    ...      ...        ...   \n",
       "2445  ff601403-b094-4b86-9ac6-264d725b9277       12          2   \n",
       "2446  ffaeab76-3a8d-49ee-860f-17273b2fc8a2       93          1   \n",
       "2447  ffb5976a-7a4d-460b-95c4-5ffaba31cb24      413          1   \n",
       "2448  ffb80538-3fda-4351-8ea9-9d2bec58bb07      144          1   \n",
       "2449  ffe82299-3f5b-4214-87fe-3d36ecccfac3      101          1   \n",
       "\n",
       "      monetary_value  category  R_Quartile  F_Quartile  M_Quartile  \\\n",
       "0              555.0         1           3           1           2   \n",
       "1              442.0         1           1           1           2   \n",
       "2              914.0         1           3           1           3   \n",
       "3             1649.0         1           1           1           3   \n",
       "4             2324.0         1           3           1           4   \n",
       "...              ...       ...         ...         ...         ...   \n",
       "2445          1739.0         2           4           3           3   \n",
       "2446           397.0         1           3           1           2   \n",
       "2447           389.0         1           1           1           1   \n",
       "2448           974.0         1           3           1           3   \n",
       "2449           577.0         1           3           1           2   \n",
       "\n",
       "      C_Quartile RFMClass  segment  \n",
       "0              1     3121        6  \n",
       "1              1     1121        8  \n",
       "2              1     3131        6  \n",
       "3              1     1131        8  \n",
       "4              1     3141        6  \n",
       "...          ...      ...      ...  \n",
       "2445           3     4333        3  \n",
       "2446           1     3121        6  \n",
       "2447           1     1111        9  \n",
       "2448           1     3131        6  \n",
       "2449           1     3121        6  \n",
       "\n",
       "[2450 rows x 11 columns]"
      ]
     },
     "execution_count": 94,
     "metadata": {},
     "output_type": "execute_result"
    }
   ],
   "source": [
    "RFM_Segment['segment'] = RFM_Segment['customer_id'].apply(segmentation)\n",
    "RFM_Segment"
   ]
  },
  {
   "cell_type": "code",
   "execution_count": 95,
   "id": "03a65a4a",
   "metadata": {},
   "outputs": [
    {
     "data": {
      "text/plain": [
       "array([6, 8, 3, 4, 1, 2, 9, 7, 5])"
      ]
     },
     "execution_count": 95,
     "metadata": {},
     "output_type": "execute_result"
    }
   ],
   "source": [
    "RFM_Segment['segment'].unique()"
   ]
  },
  {
   "cell_type": "markdown",
   "id": "53d59375",
   "metadata": {},
   "source": [
    "Всех распределили по сегментам"
   ]
  },
  {
   "cell_type": "markdown",
   "id": "d1aba4da",
   "metadata": {},
   "source": [
    "Мы получили 9 типов клиентов распределены они следующим образом:\n",
    "1. Лучшие клиенты которые закупаются в разных категориях - их 143 \n",
    "2. Лучшие клиенты которые закупаются в одной категории - их 34\n",
    "3. Лояльные клиенты которые закупаются в разных категориях - их 563\n",
    "4. Лояльные клиенты которые закупаются в одной категории - их 289\n",
    "5. Новые клиенты которые закупаются в разных категориях - тут всего 1 такой клиент\n",
    "6. Новые клиенты которые закупаются в одной категории - их 341\n",
    "7. Клиенты на грани оттока которые закупались в разных категориях - их 58\n",
    "8. Клиенты на грани оттока которые закупались в одной категории - их 899\n",
    "9. Упущенные клиенты - из 135\n",
    "\n",
    "Таким образом можно можно выяснить насколько клиент готов к оформлению заказа на платформе и сколько выручки он принесет."
   ]
  },
  {
   "cell_type": "markdown",
   "id": "f6c00108",
   "metadata": {},
   "source": [
    "Дополнительно добавим к каждому клиенту в каких категориях он приобретает товар."
   ]
  },
  {
   "cell_type": "code",
   "execution_count": 96,
   "id": "45da7ae1",
   "metadata": {},
   "outputs": [],
   "source": [
    "df = df.merge(RFM_Segment[['segment', 'customer_id']], how='left', left_on='customer_id', right_on='customer_id')"
   ]
  },
  {
   "cell_type": "code",
   "execution_count": 97,
   "id": "4fc33c59",
   "metadata": {},
   "outputs": [
    {
     "data": {
      "text/html": [
       "<div>\n",
       "<style scoped>\n",
       "    .dataframe tbody tr th:only-of-type {\n",
       "        vertical-align: middle;\n",
       "    }\n",
       "\n",
       "    .dataframe tbody tr th {\n",
       "        vertical-align: top;\n",
       "    }\n",
       "\n",
       "    .dataframe thead th {\n",
       "        text-align: right;\n",
       "    }\n",
       "</style>\n",
       "<table border=\"1\" class=\"dataframe\">\n",
       "  <thead>\n",
       "    <tr style=\"text-align: right;\">\n",
       "      <th></th>\n",
       "      <th>date</th>\n",
       "      <th>customer_id</th>\n",
       "      <th>order_id</th>\n",
       "      <th>product</th>\n",
       "      <th>quantity</th>\n",
       "      <th>price</th>\n",
       "      <th>sales</th>\n",
       "      <th>month</th>\n",
       "      <th>year</th>\n",
       "      <th>date_day</th>\n",
       "      <th>season</th>\n",
       "      <th>product_reduction</th>\n",
       "      <th>category</th>\n",
       "      <th>segment</th>\n",
       "    </tr>\n",
       "  </thead>\n",
       "  <tbody>\n",
       "    <tr>\n",
       "      <th>0</th>\n",
       "      <td>2018-10-01 00:00:00</td>\n",
       "      <td>ee47d746-6d2f-4d3c-9622-c31412542920</td>\n",
       "      <td>68477</td>\n",
       "      <td>комнатное растение в горшке алое вера, d12, h30</td>\n",
       "      <td>1</td>\n",
       "      <td>142.0</td>\n",
       "      <td>142.0</td>\n",
       "      <td>10</td>\n",
       "      <td>2018</td>\n",
       "      <td>2018-10-01</td>\n",
       "      <td>осень</td>\n",
       "      <td>комнатное растение</td>\n",
       "      <td>растения</td>\n",
       "      <td>8</td>\n",
       "    </tr>\n",
       "    <tr>\n",
       "      <th>1</th>\n",
       "      <td>2018-10-01 00:00:00</td>\n",
       "      <td>ee47d746-6d2f-4d3c-9622-c31412542920</td>\n",
       "      <td>68477</td>\n",
       "      <td>комнатное растение в горшке кофе арабика, d12,...</td>\n",
       "      <td>1</td>\n",
       "      <td>194.0</td>\n",
       "      <td>194.0</td>\n",
       "      <td>10</td>\n",
       "      <td>2018</td>\n",
       "      <td>2018-10-01</td>\n",
       "      <td>осень</td>\n",
       "      <td>комнатное растение</td>\n",
       "      <td>растения</td>\n",
       "      <td>8</td>\n",
       "    </tr>\n",
       "    <tr>\n",
       "      <th>2</th>\n",
       "      <td>2018-10-01 00:00:00</td>\n",
       "      <td>ee47d746-6d2f-4d3c-9622-c31412542920</td>\n",
       "      <td>68477</td>\n",
       "      <td>радермахера d-12 см h-20 см</td>\n",
       "      <td>1</td>\n",
       "      <td>112.0</td>\n",
       "      <td>112.0</td>\n",
       "      <td>10</td>\n",
       "      <td>2018</td>\n",
       "      <td>2018-10-01</td>\n",
       "      <td>осень</td>\n",
       "      <td>радермахера d-12</td>\n",
       "      <td>растения</td>\n",
       "      <td>8</td>\n",
       "    </tr>\n",
       "    <tr>\n",
       "      <th>3</th>\n",
       "      <td>2018-10-01 00:00:00</td>\n",
       "      <td>ee47d746-6d2f-4d3c-9622-c31412542920</td>\n",
       "      <td>68477</td>\n",
       "      <td>хризолидокарпус лутесценс d-9 см</td>\n",
       "      <td>1</td>\n",
       "      <td>179.0</td>\n",
       "      <td>179.0</td>\n",
       "      <td>10</td>\n",
       "      <td>2018</td>\n",
       "      <td>2018-10-01</td>\n",
       "      <td>осень</td>\n",
       "      <td>хризолидокарпус лутесценс</td>\n",
       "      <td>растения</td>\n",
       "      <td>8</td>\n",
       "    </tr>\n",
       "    <tr>\n",
       "      <th>4</th>\n",
       "      <td>2018-10-01 00:00:00</td>\n",
       "      <td>ee47d746-6d2f-4d3c-9622-c31412542920</td>\n",
       "      <td>68477</td>\n",
       "      <td>циперус зумула d-12 см h-25 см</td>\n",
       "      <td>1</td>\n",
       "      <td>112.0</td>\n",
       "      <td>112.0</td>\n",
       "      <td>10</td>\n",
       "      <td>2018</td>\n",
       "      <td>2018-10-01</td>\n",
       "      <td>осень</td>\n",
       "      <td>циперус зумула</td>\n",
       "      <td>растения</td>\n",
       "      <td>8</td>\n",
       "    </tr>\n",
       "    <tr>\n",
       "      <th>...</th>\n",
       "      <td>...</td>\n",
       "      <td>...</td>\n",
       "      <td>...</td>\n",
       "      <td>...</td>\n",
       "      <td>...</td>\n",
       "      <td>...</td>\n",
       "      <td>...</td>\n",
       "      <td>...</td>\n",
       "      <td>...</td>\n",
       "      <td>...</td>\n",
       "      <td>...</td>\n",
       "      <td>...</td>\n",
       "      <td>...</td>\n",
       "      <td>...</td>\n",
       "    </tr>\n",
       "    <tr>\n",
       "      <th>5581</th>\n",
       "      <td>2020-01-30 21:00:00</td>\n",
       "      <td>63208953-a8e4-4f77-9b47-3a46e7b72eee</td>\n",
       "      <td>104002</td>\n",
       "      <td>томата (помидор) черниченский черри № 116 сорт...</td>\n",
       "      <td>2</td>\n",
       "      <td>38.0</td>\n",
       "      <td>76.0</td>\n",
       "      <td>1</td>\n",
       "      <td>2020</td>\n",
       "      <td>2020-01-30</td>\n",
       "      <td>зима</td>\n",
       "      <td>томата (помидор)</td>\n",
       "      <td>растения</td>\n",
       "      <td>3</td>\n",
       "    </tr>\n",
       "    <tr>\n",
       "      <th>5582</th>\n",
       "      <td>2020-01-30 22:00:00</td>\n",
       "      <td>d99d25f1-4017-4fcd-8d29-c580cc695a1a</td>\n",
       "      <td>107336</td>\n",
       "      <td>дендробиум санок анна грин 1 ствол d-12 см</td>\n",
       "      <td>1</td>\n",
       "      <td>869.0</td>\n",
       "      <td>869.0</td>\n",
       "      <td>1</td>\n",
       "      <td>2020</td>\n",
       "      <td>2020-01-30</td>\n",
       "      <td>зима</td>\n",
       "      <td>дендробиум санок</td>\n",
       "      <td>растения</td>\n",
       "      <td>1</td>\n",
       "    </tr>\n",
       "    <tr>\n",
       "      <th>5583</th>\n",
       "      <td>2020-01-31 02:00:00</td>\n",
       "      <td>2c9bd08d-8c55-4e7a-9bfb-8c56ba42c6d6</td>\n",
       "      <td>106336</td>\n",
       "      <td>подставка для обуви резиновая attribute 80x40 ...</td>\n",
       "      <td>1</td>\n",
       "      <td>354.0</td>\n",
       "      <td>354.0</td>\n",
       "      <td>1</td>\n",
       "      <td>2020</td>\n",
       "      <td>2020-01-31</td>\n",
       "      <td>зима</td>\n",
       "      <td>подставка для</td>\n",
       "      <td>интерьер</td>\n",
       "      <td>3</td>\n",
       "    </tr>\n",
       "    <tr>\n",
       "      <th>5584</th>\n",
       "      <td>2020-01-31 12:00:00</td>\n",
       "      <td>cdd17932-623e-415f-a577-3b31312fd0e2</td>\n",
       "      <td>102002</td>\n",
       "      <td>тагетис крупноцветковый рассада однолетних цве...</td>\n",
       "      <td>1</td>\n",
       "      <td>128.0</td>\n",
       "      <td>128.0</td>\n",
       "      <td>1</td>\n",
       "      <td>2020</td>\n",
       "      <td>2020-01-31</td>\n",
       "      <td>зима</td>\n",
       "      <td>тагетис крупноцветковый</td>\n",
       "      <td>растения</td>\n",
       "      <td>3</td>\n",
       "    </tr>\n",
       "    <tr>\n",
       "      <th>5585</th>\n",
       "      <td>2020-01-31 15:00:00</td>\n",
       "      <td>2e460a26-35af-453d-a369-a036e95a40e0</td>\n",
       "      <td>103225</td>\n",
       "      <td>вешалка для блузок 41 см красный attribute ahm781</td>\n",
       "      <td>1</td>\n",
       "      <td>104.0</td>\n",
       "      <td>104.0</td>\n",
       "      <td>1</td>\n",
       "      <td>2020</td>\n",
       "      <td>2020-01-31</td>\n",
       "      <td>зима</td>\n",
       "      <td>вешалка для</td>\n",
       "      <td>хозтовары</td>\n",
       "      <td>3</td>\n",
       "    </tr>\n",
       "  </tbody>\n",
       "</table>\n",
       "<p>5586 rows × 14 columns</p>\n",
       "</div>"
      ],
      "text/plain": [
       "                    date                           customer_id  order_id  \\\n",
       "0    2018-10-01 00:00:00  ee47d746-6d2f-4d3c-9622-c31412542920     68477   \n",
       "1    2018-10-01 00:00:00  ee47d746-6d2f-4d3c-9622-c31412542920     68477   \n",
       "2    2018-10-01 00:00:00  ee47d746-6d2f-4d3c-9622-c31412542920     68477   \n",
       "3    2018-10-01 00:00:00  ee47d746-6d2f-4d3c-9622-c31412542920     68477   \n",
       "4    2018-10-01 00:00:00  ee47d746-6d2f-4d3c-9622-c31412542920     68477   \n",
       "...                  ...                                   ...       ...   \n",
       "5581 2020-01-30 21:00:00  63208953-a8e4-4f77-9b47-3a46e7b72eee    104002   \n",
       "5582 2020-01-30 22:00:00  d99d25f1-4017-4fcd-8d29-c580cc695a1a    107336   \n",
       "5583 2020-01-31 02:00:00  2c9bd08d-8c55-4e7a-9bfb-8c56ba42c6d6    106336   \n",
       "5584 2020-01-31 12:00:00  cdd17932-623e-415f-a577-3b31312fd0e2    102002   \n",
       "5585 2020-01-31 15:00:00  2e460a26-35af-453d-a369-a036e95a40e0    103225   \n",
       "\n",
       "                                                product  quantity  price  \\\n",
       "0       комнатное растение в горшке алое вера, d12, h30         1  142.0   \n",
       "1     комнатное растение в горшке кофе арабика, d12,...         1  194.0   \n",
       "2                           радермахера d-12 см h-20 см         1  112.0   \n",
       "3                      хризолидокарпус лутесценс d-9 см         1  179.0   \n",
       "4                        циперус зумула d-12 см h-25 см         1  112.0   \n",
       "...                                                 ...       ...    ...   \n",
       "5581  томата (помидор) черниченский черри № 116 сорт...         2   38.0   \n",
       "5582         дендробиум санок анна грин 1 ствол d-12 см         1  869.0   \n",
       "5583  подставка для обуви резиновая attribute 80x40 ...         1  354.0   \n",
       "5584  тагетис крупноцветковый рассада однолетних цве...         1  128.0   \n",
       "5585  вешалка для блузок 41 см красный attribute ahm781         1  104.0   \n",
       "\n",
       "      sales  month  year    date_day season          product_reduction  \\\n",
       "0     142.0     10  2018  2018-10-01  осень         комнатное растение   \n",
       "1     194.0     10  2018  2018-10-01  осень         комнатное растение   \n",
       "2     112.0     10  2018  2018-10-01  осень           радермахера d-12   \n",
       "3     179.0     10  2018  2018-10-01  осень  хризолидокарпус лутесценс   \n",
       "4     112.0     10  2018  2018-10-01  осень             циперус зумула   \n",
       "...     ...    ...   ...         ...    ...                        ...   \n",
       "5581   76.0      1  2020  2020-01-30   зима           томата (помидор)   \n",
       "5582  869.0      1  2020  2020-01-30   зима           дендробиум санок   \n",
       "5583  354.0      1  2020  2020-01-31   зима              подставка для   \n",
       "5584  128.0      1  2020  2020-01-31   зима    тагетис крупноцветковый   \n",
       "5585  104.0      1  2020  2020-01-31   зима                вешалка для   \n",
       "\n",
       "       category  segment  \n",
       "0      растения        8  \n",
       "1      растения        8  \n",
       "2      растения        8  \n",
       "3      растения        8  \n",
       "4      растения        8  \n",
       "...         ...      ...  \n",
       "5581   растения        3  \n",
       "5582   растения        1  \n",
       "5583   интерьер        3  \n",
       "5584   растения        3  \n",
       "5585  хозтовары        3  \n",
       "\n",
       "[5586 rows x 14 columns]"
      ]
     },
     "execution_count": 97,
     "metadata": {},
     "output_type": "execute_result"
    }
   ],
   "source": [
    "df"
   ]
  },
  {
   "cell_type": "code",
   "execution_count": 98,
   "id": "ff003cc3",
   "metadata": {},
   "outputs": [],
   "source": [
    "fl = df.query('category == \"растения\"')\n",
    "hg = df.query('category == \"хозтовары\"')\n",
    "da = df.query('category == \"посуда\"')\n",
    "ba = df.query('category == \"сумки\"')\n",
    "ig = df.query('category == \"интерьер\"')\n",
    "eq = df.query('category == \"техника\"')"
   ]
  },
  {
   "cell_type": "code",
   "execution_count": 99,
   "id": "0fba5fb0",
   "metadata": {},
   "outputs": [],
   "source": [
    "fl1 = fl['customer_id'].unique().tolist()"
   ]
  },
  {
   "cell_type": "code",
   "execution_count": 100,
   "id": "6725453d",
   "metadata": {},
   "outputs": [],
   "source": [
    "def cat(id):\n",
    "    if id in fl1:\n",
    "        return '+'\n",
    "    else:\n",
    "        return '-'"
   ]
  },
  {
   "cell_type": "code",
   "execution_count": 101,
   "id": "0de6f4da",
   "metadata": {},
   "outputs": [],
   "source": [
    "df['flowers'] = df['customer_id'].apply(cat)"
   ]
  },
  {
   "cell_type": "code",
   "execution_count": 102,
   "id": "856bda53",
   "metadata": {},
   "outputs": [],
   "source": [
    "hg1 = hg['customer_id'].unique().tolist()"
   ]
  },
  {
   "cell_type": "code",
   "execution_count": 103,
   "id": "6f30b919",
   "metadata": {},
   "outputs": [],
   "source": [
    "def cat2(id):\n",
    "    if id in hg1:\n",
    "        return '+'\n",
    "    else:\n",
    "        return '-'"
   ]
  },
  {
   "cell_type": "code",
   "execution_count": 104,
   "id": "e1268ed3",
   "metadata": {},
   "outputs": [],
   "source": [
    "df['household_goods'] = df['customer_id'].apply(cat2)"
   ]
  },
  {
   "cell_type": "code",
   "execution_count": 105,
   "id": "d78fb0e8",
   "metadata": {},
   "outputs": [],
   "source": [
    "da1 = da['customer_id'].unique().tolist()"
   ]
  },
  {
   "cell_type": "code",
   "execution_count": 106,
   "id": "5dce900b",
   "metadata": {},
   "outputs": [],
   "source": [
    "def cat3(id):\n",
    "    if id in da1:\n",
    "        return '+'\n",
    "    else:\n",
    "        return '-'"
   ]
  },
  {
   "cell_type": "code",
   "execution_count": 107,
   "id": "6d068bb6",
   "metadata": {},
   "outputs": [],
   "source": [
    "df['tableware'] = df['customer_id'].apply(cat3)"
   ]
  },
  {
   "cell_type": "code",
   "execution_count": 108,
   "id": "bcaebbd1",
   "metadata": {},
   "outputs": [],
   "source": [
    "ba1 = ba['customer_id'].unique().tolist()"
   ]
  },
  {
   "cell_type": "code",
   "execution_count": 109,
   "id": "1721d054",
   "metadata": {},
   "outputs": [],
   "source": [
    "def cat4(id):\n",
    "    if id in ba1:\n",
    "        return '+'\n",
    "    else:\n",
    "        return '-'"
   ]
  },
  {
   "cell_type": "code",
   "execution_count": 110,
   "id": "8a0d88d7",
   "metadata": {},
   "outputs": [],
   "source": [
    "df['bags'] = df['customer_id'].apply(cat4)"
   ]
  },
  {
   "cell_type": "code",
   "execution_count": 111,
   "id": "31913460",
   "metadata": {},
   "outputs": [],
   "source": [
    "ig1 = ig['customer_id'].unique().tolist()"
   ]
  },
  {
   "cell_type": "code",
   "execution_count": 112,
   "id": "49f38755",
   "metadata": {},
   "outputs": [],
   "source": [
    "def cat5(id):\n",
    "    if id in ig1:\n",
    "        return '+'\n",
    "    else:\n",
    "        return '-'"
   ]
  },
  {
   "cell_type": "code",
   "execution_count": 113,
   "id": "62d99efc",
   "metadata": {},
   "outputs": [],
   "source": [
    "df['interior_goods'] = df['customer_id'].apply(cat5)"
   ]
  },
  {
   "cell_type": "code",
   "execution_count": 114,
   "id": "8d89fe0a",
   "metadata": {},
   "outputs": [],
   "source": [
    "eq1 = eq['customer_id'].unique().tolist()"
   ]
  },
  {
   "cell_type": "code",
   "execution_count": 115,
   "id": "3df046ac",
   "metadata": {},
   "outputs": [],
   "source": [
    "def cat6(id):\n",
    "    if id in eq1:\n",
    "        return '+'\n",
    "    else:\n",
    "        return '-'"
   ]
  },
  {
   "cell_type": "code",
   "execution_count": 116,
   "id": "b999827f",
   "metadata": {},
   "outputs": [],
   "source": [
    "df['equipment'] = df['customer_id'].apply(cat6)"
   ]
  },
  {
   "cell_type": "code",
   "execution_count": 117,
   "id": "85a8ab04",
   "metadata": {},
   "outputs": [
    {
     "data": {
      "text/html": [
       "<div>\n",
       "<style scoped>\n",
       "    .dataframe tbody tr th:only-of-type {\n",
       "        vertical-align: middle;\n",
       "    }\n",
       "\n",
       "    .dataframe tbody tr th {\n",
       "        vertical-align: top;\n",
       "    }\n",
       "\n",
       "    .dataframe thead th {\n",
       "        text-align: right;\n",
       "    }\n",
       "</style>\n",
       "<table border=\"1\" class=\"dataframe\">\n",
       "  <thead>\n",
       "    <tr style=\"text-align: right;\">\n",
       "      <th></th>\n",
       "      <th>date</th>\n",
       "      <th>customer_id</th>\n",
       "      <th>order_id</th>\n",
       "      <th>product</th>\n",
       "      <th>quantity</th>\n",
       "      <th>price</th>\n",
       "      <th>sales</th>\n",
       "      <th>month</th>\n",
       "      <th>year</th>\n",
       "      <th>date_day</th>\n",
       "      <th>season</th>\n",
       "      <th>product_reduction</th>\n",
       "      <th>category</th>\n",
       "      <th>segment</th>\n",
       "      <th>flowers</th>\n",
       "      <th>household_goods</th>\n",
       "      <th>tableware</th>\n",
       "      <th>bags</th>\n",
       "      <th>interior_goods</th>\n",
       "      <th>equipment</th>\n",
       "    </tr>\n",
       "  </thead>\n",
       "  <tbody>\n",
       "    <tr>\n",
       "      <th>0</th>\n",
       "      <td>2018-10-01 00:00:00</td>\n",
       "      <td>ee47d746-6d2f-4d3c-9622-c31412542920</td>\n",
       "      <td>68477</td>\n",
       "      <td>комнатное растение в горшке алое вера, d12, h30</td>\n",
       "      <td>1</td>\n",
       "      <td>142.0</td>\n",
       "      <td>142.0</td>\n",
       "      <td>10</td>\n",
       "      <td>2018</td>\n",
       "      <td>2018-10-01</td>\n",
       "      <td>осень</td>\n",
       "      <td>комнатное растение</td>\n",
       "      <td>растения</td>\n",
       "      <td>8</td>\n",
       "      <td>+</td>\n",
       "      <td>-</td>\n",
       "      <td>-</td>\n",
       "      <td>-</td>\n",
       "      <td>-</td>\n",
       "      <td>-</td>\n",
       "    </tr>\n",
       "    <tr>\n",
       "      <th>1</th>\n",
       "      <td>2018-10-01 00:00:00</td>\n",
       "      <td>ee47d746-6d2f-4d3c-9622-c31412542920</td>\n",
       "      <td>68477</td>\n",
       "      <td>комнатное растение в горшке кофе арабика, d12,...</td>\n",
       "      <td>1</td>\n",
       "      <td>194.0</td>\n",
       "      <td>194.0</td>\n",
       "      <td>10</td>\n",
       "      <td>2018</td>\n",
       "      <td>2018-10-01</td>\n",
       "      <td>осень</td>\n",
       "      <td>комнатное растение</td>\n",
       "      <td>растения</td>\n",
       "      <td>8</td>\n",
       "      <td>+</td>\n",
       "      <td>-</td>\n",
       "      <td>-</td>\n",
       "      <td>-</td>\n",
       "      <td>-</td>\n",
       "      <td>-</td>\n",
       "    </tr>\n",
       "    <tr>\n",
       "      <th>2</th>\n",
       "      <td>2018-10-01 00:00:00</td>\n",
       "      <td>ee47d746-6d2f-4d3c-9622-c31412542920</td>\n",
       "      <td>68477</td>\n",
       "      <td>радермахера d-12 см h-20 см</td>\n",
       "      <td>1</td>\n",
       "      <td>112.0</td>\n",
       "      <td>112.0</td>\n",
       "      <td>10</td>\n",
       "      <td>2018</td>\n",
       "      <td>2018-10-01</td>\n",
       "      <td>осень</td>\n",
       "      <td>радермахера d-12</td>\n",
       "      <td>растения</td>\n",
       "      <td>8</td>\n",
       "      <td>+</td>\n",
       "      <td>-</td>\n",
       "      <td>-</td>\n",
       "      <td>-</td>\n",
       "      <td>-</td>\n",
       "      <td>-</td>\n",
       "    </tr>\n",
       "    <tr>\n",
       "      <th>3</th>\n",
       "      <td>2018-10-01 00:00:00</td>\n",
       "      <td>ee47d746-6d2f-4d3c-9622-c31412542920</td>\n",
       "      <td>68477</td>\n",
       "      <td>хризолидокарпус лутесценс d-9 см</td>\n",
       "      <td>1</td>\n",
       "      <td>179.0</td>\n",
       "      <td>179.0</td>\n",
       "      <td>10</td>\n",
       "      <td>2018</td>\n",
       "      <td>2018-10-01</td>\n",
       "      <td>осень</td>\n",
       "      <td>хризолидокарпус лутесценс</td>\n",
       "      <td>растения</td>\n",
       "      <td>8</td>\n",
       "      <td>+</td>\n",
       "      <td>-</td>\n",
       "      <td>-</td>\n",
       "      <td>-</td>\n",
       "      <td>-</td>\n",
       "      <td>-</td>\n",
       "    </tr>\n",
       "    <tr>\n",
       "      <th>4</th>\n",
       "      <td>2018-10-01 00:00:00</td>\n",
       "      <td>ee47d746-6d2f-4d3c-9622-c31412542920</td>\n",
       "      <td>68477</td>\n",
       "      <td>циперус зумула d-12 см h-25 см</td>\n",
       "      <td>1</td>\n",
       "      <td>112.0</td>\n",
       "      <td>112.0</td>\n",
       "      <td>10</td>\n",
       "      <td>2018</td>\n",
       "      <td>2018-10-01</td>\n",
       "      <td>осень</td>\n",
       "      <td>циперус зумула</td>\n",
       "      <td>растения</td>\n",
       "      <td>8</td>\n",
       "      <td>+</td>\n",
       "      <td>-</td>\n",
       "      <td>-</td>\n",
       "      <td>-</td>\n",
       "      <td>-</td>\n",
       "      <td>-</td>\n",
       "    </tr>\n",
       "    <tr>\n",
       "      <th>...</th>\n",
       "      <td>...</td>\n",
       "      <td>...</td>\n",
       "      <td>...</td>\n",
       "      <td>...</td>\n",
       "      <td>...</td>\n",
       "      <td>...</td>\n",
       "      <td>...</td>\n",
       "      <td>...</td>\n",
       "      <td>...</td>\n",
       "      <td>...</td>\n",
       "      <td>...</td>\n",
       "      <td>...</td>\n",
       "      <td>...</td>\n",
       "      <td>...</td>\n",
       "      <td>...</td>\n",
       "      <td>...</td>\n",
       "      <td>...</td>\n",
       "      <td>...</td>\n",
       "      <td>...</td>\n",
       "      <td>...</td>\n",
       "    </tr>\n",
       "    <tr>\n",
       "      <th>5581</th>\n",
       "      <td>2020-01-30 21:00:00</td>\n",
       "      <td>63208953-a8e4-4f77-9b47-3a46e7b72eee</td>\n",
       "      <td>104002</td>\n",
       "      <td>томата (помидор) черниченский черри № 116 сорт...</td>\n",
       "      <td>2</td>\n",
       "      <td>38.0</td>\n",
       "      <td>76.0</td>\n",
       "      <td>1</td>\n",
       "      <td>2020</td>\n",
       "      <td>2020-01-30</td>\n",
       "      <td>зима</td>\n",
       "      <td>томата (помидор)</td>\n",
       "      <td>растения</td>\n",
       "      <td>3</td>\n",
       "      <td>+</td>\n",
       "      <td>+</td>\n",
       "      <td>-</td>\n",
       "      <td>-</td>\n",
       "      <td>-</td>\n",
       "      <td>-</td>\n",
       "    </tr>\n",
       "    <tr>\n",
       "      <th>5582</th>\n",
       "      <td>2020-01-30 22:00:00</td>\n",
       "      <td>d99d25f1-4017-4fcd-8d29-c580cc695a1a</td>\n",
       "      <td>107336</td>\n",
       "      <td>дендробиум санок анна грин 1 ствол d-12 см</td>\n",
       "      <td>1</td>\n",
       "      <td>869.0</td>\n",
       "      <td>869.0</td>\n",
       "      <td>1</td>\n",
       "      <td>2020</td>\n",
       "      <td>2020-01-30</td>\n",
       "      <td>зима</td>\n",
       "      <td>дендробиум санок</td>\n",
       "      <td>растения</td>\n",
       "      <td>1</td>\n",
       "      <td>+</td>\n",
       "      <td>-</td>\n",
       "      <td>-</td>\n",
       "      <td>+</td>\n",
       "      <td>-</td>\n",
       "      <td>-</td>\n",
       "    </tr>\n",
       "    <tr>\n",
       "      <th>5583</th>\n",
       "      <td>2020-01-31 02:00:00</td>\n",
       "      <td>2c9bd08d-8c55-4e7a-9bfb-8c56ba42c6d6</td>\n",
       "      <td>106336</td>\n",
       "      <td>подставка для обуви резиновая attribute 80x40 ...</td>\n",
       "      <td>1</td>\n",
       "      <td>354.0</td>\n",
       "      <td>354.0</td>\n",
       "      <td>1</td>\n",
       "      <td>2020</td>\n",
       "      <td>2020-01-31</td>\n",
       "      <td>зима</td>\n",
       "      <td>подставка для</td>\n",
       "      <td>интерьер</td>\n",
       "      <td>3</td>\n",
       "      <td>-</td>\n",
       "      <td>+</td>\n",
       "      <td>-</td>\n",
       "      <td>-</td>\n",
       "      <td>+</td>\n",
       "      <td>-</td>\n",
       "    </tr>\n",
       "    <tr>\n",
       "      <th>5584</th>\n",
       "      <td>2020-01-31 12:00:00</td>\n",
       "      <td>cdd17932-623e-415f-a577-3b31312fd0e2</td>\n",
       "      <td>102002</td>\n",
       "      <td>тагетис крупноцветковый рассада однолетних цве...</td>\n",
       "      <td>1</td>\n",
       "      <td>128.0</td>\n",
       "      <td>128.0</td>\n",
       "      <td>1</td>\n",
       "      <td>2020</td>\n",
       "      <td>2020-01-31</td>\n",
       "      <td>зима</td>\n",
       "      <td>тагетис крупноцветковый</td>\n",
       "      <td>растения</td>\n",
       "      <td>3</td>\n",
       "      <td>+</td>\n",
       "      <td>+</td>\n",
       "      <td>-</td>\n",
       "      <td>-</td>\n",
       "      <td>-</td>\n",
       "      <td>-</td>\n",
       "    </tr>\n",
       "    <tr>\n",
       "      <th>5585</th>\n",
       "      <td>2020-01-31 15:00:00</td>\n",
       "      <td>2e460a26-35af-453d-a369-a036e95a40e0</td>\n",
       "      <td>103225</td>\n",
       "      <td>вешалка для блузок 41 см красный attribute ahm781</td>\n",
       "      <td>1</td>\n",
       "      <td>104.0</td>\n",
       "      <td>104.0</td>\n",
       "      <td>1</td>\n",
       "      <td>2020</td>\n",
       "      <td>2020-01-31</td>\n",
       "      <td>зима</td>\n",
       "      <td>вешалка для</td>\n",
       "      <td>хозтовары</td>\n",
       "      <td>3</td>\n",
       "      <td>+</td>\n",
       "      <td>+</td>\n",
       "      <td>-</td>\n",
       "      <td>-</td>\n",
       "      <td>-</td>\n",
       "      <td>-</td>\n",
       "    </tr>\n",
       "  </tbody>\n",
       "</table>\n",
       "<p>5586 rows × 20 columns</p>\n",
       "</div>"
      ],
      "text/plain": [
       "                    date                           customer_id  order_id  \\\n",
       "0    2018-10-01 00:00:00  ee47d746-6d2f-4d3c-9622-c31412542920     68477   \n",
       "1    2018-10-01 00:00:00  ee47d746-6d2f-4d3c-9622-c31412542920     68477   \n",
       "2    2018-10-01 00:00:00  ee47d746-6d2f-4d3c-9622-c31412542920     68477   \n",
       "3    2018-10-01 00:00:00  ee47d746-6d2f-4d3c-9622-c31412542920     68477   \n",
       "4    2018-10-01 00:00:00  ee47d746-6d2f-4d3c-9622-c31412542920     68477   \n",
       "...                  ...                                   ...       ...   \n",
       "5581 2020-01-30 21:00:00  63208953-a8e4-4f77-9b47-3a46e7b72eee    104002   \n",
       "5582 2020-01-30 22:00:00  d99d25f1-4017-4fcd-8d29-c580cc695a1a    107336   \n",
       "5583 2020-01-31 02:00:00  2c9bd08d-8c55-4e7a-9bfb-8c56ba42c6d6    106336   \n",
       "5584 2020-01-31 12:00:00  cdd17932-623e-415f-a577-3b31312fd0e2    102002   \n",
       "5585 2020-01-31 15:00:00  2e460a26-35af-453d-a369-a036e95a40e0    103225   \n",
       "\n",
       "                                                product  quantity  price  \\\n",
       "0       комнатное растение в горшке алое вера, d12, h30         1  142.0   \n",
       "1     комнатное растение в горшке кофе арабика, d12,...         1  194.0   \n",
       "2                           радермахера d-12 см h-20 см         1  112.0   \n",
       "3                      хризолидокарпус лутесценс d-9 см         1  179.0   \n",
       "4                        циперус зумула d-12 см h-25 см         1  112.0   \n",
       "...                                                 ...       ...    ...   \n",
       "5581  томата (помидор) черниченский черри № 116 сорт...         2   38.0   \n",
       "5582         дендробиум санок анна грин 1 ствол d-12 см         1  869.0   \n",
       "5583  подставка для обуви резиновая attribute 80x40 ...         1  354.0   \n",
       "5584  тагетис крупноцветковый рассада однолетних цве...         1  128.0   \n",
       "5585  вешалка для блузок 41 см красный attribute ahm781         1  104.0   \n",
       "\n",
       "      sales  month  year    date_day season          product_reduction  \\\n",
       "0     142.0     10  2018  2018-10-01  осень         комнатное растение   \n",
       "1     194.0     10  2018  2018-10-01  осень         комнатное растение   \n",
       "2     112.0     10  2018  2018-10-01  осень           радермахера d-12   \n",
       "3     179.0     10  2018  2018-10-01  осень  хризолидокарпус лутесценс   \n",
       "4     112.0     10  2018  2018-10-01  осень             циперус зумула   \n",
       "...     ...    ...   ...         ...    ...                        ...   \n",
       "5581   76.0      1  2020  2020-01-30   зима           томата (помидор)   \n",
       "5582  869.0      1  2020  2020-01-30   зима           дендробиум санок   \n",
       "5583  354.0      1  2020  2020-01-31   зима              подставка для   \n",
       "5584  128.0      1  2020  2020-01-31   зима    тагетис крупноцветковый   \n",
       "5585  104.0      1  2020  2020-01-31   зима                вешалка для   \n",
       "\n",
       "       category  segment flowers household_goods tableware bags  \\\n",
       "0      растения        8       +               -         -    -   \n",
       "1      растения        8       +               -         -    -   \n",
       "2      растения        8       +               -         -    -   \n",
       "3      растения        8       +               -         -    -   \n",
       "4      растения        8       +               -         -    -   \n",
       "...         ...      ...     ...             ...       ...  ...   \n",
       "5581   растения        3       +               +         -    -   \n",
       "5582   растения        1       +               -         -    +   \n",
       "5583   интерьер        3       -               +         -    -   \n",
       "5584   растения        3       +               +         -    -   \n",
       "5585  хозтовары        3       +               +         -    -   \n",
       "\n",
       "     interior_goods equipment  \n",
       "0                 -         -  \n",
       "1                 -         -  \n",
       "2                 -         -  \n",
       "3                 -         -  \n",
       "4                 -         -  \n",
       "...             ...       ...  \n",
       "5581              -         -  \n",
       "5582              -         -  \n",
       "5583              +         -  \n",
       "5584              -         -  \n",
       "5585              -         -  \n",
       "\n",
       "[5586 rows x 20 columns]"
      ]
     },
     "execution_count": 117,
     "metadata": {},
     "output_type": "execute_result"
    }
   ],
   "source": [
    "df"
   ]
  },
  {
   "cell_type": "markdown",
   "id": "d8b6b604",
   "metadata": {},
   "source": [
    "Теперь мы получили данные, где клиенты, в каких категориях они закупаются и разбиты на сегменты."
   ]
  },
  {
   "cell_type": "code",
   "execution_count": 118,
   "id": "b81e77a1",
   "metadata": {},
   "outputs": [
    {
     "data": {
      "text/html": [
       "<div>\n",
       "<style scoped>\n",
       "    .dataframe tbody tr th:only-of-type {\n",
       "        vertical-align: middle;\n",
       "    }\n",
       "\n",
       "    .dataframe tbody tr th {\n",
       "        vertical-align: top;\n",
       "    }\n",
       "\n",
       "    .dataframe thead th {\n",
       "        text-align: right;\n",
       "    }\n",
       "</style>\n",
       "<table border=\"1\" class=\"dataframe\">\n",
       "  <thead>\n",
       "    <tr style=\"text-align: right;\">\n",
       "      <th></th>\n",
       "      <th>segment</th>\n",
       "      <th>customer_id</th>\n",
       "      <th>product</th>\n",
       "    </tr>\n",
       "  </thead>\n",
       "  <tbody>\n",
       "    <tr>\n",
       "      <th>0</th>\n",
       "      <td>1</td>\n",
       "      <td>01a53da1-c3ae-47cf-916e-7e345fe2f2bc</td>\n",
       "      <td>2</td>\n",
       "    </tr>\n",
       "    <tr>\n",
       "      <th>1</th>\n",
       "      <td>1</td>\n",
       "      <td>04416514-5346-4f90-93e3-fb7365e2ee8c</td>\n",
       "      <td>2</td>\n",
       "    </tr>\n",
       "    <tr>\n",
       "      <th>2</th>\n",
       "      <td>1</td>\n",
       "      <td>04f4acb1-8c6d-4e1c-a960-3fa400d220a7</td>\n",
       "      <td>2</td>\n",
       "    </tr>\n",
       "    <tr>\n",
       "      <th>3</th>\n",
       "      <td>1</td>\n",
       "      <td>06a80fd5-29ea-4204-a7df-de6b6c30119a</td>\n",
       "      <td>2</td>\n",
       "    </tr>\n",
       "    <tr>\n",
       "      <th>4</th>\n",
       "      <td>1</td>\n",
       "      <td>09a5e5d4-be3f-4c62-a2c6-8bb3f2c39df5</td>\n",
       "      <td>2</td>\n",
       "    </tr>\n",
       "    <tr>\n",
       "      <th>...</th>\n",
       "      <td>...</td>\n",
       "      <td>...</td>\n",
       "      <td>...</td>\n",
       "    </tr>\n",
       "    <tr>\n",
       "      <th>2445</th>\n",
       "      <td>9</td>\n",
       "      <td>f9a15108-149f-4b97-9888-2f0dd450cb06</td>\n",
       "      <td>1</td>\n",
       "    </tr>\n",
       "    <tr>\n",
       "      <th>2446</th>\n",
       "      <td>9</td>\n",
       "      <td>fba5e196-8533-4805-bca4-6abc919ff10d</td>\n",
       "      <td>1</td>\n",
       "    </tr>\n",
       "    <tr>\n",
       "      <th>2447</th>\n",
       "      <td>9</td>\n",
       "      <td>fe7fbb35-03de-4f95-9386-14439d62c03e</td>\n",
       "      <td>1</td>\n",
       "    </tr>\n",
       "    <tr>\n",
       "      <th>2448</th>\n",
       "      <td>9</td>\n",
       "      <td>fe99fee2-d40c-4ef9-a589-8679f42076fa</td>\n",
       "      <td>1</td>\n",
       "    </tr>\n",
       "    <tr>\n",
       "      <th>2449</th>\n",
       "      <td>9</td>\n",
       "      <td>ffb5976a-7a4d-460b-95c4-5ffaba31cb24</td>\n",
       "      <td>1</td>\n",
       "    </tr>\n",
       "  </tbody>\n",
       "</table>\n",
       "<p>2450 rows × 3 columns</p>\n",
       "</div>"
      ],
      "text/plain": [
       "      segment                           customer_id  product\n",
       "0           1  01a53da1-c3ae-47cf-916e-7e345fe2f2bc        2\n",
       "1           1  04416514-5346-4f90-93e3-fb7365e2ee8c        2\n",
       "2           1  04f4acb1-8c6d-4e1c-a960-3fa400d220a7        2\n",
       "3           1  06a80fd5-29ea-4204-a7df-de6b6c30119a        2\n",
       "4           1  09a5e5d4-be3f-4c62-a2c6-8bb3f2c39df5        2\n",
       "...       ...                                   ...      ...\n",
       "2445        9  f9a15108-149f-4b97-9888-2f0dd450cb06        1\n",
       "2446        9  fba5e196-8533-4805-bca4-6abc919ff10d        1\n",
       "2447        9  fe7fbb35-03de-4f95-9386-14439d62c03e        1\n",
       "2448        9  fe99fee2-d40c-4ef9-a589-8679f42076fa        1\n",
       "2449        9  ffb5976a-7a4d-460b-95c4-5ffaba31cb24        1\n",
       "\n",
       "[2450 rows x 3 columns]"
      ]
     },
     "execution_count": 118,
     "metadata": {},
     "output_type": "execute_result"
    }
   ],
   "source": [
    "oo = pd.pivot_table(df, index=['segment', 'customer_id'], values='product', aggfunc='count')\n",
    "oo = oo.reset_index()\n",
    "oo"
   ]
  },
  {
   "cell_type": "code",
   "execution_count": 119,
   "id": "8c1b16ab",
   "metadata": {},
   "outputs": [
    {
     "data": {
      "text/html": [
       "<div>\n",
       "<style scoped>\n",
       "    .dataframe tbody tr th:only-of-type {\n",
       "        vertical-align: middle;\n",
       "    }\n",
       "\n",
       "    .dataframe tbody tr th {\n",
       "        vertical-align: top;\n",
       "    }\n",
       "\n",
       "    .dataframe thead th {\n",
       "        text-align: right;\n",
       "    }\n",
       "</style>\n",
       "<table border=\"1\" class=\"dataframe\">\n",
       "  <thead>\n",
       "    <tr style=\"text-align: right;\">\n",
       "      <th></th>\n",
       "      <th>product</th>\n",
       "      <th>customer_id</th>\n",
       "      <th>average_count</th>\n",
       "    </tr>\n",
       "    <tr>\n",
       "      <th>segment</th>\n",
       "      <th></th>\n",
       "      <th></th>\n",
       "      <th></th>\n",
       "    </tr>\n",
       "  </thead>\n",
       "  <tbody>\n",
       "    <tr>\n",
       "      <th>1</th>\n",
       "      <td>320</td>\n",
       "      <td>160</td>\n",
       "      <td>2.000000</td>\n",
       "    </tr>\n",
       "    <tr>\n",
       "      <th>2</th>\n",
       "      <td>80</td>\n",
       "      <td>40</td>\n",
       "      <td>2.000000</td>\n",
       "    </tr>\n",
       "    <tr>\n",
       "      <th>3</th>\n",
       "      <td>1101</td>\n",
       "      <td>416</td>\n",
       "      <td>2.646635</td>\n",
       "    </tr>\n",
       "    <tr>\n",
       "      <th>4</th>\n",
       "      <td>877</td>\n",
       "      <td>280</td>\n",
       "      <td>3.132143</td>\n",
       "    </tr>\n",
       "    <tr>\n",
       "      <th>5</th>\n",
       "      <td>2</td>\n",
       "      <td>1</td>\n",
       "      <td>2.000000</td>\n",
       "    </tr>\n",
       "    <tr>\n",
       "      <th>6</th>\n",
       "      <td>602</td>\n",
       "      <td>443</td>\n",
       "      <td>1.358916</td>\n",
       "    </tr>\n",
       "    <tr>\n",
       "      <th>7</th>\n",
       "      <td>334</td>\n",
       "      <td>48</td>\n",
       "      <td>6.958333</td>\n",
       "    </tr>\n",
       "    <tr>\n",
       "      <th>8</th>\n",
       "      <td>2106</td>\n",
       "      <td>915</td>\n",
       "      <td>2.301639</td>\n",
       "    </tr>\n",
       "    <tr>\n",
       "      <th>9</th>\n",
       "      <td>164</td>\n",
       "      <td>147</td>\n",
       "      <td>1.115646</td>\n",
       "    </tr>\n",
       "  </tbody>\n",
       "</table>\n",
       "</div>"
      ],
      "text/plain": [
       "         product  customer_id  average_count\n",
       "segment                                     \n",
       "1            320          160       2.000000\n",
       "2             80           40       2.000000\n",
       "3           1101          416       2.646635\n",
       "4            877          280       3.132143\n",
       "5              2            1       2.000000\n",
       "6            602          443       1.358916\n",
       "7            334           48       6.958333\n",
       "8           2106          915       2.301639\n",
       "9            164          147       1.115646"
      ]
     },
     "execution_count": 119,
     "metadata": {},
     "output_type": "execute_result"
    }
   ],
   "source": [
    "ow = oo.groupby('segment')[['product', 'customer_id']].agg({'product': 'sum', 'customer_id': 'count'})\n",
    "ow['average_count'] = ow['product']/ow['customer_id']\n",
    "ow"
   ]
  },
  {
   "cell_type": "markdown",
   "id": "11a63914",
   "metadata": {},
   "source": [
    "Среднее количество заказов на клиента по сегментам"
   ]
  },
  {
   "cell_type": "code",
   "execution_count": 120,
   "id": "c1f8c204",
   "metadata": {},
   "outputs": [
    {
     "data": {
      "text/html": [
       "<div>\n",
       "<style scoped>\n",
       "    .dataframe tbody tr th:only-of-type {\n",
       "        vertical-align: middle;\n",
       "    }\n",
       "\n",
       "    .dataframe tbody tr th {\n",
       "        vertical-align: top;\n",
       "    }\n",
       "\n",
       "    .dataframe thead th {\n",
       "        text-align: right;\n",
       "    }\n",
       "</style>\n",
       "<table border=\"1\" class=\"dataframe\">\n",
       "  <thead>\n",
       "    <tr style=\"text-align: right;\">\n",
       "      <th></th>\n",
       "      <th>sales</th>\n",
       "    </tr>\n",
       "    <tr>\n",
       "      <th>segment</th>\n",
       "      <th></th>\n",
       "    </tr>\n",
       "  </thead>\n",
       "  <tbody>\n",
       "    <tr>\n",
       "      <th>1</th>\n",
       "      <td>1825.443750</td>\n",
       "    </tr>\n",
       "    <tr>\n",
       "      <th>2</th>\n",
       "      <td>1849.300000</td>\n",
       "    </tr>\n",
       "    <tr>\n",
       "      <th>3</th>\n",
       "      <td>659.542310</td>\n",
       "    </tr>\n",
       "    <tr>\n",
       "      <th>4</th>\n",
       "      <td>532.638921</td>\n",
       "    </tr>\n",
       "    <tr>\n",
       "      <th>5</th>\n",
       "      <td>426.500000</td>\n",
       "    </tr>\n",
       "    <tr>\n",
       "      <th>6</th>\n",
       "      <td>853.790698</td>\n",
       "    </tr>\n",
       "    <tr>\n",
       "      <th>7</th>\n",
       "      <td>434.703593</td>\n",
       "    </tr>\n",
       "    <tr>\n",
       "      <th>8</th>\n",
       "      <td>638.547483</td>\n",
       "    </tr>\n",
       "    <tr>\n",
       "      <th>9</th>\n",
       "      <td>194.603659</td>\n",
       "    </tr>\n",
       "  </tbody>\n",
       "</table>\n",
       "</div>"
      ],
      "text/plain": [
       "               sales\n",
       "segment             \n",
       "1        1825.443750\n",
       "2        1849.300000\n",
       "3         659.542310\n",
       "4         532.638921\n",
       "5         426.500000\n",
       "6         853.790698\n",
       "7         434.703593\n",
       "8         638.547483\n",
       "9         194.603659"
      ]
     },
     "execution_count": 120,
     "metadata": {},
     "output_type": "execute_result"
    }
   ],
   "source": [
    "joja = pd.pivot_table(df, index='segment', values='sales',)\n",
    "joja"
   ]
  },
  {
   "cell_type": "markdown",
   "id": "19b166f9",
   "metadata": {},
   "source": [
    "Средняя выручка на клиента в каждом сегменте."
   ]
  },
  {
   "cell_type": "markdown",
   "id": "ed21a2e4",
   "metadata": {},
   "source": [
    "**Выручка: Растения**"
   ]
  },
  {
   "cell_type": "code",
   "execution_count": 121,
   "id": "bcaf98a6",
   "metadata": {},
   "outputs": [
    {
     "data": {
      "text/html": [
       "<div>\n",
       "<style scoped>\n",
       "    .dataframe tbody tr th:only-of-type {\n",
       "        vertical-align: middle;\n",
       "    }\n",
       "\n",
       "    .dataframe tbody tr th {\n",
       "        vertical-align: top;\n",
       "    }\n",
       "\n",
       "    .dataframe thead th {\n",
       "        text-align: right;\n",
       "    }\n",
       "</style>\n",
       "<table border=\"1\" class=\"dataframe\">\n",
       "  <thead>\n",
       "    <tr style=\"text-align: right;\">\n",
       "      <th></th>\n",
       "      <th>sales</th>\n",
       "    </tr>\n",
       "    <tr>\n",
       "      <th>segment</th>\n",
       "      <th></th>\n",
       "    </tr>\n",
       "  </thead>\n",
       "  <tbody>\n",
       "    <tr>\n",
       "      <th>1</th>\n",
       "      <td>1596.138889</td>\n",
       "    </tr>\n",
       "    <tr>\n",
       "      <th>2</th>\n",
       "      <td>959.000000</td>\n",
       "    </tr>\n",
       "    <tr>\n",
       "      <th>3</th>\n",
       "      <td>613.458498</td>\n",
       "    </tr>\n",
       "    <tr>\n",
       "      <th>4</th>\n",
       "      <td>176.518730</td>\n",
       "    </tr>\n",
       "    <tr>\n",
       "      <th>6</th>\n",
       "      <td>235.296154</td>\n",
       "    </tr>\n",
       "    <tr>\n",
       "      <th>7</th>\n",
       "      <td>202.169811</td>\n",
       "    </tr>\n",
       "    <tr>\n",
       "      <th>8</th>\n",
       "      <td>202.141460</td>\n",
       "    </tr>\n",
       "    <tr>\n",
       "      <th>9</th>\n",
       "      <td>176.735849</td>\n",
       "    </tr>\n",
       "  </tbody>\n",
       "</table>\n",
       "</div>"
      ],
      "text/plain": [
       "               sales\n",
       "segment             \n",
       "1        1596.138889\n",
       "2         959.000000\n",
       "3         613.458498\n",
       "4         176.518730\n",
       "6         235.296154\n",
       "7         202.169811\n",
       "8         202.141460\n",
       "9         176.735849"
      ]
     },
     "execution_count": 121,
     "metadata": {},
     "output_type": "execute_result"
    }
   ],
   "source": [
    "foo = df[df['flowers'] == '+']\n",
    "pd.pivot_table(foo, index='segment', values='sales')"
   ]
  },
  {
   "cell_type": "markdown",
   "id": "e152bdab",
   "metadata": {},
   "source": [
    "**Выручка: Хозтовары**"
   ]
  },
  {
   "cell_type": "code",
   "execution_count": 122,
   "id": "a28f7444",
   "metadata": {},
   "outputs": [
    {
     "data": {
      "text/html": [
       "<div>\n",
       "<style scoped>\n",
       "    .dataframe tbody tr th:only-of-type {\n",
       "        vertical-align: middle;\n",
       "    }\n",
       "\n",
       "    .dataframe tbody tr th {\n",
       "        vertical-align: top;\n",
       "    }\n",
       "\n",
       "    .dataframe thead th {\n",
       "        text-align: right;\n",
       "    }\n",
       "</style>\n",
       "<table border=\"1\" class=\"dataframe\">\n",
       "  <thead>\n",
       "    <tr style=\"text-align: right;\">\n",
       "      <th></th>\n",
       "      <th>sales</th>\n",
       "    </tr>\n",
       "    <tr>\n",
       "      <th>segment</th>\n",
       "      <th></th>\n",
       "    </tr>\n",
       "  </thead>\n",
       "  <tbody>\n",
       "    <tr>\n",
       "      <th>1</th>\n",
       "      <td>1840.782967</td>\n",
       "    </tr>\n",
       "    <tr>\n",
       "      <th>2</th>\n",
       "      <td>1851.125000</td>\n",
       "    </tr>\n",
       "    <tr>\n",
       "      <th>3</th>\n",
       "      <td>773.243944</td>\n",
       "    </tr>\n",
       "    <tr>\n",
       "      <th>4</th>\n",
       "      <td>780.678131</td>\n",
       "    </tr>\n",
       "    <tr>\n",
       "      <th>5</th>\n",
       "      <td>426.500000</td>\n",
       "    </tr>\n",
       "    <tr>\n",
       "      <th>6</th>\n",
       "      <td>1478.191176</td>\n",
       "    </tr>\n",
       "    <tr>\n",
       "      <th>7</th>\n",
       "      <td>541.157205</td>\n",
       "    </tr>\n",
       "    <tr>\n",
       "      <th>8</th>\n",
       "      <td>1620.147766</td>\n",
       "    </tr>\n",
       "    <tr>\n",
       "      <th>9</th>\n",
       "      <td>191.893617</td>\n",
       "    </tr>\n",
       "  </tbody>\n",
       "</table>\n",
       "</div>"
      ],
      "text/plain": [
       "               sales\n",
       "segment             \n",
       "1        1840.782967\n",
       "2        1851.125000\n",
       "3         773.243944\n",
       "4         780.678131\n",
       "5         426.500000\n",
       "6        1478.191176\n",
       "7         541.157205\n",
       "8        1620.147766\n",
       "9         191.893617"
      ]
     },
     "execution_count": 122,
     "metadata": {},
     "output_type": "execute_result"
    }
   ],
   "source": [
    "hoo = df[df['household_goods'] == '+']\n",
    "pd.pivot_table(hoo, index='segment', values='sales')"
   ]
  },
  {
   "cell_type": "markdown",
   "id": "b6b36576",
   "metadata": {},
   "source": [
    "**Выручка: Посуда**"
   ]
  },
  {
   "cell_type": "code",
   "execution_count": 123,
   "id": "c2e9aa79",
   "metadata": {},
   "outputs": [
    {
     "data": {
      "text/html": [
       "<div>\n",
       "<style scoped>\n",
       "    .dataframe tbody tr th:only-of-type {\n",
       "        vertical-align: middle;\n",
       "    }\n",
       "\n",
       "    .dataframe tbody tr th {\n",
       "        vertical-align: top;\n",
       "    }\n",
       "\n",
       "    .dataframe thead th {\n",
       "        text-align: right;\n",
       "    }\n",
       "</style>\n",
       "<table border=\"1\" class=\"dataframe\">\n",
       "  <thead>\n",
       "    <tr style=\"text-align: right;\">\n",
       "      <th></th>\n",
       "      <th>sales</th>\n",
       "    </tr>\n",
       "    <tr>\n",
       "      <th>segment</th>\n",
       "      <th></th>\n",
       "    </tr>\n",
       "  </thead>\n",
       "  <tbody>\n",
       "    <tr>\n",
       "      <th>1</th>\n",
       "      <td>1830.089286</td>\n",
       "    </tr>\n",
       "    <tr>\n",
       "      <th>2</th>\n",
       "      <td>1371.750000</td>\n",
       "    </tr>\n",
       "    <tr>\n",
       "      <th>3</th>\n",
       "      <td>797.479529</td>\n",
       "    </tr>\n",
       "    <tr>\n",
       "      <th>4</th>\n",
       "      <td>547.731707</td>\n",
       "    </tr>\n",
       "    <tr>\n",
       "      <th>6</th>\n",
       "      <td>826.600000</td>\n",
       "    </tr>\n",
       "    <tr>\n",
       "      <th>7</th>\n",
       "      <td>788.157895</td>\n",
       "    </tr>\n",
       "    <tr>\n",
       "      <th>8</th>\n",
       "      <td>903.355140</td>\n",
       "    </tr>\n",
       "    <tr>\n",
       "      <th>9</th>\n",
       "      <td>197.347826</td>\n",
       "    </tr>\n",
       "  </tbody>\n",
       "</table>\n",
       "</div>"
      ],
      "text/plain": [
       "               sales\n",
       "segment             \n",
       "1        1830.089286\n",
       "2        1371.750000\n",
       "3         797.479529\n",
       "4         547.731707\n",
       "6         826.600000\n",
       "7         788.157895\n",
       "8         903.355140\n",
       "9         197.347826"
      ]
     },
     "execution_count": 123,
     "metadata": {},
     "output_type": "execute_result"
    }
   ],
   "source": [
    "too = df[df['tableware'] == '+']\n",
    "pd.pivot_table(too, index='segment', values='sales')"
   ]
  },
  {
   "cell_type": "markdown",
   "id": "13e70c0d",
   "metadata": {},
   "source": [
    "**Выручка: Сумки**"
   ]
  },
  {
   "cell_type": "code",
   "execution_count": 124,
   "id": "edeac5d5",
   "metadata": {},
   "outputs": [
    {
     "data": {
      "text/html": [
       "<div>\n",
       "<style scoped>\n",
       "    .dataframe tbody tr th:only-of-type {\n",
       "        vertical-align: middle;\n",
       "    }\n",
       "\n",
       "    .dataframe tbody tr th {\n",
       "        vertical-align: top;\n",
       "    }\n",
       "\n",
       "    .dataframe thead th {\n",
       "        text-align: right;\n",
       "    }\n",
       "</style>\n",
       "<table border=\"1\" class=\"dataframe\">\n",
       "  <thead>\n",
       "    <tr style=\"text-align: right;\">\n",
       "      <th></th>\n",
       "      <th>sales</th>\n",
       "    </tr>\n",
       "    <tr>\n",
       "      <th>segment</th>\n",
       "      <th></th>\n",
       "    </tr>\n",
       "  </thead>\n",
       "  <tbody>\n",
       "    <tr>\n",
       "      <th>1</th>\n",
       "      <td>2219.108209</td>\n",
       "    </tr>\n",
       "    <tr>\n",
       "      <th>2</th>\n",
       "      <td>2811.750000</td>\n",
       "    </tr>\n",
       "    <tr>\n",
       "      <th>3</th>\n",
       "      <td>1019.312722</td>\n",
       "    </tr>\n",
       "    <tr>\n",
       "      <th>4</th>\n",
       "      <td>2261.859375</td>\n",
       "    </tr>\n",
       "    <tr>\n",
       "      <th>6</th>\n",
       "      <td>1595.120690</td>\n",
       "    </tr>\n",
       "    <tr>\n",
       "      <th>7</th>\n",
       "      <td>724.438596</td>\n",
       "    </tr>\n",
       "    <tr>\n",
       "      <th>8</th>\n",
       "      <td>2216.844828</td>\n",
       "    </tr>\n",
       "    <tr>\n",
       "      <th>9</th>\n",
       "      <td>374.000000</td>\n",
       "    </tr>\n",
       "  </tbody>\n",
       "</table>\n",
       "</div>"
      ],
      "text/plain": [
       "               sales\n",
       "segment             \n",
       "1        2219.108209\n",
       "2        2811.750000\n",
       "3        1019.312722\n",
       "4        2261.859375\n",
       "6        1595.120690\n",
       "7         724.438596\n",
       "8        2216.844828\n",
       "9         374.000000"
      ]
     },
     "execution_count": 124,
     "metadata": {},
     "output_type": "execute_result"
    }
   ],
   "source": [
    "boo = df[df['bags'] == '+']\n",
    "pd.pivot_table(boo, index='segment', values='sales')"
   ]
  },
  {
   "cell_type": "markdown",
   "id": "7376739f",
   "metadata": {},
   "source": [
    "**Выручка: Интерьер**"
   ]
  },
  {
   "cell_type": "code",
   "execution_count": 125,
   "id": "57881d08",
   "metadata": {},
   "outputs": [
    {
     "data": {
      "text/html": [
       "<div>\n",
       "<style scoped>\n",
       "    .dataframe tbody tr th:only-of-type {\n",
       "        vertical-align: middle;\n",
       "    }\n",
       "\n",
       "    .dataframe tbody tr th {\n",
       "        vertical-align: top;\n",
       "    }\n",
       "\n",
       "    .dataframe thead th {\n",
       "        text-align: right;\n",
       "    }\n",
       "</style>\n",
       "<table border=\"1\" class=\"dataframe\">\n",
       "  <thead>\n",
       "    <tr style=\"text-align: right;\">\n",
       "      <th></th>\n",
       "      <th>sales</th>\n",
       "    </tr>\n",
       "    <tr>\n",
       "      <th>segment</th>\n",
       "      <th></th>\n",
       "    </tr>\n",
       "  </thead>\n",
       "  <tbody>\n",
       "    <tr>\n",
       "      <th>1</th>\n",
       "      <td>1673.578431</td>\n",
       "    </tr>\n",
       "    <tr>\n",
       "      <th>2</th>\n",
       "      <td>1913.200000</td>\n",
       "    </tr>\n",
       "    <tr>\n",
       "      <th>3</th>\n",
       "      <td>846.452135</td>\n",
       "    </tr>\n",
       "    <tr>\n",
       "      <th>4</th>\n",
       "      <td>1488.620155</td>\n",
       "    </tr>\n",
       "    <tr>\n",
       "      <th>5</th>\n",
       "      <td>426.500000</td>\n",
       "    </tr>\n",
       "    <tr>\n",
       "      <th>6</th>\n",
       "      <td>1191.650000</td>\n",
       "    </tr>\n",
       "    <tr>\n",
       "      <th>7</th>\n",
       "      <td>471.971154</td>\n",
       "    </tr>\n",
       "    <tr>\n",
       "      <th>8</th>\n",
       "      <td>945.194444</td>\n",
       "    </tr>\n",
       "    <tr>\n",
       "      <th>9</th>\n",
       "      <td>202.540541</td>\n",
       "    </tr>\n",
       "  </tbody>\n",
       "</table>\n",
       "</div>"
      ],
      "text/plain": [
       "               sales\n",
       "segment             \n",
       "1        1673.578431\n",
       "2        1913.200000\n",
       "3         846.452135\n",
       "4        1488.620155\n",
       "5         426.500000\n",
       "6        1191.650000\n",
       "7         471.971154\n",
       "8         945.194444\n",
       "9         202.540541"
      ]
     },
     "execution_count": 125,
     "metadata": {},
     "output_type": "execute_result"
    }
   ],
   "source": [
    "ioo = df[df['interior_goods'] == '+']\n",
    "pd.pivot_table(ioo, index='segment', values='sales')"
   ]
  },
  {
   "cell_type": "markdown",
   "id": "395bdbe6",
   "metadata": {},
   "source": [
    "**Выручка: Техника**"
   ]
  },
  {
   "cell_type": "code",
   "execution_count": 126,
   "id": "8258ad28",
   "metadata": {},
   "outputs": [
    {
     "data": {
      "text/html": [
       "<div>\n",
       "<style scoped>\n",
       "    .dataframe tbody tr th:only-of-type {\n",
       "        vertical-align: middle;\n",
       "    }\n",
       "\n",
       "    .dataframe tbody tr th {\n",
       "        vertical-align: top;\n",
       "    }\n",
       "\n",
       "    .dataframe thead th {\n",
       "        text-align: right;\n",
       "    }\n",
       "</style>\n",
       "<table border=\"1\" class=\"dataframe\">\n",
       "  <thead>\n",
       "    <tr style=\"text-align: right;\">\n",
       "      <th></th>\n",
       "      <th>sales</th>\n",
       "    </tr>\n",
       "    <tr>\n",
       "      <th>segment</th>\n",
       "      <th></th>\n",
       "    </tr>\n",
       "  </thead>\n",
       "  <tbody>\n",
       "    <tr>\n",
       "      <th>1</th>\n",
       "      <td>1465.300000</td>\n",
       "    </tr>\n",
       "    <tr>\n",
       "      <th>2</th>\n",
       "      <td>918.000000</td>\n",
       "    </tr>\n",
       "    <tr>\n",
       "      <th>3</th>\n",
       "      <td>1072.799458</td>\n",
       "    </tr>\n",
       "    <tr>\n",
       "      <th>4</th>\n",
       "      <td>1011.500000</td>\n",
       "    </tr>\n",
       "    <tr>\n",
       "      <th>6</th>\n",
       "      <td>964.000000</td>\n",
       "    </tr>\n",
       "    <tr>\n",
       "      <th>7</th>\n",
       "      <td>746.888889</td>\n",
       "    </tr>\n",
       "    <tr>\n",
       "      <th>8</th>\n",
       "      <td>1135.800000</td>\n",
       "    </tr>\n",
       "  </tbody>\n",
       "</table>\n",
       "</div>"
      ],
      "text/plain": [
       "               sales\n",
       "segment             \n",
       "1        1465.300000\n",
       "2         918.000000\n",
       "3        1072.799458\n",
       "4        1011.500000\n",
       "6         964.000000\n",
       "7         746.888889\n",
       "8        1135.800000"
      ]
     },
     "execution_count": 126,
     "metadata": {},
     "output_type": "execute_result"
    }
   ],
   "source": [
    "eoo = df[df['equipment'] == '+']\n",
    "pd.pivot_table(eoo, index='segment', values='sales')"
   ]
  },
  {
   "cell_type": "markdown",
   "id": "68d1a1f2",
   "metadata": {},
   "source": [
    "Выручка средняя выручка клиентов в категориях по сегментам"
   ]
  },
  {
   "cell_type": "markdown",
   "id": "d9212679",
   "metadata": {},
   "source": [
    "**Итог:**\n",
    "Если смотреть среднюю выручку в категориях, то самая прибыльная - сумки, а самая неприбыльная - техника. В целом если смотреть, все категории не сильно разнятся от общей средней выручки. Самые частые заказы оформляются в сегменте клиентов на грани оттока, то есть ранее они делали много заказов, но в какой-то момент перестали пользоваться. Интересно почему, может появился более серьезный конкурент.."
   ]
  },
  {
   "cell_type": "markdown",
   "id": "0ec5adb3",
   "metadata": {},
   "source": [
    "### Проверка статистических гипотез"
   ]
  },
  {
   "cell_type": "markdown",
   "id": "bae4938e",
   "metadata": {},
   "source": [
    "Мы будем сравнивать гипотезы по слудующим признакам:\n",
    "1. Разделим общее колличество клиентов на тех кто закупаются в разных категориях и на тех кто приобретал товары в одной категории.\n",
    "2. Сравним типы пользователей без разделения в количествах категорий."
   ]
  },
  {
   "cell_type": "markdown",
   "id": "6acfa4ff",
   "metadata": {},
   "source": [
    "Первая гипотеза\n",
    "\n",
    "H0: Нет разницы в средней выручке между сегментами \\\n",
    "H1: Есть разница в средней выручке между сегментами"
   ]
  },
  {
   "cell_type": "code",
   "execution_count": 127,
   "id": "e4419d19",
   "metadata": {},
   "outputs": [],
   "source": [
    "category_A = RFM_Segment[(RFM_Segment['segment'] == 1) | (RFM_Segment['segment'] == 3) | (RFM_Segment['segment'] == 5) | (RFM_Segment['segment'] == 7)]\n",
    "category_B = RFM_Segment[(RFM_Segment['segment'] == 2) | (RFM_Segment['segment'] == 4) | (RFM_Segment['segment'] == 6) | (RFM_Segment['segment'] == 8)]"
   ]
  },
  {
   "cell_type": "code",
   "execution_count": 128,
   "id": "76987ded",
   "metadata": {},
   "outputs": [],
   "source": [
    "best = RFM_Segment[(RFM_Segment['segment'] == 1) | (RFM_Segment['segment'] == 2)]\n",
    "loyal = RFM_Segment[(RFM_Segment['segment'] == 3) | (RFM_Segment['segment'] == 4)]\n",
    "new = RFM_Segment[(RFM_Segment['segment'] == 5) | (RFM_Segment['segment'] == 6)]\n",
    "facet = RFM_Segment[(RFM_Segment['segment'] == 7) | (RFM_Segment['segment'] == 8)]"
   ]
  },
  {
   "cell_type": "code",
   "execution_count": 129,
   "id": "6c22f622",
   "metadata": {},
   "outputs": [],
   "source": [
    "def test(x, y):\n",
    "    result = st.mannwhitneyu(x, y)\n",
    "\n",
    "    alpha = .05\n",
    "\n",
    "    print(result.pvalue)\n",
    "    \n",
    "    if result.pvalue < alpha:\n",
    "        print('Отвергаем нулевую гипотезу')\n",
    "    elif result.pvalue > alpha:\n",
    "        print('Не получилось отвергнуть нулевую гипотезу')\n"
   ]
  },
  {
   "cell_type": "code",
   "execution_count": 130,
   "id": "63726534",
   "metadata": {},
   "outputs": [],
   "source": [
    "category_A_first = category_A['monetary_value']\n",
    "category_B_first = category_B['monetary_value']"
   ]
  },
  {
   "cell_type": "code",
   "execution_count": 131,
   "id": "94cd3c1c",
   "metadata": {},
   "outputs": [],
   "source": [
    "best_first = best['monetary_value']\n",
    "loyal_first = loyal['monetary_value']\n",
    "new_first = new['monetary_value']\n",
    "facet_first = facet['monetary_value']"
   ]
  },
  {
   "cell_type": "code",
   "execution_count": 132,
   "id": "9494c6db",
   "metadata": {},
   "outputs": [
    {
     "name": "stdout",
     "output_type": "stream",
     "text": [
      "2.312928620176911e-18\n",
      "Отвергаем нулевую гипотезу\n"
     ]
    }
   ],
   "source": [
    "test(category_A_first, category_B_first)"
   ]
  },
  {
   "cell_type": "code",
   "execution_count": 133,
   "id": "3453de78",
   "metadata": {},
   "outputs": [
    {
     "name": "stdout",
     "output_type": "stream",
     "text": [
      "2.6345854536049748e-73\n",
      "Отвергаем нулевую гипотезу\n"
     ]
    }
   ],
   "source": [
    "test(best_first, loyal_first)"
   ]
  },
  {
   "cell_type": "code",
   "execution_count": 134,
   "id": "2104aa23",
   "metadata": {},
   "outputs": [
    {
     "name": "stdout",
     "output_type": "stream",
     "text": [
      "7.059373793519649e-61\n",
      "Отвергаем нулевую гипотезу\n"
     ]
    }
   ],
   "source": [
    "test(best_first, new_first)"
   ]
  },
  {
   "cell_type": "code",
   "execution_count": 135,
   "id": "6c97ac52",
   "metadata": {},
   "outputs": [
    {
     "name": "stdout",
     "output_type": "stream",
     "text": [
      "3.883006518959729e-67\n",
      "Отвергаем нулевую гипотезу\n"
     ]
    }
   ],
   "source": [
    "test(best_first, facet_first)"
   ]
  },
  {
   "cell_type": "code",
   "execution_count": 136,
   "id": "4faac22c",
   "metadata": {},
   "outputs": [
    {
     "name": "stdout",
     "output_type": "stream",
     "text": [
      "7.90985671401227e-06\n",
      "Отвергаем нулевую гипотезу\n"
     ]
    }
   ],
   "source": [
    "test(loyal_first, new_first)"
   ]
  },
  {
   "cell_type": "code",
   "execution_count": 137,
   "id": "d9a5aca8",
   "metadata": {},
   "outputs": [
    {
     "name": "stdout",
     "output_type": "stream",
     "text": [
      "0.05412192304874406\n",
      "Не получилось отвергнуть нулевую гипотезу\n"
     ]
    }
   ],
   "source": [
    "test(loyal_first, facet_first)"
   ]
  },
  {
   "cell_type": "code",
   "execution_count": 138,
   "id": "e822d0e5",
   "metadata": {},
   "outputs": [
    {
     "name": "stdout",
     "output_type": "stream",
     "text": [
      "7.670199323775281e-09\n",
      "Отвергаем нулевую гипотезу\n"
     ]
    }
   ],
   "source": [
    "test(new_first, facet_first)"
   ]
  },
  {
   "cell_type": "markdown",
   "id": "e9b3d60a",
   "metadata": {},
   "source": [
    "По первой гипотезе все категории между собой имеют разницу в выручке, кроме пары Лояльных и клиентов которые на грани оттока."
   ]
  },
  {
   "cell_type": "markdown",
   "id": "41fbeb81",
   "metadata": {},
   "source": [
    "Вторая гипотеза\n",
    "\n",
    "H0: Нет разницы в частоте оформления заказов между сегментами \\\n",
    "H1: Есть разница в частоте оформления заказов между сегментами"
   ]
  },
  {
   "cell_type": "code",
   "execution_count": 139,
   "id": "1699c566",
   "metadata": {},
   "outputs": [],
   "source": [
    "category_A_second = category_A['frequency']\n",
    "category_B_second = category_B['frequency']"
   ]
  },
  {
   "cell_type": "code",
   "execution_count": 140,
   "id": "dec740db",
   "metadata": {},
   "outputs": [],
   "source": [
    "best_second = best['frequency']\n",
    "loyal_second = loyal['frequency']\n",
    "new_second = new['frequency']\n",
    "facet_second = facet['frequency']"
   ]
  },
  {
   "cell_type": "code",
   "execution_count": 141,
   "id": "9f1dd9ba",
   "metadata": {},
   "outputs": [
    {
     "name": "stdout",
     "output_type": "stream",
     "text": [
      "3.042092878675181e-218\n",
      "Отвергаем нулевую гипотезу\n"
     ]
    }
   ],
   "source": [
    "test(category_A_second, category_B_second)"
   ]
  },
  {
   "cell_type": "code",
   "execution_count": 142,
   "id": "b1572257",
   "metadata": {},
   "outputs": [
    {
     "name": "stdout",
     "output_type": "stream",
     "text": [
      "0.003983051027568818\n",
      "Отвергаем нулевую гипотезу\n"
     ]
    }
   ],
   "source": [
    "test(best_second, loyal_second)"
   ]
  },
  {
   "cell_type": "code",
   "execution_count": 143,
   "id": "7d963bdd",
   "metadata": {},
   "outputs": [
    {
     "name": "stdout",
     "output_type": "stream",
     "text": [
      "7.492649385651677e-142\n",
      "Отвергаем нулевую гипотезу\n"
     ]
    }
   ],
   "source": [
    "test(best_second, new_second)"
   ]
  },
  {
   "cell_type": "code",
   "execution_count": 144,
   "id": "6667d92e",
   "metadata": {},
   "outputs": [
    {
     "name": "stdout",
     "output_type": "stream",
     "text": [
      "1.1129931911337852e-254\n",
      "Отвергаем нулевую гипотезу\n"
     ]
    }
   ],
   "source": [
    "test(best_second, facet_second)"
   ]
  },
  {
   "cell_type": "code",
   "execution_count": 145,
   "id": "96333c06",
   "metadata": {},
   "outputs": [
    {
     "name": "stdout",
     "output_type": "stream",
     "text": [
      "7.39409406585942e-241\n",
      "Отвергаем нулевую гипотезу\n"
     ]
    }
   ],
   "source": [
    "test(loyal_second, new_second)"
   ]
  },
  {
   "cell_type": "code",
   "execution_count": 146,
   "id": "d3a64191",
   "metadata": {},
   "outputs": [
    {
     "name": "stdout",
     "output_type": "stream",
     "text": [
      "0.0\n",
      "Отвергаем нулевую гипотезу\n"
     ]
    }
   ],
   "source": [
    "test(loyal_second, facet_second)"
   ]
  },
  {
   "cell_type": "code",
   "execution_count": 147,
   "id": "3a82392c",
   "metadata": {},
   "outputs": [
    {
     "name": "stdout",
     "output_type": "stream",
     "text": [
      "1.0\n",
      "Не получилось отвергнуть нулевую гипотезу\n"
     ]
    }
   ],
   "source": [
    "test(facet_second, new_second)"
   ]
  },
  {
   "cell_type": "markdown",
   "id": "89074209",
   "metadata": {},
   "source": [
    "По второй гипотезе такая же ситуация, разницы в частоте оформления есть. Едниственная пара, где нет разницы - клиенты на грани оттока и новые клиенты."
   ]
  },
  {
   "cell_type": "markdown",
   "id": "7a73d9ed",
   "metadata": {},
   "source": [
    "### Вывод"
   ]
  },
  {
   "cell_type": "markdown",
   "id": "04fc3881",
   "metadata": {},
   "source": [
    "1. По данным определили, что самый большой поток заказов - Зима. \n",
    "2. Самый прибыльные месяца - Июнь 2019 и Октябрь 2018\n",
    "3. Самая крупная категория - Хозтовары\n",
    "4. В весеннее время чаще всего приобретают: Растения - Сумки - Интерьер\n",
    "5. В осенне время чаще всего приобретают: Хозтовар \n",
    "6. В зимнее время чаще всего приобретают: Техника - посуда \n",
    "7. Получили 9 видов пользователей, которые отличаются друг от друга: Частотой приобретения товаров, прибылью для магазина, разнообразием категорий в которых приобретают товар и как давно приобретали товар."
   ]
  },
  {
   "cell_type": "markdown",
   "id": "8ddf8696",
   "metadata": {},
   "source": [
    "**Рекомендации:**\n",
    "1. Первый сегмент - лучшие клиенты в разных категориях, на них стоит заострить внимание в плане удержания их на сервисе. Более частые предложения например, тем более клиенты разностороние в плане категорий, будет проще реализовать их удержание.\n",
    "2. Второй сегмент - лучшие клиенты, но ориентированы на одной категории. Тут в целом ситуация схожа с первыми, единственное что, нужно придумать, как таких клиентов заинтересовать другими категориями, может какие-нибудь промо предложения в других категориях.\n",
    "3. Третий сегмент - лояльные клиенты, с ними достаточно будет удержать на прежнем уровне, ведь они и так приносят больше чем средний доход. В дополнение, можно больше продвигать товаров для них, чтобы они перешли в первый сегмент.\n",
    "4. Четвертый сегмент - лояльные клиенты без разнообразия в категориях. Клиентов стоит заинтересовать в разнообразии категорий, они лояльны, приобретают достаточно, но они могут перейти так же в 1 сегмент, если привлеч внимание к другим категориям. \n",
    "5. Пятый сегмент - новые клиенты, одни из важных клиентов, т.к. они познакомились с сервисом не так давно и главное это сохранить их. Специальные предложения, частая таргетированая реклама поможет в удержании. Но суть в том, что в этом сегменте всего 1 клиент. Оттедльных подход к нему прорабатывать не стоит, а например воспользоваться методом для 6 сегмента.\n",
    "6. Шестой сегмент - новые клиенты, без разнообразия в категориях. Ситуация схожа с 5 сегментом. Едниственное что, они узконаправлены на нужную категорию. Стоит привлечь внимания на расширение потреблений в других категориях. Промо и реклама поможет удержании и расширении потреблений. \n",
    "7. Седьмой сегмент - клиенты на грани оттока, клиенты вот-вот пропадут с сервиса. На них стоит обратиться особое внимание, ведь в этом сегменте самый большой показатель по среднему заказу на клиента. Раньше они закупались довольно регулярно, стоит привлечь их внимание вновь всеми возможными силами.\n",
    "8. Восьмой сегмент - клиенты на гранни оттока, без разнообразия в категориях. Этот сегмент тоже очень важен, ведь тут самый большой процент клиентов по сравнения с остальными. Стоит проработать схему по возврату этих клиентов, при удачной компании, вернется большое количество клиентов, что безусловно скажется в лучшую сторону на бизнес. \n",
    "9. Девятый сегмент - клиенты ушедшие с сервиса. Этих клиентов мы практически утеряли, но т.к. они еще остались в базе, есть шанс их вернуть. Активная реклама с промо, возможно вернут их.\n",
    "\n",
    "Подведя итоги, стоит в первую очередь стоит проработать клиентов на грани оттока(7 и 8), там самый большой процент клиентов и самые активные клиенты в плане заказов на душу. Во вторую очередь стоит обратить внимание на новых клиентов(5 и 6), клиенты новые, подход нужен один на всех, ведь в 5 сегменте один клиент. Далее стоит попробовать вернуть 9 сегмент - клиентов ушедших с сервиса. Первые четыре сегмента(1, 2, 3, 4) стоит придерживать +- той же политики как и сейчас, у них все хорошо, но все же не стоит их забывать совсем, привлечение их внимание к сервису - это и есть удержание их в магазине. "
   ]
  },
  {
   "cell_type": "code",
   "execution_count": 148,
   "id": "c58550a1",
   "metadata": {},
   "outputs": [],
   "source": [
    "df.to_csv('dash_visits.csv', index=False)"
   ]
  },
  {
   "cell_type": "code",
   "execution_count": 149,
   "id": "f913e2d2",
   "metadata": {},
   "outputs": [
    {
     "data": {
      "text/html": [
       "<div>\n",
       "<style scoped>\n",
       "    .dataframe tbody tr th:only-of-type {\n",
       "        vertical-align: middle;\n",
       "    }\n",
       "\n",
       "    .dataframe tbody tr th {\n",
       "        vertical-align: top;\n",
       "    }\n",
       "\n",
       "    .dataframe thead th {\n",
       "        text-align: right;\n",
       "    }\n",
       "</style>\n",
       "<table border=\"1\" class=\"dataframe\">\n",
       "  <thead>\n",
       "    <tr style=\"text-align: right;\">\n",
       "      <th></th>\n",
       "      <th>date</th>\n",
       "      <th>customer_id</th>\n",
       "      <th>order_id</th>\n",
       "      <th>product</th>\n",
       "      <th>quantity</th>\n",
       "      <th>price</th>\n",
       "      <th>sales</th>\n",
       "      <th>month</th>\n",
       "      <th>year</th>\n",
       "      <th>date_day</th>\n",
       "      <th>season</th>\n",
       "      <th>product_reduction</th>\n",
       "      <th>category</th>\n",
       "      <th>segment</th>\n",
       "      <th>flowers</th>\n",
       "      <th>household_goods</th>\n",
       "      <th>tableware</th>\n",
       "      <th>bags</th>\n",
       "      <th>interior_goods</th>\n",
       "      <th>equipment</th>\n",
       "    </tr>\n",
       "  </thead>\n",
       "  <tbody>\n",
       "    <tr>\n",
       "      <th>0</th>\n",
       "      <td>2018-10-01 00:00:00</td>\n",
       "      <td>ee47d746-6d2f-4d3c-9622-c31412542920</td>\n",
       "      <td>68477</td>\n",
       "      <td>комнатное растение в горшке алое вера, d12, h30</td>\n",
       "      <td>1</td>\n",
       "      <td>142.0</td>\n",
       "      <td>142.0</td>\n",
       "      <td>10</td>\n",
       "      <td>2018</td>\n",
       "      <td>2018-10-01</td>\n",
       "      <td>осень</td>\n",
       "      <td>комнатное растение</td>\n",
       "      <td>растения</td>\n",
       "      <td>8</td>\n",
       "      <td>+</td>\n",
       "      <td>-</td>\n",
       "      <td>-</td>\n",
       "      <td>-</td>\n",
       "      <td>-</td>\n",
       "      <td>-</td>\n",
       "    </tr>\n",
       "    <tr>\n",
       "      <th>1</th>\n",
       "      <td>2018-10-01 00:00:00</td>\n",
       "      <td>ee47d746-6d2f-4d3c-9622-c31412542920</td>\n",
       "      <td>68477</td>\n",
       "      <td>комнатное растение в горшке кофе арабика, d12,...</td>\n",
       "      <td>1</td>\n",
       "      <td>194.0</td>\n",
       "      <td>194.0</td>\n",
       "      <td>10</td>\n",
       "      <td>2018</td>\n",
       "      <td>2018-10-01</td>\n",
       "      <td>осень</td>\n",
       "      <td>комнатное растение</td>\n",
       "      <td>растения</td>\n",
       "      <td>8</td>\n",
       "      <td>+</td>\n",
       "      <td>-</td>\n",
       "      <td>-</td>\n",
       "      <td>-</td>\n",
       "      <td>-</td>\n",
       "      <td>-</td>\n",
       "    </tr>\n",
       "    <tr>\n",
       "      <th>2</th>\n",
       "      <td>2018-10-01 00:00:00</td>\n",
       "      <td>ee47d746-6d2f-4d3c-9622-c31412542920</td>\n",
       "      <td>68477</td>\n",
       "      <td>радермахера d-12 см h-20 см</td>\n",
       "      <td>1</td>\n",
       "      <td>112.0</td>\n",
       "      <td>112.0</td>\n",
       "      <td>10</td>\n",
       "      <td>2018</td>\n",
       "      <td>2018-10-01</td>\n",
       "      <td>осень</td>\n",
       "      <td>радермахера d-12</td>\n",
       "      <td>растения</td>\n",
       "      <td>8</td>\n",
       "      <td>+</td>\n",
       "      <td>-</td>\n",
       "      <td>-</td>\n",
       "      <td>-</td>\n",
       "      <td>-</td>\n",
       "      <td>-</td>\n",
       "    </tr>\n",
       "    <tr>\n",
       "      <th>3</th>\n",
       "      <td>2018-10-01 00:00:00</td>\n",
       "      <td>ee47d746-6d2f-4d3c-9622-c31412542920</td>\n",
       "      <td>68477</td>\n",
       "      <td>хризолидокарпус лутесценс d-9 см</td>\n",
       "      <td>1</td>\n",
       "      <td>179.0</td>\n",
       "      <td>179.0</td>\n",
       "      <td>10</td>\n",
       "      <td>2018</td>\n",
       "      <td>2018-10-01</td>\n",
       "      <td>осень</td>\n",
       "      <td>хризолидокарпус лутесценс</td>\n",
       "      <td>растения</td>\n",
       "      <td>8</td>\n",
       "      <td>+</td>\n",
       "      <td>-</td>\n",
       "      <td>-</td>\n",
       "      <td>-</td>\n",
       "      <td>-</td>\n",
       "      <td>-</td>\n",
       "    </tr>\n",
       "    <tr>\n",
       "      <th>4</th>\n",
       "      <td>2018-10-01 00:00:00</td>\n",
       "      <td>ee47d746-6d2f-4d3c-9622-c31412542920</td>\n",
       "      <td>68477</td>\n",
       "      <td>циперус зумула d-12 см h-25 см</td>\n",
       "      <td>1</td>\n",
       "      <td>112.0</td>\n",
       "      <td>112.0</td>\n",
       "      <td>10</td>\n",
       "      <td>2018</td>\n",
       "      <td>2018-10-01</td>\n",
       "      <td>осень</td>\n",
       "      <td>циперус зумула</td>\n",
       "      <td>растения</td>\n",
       "      <td>8</td>\n",
       "      <td>+</td>\n",
       "      <td>-</td>\n",
       "      <td>-</td>\n",
       "      <td>-</td>\n",
       "      <td>-</td>\n",
       "      <td>-</td>\n",
       "    </tr>\n",
       "    <tr>\n",
       "      <th>...</th>\n",
       "      <td>...</td>\n",
       "      <td>...</td>\n",
       "      <td>...</td>\n",
       "      <td>...</td>\n",
       "      <td>...</td>\n",
       "      <td>...</td>\n",
       "      <td>...</td>\n",
       "      <td>...</td>\n",
       "      <td>...</td>\n",
       "      <td>...</td>\n",
       "      <td>...</td>\n",
       "      <td>...</td>\n",
       "      <td>...</td>\n",
       "      <td>...</td>\n",
       "      <td>...</td>\n",
       "      <td>...</td>\n",
       "      <td>...</td>\n",
       "      <td>...</td>\n",
       "      <td>...</td>\n",
       "      <td>...</td>\n",
       "    </tr>\n",
       "    <tr>\n",
       "      <th>5581</th>\n",
       "      <td>2020-01-30 21:00:00</td>\n",
       "      <td>63208953-a8e4-4f77-9b47-3a46e7b72eee</td>\n",
       "      <td>104002</td>\n",
       "      <td>томата (помидор) черниченский черри № 116 сорт...</td>\n",
       "      <td>2</td>\n",
       "      <td>38.0</td>\n",
       "      <td>76.0</td>\n",
       "      <td>1</td>\n",
       "      <td>2020</td>\n",
       "      <td>2020-01-30</td>\n",
       "      <td>зима</td>\n",
       "      <td>томата (помидор)</td>\n",
       "      <td>растения</td>\n",
       "      <td>3</td>\n",
       "      <td>+</td>\n",
       "      <td>+</td>\n",
       "      <td>-</td>\n",
       "      <td>-</td>\n",
       "      <td>-</td>\n",
       "      <td>-</td>\n",
       "    </tr>\n",
       "    <tr>\n",
       "      <th>5582</th>\n",
       "      <td>2020-01-30 22:00:00</td>\n",
       "      <td>d99d25f1-4017-4fcd-8d29-c580cc695a1a</td>\n",
       "      <td>107336</td>\n",
       "      <td>дендробиум санок анна грин 1 ствол d-12 см</td>\n",
       "      <td>1</td>\n",
       "      <td>869.0</td>\n",
       "      <td>869.0</td>\n",
       "      <td>1</td>\n",
       "      <td>2020</td>\n",
       "      <td>2020-01-30</td>\n",
       "      <td>зима</td>\n",
       "      <td>дендробиум санок</td>\n",
       "      <td>растения</td>\n",
       "      <td>1</td>\n",
       "      <td>+</td>\n",
       "      <td>-</td>\n",
       "      <td>-</td>\n",
       "      <td>+</td>\n",
       "      <td>-</td>\n",
       "      <td>-</td>\n",
       "    </tr>\n",
       "    <tr>\n",
       "      <th>5583</th>\n",
       "      <td>2020-01-31 02:00:00</td>\n",
       "      <td>2c9bd08d-8c55-4e7a-9bfb-8c56ba42c6d6</td>\n",
       "      <td>106336</td>\n",
       "      <td>подставка для обуви резиновая attribute 80x40 ...</td>\n",
       "      <td>1</td>\n",
       "      <td>354.0</td>\n",
       "      <td>354.0</td>\n",
       "      <td>1</td>\n",
       "      <td>2020</td>\n",
       "      <td>2020-01-31</td>\n",
       "      <td>зима</td>\n",
       "      <td>подставка для</td>\n",
       "      <td>интерьер</td>\n",
       "      <td>3</td>\n",
       "      <td>-</td>\n",
       "      <td>+</td>\n",
       "      <td>-</td>\n",
       "      <td>-</td>\n",
       "      <td>+</td>\n",
       "      <td>-</td>\n",
       "    </tr>\n",
       "    <tr>\n",
       "      <th>5584</th>\n",
       "      <td>2020-01-31 12:00:00</td>\n",
       "      <td>cdd17932-623e-415f-a577-3b31312fd0e2</td>\n",
       "      <td>102002</td>\n",
       "      <td>тагетис крупноцветковый рассада однолетних цве...</td>\n",
       "      <td>1</td>\n",
       "      <td>128.0</td>\n",
       "      <td>128.0</td>\n",
       "      <td>1</td>\n",
       "      <td>2020</td>\n",
       "      <td>2020-01-31</td>\n",
       "      <td>зима</td>\n",
       "      <td>тагетис крупноцветковый</td>\n",
       "      <td>растения</td>\n",
       "      <td>3</td>\n",
       "      <td>+</td>\n",
       "      <td>+</td>\n",
       "      <td>-</td>\n",
       "      <td>-</td>\n",
       "      <td>-</td>\n",
       "      <td>-</td>\n",
       "    </tr>\n",
       "    <tr>\n",
       "      <th>5585</th>\n",
       "      <td>2020-01-31 15:00:00</td>\n",
       "      <td>2e460a26-35af-453d-a369-a036e95a40e0</td>\n",
       "      <td>103225</td>\n",
       "      <td>вешалка для блузок 41 см красный attribute ahm781</td>\n",
       "      <td>1</td>\n",
       "      <td>104.0</td>\n",
       "      <td>104.0</td>\n",
       "      <td>1</td>\n",
       "      <td>2020</td>\n",
       "      <td>2020-01-31</td>\n",
       "      <td>зима</td>\n",
       "      <td>вешалка для</td>\n",
       "      <td>хозтовары</td>\n",
       "      <td>3</td>\n",
       "      <td>+</td>\n",
       "      <td>+</td>\n",
       "      <td>-</td>\n",
       "      <td>-</td>\n",
       "      <td>-</td>\n",
       "      <td>-</td>\n",
       "    </tr>\n",
       "  </tbody>\n",
       "</table>\n",
       "<p>5586 rows × 20 columns</p>\n",
       "</div>"
      ],
      "text/plain": [
       "                     date                           customer_id  order_id  \\\n",
       "0     2018-10-01 00:00:00  ee47d746-6d2f-4d3c-9622-c31412542920     68477   \n",
       "1     2018-10-01 00:00:00  ee47d746-6d2f-4d3c-9622-c31412542920     68477   \n",
       "2     2018-10-01 00:00:00  ee47d746-6d2f-4d3c-9622-c31412542920     68477   \n",
       "3     2018-10-01 00:00:00  ee47d746-6d2f-4d3c-9622-c31412542920     68477   \n",
       "4     2018-10-01 00:00:00  ee47d746-6d2f-4d3c-9622-c31412542920     68477   \n",
       "...                   ...                                   ...       ...   \n",
       "5581  2020-01-30 21:00:00  63208953-a8e4-4f77-9b47-3a46e7b72eee    104002   \n",
       "5582  2020-01-30 22:00:00  d99d25f1-4017-4fcd-8d29-c580cc695a1a    107336   \n",
       "5583  2020-01-31 02:00:00  2c9bd08d-8c55-4e7a-9bfb-8c56ba42c6d6    106336   \n",
       "5584  2020-01-31 12:00:00  cdd17932-623e-415f-a577-3b31312fd0e2    102002   \n",
       "5585  2020-01-31 15:00:00  2e460a26-35af-453d-a369-a036e95a40e0    103225   \n",
       "\n",
       "                                                product  quantity  price  \\\n",
       "0       комнатное растение в горшке алое вера, d12, h30         1  142.0   \n",
       "1     комнатное растение в горшке кофе арабика, d12,...         1  194.0   \n",
       "2                           радермахера d-12 см h-20 см         1  112.0   \n",
       "3                      хризолидокарпус лутесценс d-9 см         1  179.0   \n",
       "4                        циперус зумула d-12 см h-25 см         1  112.0   \n",
       "...                                                 ...       ...    ...   \n",
       "5581  томата (помидор) черниченский черри № 116 сорт...         2   38.0   \n",
       "5582         дендробиум санок анна грин 1 ствол d-12 см         1  869.0   \n",
       "5583  подставка для обуви резиновая attribute 80x40 ...         1  354.0   \n",
       "5584  тагетис крупноцветковый рассада однолетних цве...         1  128.0   \n",
       "5585  вешалка для блузок 41 см красный attribute ahm781         1  104.0   \n",
       "\n",
       "      sales  month  year    date_day season          product_reduction  \\\n",
       "0     142.0     10  2018  2018-10-01  осень         комнатное растение   \n",
       "1     194.0     10  2018  2018-10-01  осень         комнатное растение   \n",
       "2     112.0     10  2018  2018-10-01  осень           радермахера d-12   \n",
       "3     179.0     10  2018  2018-10-01  осень  хризолидокарпус лутесценс   \n",
       "4     112.0     10  2018  2018-10-01  осень             циперус зумула   \n",
       "...     ...    ...   ...         ...    ...                        ...   \n",
       "5581   76.0      1  2020  2020-01-30   зима           томата (помидор)   \n",
       "5582  869.0      1  2020  2020-01-30   зима           дендробиум санок   \n",
       "5583  354.0      1  2020  2020-01-31   зима              подставка для   \n",
       "5584  128.0      1  2020  2020-01-31   зима    тагетис крупноцветковый   \n",
       "5585  104.0      1  2020  2020-01-31   зима                вешалка для   \n",
       "\n",
       "       category  segment flowers household_goods tableware bags  \\\n",
       "0      растения        8       +               -         -    -   \n",
       "1      растения        8       +               -         -    -   \n",
       "2      растения        8       +               -         -    -   \n",
       "3      растения        8       +               -         -    -   \n",
       "4      растения        8       +               -         -    -   \n",
       "...         ...      ...     ...             ...       ...  ...   \n",
       "5581   растения        3       +               +         -    -   \n",
       "5582   растения        1       +               -         -    +   \n",
       "5583   интерьер        3       -               +         -    -   \n",
       "5584   растения        3       +               +         -    -   \n",
       "5585  хозтовары        3       +               +         -    -   \n",
       "\n",
       "     interior_goods equipment  \n",
       "0                 -         -  \n",
       "1                 -         -  \n",
       "2                 -         -  \n",
       "3                 -         -  \n",
       "4                 -         -  \n",
       "...             ...       ...  \n",
       "5581              -         -  \n",
       "5582              -         -  \n",
       "5583              +         -  \n",
       "5584              -         -  \n",
       "5585              -         -  \n",
       "\n",
       "[5586 rows x 20 columns]"
      ]
     },
     "execution_count": 149,
     "metadata": {},
     "output_type": "execute_result"
    }
   ],
   "source": [
    "test_visits = pd.read_csv('dash_visits.csv')\n",
    "test_visits"
   ]
  }
 ],
 "metadata": {
  "ExecuteTimeLog": [
   {
    "duration": 1379,
    "start_time": "2023-08-17T12:54:06.016Z"
   },
   {
    "duration": 112,
    "start_time": "2023-08-17T12:54:07.397Z"
   },
   {
    "duration": 16,
    "start_time": "2023-08-17T12:54:07.511Z"
   },
   {
    "duration": 7,
    "start_time": "2023-08-17T12:54:07.530Z"
   },
   {
    "duration": 10,
    "start_time": "2023-08-17T12:54:07.539Z"
   },
   {
    "duration": 13,
    "start_time": "2023-08-17T12:54:07.551Z"
   },
   {
    "duration": 45,
    "start_time": "2023-08-17T12:54:07.566Z"
   },
   {
    "duration": 5,
    "start_time": "2023-08-17T12:54:07.613Z"
   },
   {
    "duration": 14,
    "start_time": "2023-08-17T12:54:07.620Z"
   },
   {
    "duration": 10,
    "start_time": "2023-08-17T12:54:07.638Z"
   },
   {
    "duration": 9,
    "start_time": "2023-08-17T12:54:07.649Z"
   },
   {
    "duration": 16,
    "start_time": "2023-08-17T12:54:07.659Z"
   },
   {
    "duration": 26,
    "start_time": "2023-08-17T12:54:07.676Z"
   },
   {
    "duration": 7,
    "start_time": "2023-08-17T12:54:07.704Z"
   },
   {
    "duration": 12,
    "start_time": "2023-08-17T12:54:07.713Z"
   },
   {
    "duration": 7,
    "start_time": "2023-08-17T12:54:07.727Z"
   },
   {
    "duration": 6,
    "start_time": "2023-08-17T12:54:07.736Z"
   },
   {
    "duration": 13,
    "start_time": "2023-08-17T12:54:07.744Z"
   },
   {
    "duration": 4,
    "start_time": "2023-08-17T12:54:07.758Z"
   },
   {
    "duration": 43,
    "start_time": "2023-08-17T12:54:07.764Z"
   },
   {
    "duration": 19,
    "start_time": "2023-08-17T12:54:07.809Z"
   },
   {
    "duration": 6,
    "start_time": "2023-08-17T12:54:07.830Z"
   },
   {
    "duration": 7,
    "start_time": "2023-08-17T12:54:07.838Z"
   },
   {
    "duration": 6,
    "start_time": "2023-08-17T12:54:07.846Z"
   },
   {
    "duration": 310,
    "start_time": "2023-08-17T12:54:07.854Z"
   },
   {
    "duration": 208,
    "start_time": "2023-08-17T12:54:08.166Z"
   },
   {
    "duration": 10,
    "start_time": "2023-08-17T12:54:08.376Z"
   },
   {
    "duration": 24,
    "start_time": "2023-08-17T12:54:08.391Z"
   },
   {
    "duration": 19,
    "start_time": "2023-08-17T12:54:08.417Z"
   },
   {
    "duration": 16,
    "start_time": "2023-08-17T12:54:08.439Z"
   },
   {
    "duration": 12,
    "start_time": "2023-08-17T12:54:08.456Z"
   },
   {
    "duration": 33,
    "start_time": "2023-08-17T12:54:08.470Z"
   },
   {
    "duration": 15,
    "start_time": "2023-08-17T12:54:08.506Z"
   },
   {
    "duration": 10,
    "start_time": "2023-08-17T12:54:08.522Z"
   },
   {
    "duration": 13,
    "start_time": "2023-08-17T12:54:08.533Z"
   },
   {
    "duration": 9,
    "start_time": "2023-08-17T12:54:08.548Z"
   },
   {
    "duration": 14,
    "start_time": "2023-08-17T12:54:08.558Z"
   },
   {
    "duration": 7,
    "start_time": "2023-08-17T12:54:08.574Z"
   },
   {
    "duration": 41,
    "start_time": "2023-08-17T12:54:08.583Z"
   },
   {
    "duration": 6,
    "start_time": "2023-08-17T12:54:08.626Z"
   },
   {
    "duration": 30,
    "start_time": "2023-08-17T12:54:08.634Z"
   },
   {
    "duration": 14,
    "start_time": "2023-08-17T12:54:08.665Z"
   },
   {
    "duration": 151,
    "start_time": "2023-08-17T12:54:08.681Z"
   },
   {
    "duration": 463,
    "start_time": "2023-08-17T12:54:08.833Z"
   },
   {
    "duration": 285,
    "start_time": "2023-08-17T12:54:09.297Z"
   },
   {
    "duration": 145,
    "start_time": "2023-08-17T12:54:09.584Z"
   },
   {
    "duration": 264,
    "start_time": "2023-08-17T12:54:09.731Z"
   },
   {
    "duration": 147,
    "start_time": "2023-08-17T12:54:10.001Z"
   },
   {
    "duration": 278,
    "start_time": "2023-08-17T12:54:10.150Z"
   },
   {
    "duration": 130,
    "start_time": "2023-08-17T12:54:10.431Z"
   },
   {
    "duration": 275,
    "start_time": "2023-08-17T12:54:10.563Z"
   },
   {
    "duration": 155,
    "start_time": "2023-08-17T12:54:10.839Z"
   },
   {
    "duration": 267,
    "start_time": "2023-08-17T12:54:10.996Z"
   },
   {
    "duration": 142,
    "start_time": "2023-08-17T12:54:11.265Z"
   },
   {
    "duration": 343,
    "start_time": "2023-08-17T12:54:11.409Z"
   },
   {
    "duration": 140,
    "start_time": "2023-08-17T12:54:11.754Z"
   },
   {
    "duration": 17,
    "start_time": "2023-08-17T12:54:11.902Z"
   },
   {
    "duration": 21,
    "start_time": "2023-08-17T12:54:11.920Z"
   },
   {
    "duration": 13,
    "start_time": "2023-08-17T12:54:11.943Z"
   },
   {
    "duration": 29,
    "start_time": "2023-08-17T12:54:11.958Z"
   },
   {
    "duration": 514,
    "start_time": "2023-08-17T12:54:11.988Z"
   },
   {
    "duration": 10,
    "start_time": "2023-08-17T12:54:12.504Z"
   },
   {
    "duration": 22,
    "start_time": "2023-08-17T12:54:12.516Z"
   },
   {
    "duration": 10,
    "start_time": "2023-08-17T12:54:12.540Z"
   },
   {
    "duration": 6,
    "start_time": "2023-08-17T12:54:12.552Z"
   },
   {
    "duration": 8,
    "start_time": "2023-08-17T12:54:12.560Z"
   },
   {
    "duration": 7,
    "start_time": "2023-08-17T12:54:12.569Z"
   },
   {
    "duration": 28,
    "start_time": "2023-08-17T12:54:12.577Z"
   },
   {
    "duration": 7,
    "start_time": "2023-08-17T12:54:12.607Z"
   },
   {
    "duration": 8,
    "start_time": "2023-08-17T12:54:12.616Z"
   },
   {
    "duration": 7,
    "start_time": "2023-08-17T12:54:12.626Z"
   },
   {
    "duration": 5,
    "start_time": "2023-08-17T12:54:12.635Z"
   },
   {
    "duration": 18,
    "start_time": "2023-08-17T12:54:12.642Z"
   },
   {
    "duration": 17,
    "start_time": "2023-08-17T12:54:12.661Z"
   },
   {
    "duration": 5,
    "start_time": "2023-08-17T12:54:12.680Z"
   },
   {
    "duration": 58,
    "start_time": "2023-08-17T12:54:12.686Z"
   },
   {
    "duration": 4,
    "start_time": "2023-08-17T12:54:12.746Z"
   },
   {
    "duration": 11,
    "start_time": "2023-08-17T12:54:12.752Z"
   },
   {
    "duration": 10,
    "start_time": "2023-08-17T12:54:12.764Z"
   },
   {
    "duration": 6,
    "start_time": "2023-08-17T12:54:12.776Z"
   },
   {
    "duration": 5,
    "start_time": "2023-08-17T12:54:12.783Z"
   },
   {
    "duration": 4,
    "start_time": "2023-08-17T12:54:12.802Z"
   },
   {
    "duration": 11,
    "start_time": "2023-08-17T12:54:12.807Z"
   },
   {
    "duration": 6,
    "start_time": "2023-08-17T12:54:12.820Z"
   },
   {
    "duration": 8,
    "start_time": "2023-08-17T12:54:12.828Z"
   },
   {
    "duration": 14,
    "start_time": "2023-08-17T12:54:12.837Z"
   },
   {
    "duration": 9,
    "start_time": "2023-08-17T12:54:12.853Z"
   },
   {
    "duration": 7,
    "start_time": "2023-08-17T12:54:12.864Z"
   },
   {
    "duration": 31,
    "start_time": "2023-08-17T12:54:12.872Z"
   },
   {
    "duration": 3,
    "start_time": "2023-08-17T12:54:12.905Z"
   },
   {
    "duration": 9,
    "start_time": "2023-08-17T12:54:12.909Z"
   },
   {
    "duration": 9,
    "start_time": "2023-08-17T12:54:12.919Z"
   },
   {
    "duration": 8,
    "start_time": "2023-08-17T12:54:12.929Z"
   },
   {
    "duration": 8,
    "start_time": "2023-08-17T12:54:12.938Z"
   },
   {
    "duration": 13,
    "start_time": "2023-08-17T12:54:12.947Z"
   },
   {
    "duration": 7,
    "start_time": "2023-08-17T12:54:12.961Z"
   },
   {
    "duration": 7,
    "start_time": "2023-08-17T12:54:12.969Z"
   },
   {
    "duration": 29,
    "start_time": "2023-08-17T12:54:12.977Z"
   },
   {
    "duration": 29,
    "start_time": "2023-08-17T12:54:43.706Z"
   },
   {
    "duration": 9,
    "start_time": "2023-08-17T13:22:18.350Z"
   },
   {
    "duration": 20,
    "start_time": "2023-08-17T13:47:15.180Z"
   },
   {
    "duration": 10,
    "start_time": "2023-08-17T14:07:48.821Z"
   },
   {
    "duration": 45,
    "start_time": "2023-08-17T14:21:42.595Z"
   },
   {
    "duration": 1625,
    "start_time": "2023-08-17T14:21:46.540Z"
   },
   {
    "duration": 125,
    "start_time": "2023-08-17T14:21:48.167Z"
   },
   {
    "duration": 17,
    "start_time": "2023-08-17T14:21:48.294Z"
   },
   {
    "duration": 187,
    "start_time": "2023-08-17T14:21:48.314Z"
   },
   {
    "duration": 56,
    "start_time": "2023-08-17T14:21:48.503Z"
   },
   {
    "duration": 27,
    "start_time": "2023-08-17T14:21:48.561Z"
   },
   {
    "duration": 16,
    "start_time": "2023-08-17T14:21:48.590Z"
   },
   {
    "duration": 24,
    "start_time": "2023-08-17T14:21:48.608Z"
   },
   {
    "duration": 22,
    "start_time": "2023-08-17T14:21:48.634Z"
   },
   {
    "duration": 32,
    "start_time": "2023-08-17T14:21:48.658Z"
   },
   {
    "duration": 8,
    "start_time": "2023-08-17T14:21:48.692Z"
   },
   {
    "duration": 9,
    "start_time": "2023-08-17T14:21:48.701Z"
   },
   {
    "duration": 36,
    "start_time": "2023-08-17T14:21:48.712Z"
   },
   {
    "duration": 35,
    "start_time": "2023-08-17T14:21:48.750Z"
   },
   {
    "duration": 8,
    "start_time": "2023-08-17T14:21:48.787Z"
   },
   {
    "duration": 31,
    "start_time": "2023-08-17T14:21:48.797Z"
   },
   {
    "duration": 41,
    "start_time": "2023-08-17T14:21:48.830Z"
   },
   {
    "duration": 51,
    "start_time": "2023-08-17T14:21:48.872Z"
   },
   {
    "duration": 33,
    "start_time": "2023-08-17T14:21:48.924Z"
   },
   {
    "duration": 26,
    "start_time": "2023-08-17T14:21:48.958Z"
   },
   {
    "duration": 19,
    "start_time": "2023-08-17T14:21:48.986Z"
   },
   {
    "duration": 27,
    "start_time": "2023-08-17T14:21:49.006Z"
   },
   {
    "duration": 9,
    "start_time": "2023-08-17T14:21:49.035Z"
   },
   {
    "duration": 48,
    "start_time": "2023-08-17T14:21:49.046Z"
   },
   {
    "duration": 17,
    "start_time": "2023-08-17T14:21:49.096Z"
   },
   {
    "duration": 352,
    "start_time": "2023-08-17T14:21:49.115Z"
   },
   {
    "duration": 227,
    "start_time": "2023-08-17T14:21:49.468Z"
   },
   {
    "duration": 11,
    "start_time": "2023-08-17T14:21:49.701Z"
   },
   {
    "duration": 41,
    "start_time": "2023-08-17T14:21:49.714Z"
   },
   {
    "duration": 34,
    "start_time": "2023-08-17T14:21:49.757Z"
   },
   {
    "duration": 34,
    "start_time": "2023-08-17T14:21:49.793Z"
   },
   {
    "duration": 30,
    "start_time": "2023-08-17T14:21:49.829Z"
   },
   {
    "duration": 26,
    "start_time": "2023-08-17T14:21:49.861Z"
   },
   {
    "duration": 60,
    "start_time": "2023-08-17T14:21:49.890Z"
   },
   {
    "duration": 39,
    "start_time": "2023-08-17T14:21:49.952Z"
   },
   {
    "duration": 39,
    "start_time": "2023-08-17T14:21:49.993Z"
   },
   {
    "duration": 28,
    "start_time": "2023-08-17T14:21:50.034Z"
   },
   {
    "duration": 45,
    "start_time": "2023-08-17T14:21:50.065Z"
   },
   {
    "duration": 23,
    "start_time": "2023-08-17T14:21:50.112Z"
   },
   {
    "duration": 43,
    "start_time": "2023-08-17T14:21:50.137Z"
   },
   {
    "duration": 7,
    "start_time": "2023-08-17T14:21:50.182Z"
   },
   {
    "duration": 29,
    "start_time": "2023-08-17T14:21:50.190Z"
   },
   {
    "duration": 21,
    "start_time": "2023-08-17T14:21:50.221Z"
   },
   {
    "duration": 179,
    "start_time": "2023-08-17T14:21:50.244Z"
   },
   {
    "duration": 503,
    "start_time": "2023-08-17T14:21:50.424Z"
   },
   {
    "duration": 321,
    "start_time": "2023-08-17T14:21:50.929Z"
   },
   {
    "duration": 143,
    "start_time": "2023-08-17T14:21:51.252Z"
   },
   {
    "duration": 324,
    "start_time": "2023-08-17T14:21:51.397Z"
   },
   {
    "duration": 176,
    "start_time": "2023-08-17T14:21:51.723Z"
   },
   {
    "duration": 297,
    "start_time": "2023-08-17T14:21:51.901Z"
   },
   {
    "duration": 159,
    "start_time": "2023-08-17T14:21:52.200Z"
   },
   {
    "duration": 323,
    "start_time": "2023-08-17T14:21:52.361Z"
   },
   {
    "duration": 161,
    "start_time": "2023-08-17T14:21:52.685Z"
   },
   {
    "duration": 299,
    "start_time": "2023-08-17T14:21:52.849Z"
   },
   {
    "duration": 174,
    "start_time": "2023-08-17T14:21:53.150Z"
   },
   {
    "duration": 419,
    "start_time": "2023-08-17T14:21:53.325Z"
   },
   {
    "duration": 183,
    "start_time": "2023-08-17T14:21:53.746Z"
   },
   {
    "duration": 24,
    "start_time": "2023-08-17T14:21:53.931Z"
   },
   {
    "duration": 29,
    "start_time": "2023-08-17T14:21:53.975Z"
   },
   {
    "duration": 55,
    "start_time": "2023-08-17T14:21:54.006Z"
   },
   {
    "duration": 30,
    "start_time": "2023-08-17T14:21:54.063Z"
   },
   {
    "duration": 697,
    "start_time": "2023-08-17T14:21:54.095Z"
   },
   {
    "duration": 12,
    "start_time": "2023-08-17T14:21:54.794Z"
   },
   {
    "duration": 37,
    "start_time": "2023-08-17T14:21:54.808Z"
   },
   {
    "duration": 46,
    "start_time": "2023-08-17T14:21:54.847Z"
   },
   {
    "duration": 20,
    "start_time": "2023-08-17T14:21:54.895Z"
   },
   {
    "duration": 21,
    "start_time": "2023-08-17T14:21:54.917Z"
   },
   {
    "duration": 11,
    "start_time": "2023-08-17T14:21:54.940Z"
   },
   {
    "duration": 38,
    "start_time": "2023-08-17T14:21:54.953Z"
   },
   {
    "duration": 7,
    "start_time": "2023-08-17T14:21:54.994Z"
   },
   {
    "duration": 44,
    "start_time": "2023-08-17T14:21:55.003Z"
   },
   {
    "duration": 32,
    "start_time": "2023-08-17T14:21:55.049Z"
   },
   {
    "duration": 13,
    "start_time": "2023-08-17T14:21:55.083Z"
   },
   {
    "duration": 20,
    "start_time": "2023-08-17T14:21:55.098Z"
   },
   {
    "duration": 9,
    "start_time": "2023-08-17T14:21:55.120Z"
   },
   {
    "duration": 13,
    "start_time": "2023-08-17T14:21:55.130Z"
   },
   {
    "duration": 84,
    "start_time": "2023-08-17T14:21:55.145Z"
   },
   {
    "duration": 6,
    "start_time": "2023-08-17T14:21:55.231Z"
   },
   {
    "duration": 23,
    "start_time": "2023-08-17T14:21:55.239Z"
   },
   {
    "duration": 21,
    "start_time": "2023-08-17T14:21:55.265Z"
   },
   {
    "duration": 23,
    "start_time": "2023-08-17T14:21:55.288Z"
   },
   {
    "duration": 5,
    "start_time": "2023-08-17T14:21:55.318Z"
   },
   {
    "duration": 8,
    "start_time": "2023-08-17T14:21:55.325Z"
   },
   {
    "duration": 12,
    "start_time": "2023-08-17T14:21:55.335Z"
   },
   {
    "duration": 10,
    "start_time": "2023-08-17T14:21:55.349Z"
   },
   {
    "duration": 10,
    "start_time": "2023-08-17T14:21:55.361Z"
   },
   {
    "duration": 23,
    "start_time": "2023-08-17T14:21:55.373Z"
   },
   {
    "duration": 16,
    "start_time": "2023-08-17T14:21:55.399Z"
   },
   {
    "duration": 16,
    "start_time": "2023-08-17T14:21:55.417Z"
   },
   {
    "duration": 15,
    "start_time": "2023-08-17T14:21:55.434Z"
   },
   {
    "duration": 21,
    "start_time": "2023-08-17T14:21:55.452Z"
   },
   {
    "duration": 12,
    "start_time": "2023-08-17T14:21:55.475Z"
   },
   {
    "duration": 16,
    "start_time": "2023-08-17T14:21:55.488Z"
   },
   {
    "duration": 7,
    "start_time": "2023-08-17T14:21:55.505Z"
   },
   {
    "duration": 13,
    "start_time": "2023-08-17T14:21:55.513Z"
   },
   {
    "duration": 24,
    "start_time": "2023-08-17T14:21:55.528Z"
   },
   {
    "duration": 14,
    "start_time": "2023-08-17T14:21:55.554Z"
   },
   {
    "duration": 16,
    "start_time": "2023-08-17T14:21:55.570Z"
   },
   {
    "duration": 9,
    "start_time": "2023-08-17T14:21:55.588Z"
   },
   {
    "duration": 16,
    "start_time": "2023-08-17T14:22:07.919Z"
   },
   {
    "duration": 80,
    "start_time": "2023-08-17T14:22:48.693Z"
   },
   {
    "duration": 498,
    "start_time": "2023-08-17T14:22:56.487Z"
   },
   {
    "duration": 14,
    "start_time": "2023-08-17T14:23:12.494Z"
   },
   {
    "duration": 1942,
    "start_time": "2023-08-17T14:24:41.208Z"
   },
   {
    "duration": 13,
    "start_time": "2023-08-17T14:24:57.701Z"
   },
   {
    "duration": 15,
    "start_time": "2023-08-17T14:25:15.590Z"
   },
   {
    "duration": 16,
    "start_time": "2023-08-17T14:25:28.785Z"
   },
   {
    "duration": 17,
    "start_time": "2023-08-17T14:30:17.255Z"
   },
   {
    "duration": 57,
    "start_time": "2023-08-17T14:34:35.903Z"
   },
   {
    "duration": 18,
    "start_time": "2023-08-17T14:36:44.646Z"
   },
   {
    "duration": 16,
    "start_time": "2023-08-17T14:50:52.836Z"
   },
   {
    "duration": 16,
    "start_time": "2023-08-17T14:51:03.919Z"
   },
   {
    "duration": 14,
    "start_time": "2023-08-17T14:51:15.101Z"
   },
   {
    "duration": 15,
    "start_time": "2023-08-17T14:51:50.343Z"
   },
   {
    "duration": 16,
    "start_time": "2023-08-17T15:10:50.321Z"
   },
   {
    "duration": 18,
    "start_time": "2023-08-17T15:10:51.383Z"
   },
   {
    "duration": 17,
    "start_time": "2023-08-17T15:11:06.178Z"
   },
   {
    "duration": 15,
    "start_time": "2023-08-17T15:11:10.848Z"
   },
   {
    "duration": 26,
    "start_time": "2023-08-17T15:11:14.950Z"
   },
   {
    "duration": 16,
    "start_time": "2023-08-17T15:11:36.742Z"
   },
   {
    "duration": 10,
    "start_time": "2023-08-17T15:12:01.186Z"
   },
   {
    "duration": 8,
    "start_time": "2023-08-17T15:12:04.825Z"
   },
   {
    "duration": 13,
    "start_time": "2023-08-17T15:12:10.194Z"
   },
   {
    "duration": 1973,
    "start_time": "2023-08-17T15:12:40.690Z"
   },
   {
    "duration": 11,
    "start_time": "2023-08-17T15:12:52.933Z"
   },
   {
    "duration": 4,
    "start_time": "2023-08-17T15:22:18.756Z"
   },
   {
    "duration": 17,
    "start_time": "2023-08-17T15:22:22.708Z"
   },
   {
    "duration": 123,
    "start_time": "2023-08-17T15:25:15.929Z"
   },
   {
    "duration": 120,
    "start_time": "2023-08-17T15:25:57.238Z"
   },
   {
    "duration": 10,
    "start_time": "2023-08-17T15:26:20.733Z"
   },
   {
    "duration": 9,
    "start_time": "2023-08-17T15:26:48.434Z"
   },
   {
    "duration": 13,
    "start_time": "2023-08-17T15:27:03.965Z"
   },
   {
    "duration": 10,
    "start_time": "2023-08-17T15:28:06.323Z"
   },
   {
    "duration": 18,
    "start_time": "2023-08-17T15:28:50.707Z"
   },
   {
    "duration": 19,
    "start_time": "2023-08-17T15:34:00.972Z"
   },
   {
    "duration": 12,
    "start_time": "2023-08-17T15:34:28.418Z"
   },
   {
    "duration": 16,
    "start_time": "2023-08-17T15:47:19.834Z"
   },
   {
    "duration": 10,
    "start_time": "2023-08-17T15:47:55.181Z"
   },
   {
    "duration": 19,
    "start_time": "2023-08-17T15:48:07.935Z"
   },
   {
    "duration": 10,
    "start_time": "2023-08-17T15:48:17.912Z"
   },
   {
    "duration": 9,
    "start_time": "2023-08-17T15:48:21.691Z"
   },
   {
    "duration": 17,
    "start_time": "2023-08-17T15:48:27.284Z"
   },
   {
    "duration": 4,
    "start_time": "2023-08-17T16:02:06.657Z"
   },
   {
    "duration": 18,
    "start_time": "2023-08-17T16:02:10.933Z"
   },
   {
    "duration": 16,
    "start_time": "2023-08-17T16:03:05.305Z"
   },
   {
    "duration": 22,
    "start_time": "2023-08-17T16:03:12.752Z"
   },
   {
    "duration": 14,
    "start_time": "2023-08-17T16:07:12.928Z"
   },
   {
    "duration": 15,
    "start_time": "2023-08-17T16:07:38.712Z"
   },
   {
    "duration": 6,
    "start_time": "2023-08-17T16:08:26.790Z"
   },
   {
    "duration": 108,
    "start_time": "2023-08-17T16:09:35.020Z"
   },
   {
    "duration": 114,
    "start_time": "2023-08-17T16:10:04.077Z"
   },
   {
    "duration": 63,
    "start_time": "2023-08-17T16:10:27.356Z"
   },
   {
    "duration": 57,
    "start_time": "2023-08-17T16:11:15.402Z"
   },
   {
    "duration": 60,
    "start_time": "2023-08-17T16:11:30.614Z"
   },
   {
    "duration": 57,
    "start_time": "2023-08-17T16:11:31.161Z"
   },
   {
    "duration": 105,
    "start_time": "2023-08-17T16:11:31.410Z"
   },
   {
    "duration": 21,
    "start_time": "2023-08-17T16:11:37.975Z"
   },
   {
    "duration": 70,
    "start_time": "2023-08-17T16:11:48.922Z"
   },
   {
    "duration": 63,
    "start_time": "2023-08-17T16:12:17.287Z"
   },
   {
    "duration": 60,
    "start_time": "2023-08-17T16:13:36.915Z"
   },
   {
    "duration": 21,
    "start_time": "2023-08-17T16:14:06.515Z"
   },
   {
    "duration": 12,
    "start_time": "2023-08-17T16:15:28.016Z"
   },
   {
    "duration": 32,
    "start_time": "2023-08-17T16:15:39.811Z"
   },
   {
    "duration": 34,
    "start_time": "2023-08-17T16:15:47.275Z"
   },
   {
    "duration": 11,
    "start_time": "2023-08-17T16:17:58.434Z"
   },
   {
    "duration": 14,
    "start_time": "2023-08-17T16:18:24.265Z"
   },
   {
    "duration": 155,
    "start_time": "2023-08-17T16:20:33.757Z"
   },
   {
    "duration": 13,
    "start_time": "2023-08-17T16:21:23.875Z"
   },
   {
    "duration": 24,
    "start_time": "2023-08-17T16:21:31.446Z"
   },
   {
    "duration": 13,
    "start_time": "2023-08-17T16:22:20.666Z"
   },
   {
    "duration": 13,
    "start_time": "2023-08-17T16:26:08.237Z"
   },
   {
    "duration": 22,
    "start_time": "2023-08-17T16:26:21.238Z"
   },
   {
    "duration": 4,
    "start_time": "2023-08-17T16:26:51.392Z"
   },
   {
    "duration": 121,
    "start_time": "2023-08-17T16:26:51.398Z"
   },
   {
    "duration": 16,
    "start_time": "2023-08-17T16:26:51.521Z"
   },
   {
    "duration": 8,
    "start_time": "2023-08-17T16:26:51.539Z"
   },
   {
    "duration": 40,
    "start_time": "2023-08-17T16:26:51.549Z"
   },
   {
    "duration": 33,
    "start_time": "2023-08-17T16:26:51.592Z"
   },
   {
    "duration": 26,
    "start_time": "2023-08-17T16:26:51.627Z"
   },
   {
    "duration": 37,
    "start_time": "2023-08-17T16:26:51.656Z"
   },
   {
    "duration": 28,
    "start_time": "2023-08-17T16:26:51.695Z"
   },
   {
    "duration": 22,
    "start_time": "2023-08-17T16:26:51.725Z"
   },
   {
    "duration": 20,
    "start_time": "2023-08-17T16:26:51.751Z"
   },
   {
    "duration": 15,
    "start_time": "2023-08-17T16:26:51.773Z"
   },
   {
    "duration": 9,
    "start_time": "2023-08-17T16:26:51.790Z"
   },
   {
    "duration": 22,
    "start_time": "2023-08-17T16:26:51.801Z"
   },
   {
    "duration": 13,
    "start_time": "2023-08-17T16:26:51.825Z"
   },
   {
    "duration": 10,
    "start_time": "2023-08-17T16:26:51.839Z"
   },
   {
    "duration": 32,
    "start_time": "2023-08-17T16:26:51.851Z"
   },
   {
    "duration": 14,
    "start_time": "2023-08-17T16:26:51.885Z"
   },
   {
    "duration": 13,
    "start_time": "2023-08-17T16:26:51.901Z"
   },
   {
    "duration": 19,
    "start_time": "2023-08-17T16:26:51.916Z"
   },
   {
    "duration": 48,
    "start_time": "2023-08-17T16:26:51.937Z"
   },
   {
    "duration": 19,
    "start_time": "2023-08-17T16:26:51.986Z"
   },
   {
    "duration": 9,
    "start_time": "2023-08-17T16:26:52.007Z"
   },
   {
    "duration": 4,
    "start_time": "2023-08-17T16:26:52.018Z"
   },
   {
    "duration": 29,
    "start_time": "2023-08-17T16:26:52.023Z"
   },
   {
    "duration": 20,
    "start_time": "2023-08-17T16:26:52.053Z"
   },
   {
    "duration": 6,
    "start_time": "2023-08-17T16:26:52.075Z"
   },
   {
    "duration": 9,
    "start_time": "2023-08-17T16:26:52.082Z"
   },
   {
    "duration": 5,
    "start_time": "2023-08-17T16:26:52.095Z"
   },
   {
    "duration": 323,
    "start_time": "2023-08-17T16:26:52.102Z"
   },
   {
    "duration": 213,
    "start_time": "2023-08-17T16:26:52.426Z"
   },
   {
    "duration": 12,
    "start_time": "2023-08-17T16:26:52.640Z"
   },
   {
    "duration": 41,
    "start_time": "2023-08-17T16:26:52.656Z"
   },
   {
    "duration": 21,
    "start_time": "2023-08-17T16:26:52.699Z"
   },
   {
    "duration": 28,
    "start_time": "2023-08-17T16:26:52.722Z"
   },
   {
    "duration": 17,
    "start_time": "2023-08-17T16:26:52.752Z"
   },
   {
    "duration": 20,
    "start_time": "2023-08-17T16:26:52.772Z"
   },
   {
    "duration": 27,
    "start_time": "2023-08-17T16:26:52.795Z"
   },
   {
    "duration": 17,
    "start_time": "2023-08-17T16:26:52.824Z"
   },
   {
    "duration": 27,
    "start_time": "2023-08-17T16:26:52.843Z"
   },
   {
    "duration": 18,
    "start_time": "2023-08-17T16:26:52.873Z"
   },
   {
    "duration": 28,
    "start_time": "2023-08-17T16:26:52.893Z"
   },
   {
    "duration": 12,
    "start_time": "2023-08-17T16:26:52.923Z"
   },
   {
    "duration": 40,
    "start_time": "2023-08-17T16:26:52.937Z"
   },
   {
    "duration": 7,
    "start_time": "2023-08-17T16:26:52.979Z"
   },
   {
    "duration": 28,
    "start_time": "2023-08-17T16:26:52.987Z"
   },
   {
    "duration": 20,
    "start_time": "2023-08-17T16:26:53.018Z"
   },
   {
    "duration": 190,
    "start_time": "2023-08-17T16:26:53.040Z"
   },
   {
    "duration": 385,
    "start_time": "2023-08-17T16:26:53.232Z"
   },
   {
    "duration": 276,
    "start_time": "2023-08-17T16:26:53.619Z"
   },
   {
    "duration": 195,
    "start_time": "2023-08-17T16:26:53.897Z"
   },
   {
    "duration": 414,
    "start_time": "2023-08-17T16:26:54.094Z"
   },
   {
    "duration": 149,
    "start_time": "2023-08-17T16:26:54.509Z"
   },
   {
    "duration": 306,
    "start_time": "2023-08-17T16:26:54.660Z"
   },
   {
    "duration": 160,
    "start_time": "2023-08-17T16:26:54.968Z"
   },
   {
    "duration": 291,
    "start_time": "2023-08-17T16:26:55.130Z"
   },
   {
    "duration": 144,
    "start_time": "2023-08-17T16:26:55.423Z"
   },
   {
    "duration": 295,
    "start_time": "2023-08-17T16:26:55.568Z"
   },
   {
    "duration": 146,
    "start_time": "2023-08-17T16:26:55.864Z"
   },
   {
    "duration": 278,
    "start_time": "2023-08-17T16:26:56.012Z"
   },
   {
    "duration": 153,
    "start_time": "2023-08-17T16:26:56.292Z"
   },
   {
    "duration": 23,
    "start_time": "2023-08-17T16:26:56.446Z"
   },
   {
    "duration": 22,
    "start_time": "2023-08-17T16:26:56.471Z"
   },
   {
    "duration": 7,
    "start_time": "2023-08-17T16:26:56.494Z"
   },
   {
    "duration": 18,
    "start_time": "2023-08-17T16:26:56.503Z"
   },
   {
    "duration": 501,
    "start_time": "2023-08-17T16:26:56.523Z"
   },
   {
    "duration": 12,
    "start_time": "2023-08-17T16:26:57.025Z"
   },
   {
    "duration": 50,
    "start_time": "2023-08-17T16:26:57.039Z"
   },
   {
    "duration": 18,
    "start_time": "2023-08-17T16:26:57.091Z"
   },
   {
    "duration": 21,
    "start_time": "2023-08-17T16:26:57.111Z"
   },
   {
    "duration": 26,
    "start_time": "2023-08-17T16:26:57.134Z"
   },
   {
    "duration": 12,
    "start_time": "2023-08-17T16:26:57.162Z"
   },
   {
    "duration": 20,
    "start_time": "2023-08-17T16:26:57.176Z"
   },
   {
    "duration": 9,
    "start_time": "2023-08-17T16:26:57.198Z"
   },
   {
    "duration": 27,
    "start_time": "2023-08-17T16:26:57.209Z"
   },
   {
    "duration": 9,
    "start_time": "2023-08-17T16:26:57.239Z"
   },
   {
    "duration": 7,
    "start_time": "2023-08-17T16:26:57.250Z"
   },
   {
    "duration": 12,
    "start_time": "2023-08-17T16:26:57.258Z"
   },
   {
    "duration": 13,
    "start_time": "2023-08-17T16:26:57.272Z"
   },
   {
    "duration": 6,
    "start_time": "2023-08-17T16:26:57.287Z"
   },
   {
    "duration": 57,
    "start_time": "2023-08-17T16:26:57.295Z"
   },
   {
    "duration": 5,
    "start_time": "2023-08-17T16:26:57.353Z"
   },
   {
    "duration": 9,
    "start_time": "2023-08-17T16:26:57.371Z"
   },
   {
    "duration": 18,
    "start_time": "2023-08-17T16:26:57.382Z"
   },
   {
    "duration": 7,
    "start_time": "2023-08-17T16:26:57.402Z"
   },
   {
    "duration": 9,
    "start_time": "2023-08-17T16:26:57.412Z"
   },
   {
    "duration": 6,
    "start_time": "2023-08-17T16:26:57.423Z"
   },
   {
    "duration": 10,
    "start_time": "2023-08-17T16:26:57.431Z"
   },
   {
    "duration": 29,
    "start_time": "2023-08-17T16:26:57.443Z"
   },
   {
    "duration": 9,
    "start_time": "2023-08-17T16:26:57.474Z"
   },
   {
    "duration": 30,
    "start_time": "2023-08-17T16:26:57.485Z"
   },
   {
    "duration": 8,
    "start_time": "2023-08-17T16:26:57.518Z"
   },
   {
    "duration": 11,
    "start_time": "2023-08-17T16:26:57.527Z"
   },
   {
    "duration": 6,
    "start_time": "2023-08-17T16:26:57.539Z"
   },
   {
    "duration": 4,
    "start_time": "2023-08-17T16:26:57.547Z"
   },
   {
    "duration": 4,
    "start_time": "2023-08-17T16:26:57.566Z"
   },
   {
    "duration": 9,
    "start_time": "2023-08-17T16:26:57.571Z"
   },
   {
    "duration": 5,
    "start_time": "2023-08-17T16:26:57.582Z"
   },
   {
    "duration": 6,
    "start_time": "2023-08-17T16:26:57.589Z"
   },
   {
    "duration": 7,
    "start_time": "2023-08-17T16:26:57.597Z"
   },
   {
    "duration": 6,
    "start_time": "2023-08-17T16:26:57.605Z"
   },
   {
    "duration": 10,
    "start_time": "2023-08-17T16:26:57.612Z"
   },
   {
    "duration": 6,
    "start_time": "2023-08-17T16:26:57.623Z"
   },
   {
    "duration": 575,
    "start_time": "2023-08-17T17:03:15.874Z"
   },
   {
    "duration": 13,
    "start_time": "2023-08-17T17:05:05.384Z"
   },
   {
    "duration": 5,
    "start_time": "2023-08-17T17:05:13.989Z"
   },
   {
    "duration": 118,
    "start_time": "2023-08-17T17:05:13.996Z"
   },
   {
    "duration": 20,
    "start_time": "2023-08-17T17:05:14.117Z"
   },
   {
    "duration": 9,
    "start_time": "2023-08-17T17:05:14.139Z"
   },
   {
    "duration": 25,
    "start_time": "2023-08-17T17:05:14.150Z"
   },
   {
    "duration": 21,
    "start_time": "2023-08-17T17:05:14.177Z"
   },
   {
    "duration": 6,
    "start_time": "2023-08-17T17:05:14.200Z"
   },
   {
    "duration": 12,
    "start_time": "2023-08-17T17:05:14.208Z"
   },
   {
    "duration": 11,
    "start_time": "2023-08-17T17:05:14.221Z"
   },
   {
    "duration": 42,
    "start_time": "2023-08-17T17:05:14.234Z"
   },
   {
    "duration": 19,
    "start_time": "2023-08-17T17:05:14.279Z"
   },
   {
    "duration": 20,
    "start_time": "2023-08-17T17:05:14.300Z"
   },
   {
    "duration": 8,
    "start_time": "2023-08-17T17:05:14.321Z"
   },
   {
    "duration": 11,
    "start_time": "2023-08-17T17:05:14.330Z"
   },
   {
    "duration": 9,
    "start_time": "2023-08-17T17:05:14.368Z"
   },
   {
    "duration": 24,
    "start_time": "2023-08-17T17:05:14.380Z"
   },
   {
    "duration": 18,
    "start_time": "2023-08-17T17:05:14.406Z"
   },
   {
    "duration": 13,
    "start_time": "2023-08-17T17:05:14.426Z"
   },
   {
    "duration": 6,
    "start_time": "2023-08-17T17:05:14.441Z"
   },
   {
    "duration": 22,
    "start_time": "2023-08-17T17:05:14.449Z"
   },
   {
    "duration": 14,
    "start_time": "2023-08-17T17:05:14.473Z"
   },
   {
    "duration": 5,
    "start_time": "2023-08-17T17:05:14.488Z"
   },
   {
    "duration": 12,
    "start_time": "2023-08-17T17:05:14.495Z"
   },
   {
    "duration": 3,
    "start_time": "2023-08-17T17:05:14.509Z"
   },
   {
    "duration": 8,
    "start_time": "2023-08-17T17:05:14.514Z"
   },
   {
    "duration": 18,
    "start_time": "2023-08-17T17:05:14.524Z"
   },
   {
    "duration": 27,
    "start_time": "2023-08-17T17:05:14.545Z"
   },
   {
    "duration": 13,
    "start_time": "2023-08-17T17:05:14.574Z"
   },
   {
    "duration": 5,
    "start_time": "2023-08-17T17:05:14.592Z"
   },
   {
    "duration": 432,
    "start_time": "2023-08-17T17:05:14.599Z"
   },
   {
    "duration": 214,
    "start_time": "2023-08-17T17:05:15.033Z"
   },
   {
    "duration": 19,
    "start_time": "2023-08-17T17:05:15.249Z"
   },
   {
    "duration": 13,
    "start_time": "2023-08-17T17:05:15.270Z"
   },
   {
    "duration": 16,
    "start_time": "2023-08-17T17:05:15.285Z"
   },
   {
    "duration": 7,
    "start_time": "2023-08-17T17:05:15.302Z"
   },
   {
    "duration": 8,
    "start_time": "2023-08-17T17:05:15.311Z"
   },
   {
    "duration": 49,
    "start_time": "2023-08-17T17:05:15.320Z"
   },
   {
    "duration": 14,
    "start_time": "2023-08-17T17:05:15.371Z"
   },
   {
    "duration": 10,
    "start_time": "2023-08-17T17:05:15.387Z"
   },
   {
    "duration": 10,
    "start_time": "2023-08-17T17:05:15.398Z"
   },
   {
    "duration": 9,
    "start_time": "2023-08-17T17:05:15.410Z"
   },
   {
    "duration": 12,
    "start_time": "2023-08-17T17:05:15.421Z"
   },
   {
    "duration": 14,
    "start_time": "2023-08-17T17:05:15.435Z"
   },
   {
    "duration": 35,
    "start_time": "2023-08-17T17:05:15.451Z"
   },
   {
    "duration": 6,
    "start_time": "2023-08-17T17:05:15.487Z"
   },
   {
    "duration": 36,
    "start_time": "2023-08-17T17:05:15.495Z"
   },
   {
    "duration": 16,
    "start_time": "2023-08-17T17:05:15.532Z"
   },
   {
    "duration": 178,
    "start_time": "2023-08-17T17:05:15.549Z"
   },
   {
    "duration": 384,
    "start_time": "2023-08-17T17:05:15.729Z"
   },
   {
    "duration": 305,
    "start_time": "2023-08-17T17:05:16.115Z"
   },
   {
    "duration": 206,
    "start_time": "2023-08-17T17:05:16.422Z"
   },
   {
    "duration": 317,
    "start_time": "2023-08-17T17:05:16.630Z"
   },
   {
    "duration": 142,
    "start_time": "2023-08-17T17:05:16.949Z"
   },
   {
    "duration": 286,
    "start_time": "2023-08-17T17:05:17.093Z"
   },
   {
    "duration": 270,
    "start_time": "2023-08-17T17:05:17.381Z"
   },
   {
    "duration": 291,
    "start_time": "2023-08-17T17:05:17.653Z"
   },
   {
    "duration": 138,
    "start_time": "2023-08-17T17:05:17.946Z"
   },
   {
    "duration": 294,
    "start_time": "2023-08-17T17:05:18.086Z"
   },
   {
    "duration": 140,
    "start_time": "2023-08-17T17:05:18.381Z"
   },
   {
    "duration": 263,
    "start_time": "2023-08-17T17:05:18.522Z"
   },
   {
    "duration": 137,
    "start_time": "2023-08-17T17:05:18.787Z"
   },
   {
    "duration": 15,
    "start_time": "2023-08-17T17:05:18.926Z"
   },
   {
    "duration": 34,
    "start_time": "2023-08-17T17:05:18.943Z"
   },
   {
    "duration": 14,
    "start_time": "2023-08-17T17:05:18.978Z"
   },
   {
    "duration": 20,
    "start_time": "2023-08-17T17:05:18.994Z"
   },
   {
    "duration": 500,
    "start_time": "2023-08-17T17:05:19.016Z"
   },
   {
    "duration": 10,
    "start_time": "2023-08-17T17:05:19.518Z"
   },
   {
    "duration": 22,
    "start_time": "2023-08-17T17:05:19.530Z"
   },
   {
    "duration": 19,
    "start_time": "2023-08-17T17:05:19.553Z"
   },
   {
    "duration": 10,
    "start_time": "2023-08-17T17:05:19.574Z"
   },
   {
    "duration": 27,
    "start_time": "2023-08-17T17:05:19.586Z"
   },
   {
    "duration": 7,
    "start_time": "2023-08-17T17:05:19.615Z"
   },
   {
    "duration": 10,
    "start_time": "2023-08-17T17:05:19.624Z"
   },
   {
    "duration": 5,
    "start_time": "2023-08-17T17:05:19.635Z"
   },
   {
    "duration": 11,
    "start_time": "2023-08-17T17:05:19.642Z"
   },
   {
    "duration": 7,
    "start_time": "2023-08-17T17:05:19.654Z"
   },
   {
    "duration": 6,
    "start_time": "2023-08-17T17:05:19.663Z"
   },
   {
    "duration": 13,
    "start_time": "2023-08-17T17:05:19.671Z"
   },
   {
    "duration": 7,
    "start_time": "2023-08-17T17:05:19.686Z"
   },
   {
    "duration": 6,
    "start_time": "2023-08-17T17:05:19.694Z"
   },
   {
    "duration": 53,
    "start_time": "2023-08-17T17:05:19.702Z"
   },
   {
    "duration": 17,
    "start_time": "2023-08-17T17:05:19.757Z"
   },
   {
    "duration": 9,
    "start_time": "2023-08-17T17:05:19.779Z"
   },
   {
    "duration": 7,
    "start_time": "2023-08-17T17:05:19.790Z"
   },
   {
    "duration": 8,
    "start_time": "2023-08-17T17:05:19.799Z"
   },
   {
    "duration": 8,
    "start_time": "2023-08-17T17:05:19.809Z"
   },
   {
    "duration": 7,
    "start_time": "2023-08-17T17:05:19.819Z"
   },
   {
    "duration": 23,
    "start_time": "2023-08-17T17:05:19.827Z"
   },
   {
    "duration": 15,
    "start_time": "2023-08-17T17:05:19.852Z"
   },
   {
    "duration": 5,
    "start_time": "2023-08-17T17:05:19.869Z"
   },
   {
    "duration": 6,
    "start_time": "2023-08-17T17:05:19.876Z"
   },
   {
    "duration": 6,
    "start_time": "2023-08-17T17:05:19.883Z"
   },
   {
    "duration": 14,
    "start_time": "2023-08-17T17:05:19.891Z"
   },
   {
    "duration": 7,
    "start_time": "2023-08-17T17:05:19.906Z"
   },
   {
    "duration": 28,
    "start_time": "2023-08-17T17:05:19.915Z"
   },
   {
    "duration": 8,
    "start_time": "2023-08-17T17:05:19.945Z"
   },
   {
    "duration": 7,
    "start_time": "2023-08-17T17:05:19.955Z"
   },
   {
    "duration": 80,
    "start_time": "2023-08-17T17:05:19.964Z"
   },
   {
    "duration": 51,
    "start_time": "2023-08-17T17:05:20.046Z"
   },
   {
    "duration": 11,
    "start_time": "2023-08-17T17:05:20.099Z"
   },
   {
    "duration": 17,
    "start_time": "2023-08-17T17:05:20.112Z"
   },
   {
    "duration": 8,
    "start_time": "2023-08-17T17:05:20.130Z"
   },
   {
    "duration": 10,
    "start_time": "2023-08-17T17:05:20.140Z"
   },
   {
    "duration": 627,
    "start_time": "2023-08-17T17:05:59.408Z"
   },
   {
    "duration": 112,
    "start_time": "2023-08-17T17:06:06.345Z"
   },
   {
    "duration": 10,
    "start_time": "2023-08-17T17:06:31.835Z"
   },
   {
    "duration": 37,
    "start_time": "2023-08-17T17:06:43.211Z"
   },
   {
    "duration": 10,
    "start_time": "2023-08-17T17:06:46.142Z"
   },
   {
    "duration": 33,
    "start_time": "2023-08-17T17:06:48.412Z"
   },
   {
    "duration": 9,
    "start_time": "2023-08-17T17:06:51.686Z"
   },
   {
    "duration": 25,
    "start_time": "2023-08-17T17:07:01.159Z"
   },
   {
    "duration": 43,
    "start_time": "2023-08-17T17:07:23.565Z"
   },
   {
    "duration": 11,
    "start_time": "2023-08-17T17:07:26.230Z"
   },
   {
    "duration": 7,
    "start_time": "2023-08-17T17:07:28.385Z"
   },
   {
    "duration": 5,
    "start_time": "2023-08-17T17:07:32.374Z"
   },
   {
    "duration": 139,
    "start_time": "2023-08-17T17:07:32.382Z"
   },
   {
    "duration": 19,
    "start_time": "2023-08-17T17:07:32.523Z"
   },
   {
    "duration": 25,
    "start_time": "2023-08-17T17:07:32.544Z"
   },
   {
    "duration": 67,
    "start_time": "2023-08-17T17:07:32.572Z"
   },
   {
    "duration": 32,
    "start_time": "2023-08-17T17:07:32.641Z"
   },
   {
    "duration": 45,
    "start_time": "2023-08-17T17:07:32.675Z"
   },
   {
    "duration": 31,
    "start_time": "2023-08-17T17:07:32.722Z"
   },
   {
    "duration": 6,
    "start_time": "2023-08-17T17:07:32.756Z"
   },
   {
    "duration": 43,
    "start_time": "2023-08-17T17:07:32.764Z"
   },
   {
    "duration": 18,
    "start_time": "2023-08-17T17:07:32.811Z"
   },
   {
    "duration": 27,
    "start_time": "2023-08-17T17:07:32.831Z"
   },
   {
    "duration": 61,
    "start_time": "2023-08-17T17:07:32.860Z"
   },
   {
    "duration": 13,
    "start_time": "2023-08-17T17:07:32.926Z"
   },
   {
    "duration": 85,
    "start_time": "2023-08-17T17:07:32.940Z"
   },
   {
    "duration": 20,
    "start_time": "2023-08-17T17:07:33.027Z"
   },
   {
    "duration": 10,
    "start_time": "2023-08-17T17:07:33.049Z"
   },
   {
    "duration": 13,
    "start_time": "2023-08-17T17:07:33.060Z"
   },
   {
    "duration": 24,
    "start_time": "2023-08-17T17:07:33.075Z"
   },
   {
    "duration": 33,
    "start_time": "2023-08-17T17:07:33.101Z"
   },
   {
    "duration": 13,
    "start_time": "2023-08-17T17:07:33.135Z"
   },
   {
    "duration": 9,
    "start_time": "2023-08-17T17:07:33.149Z"
   },
   {
    "duration": 12,
    "start_time": "2023-08-17T17:07:33.160Z"
   },
   {
    "duration": 4,
    "start_time": "2023-08-17T17:07:33.174Z"
   },
   {
    "duration": 13,
    "start_time": "2023-08-17T17:07:33.180Z"
   },
   {
    "duration": 19,
    "start_time": "2023-08-17T17:07:33.196Z"
   },
   {
    "duration": 20,
    "start_time": "2023-08-17T17:07:33.217Z"
   },
   {
    "duration": 10,
    "start_time": "2023-08-17T17:07:33.239Z"
   },
   {
    "duration": 19,
    "start_time": "2023-08-17T17:07:33.252Z"
   },
   {
    "duration": 316,
    "start_time": "2023-08-17T17:07:33.273Z"
   },
   {
    "duration": 216,
    "start_time": "2023-08-17T17:07:33.591Z"
   },
   {
    "duration": 8,
    "start_time": "2023-08-17T17:07:33.809Z"
   },
   {
    "duration": 20,
    "start_time": "2023-08-17T17:07:33.818Z"
   },
   {
    "duration": 183,
    "start_time": "2023-08-17T17:07:33.840Z"
   },
   {
    "duration": 29,
    "start_time": "2023-08-17T17:07:34.026Z"
   },
   {
    "duration": 17,
    "start_time": "2023-08-17T17:07:34.057Z"
   },
   {
    "duration": 158,
    "start_time": "2023-08-17T17:07:34.077Z"
   },
   {
    "duration": 11,
    "start_time": "2023-08-17T17:07:34.237Z"
   },
   {
    "duration": 23,
    "start_time": "2023-08-17T17:07:34.268Z"
   },
   {
    "duration": 23,
    "start_time": "2023-08-17T17:07:34.293Z"
   },
   {
    "duration": 12,
    "start_time": "2023-08-17T17:07:34.322Z"
   },
   {
    "duration": 18,
    "start_time": "2023-08-17T17:07:34.336Z"
   },
   {
    "duration": 9,
    "start_time": "2023-08-17T17:07:34.356Z"
   },
   {
    "duration": 38,
    "start_time": "2023-08-17T17:07:34.367Z"
   },
   {
    "duration": 18,
    "start_time": "2023-08-17T17:07:34.407Z"
   },
   {
    "duration": 65,
    "start_time": "2023-08-17T17:07:34.427Z"
   },
   {
    "duration": 16,
    "start_time": "2023-08-17T17:07:34.494Z"
   },
   {
    "duration": 187,
    "start_time": "2023-08-17T17:07:34.511Z"
   },
   {
    "duration": 424,
    "start_time": "2023-08-17T17:07:34.700Z"
   },
   {
    "duration": 318,
    "start_time": "2023-08-17T17:07:35.126Z"
   },
   {
    "duration": 155,
    "start_time": "2023-08-17T17:07:35.446Z"
   },
   {
    "duration": 298,
    "start_time": "2023-08-17T17:07:35.603Z"
   },
   {
    "duration": 143,
    "start_time": "2023-08-17T17:07:35.903Z"
   },
   {
    "duration": 309,
    "start_time": "2023-08-17T17:07:36.048Z"
   },
   {
    "duration": 163,
    "start_time": "2023-08-17T17:07:36.359Z"
   },
   {
    "duration": 287,
    "start_time": "2023-08-17T17:07:36.524Z"
   },
   {
    "duration": 162,
    "start_time": "2023-08-17T17:07:36.813Z"
   },
   {
    "duration": 427,
    "start_time": "2023-08-17T17:07:36.977Z"
   },
   {
    "duration": 155,
    "start_time": "2023-08-17T17:07:37.407Z"
   },
   {
    "duration": 303,
    "start_time": "2023-08-17T17:07:37.567Z"
   },
   {
    "duration": 149,
    "start_time": "2023-08-17T17:07:37.872Z"
   },
   {
    "duration": 17,
    "start_time": "2023-08-17T17:07:38.023Z"
   },
   {
    "duration": 37,
    "start_time": "2023-08-17T17:07:38.042Z"
   },
   {
    "duration": 16,
    "start_time": "2023-08-17T17:07:38.081Z"
   },
   {
    "duration": 18,
    "start_time": "2023-08-17T17:07:38.099Z"
   },
   {
    "duration": 511,
    "start_time": "2023-08-17T17:07:38.119Z"
   },
   {
    "duration": 11,
    "start_time": "2023-08-17T17:07:38.631Z"
   },
   {
    "duration": 36,
    "start_time": "2023-08-17T17:07:38.643Z"
   },
   {
    "duration": 22,
    "start_time": "2023-08-17T17:07:38.681Z"
   },
   {
    "duration": 11,
    "start_time": "2023-08-17T17:07:38.705Z"
   },
   {
    "duration": 13,
    "start_time": "2023-08-17T17:07:38.717Z"
   },
   {
    "duration": 7,
    "start_time": "2023-08-17T17:07:38.731Z"
   },
   {
    "duration": 11,
    "start_time": "2023-08-17T17:07:38.739Z"
   },
   {
    "duration": 4,
    "start_time": "2023-08-17T17:07:38.752Z"
   },
   {
    "duration": 9,
    "start_time": "2023-08-17T17:07:38.758Z"
   },
   {
    "duration": 22,
    "start_time": "2023-08-17T17:07:38.769Z"
   },
   {
    "duration": 15,
    "start_time": "2023-08-17T17:07:38.793Z"
   },
   {
    "duration": 17,
    "start_time": "2023-08-17T17:07:38.810Z"
   },
   {
    "duration": 13,
    "start_time": "2023-08-17T17:07:38.829Z"
   },
   {
    "duration": 12,
    "start_time": "2023-08-17T17:07:38.843Z"
   },
   {
    "duration": 56,
    "start_time": "2023-08-17T17:07:38.857Z"
   },
   {
    "duration": 5,
    "start_time": "2023-08-17T17:07:38.915Z"
   },
   {
    "duration": 28,
    "start_time": "2023-08-17T17:07:38.922Z"
   },
   {
    "duration": 19,
    "start_time": "2023-08-17T17:07:38.952Z"
   },
   {
    "duration": 25,
    "start_time": "2023-08-17T17:07:38.973Z"
   },
   {
    "duration": 26,
    "start_time": "2023-08-17T17:07:39.000Z"
   },
   {
    "duration": 51,
    "start_time": "2023-08-17T17:07:39.028Z"
   },
   {
    "duration": 17,
    "start_time": "2023-08-17T17:07:39.081Z"
   },
   {
    "duration": 9,
    "start_time": "2023-08-17T17:07:39.100Z"
   },
   {
    "duration": 9,
    "start_time": "2023-08-17T17:07:39.110Z"
   },
   {
    "duration": 15,
    "start_time": "2023-08-17T17:07:39.121Z"
   },
   {
    "duration": 17,
    "start_time": "2023-08-17T17:07:39.137Z"
   },
   {
    "duration": 9,
    "start_time": "2023-08-17T17:07:39.156Z"
   },
   {
    "duration": 8,
    "start_time": "2023-08-17T17:07:39.166Z"
   },
   {
    "duration": 11,
    "start_time": "2023-08-17T17:07:39.175Z"
   },
   {
    "duration": 12,
    "start_time": "2023-08-17T17:07:39.187Z"
   },
   {
    "duration": 12,
    "start_time": "2023-08-17T17:07:39.201Z"
   },
   {
    "duration": 7,
    "start_time": "2023-08-17T17:07:39.215Z"
   },
   {
    "duration": 6,
    "start_time": "2023-08-17T17:07:39.223Z"
   },
   {
    "duration": 5,
    "start_time": "2023-08-17T17:07:39.231Z"
   },
   {
    "duration": 8,
    "start_time": "2023-08-17T17:07:39.237Z"
   },
   {
    "duration": 26,
    "start_time": "2023-08-17T17:07:39.246Z"
   },
   {
    "duration": 6,
    "start_time": "2023-08-17T17:07:39.273Z"
   },
   {
    "duration": 1574,
    "start_time": "2023-08-18T19:35:16.260Z"
   },
   {
    "duration": 133,
    "start_time": "2023-08-18T19:35:17.841Z"
   },
   {
    "duration": 23,
    "start_time": "2023-08-18T19:35:17.975Z"
   },
   {
    "duration": 9,
    "start_time": "2023-08-18T19:35:18.002Z"
   },
   {
    "duration": 13,
    "start_time": "2023-08-18T19:35:18.013Z"
   },
   {
    "duration": 17,
    "start_time": "2023-08-18T19:35:18.027Z"
   },
   {
    "duration": 9,
    "start_time": "2023-08-18T19:35:18.047Z"
   },
   {
    "duration": 9,
    "start_time": "2023-08-18T19:35:18.058Z"
   },
   {
    "duration": 7,
    "start_time": "2023-08-18T19:35:18.069Z"
   },
   {
    "duration": 15,
    "start_time": "2023-08-18T19:35:18.081Z"
   },
   {
    "duration": 17,
    "start_time": "2023-08-18T19:35:18.131Z"
   },
   {
    "duration": 11,
    "start_time": "2023-08-18T19:35:18.150Z"
   },
   {
    "duration": 4,
    "start_time": "2023-08-18T19:35:18.163Z"
   },
   {
    "duration": 10,
    "start_time": "2023-08-18T19:35:18.169Z"
   },
   {
    "duration": 11,
    "start_time": "2023-08-18T19:35:18.181Z"
   },
   {
    "duration": 4,
    "start_time": "2023-08-18T19:35:18.194Z"
   },
   {
    "duration": 19,
    "start_time": "2023-08-18T19:35:18.224Z"
   },
   {
    "duration": 10,
    "start_time": "2023-08-18T19:35:18.245Z"
   },
   {
    "duration": 6,
    "start_time": "2023-08-18T19:35:18.257Z"
   },
   {
    "duration": 15,
    "start_time": "2023-08-18T19:35:18.265Z"
   },
   {
    "duration": 6,
    "start_time": "2023-08-18T19:35:18.282Z"
   },
   {
    "duration": 39,
    "start_time": "2023-08-18T19:35:18.290Z"
   },
   {
    "duration": 12,
    "start_time": "2023-08-18T19:35:18.335Z"
   },
   {
    "duration": 4,
    "start_time": "2023-08-18T19:35:18.349Z"
   },
   {
    "duration": 7,
    "start_time": "2023-08-18T19:35:18.354Z"
   },
   {
    "duration": 14,
    "start_time": "2023-08-18T19:35:18.363Z"
   },
   {
    "duration": 5,
    "start_time": "2023-08-18T19:35:18.378Z"
   },
   {
    "duration": 5,
    "start_time": "2023-08-18T19:35:18.388Z"
   },
   {
    "duration": 33,
    "start_time": "2023-08-18T19:35:18.394Z"
   },
   {
    "duration": 313,
    "start_time": "2023-08-18T19:35:18.431Z"
   },
   {
    "duration": 217,
    "start_time": "2023-08-18T19:35:18.747Z"
   },
   {
    "duration": 8,
    "start_time": "2023-08-18T19:35:18.966Z"
   },
   {
    "duration": 11,
    "start_time": "2023-08-18T19:35:18.975Z"
   },
   {
    "duration": 22,
    "start_time": "2023-08-18T19:35:18.988Z"
   },
   {
    "duration": 20,
    "start_time": "2023-08-18T19:35:19.024Z"
   },
   {
    "duration": 12,
    "start_time": "2023-08-18T19:35:19.046Z"
   },
   {
    "duration": 25,
    "start_time": "2023-08-18T19:35:19.060Z"
   },
   {
    "duration": 16,
    "start_time": "2023-08-18T19:35:19.087Z"
   },
   {
    "duration": 31,
    "start_time": "2023-08-18T19:35:19.105Z"
   },
   {
    "duration": 10,
    "start_time": "2023-08-18T19:35:19.138Z"
   },
   {
    "duration": 9,
    "start_time": "2023-08-18T19:35:19.149Z"
   },
   {
    "duration": 7,
    "start_time": "2023-08-18T19:35:19.159Z"
   },
   {
    "duration": 6,
    "start_time": "2023-08-18T19:35:19.168Z"
   },
   {
    "duration": 25,
    "start_time": "2023-08-18T19:35:19.176Z"
   },
   {
    "duration": 31,
    "start_time": "2023-08-18T19:35:19.203Z"
   },
   {
    "duration": 28,
    "start_time": "2023-08-18T19:35:19.235Z"
   },
   {
    "duration": 18,
    "start_time": "2023-08-18T19:35:19.265Z"
   },
   {
    "duration": 189,
    "start_time": "2023-08-18T19:35:19.285Z"
   },
   {
    "duration": 389,
    "start_time": "2023-08-18T19:35:19.476Z"
   },
   {
    "duration": 378,
    "start_time": "2023-08-18T19:35:19.867Z"
   },
   {
    "duration": 194,
    "start_time": "2023-08-18T19:35:20.247Z"
   },
   {
    "duration": 307,
    "start_time": "2023-08-18T19:35:20.442Z"
   },
   {
    "duration": 154,
    "start_time": "2023-08-18T19:35:20.751Z"
   },
   {
    "duration": 282,
    "start_time": "2023-08-18T19:35:20.907Z"
   },
   {
    "duration": 171,
    "start_time": "2023-08-18T19:35:21.191Z"
   },
   {
    "duration": 291,
    "start_time": "2023-08-18T19:35:21.365Z"
   },
   {
    "duration": 141,
    "start_time": "2023-08-18T19:35:21.659Z"
   },
   {
    "duration": 301,
    "start_time": "2023-08-18T19:35:21.802Z"
   },
   {
    "duration": 159,
    "start_time": "2023-08-18T19:35:22.106Z"
   },
   {
    "duration": 264,
    "start_time": "2023-08-18T19:35:22.267Z"
   },
   {
    "duration": 238,
    "start_time": "2023-08-18T19:35:22.534Z"
   },
   {
    "duration": 18,
    "start_time": "2023-08-18T19:35:22.774Z"
   },
   {
    "duration": 45,
    "start_time": "2023-08-18T19:35:22.795Z"
   },
   {
    "duration": 6,
    "start_time": "2023-08-18T19:35:22.845Z"
   },
   {
    "duration": 15,
    "start_time": "2023-08-18T19:35:22.852Z"
   },
   {
    "duration": 494,
    "start_time": "2023-08-18T19:35:22.868Z"
   },
   {
    "duration": 11,
    "start_time": "2023-08-18T19:35:23.364Z"
   },
   {
    "duration": 21,
    "start_time": "2023-08-18T19:35:23.377Z"
   },
   {
    "duration": 39,
    "start_time": "2023-08-18T19:35:23.400Z"
   },
   {
    "duration": 8,
    "start_time": "2023-08-18T19:35:23.441Z"
   },
   {
    "duration": 8,
    "start_time": "2023-08-18T19:35:23.451Z"
   },
   {
    "duration": 6,
    "start_time": "2023-08-18T19:35:23.462Z"
   },
   {
    "duration": 8,
    "start_time": "2023-08-18T19:35:23.471Z"
   },
   {
    "duration": 6,
    "start_time": "2023-08-18T19:35:23.481Z"
   },
   {
    "duration": 10,
    "start_time": "2023-08-18T19:35:23.488Z"
   },
   {
    "duration": 29,
    "start_time": "2023-08-18T19:35:23.500Z"
   },
   {
    "duration": 8,
    "start_time": "2023-08-18T19:35:23.539Z"
   },
   {
    "duration": 6,
    "start_time": "2023-08-18T19:35:23.549Z"
   },
   {
    "duration": 5,
    "start_time": "2023-08-18T19:35:23.557Z"
   },
   {
    "duration": 4,
    "start_time": "2023-08-18T19:35:23.564Z"
   },
   {
    "duration": 78,
    "start_time": "2023-08-18T19:35:23.569Z"
   },
   {
    "duration": 5,
    "start_time": "2023-08-18T19:35:23.655Z"
   },
   {
    "duration": 10,
    "start_time": "2023-08-18T19:35:23.662Z"
   },
   {
    "duration": 13,
    "start_time": "2023-08-18T19:35:23.674Z"
   },
   {
    "duration": 5,
    "start_time": "2023-08-18T19:35:23.689Z"
   },
   {
    "duration": 4,
    "start_time": "2023-08-18T19:35:23.695Z"
   },
   {
    "duration": 28,
    "start_time": "2023-08-18T19:35:23.701Z"
   },
   {
    "duration": 9,
    "start_time": "2023-08-18T19:35:23.736Z"
   },
   {
    "duration": 12,
    "start_time": "2023-08-18T19:35:23.747Z"
   },
   {
    "duration": 5,
    "start_time": "2023-08-18T19:35:23.760Z"
   },
   {
    "duration": 8,
    "start_time": "2023-08-18T19:35:23.767Z"
   },
   {
    "duration": 7,
    "start_time": "2023-08-18T19:35:23.776Z"
   },
   {
    "duration": 13,
    "start_time": "2023-08-18T19:35:23.784Z"
   },
   {
    "duration": 33,
    "start_time": "2023-08-18T19:35:23.798Z"
   },
   {
    "duration": 14,
    "start_time": "2023-08-18T19:35:23.833Z"
   },
   {
    "duration": 4,
    "start_time": "2023-08-18T19:35:23.849Z"
   },
   {
    "duration": 9,
    "start_time": "2023-08-18T19:35:23.854Z"
   },
   {
    "duration": 6,
    "start_time": "2023-08-18T19:35:23.866Z"
   },
   {
    "duration": 10,
    "start_time": "2023-08-18T19:35:23.874Z"
   },
   {
    "duration": 6,
    "start_time": "2023-08-18T19:35:23.886Z"
   },
   {
    "duration": 37,
    "start_time": "2023-08-18T19:35:23.894Z"
   },
   {
    "duration": 15,
    "start_time": "2023-08-18T19:35:23.937Z"
   },
   {
    "duration": 7,
    "start_time": "2023-08-18T19:35:23.953Z"
   },
   {
    "duration": 205,
    "start_time": "2023-08-18T19:42:19.839Z"
   },
   {
    "duration": 1552,
    "start_time": "2023-08-21T12:42:27.593Z"
   },
   {
    "duration": 116,
    "start_time": "2023-08-21T12:42:29.147Z"
   },
   {
    "duration": 17,
    "start_time": "2023-08-21T12:42:29.265Z"
   },
   {
    "duration": 34,
    "start_time": "2023-08-21T12:42:29.285Z"
   },
   {
    "duration": 34,
    "start_time": "2023-08-21T12:42:29.320Z"
   },
   {
    "duration": 23,
    "start_time": "2023-08-21T12:42:29.356Z"
   },
   {
    "duration": 11,
    "start_time": "2023-08-21T12:42:29.381Z"
   },
   {
    "duration": 32,
    "start_time": "2023-08-21T12:42:29.394Z"
   },
   {
    "duration": 25,
    "start_time": "2023-08-21T12:42:29.427Z"
   },
   {
    "duration": 15,
    "start_time": "2023-08-21T12:42:29.456Z"
   },
   {
    "duration": 14,
    "start_time": "2023-08-21T12:42:29.473Z"
   },
   {
    "duration": 13,
    "start_time": "2023-08-21T12:42:29.488Z"
   },
   {
    "duration": 5,
    "start_time": "2023-08-21T12:42:29.502Z"
   },
   {
    "duration": 9,
    "start_time": "2023-08-21T12:42:29.508Z"
   },
   {
    "duration": 12,
    "start_time": "2023-08-21T12:42:29.518Z"
   },
   {
    "duration": 4,
    "start_time": "2023-08-21T12:42:29.531Z"
   },
   {
    "duration": 22,
    "start_time": "2023-08-21T12:42:29.536Z"
   },
   {
    "duration": 10,
    "start_time": "2023-08-21T12:42:29.559Z"
   },
   {
    "duration": 6,
    "start_time": "2023-08-21T12:42:29.570Z"
   },
   {
    "duration": 11,
    "start_time": "2023-08-21T12:42:29.578Z"
   },
   {
    "duration": 20,
    "start_time": "2023-08-21T12:42:29.590Z"
   },
   {
    "duration": 8,
    "start_time": "2023-08-21T12:42:29.612Z"
   },
   {
    "duration": 9,
    "start_time": "2023-08-21T12:42:29.621Z"
   },
   {
    "duration": 5,
    "start_time": "2023-08-21T12:42:29.631Z"
   },
   {
    "duration": 10,
    "start_time": "2023-08-21T12:42:29.637Z"
   },
   {
    "duration": 16,
    "start_time": "2023-08-21T12:42:29.649Z"
   },
   {
    "duration": 4,
    "start_time": "2023-08-21T12:42:29.667Z"
   },
   {
    "duration": 5,
    "start_time": "2023-08-21T12:42:29.676Z"
   },
   {
    "duration": 36,
    "start_time": "2023-08-21T12:42:29.682Z"
   },
   {
    "duration": 287,
    "start_time": "2023-08-21T12:42:29.719Z"
   },
   {
    "duration": 213,
    "start_time": "2023-08-21T12:42:30.010Z"
   },
   {
    "duration": 11,
    "start_time": "2023-08-21T12:42:30.226Z"
   },
   {
    "duration": 33,
    "start_time": "2023-08-21T12:42:30.239Z"
   },
   {
    "duration": 45,
    "start_time": "2023-08-21T12:42:30.274Z"
   },
   {
    "duration": 50,
    "start_time": "2023-08-21T12:42:30.320Z"
   },
   {
    "duration": 44,
    "start_time": "2023-08-21T12:42:30.371Z"
   },
   {
    "duration": 25,
    "start_time": "2023-08-21T12:42:30.417Z"
   },
   {
    "duration": 66,
    "start_time": "2023-08-21T12:42:30.444Z"
   },
   {
    "duration": 69,
    "start_time": "2023-08-21T12:42:30.512Z"
   },
   {
    "duration": 49,
    "start_time": "2023-08-21T12:42:30.583Z"
   },
   {
    "duration": 77,
    "start_time": "2023-08-21T12:42:30.633Z"
   },
   {
    "duration": 136,
    "start_time": "2023-08-21T12:42:30.712Z"
   },
   {
    "duration": 38,
    "start_time": "2023-08-21T12:42:30.850Z"
   },
   {
    "duration": 50,
    "start_time": "2023-08-21T12:42:30.890Z"
   },
   {
    "duration": 35,
    "start_time": "2023-08-21T12:42:30.944Z"
   },
   {
    "duration": 59,
    "start_time": "2023-08-21T12:42:30.981Z"
   },
   {
    "duration": 41,
    "start_time": "2023-08-21T12:42:31.042Z"
   },
   {
    "duration": 181,
    "start_time": "2023-08-21T12:42:31.085Z"
   },
   {
    "duration": 380,
    "start_time": "2023-08-21T12:42:31.268Z"
   },
   {
    "duration": 374,
    "start_time": "2023-08-21T12:42:31.649Z"
   },
   {
    "duration": 148,
    "start_time": "2023-08-21T12:42:32.024Z"
   },
   {
    "duration": 323,
    "start_time": "2023-08-21T12:42:32.174Z"
   },
   {
    "duration": 182,
    "start_time": "2023-08-21T12:42:32.499Z"
   },
   {
    "duration": 345,
    "start_time": "2023-08-21T12:42:32.683Z"
   },
   {
    "duration": 158,
    "start_time": "2023-08-21T12:42:33.029Z"
   },
   {
    "duration": 294,
    "start_time": "2023-08-21T12:42:33.188Z"
   },
   {
    "duration": 180,
    "start_time": "2023-08-21T12:42:33.484Z"
   },
   {
    "duration": 314,
    "start_time": "2023-08-21T12:42:33.666Z"
   },
   {
    "duration": 148,
    "start_time": "2023-08-21T12:42:33.982Z"
   },
   {
    "duration": 296,
    "start_time": "2023-08-21T12:42:34.132Z"
   },
   {
    "duration": 363,
    "start_time": "2023-08-21T12:42:34.431Z"
   },
   {
    "duration": 23,
    "start_time": "2023-08-21T12:42:34.796Z"
   },
   {
    "duration": 24,
    "start_time": "2023-08-21T12:42:34.822Z"
   },
   {
    "duration": 15,
    "start_time": "2023-08-21T12:42:34.848Z"
   },
   {
    "duration": 18,
    "start_time": "2023-08-21T12:42:34.865Z"
   },
   {
    "duration": 523,
    "start_time": "2023-08-21T12:42:34.886Z"
   },
   {
    "duration": 13,
    "start_time": "2023-08-21T12:42:35.411Z"
   },
   {
    "duration": 36,
    "start_time": "2023-08-21T12:42:35.430Z"
   },
   {
    "duration": 5,
    "start_time": "2023-08-21T12:42:35.468Z"
   },
   {
    "duration": 35,
    "start_time": "2023-08-21T12:42:35.475Z"
   },
   {
    "duration": 21,
    "start_time": "2023-08-21T12:42:35.511Z"
   },
   {
    "duration": 17,
    "start_time": "2023-08-21T12:42:35.533Z"
   },
   {
    "duration": 22,
    "start_time": "2023-08-21T12:42:35.551Z"
   },
   {
    "duration": 10,
    "start_time": "2023-08-21T12:42:35.574Z"
   },
   {
    "duration": 15,
    "start_time": "2023-08-21T12:42:35.586Z"
   },
   {
    "duration": 17,
    "start_time": "2023-08-21T12:42:35.603Z"
   },
   {
    "duration": 16,
    "start_time": "2023-08-21T12:42:35.622Z"
   },
   {
    "duration": 10,
    "start_time": "2023-08-21T12:42:35.640Z"
   },
   {
    "duration": 60,
    "start_time": "2023-08-21T12:42:35.652Z"
   },
   {
    "duration": 16,
    "start_time": "2023-08-21T12:42:35.713Z"
   },
   {
    "duration": 58,
    "start_time": "2023-08-21T12:42:35.731Z"
   },
   {
    "duration": 5,
    "start_time": "2023-08-21T12:42:35.794Z"
   },
   {
    "duration": 10,
    "start_time": "2023-08-21T12:42:35.801Z"
   },
   {
    "duration": 21,
    "start_time": "2023-08-21T12:42:35.812Z"
   },
   {
    "duration": 23,
    "start_time": "2023-08-21T12:42:35.834Z"
   },
   {
    "duration": 25,
    "start_time": "2023-08-21T12:42:35.859Z"
   },
   {
    "duration": 4,
    "start_time": "2023-08-21T12:42:35.886Z"
   },
   {
    "duration": 15,
    "start_time": "2023-08-21T12:42:35.892Z"
   },
   {
    "duration": 10,
    "start_time": "2023-08-21T12:42:35.909Z"
   },
   {
    "duration": 11,
    "start_time": "2023-08-21T12:42:35.921Z"
   },
   {
    "duration": 11,
    "start_time": "2023-08-21T12:42:35.934Z"
   },
   {
    "duration": 10,
    "start_time": "2023-08-21T12:42:35.947Z"
   },
   {
    "duration": 16,
    "start_time": "2023-08-21T12:42:35.959Z"
   },
   {
    "duration": 12,
    "start_time": "2023-08-21T12:42:35.976Z"
   },
   {
    "duration": 5,
    "start_time": "2023-08-21T12:42:35.990Z"
   },
   {
    "duration": 13,
    "start_time": "2023-08-21T12:42:35.996Z"
   },
   {
    "duration": 10,
    "start_time": "2023-08-21T12:42:36.011Z"
   },
   {
    "duration": 5,
    "start_time": "2023-08-21T12:42:36.023Z"
   },
   {
    "duration": 8,
    "start_time": "2023-08-21T12:42:36.030Z"
   },
   {
    "duration": 16,
    "start_time": "2023-08-21T12:42:36.040Z"
   },
   {
    "duration": 7,
    "start_time": "2023-08-21T12:42:36.058Z"
   },
   {
    "duration": 7,
    "start_time": "2023-08-21T12:42:36.067Z"
   },
   {
    "duration": 6,
    "start_time": "2023-08-21T12:42:36.076Z"
   },
   {
    "duration": 112,
    "start_time": "2023-08-21T12:44:12.144Z"
   },
   {
    "duration": 11,
    "start_time": "2023-08-21T12:44:32.793Z"
   },
   {
    "duration": 9,
    "start_time": "2023-08-21T12:44:37.065Z"
   },
   {
    "duration": 9,
    "start_time": "2023-08-21T12:44:39.248Z"
   },
   {
    "duration": 5,
    "start_time": "2023-08-21T12:44:43.592Z"
   },
   {
    "duration": 85,
    "start_time": "2023-08-21T12:44:43.598Z"
   },
   {
    "duration": 14,
    "start_time": "2023-08-21T12:44:43.685Z"
   },
   {
    "duration": 12,
    "start_time": "2023-08-21T12:44:43.702Z"
   },
   {
    "duration": 20,
    "start_time": "2023-08-21T12:44:43.716Z"
   },
   {
    "duration": 9,
    "start_time": "2023-08-21T12:44:43.738Z"
   },
   {
    "duration": 6,
    "start_time": "2023-08-21T12:44:43.748Z"
   },
   {
    "duration": 12,
    "start_time": "2023-08-21T12:44:43.755Z"
   },
   {
    "duration": 42,
    "start_time": "2023-08-21T12:44:43.770Z"
   },
   {
    "duration": 21,
    "start_time": "2023-08-21T12:44:43.814Z"
   },
   {
    "duration": 17,
    "start_time": "2023-08-21T12:44:43.837Z"
   },
   {
    "duration": 15,
    "start_time": "2023-08-21T12:44:43.856Z"
   },
   {
    "duration": 6,
    "start_time": "2023-08-21T12:44:43.872Z"
   },
   {
    "duration": 36,
    "start_time": "2023-08-21T12:44:43.879Z"
   },
   {
    "duration": 12,
    "start_time": "2023-08-21T12:44:43.917Z"
   },
   {
    "duration": 5,
    "start_time": "2023-08-21T12:44:43.931Z"
   },
   {
    "duration": 11,
    "start_time": "2023-08-21T12:44:43.938Z"
   },
   {
    "duration": 16,
    "start_time": "2023-08-21T12:44:43.951Z"
   },
   {
    "duration": 6,
    "start_time": "2023-08-21T12:44:43.969Z"
   },
   {
    "duration": 33,
    "start_time": "2023-08-21T12:44:43.977Z"
   },
   {
    "duration": 10,
    "start_time": "2023-08-21T12:44:44.012Z"
   },
   {
    "duration": 10,
    "start_time": "2023-08-21T12:44:44.024Z"
   },
   {
    "duration": 17,
    "start_time": "2023-08-21T12:44:44.036Z"
   },
   {
    "duration": 3,
    "start_time": "2023-08-21T12:44:44.057Z"
   },
   {
    "duration": 11,
    "start_time": "2023-08-21T12:44:44.062Z"
   },
   {
    "duration": 15,
    "start_time": "2023-08-21T12:44:44.074Z"
   },
   {
    "duration": 23,
    "start_time": "2023-08-21T12:44:44.091Z"
   },
   {
    "duration": 10,
    "start_time": "2023-08-21T12:44:44.116Z"
   },
   {
    "duration": 7,
    "start_time": "2023-08-21T12:44:44.128Z"
   },
   {
    "duration": 14,
    "start_time": "2023-08-21T12:44:44.137Z"
   },
   {
    "duration": 294,
    "start_time": "2023-08-21T12:44:44.152Z"
   },
   {
    "duration": 220,
    "start_time": "2023-08-21T12:44:44.448Z"
   },
   {
    "duration": 8,
    "start_time": "2023-08-21T12:44:44.669Z"
   },
   {
    "duration": 13,
    "start_time": "2023-08-21T12:44:44.679Z"
   },
   {
    "duration": 23,
    "start_time": "2023-08-21T12:44:44.694Z"
   },
   {
    "duration": 8,
    "start_time": "2023-08-21T12:44:44.718Z"
   },
   {
    "duration": 10,
    "start_time": "2023-08-21T12:44:44.728Z"
   },
   {
    "duration": 16,
    "start_time": "2023-08-21T12:44:44.740Z"
   },
   {
    "duration": 10,
    "start_time": "2023-08-21T12:44:44.758Z"
   },
   {
    "duration": 40,
    "start_time": "2023-08-21T12:44:44.770Z"
   },
   {
    "duration": 4,
    "start_time": "2023-08-21T12:44:44.811Z"
   },
   {
    "duration": 22,
    "start_time": "2023-08-21T12:44:44.816Z"
   },
   {
    "duration": 22,
    "start_time": "2023-08-21T12:44:44.839Z"
   },
   {
    "duration": 6,
    "start_time": "2023-08-21T12:44:44.863Z"
   },
   {
    "duration": 30,
    "start_time": "2023-08-21T12:44:44.871Z"
   },
   {
    "duration": 6,
    "start_time": "2023-08-21T12:44:44.903Z"
   },
   {
    "duration": 25,
    "start_time": "2023-08-21T12:44:44.911Z"
   },
   {
    "duration": 14,
    "start_time": "2023-08-21T12:44:44.937Z"
   },
   {
    "duration": 183,
    "start_time": "2023-08-21T12:44:44.953Z"
   },
   {
    "duration": 447,
    "start_time": "2023-08-21T12:44:45.137Z"
   },
   {
    "duration": 279,
    "start_time": "2023-08-21T12:44:45.585Z"
   },
   {
    "duration": 175,
    "start_time": "2023-08-21T12:44:45.866Z"
   },
   {
    "duration": 304,
    "start_time": "2023-08-21T12:44:46.043Z"
   },
   {
    "duration": 240,
    "start_time": "2023-08-21T12:44:46.349Z"
   },
   {
    "duration": 328,
    "start_time": "2023-08-21T12:44:46.592Z"
   },
   {
    "duration": 154,
    "start_time": "2023-08-21T12:44:46.922Z"
   },
   {
    "duration": 271,
    "start_time": "2023-08-21T12:44:47.078Z"
   },
   {
    "duration": 140,
    "start_time": "2023-08-21T12:44:47.350Z"
   },
   {
    "duration": 277,
    "start_time": "2023-08-21T12:44:47.491Z"
   },
   {
    "duration": 133,
    "start_time": "2023-08-21T12:44:47.770Z"
   },
   {
    "duration": 253,
    "start_time": "2023-08-21T12:44:47.910Z"
   },
   {
    "duration": 193,
    "start_time": "2023-08-21T12:44:48.164Z"
   },
   {
    "duration": 15,
    "start_time": "2023-08-21T12:44:48.359Z"
   },
   {
    "duration": 44,
    "start_time": "2023-08-21T12:44:48.375Z"
   },
   {
    "duration": 19,
    "start_time": "2023-08-21T12:44:48.421Z"
   },
   {
    "duration": 39,
    "start_time": "2023-08-21T12:44:48.442Z"
   },
   {
    "duration": 472,
    "start_time": "2023-08-21T12:44:48.483Z"
   },
   {
    "duration": 9,
    "start_time": "2023-08-21T12:44:48.957Z"
   },
   {
    "duration": 44,
    "start_time": "2023-08-21T12:44:48.973Z"
   },
   {
    "duration": 10,
    "start_time": "2023-08-21T12:44:49.019Z"
   },
   {
    "duration": 7,
    "start_time": "2023-08-21T12:44:49.030Z"
   },
   {
    "duration": 8,
    "start_time": "2023-08-21T12:44:49.040Z"
   },
   {
    "duration": 7,
    "start_time": "2023-08-21T12:44:49.050Z"
   },
   {
    "duration": 10,
    "start_time": "2023-08-21T12:44:49.058Z"
   },
   {
    "duration": 6,
    "start_time": "2023-08-21T12:44:49.069Z"
   },
   {
    "duration": 9,
    "start_time": "2023-08-21T12:44:49.076Z"
   },
   {
    "duration": 24,
    "start_time": "2023-08-21T12:44:49.087Z"
   },
   {
    "duration": 5,
    "start_time": "2023-08-21T12:44:49.112Z"
   },
   {
    "duration": 8,
    "start_time": "2023-08-21T12:44:49.119Z"
   },
   {
    "duration": 8,
    "start_time": "2023-08-21T12:44:49.128Z"
   },
   {
    "duration": 6,
    "start_time": "2023-08-21T12:44:49.138Z"
   },
   {
    "duration": 74,
    "start_time": "2023-08-21T12:44:49.146Z"
   },
   {
    "duration": 5,
    "start_time": "2023-08-21T12:44:49.222Z"
   },
   {
    "duration": 9,
    "start_time": "2023-08-21T12:44:49.229Z"
   },
   {
    "duration": 10,
    "start_time": "2023-08-21T12:44:49.239Z"
   },
   {
    "duration": 8,
    "start_time": "2023-08-21T12:44:49.250Z"
   },
   {
    "duration": 9,
    "start_time": "2023-08-21T12:44:49.260Z"
   },
   {
    "duration": 7,
    "start_time": "2023-08-21T12:44:49.270Z"
   },
   {
    "duration": 30,
    "start_time": "2023-08-21T12:44:49.279Z"
   },
   {
    "duration": 6,
    "start_time": "2023-08-21T12:44:49.311Z"
   },
   {
    "duration": 8,
    "start_time": "2023-08-21T12:44:49.319Z"
   },
   {
    "duration": 6,
    "start_time": "2023-08-21T12:44:49.328Z"
   },
   {
    "duration": 6,
    "start_time": "2023-08-21T12:44:49.336Z"
   },
   {
    "duration": 11,
    "start_time": "2023-08-21T12:44:49.344Z"
   },
   {
    "duration": 7,
    "start_time": "2023-08-21T12:44:49.356Z"
   },
   {
    "duration": 12,
    "start_time": "2023-08-21T12:44:49.364Z"
   },
   {
    "duration": 31,
    "start_time": "2023-08-21T12:44:49.378Z"
   },
   {
    "duration": 19,
    "start_time": "2023-08-21T12:44:49.411Z"
   },
   {
    "duration": 8,
    "start_time": "2023-08-21T12:44:49.432Z"
   },
   {
    "duration": 9,
    "start_time": "2023-08-21T12:44:49.441Z"
   },
   {
    "duration": 5,
    "start_time": "2023-08-21T12:44:49.452Z"
   },
   {
    "duration": 7,
    "start_time": "2023-08-21T12:44:49.459Z"
   },
   {
    "duration": 8,
    "start_time": "2023-08-21T12:44:49.467Z"
   },
   {
    "duration": 7,
    "start_time": "2023-08-21T12:44:49.477Z"
   },
   {
    "duration": 9,
    "start_time": "2023-08-21T12:45:27.124Z"
   },
   {
    "duration": 4,
    "start_time": "2023-08-21T12:45:31.442Z"
   },
   {
    "duration": 106,
    "start_time": "2023-08-21T12:45:31.448Z"
   },
   {
    "duration": 15,
    "start_time": "2023-08-21T12:45:31.556Z"
   },
   {
    "duration": 34,
    "start_time": "2023-08-21T12:45:31.573Z"
   },
   {
    "duration": 29,
    "start_time": "2023-08-21T12:45:31.609Z"
   },
   {
    "duration": 27,
    "start_time": "2023-08-21T12:45:31.640Z"
   },
   {
    "duration": 22,
    "start_time": "2023-08-21T12:45:31.668Z"
   },
   {
    "duration": 22,
    "start_time": "2023-08-21T12:45:31.692Z"
   },
   {
    "duration": 37,
    "start_time": "2023-08-21T12:45:31.716Z"
   },
   {
    "duration": 32,
    "start_time": "2023-08-21T12:45:31.756Z"
   },
   {
    "duration": 28,
    "start_time": "2023-08-21T12:45:31.789Z"
   },
   {
    "duration": 48,
    "start_time": "2023-08-21T12:45:31.819Z"
   },
   {
    "duration": 55,
    "start_time": "2023-08-21T12:45:31.869Z"
   },
   {
    "duration": 18,
    "start_time": "2023-08-21T12:45:31.925Z"
   },
   {
    "duration": 26,
    "start_time": "2023-08-21T12:45:31.945Z"
   },
   {
    "duration": 11,
    "start_time": "2023-08-21T12:45:31.972Z"
   },
   {
    "duration": 20,
    "start_time": "2023-08-21T12:45:31.985Z"
   },
   {
    "duration": 40,
    "start_time": "2023-08-21T12:45:32.007Z"
   },
   {
    "duration": 18,
    "start_time": "2023-08-21T12:45:32.050Z"
   },
   {
    "duration": 21,
    "start_time": "2023-08-21T12:45:32.069Z"
   },
   {
    "duration": 13,
    "start_time": "2023-08-21T12:45:32.092Z"
   },
   {
    "duration": 21,
    "start_time": "2023-08-21T12:45:32.106Z"
   },
   {
    "duration": 17,
    "start_time": "2023-08-21T12:45:32.129Z"
   },
   {
    "duration": 10,
    "start_time": "2023-08-21T12:45:32.148Z"
   },
   {
    "duration": 16,
    "start_time": "2023-08-21T12:45:32.160Z"
   },
   {
    "duration": 29,
    "start_time": "2023-08-21T12:45:32.177Z"
   },
   {
    "duration": 26,
    "start_time": "2023-08-21T12:45:32.208Z"
   },
   {
    "duration": 30,
    "start_time": "2023-08-21T12:45:32.239Z"
   },
   {
    "duration": 19,
    "start_time": "2023-08-21T12:45:32.271Z"
   },
   {
    "duration": 16,
    "start_time": "2023-08-21T12:45:32.292Z"
   },
   {
    "duration": 14,
    "start_time": "2023-08-21T12:45:32.310Z"
   },
   {
    "duration": 20,
    "start_time": "2023-08-21T12:45:32.326Z"
   },
   {
    "duration": 19,
    "start_time": "2023-08-21T12:45:32.348Z"
   },
   {
    "duration": 371,
    "start_time": "2023-08-21T12:45:32.369Z"
   },
   {
    "duration": 278,
    "start_time": "2023-08-21T12:45:32.742Z"
   },
   {
    "duration": 9,
    "start_time": "2023-08-21T12:45:33.022Z"
   },
   {
    "duration": 11,
    "start_time": "2023-08-21T12:45:33.032Z"
   },
   {
    "duration": 44,
    "start_time": "2023-08-21T12:45:33.044Z"
   },
   {
    "duration": 6,
    "start_time": "2023-08-21T12:45:33.089Z"
   },
   {
    "duration": 8,
    "start_time": "2023-08-21T12:45:33.097Z"
   },
   {
    "duration": 17,
    "start_time": "2023-08-21T12:45:33.108Z"
   },
   {
    "duration": 9,
    "start_time": "2023-08-21T12:45:33.127Z"
   },
   {
    "duration": 15,
    "start_time": "2023-08-21T12:45:33.138Z"
   },
   {
    "duration": 10,
    "start_time": "2023-08-21T12:45:33.154Z"
   },
   {
    "duration": 8,
    "start_time": "2023-08-21T12:45:33.165Z"
   },
   {
    "duration": 8,
    "start_time": "2023-08-21T12:45:33.175Z"
   },
   {
    "duration": 8,
    "start_time": "2023-08-21T12:45:33.184Z"
   },
   {
    "duration": 26,
    "start_time": "2023-08-21T12:45:33.209Z"
   },
   {
    "duration": 14,
    "start_time": "2023-08-21T12:45:33.237Z"
   },
   {
    "duration": 29,
    "start_time": "2023-08-21T12:45:33.252Z"
   },
   {
    "duration": 16,
    "start_time": "2023-08-21T12:45:33.283Z"
   },
   {
    "duration": 176,
    "start_time": "2023-08-21T12:45:33.301Z"
   },
   {
    "duration": 367,
    "start_time": "2023-08-21T12:45:33.478Z"
   },
   {
    "duration": 262,
    "start_time": "2023-08-21T12:45:33.847Z"
   },
   {
    "duration": 155,
    "start_time": "2023-08-21T12:45:34.111Z"
   },
   {
    "duration": 275,
    "start_time": "2023-08-21T12:45:34.268Z"
   },
   {
    "duration": 136,
    "start_time": "2023-08-21T12:45:34.545Z"
   },
   {
    "duration": 279,
    "start_time": "2023-08-21T12:45:34.682Z"
   },
   {
    "duration": 152,
    "start_time": "2023-08-21T12:45:34.962Z"
   },
   {
    "duration": 393,
    "start_time": "2023-08-21T12:45:35.116Z"
   },
   {
    "duration": 130,
    "start_time": "2023-08-21T12:45:35.511Z"
   },
   {
    "duration": 276,
    "start_time": "2023-08-21T12:45:35.643Z"
   },
   {
    "duration": 138,
    "start_time": "2023-08-21T12:45:35.921Z"
   },
   {
    "duration": 275,
    "start_time": "2023-08-21T12:45:36.061Z"
   },
   {
    "duration": 184,
    "start_time": "2023-08-21T12:45:36.338Z"
   },
   {
    "duration": 15,
    "start_time": "2023-08-21T12:45:36.524Z"
   },
   {
    "duration": 19,
    "start_time": "2023-08-21T12:45:36.540Z"
   },
   {
    "duration": 5,
    "start_time": "2023-08-21T12:45:36.561Z"
   },
   {
    "duration": 44,
    "start_time": "2023-08-21T12:45:36.568Z"
   },
   {
    "duration": 476,
    "start_time": "2023-08-21T12:45:36.614Z"
   },
   {
    "duration": 22,
    "start_time": "2023-08-21T12:45:37.091Z"
   },
   {
    "duration": 20,
    "start_time": "2023-08-21T12:45:37.114Z"
   },
   {
    "duration": 11,
    "start_time": "2023-08-21T12:45:37.135Z"
   },
   {
    "duration": 8,
    "start_time": "2023-08-21T12:45:37.147Z"
   },
   {
    "duration": 6,
    "start_time": "2023-08-21T12:45:37.156Z"
   },
   {
    "duration": 6,
    "start_time": "2023-08-21T12:45:37.164Z"
   },
   {
    "duration": 8,
    "start_time": "2023-08-21T12:45:37.171Z"
   },
   {
    "duration": 33,
    "start_time": "2023-08-21T12:45:37.180Z"
   },
   {
    "duration": 8,
    "start_time": "2023-08-21T12:45:37.215Z"
   },
   {
    "duration": 6,
    "start_time": "2023-08-21T12:45:37.224Z"
   },
   {
    "duration": 8,
    "start_time": "2023-08-21T12:45:37.232Z"
   },
   {
    "duration": 5,
    "start_time": "2023-08-21T12:45:37.245Z"
   },
   {
    "duration": 15,
    "start_time": "2023-08-21T12:45:37.252Z"
   },
   {
    "duration": 9,
    "start_time": "2023-08-21T12:45:37.269Z"
   },
   {
    "duration": 80,
    "start_time": "2023-08-21T12:45:37.280Z"
   },
   {
    "duration": 5,
    "start_time": "2023-08-21T12:45:37.362Z"
   },
   {
    "duration": 12,
    "start_time": "2023-08-21T12:45:37.369Z"
   },
   {
    "duration": 30,
    "start_time": "2023-08-21T12:45:37.383Z"
   },
   {
    "duration": 4,
    "start_time": "2023-08-21T12:45:37.415Z"
   },
   {
    "duration": 8,
    "start_time": "2023-08-21T12:45:37.421Z"
   },
   {
    "duration": 13,
    "start_time": "2023-08-21T12:45:37.431Z"
   },
   {
    "duration": 12,
    "start_time": "2023-08-21T12:45:37.446Z"
   },
   {
    "duration": 9,
    "start_time": "2023-08-21T12:45:37.459Z"
   },
   {
    "duration": 9,
    "start_time": "2023-08-21T12:45:37.469Z"
   },
   {
    "duration": 15,
    "start_time": "2023-08-21T12:45:37.479Z"
   },
   {
    "duration": 15,
    "start_time": "2023-08-21T12:45:37.495Z"
   },
   {
    "duration": 14,
    "start_time": "2023-08-21T12:45:37.511Z"
   },
   {
    "duration": 6,
    "start_time": "2023-08-21T12:45:37.526Z"
   },
   {
    "duration": 3,
    "start_time": "2023-08-21T12:45:37.533Z"
   },
   {
    "duration": 6,
    "start_time": "2023-08-21T12:45:37.538Z"
   },
   {
    "duration": 23,
    "start_time": "2023-08-21T12:45:37.545Z"
   },
   {
    "duration": 5,
    "start_time": "2023-08-21T12:45:37.570Z"
   },
   {
    "duration": 32,
    "start_time": "2023-08-21T12:45:37.577Z"
   },
   {
    "duration": 5,
    "start_time": "2023-08-21T12:45:37.611Z"
   },
   {
    "duration": 15,
    "start_time": "2023-08-21T12:45:37.618Z"
   },
   {
    "duration": 8,
    "start_time": "2023-08-21T12:45:37.635Z"
   },
   {
    "duration": 20,
    "start_time": "2023-08-21T12:45:37.644Z"
   },
   {
    "duration": 4,
    "start_time": "2023-08-21T12:49:50.221Z"
   },
   {
    "duration": 3,
    "start_time": "2023-08-21T12:49:57.816Z"
   },
   {
    "duration": 10,
    "start_time": "2023-08-21T12:50:02.217Z"
   },
   {
    "duration": 3,
    "start_time": "2023-08-21T12:50:05.449Z"
   },
   {
    "duration": 223,
    "start_time": "2023-08-21T12:50:05.455Z"
   },
   {
    "duration": 14,
    "start_time": "2023-08-21T12:50:05.679Z"
   },
   {
    "duration": 14,
    "start_time": "2023-08-21T12:50:05.695Z"
   },
   {
    "duration": 19,
    "start_time": "2023-08-21T12:50:05.712Z"
   },
   {
    "duration": 9,
    "start_time": "2023-08-21T12:50:05.733Z"
   },
   {
    "duration": 9,
    "start_time": "2023-08-21T12:50:05.744Z"
   },
   {
    "duration": 9,
    "start_time": "2023-08-21T12:50:05.754Z"
   },
   {
    "duration": 5,
    "start_time": "2023-08-21T12:50:05.764Z"
   },
   {
    "duration": 26,
    "start_time": "2023-08-21T12:50:05.771Z"
   },
   {
    "duration": 27,
    "start_time": "2023-08-21T12:50:05.799Z"
   },
   {
    "duration": 11,
    "start_time": "2023-08-21T12:50:05.827Z"
   },
   {
    "duration": 5,
    "start_time": "2023-08-21T12:50:05.839Z"
   },
   {
    "duration": 10,
    "start_time": "2023-08-21T12:50:05.847Z"
   },
   {
    "duration": 11,
    "start_time": "2023-08-21T12:50:05.858Z"
   },
   {
    "duration": 4,
    "start_time": "2023-08-21T12:50:05.872Z"
   },
   {
    "duration": 10,
    "start_time": "2023-08-21T12:50:05.877Z"
   },
   {
    "duration": 11,
    "start_time": "2023-08-21T12:50:05.910Z"
   },
   {
    "duration": 7,
    "start_time": "2023-08-21T12:50:05.923Z"
   },
   {
    "duration": 15,
    "start_time": "2023-08-21T12:50:05.931Z"
   },
   {
    "duration": 14,
    "start_time": "2023-08-21T12:50:05.948Z"
   },
   {
    "duration": 6,
    "start_time": "2023-08-21T12:50:05.964Z"
   },
   {
    "duration": 8,
    "start_time": "2023-08-21T12:50:05.971Z"
   },
   {
    "duration": 30,
    "start_time": "2023-08-21T12:50:05.981Z"
   },
   {
    "duration": 19,
    "start_time": "2023-08-21T12:50:06.012Z"
   },
   {
    "duration": 28,
    "start_time": "2023-08-21T12:50:06.033Z"
   },
   {
    "duration": 8,
    "start_time": "2023-08-21T12:50:06.062Z"
   },
   {
    "duration": 16,
    "start_time": "2023-08-21T12:50:06.072Z"
   },
   {
    "duration": 11,
    "start_time": "2023-08-21T12:50:06.090Z"
   },
   {
    "duration": 12,
    "start_time": "2023-08-21T12:50:06.103Z"
   },
   {
    "duration": 18,
    "start_time": "2023-08-21T12:50:06.116Z"
   },
   {
    "duration": 62,
    "start_time": "2023-08-21T12:50:06.136Z"
   },
   {
    "duration": 13,
    "start_time": "2023-08-21T12:50:06.200Z"
   },
   {
    "duration": 7,
    "start_time": "2023-08-21T12:50:06.214Z"
   },
   {
    "duration": 273,
    "start_time": "2023-08-21T12:50:06.223Z"
   },
   {
    "duration": 203,
    "start_time": "2023-08-21T12:50:06.498Z"
   },
   {
    "duration": 11,
    "start_time": "2023-08-21T12:50:06.703Z"
   },
   {
    "duration": 14,
    "start_time": "2023-08-21T12:50:06.716Z"
   },
   {
    "duration": 14,
    "start_time": "2023-08-21T12:50:06.732Z"
   },
   {
    "duration": 7,
    "start_time": "2023-08-21T12:50:06.748Z"
   },
   {
    "duration": 6,
    "start_time": "2023-08-21T12:50:06.760Z"
   },
   {
    "duration": 46,
    "start_time": "2023-08-21T12:50:06.768Z"
   },
   {
    "duration": 12,
    "start_time": "2023-08-21T12:50:06.816Z"
   },
   {
    "duration": 12,
    "start_time": "2023-08-21T12:50:06.829Z"
   },
   {
    "duration": 8,
    "start_time": "2023-08-21T12:50:06.842Z"
   },
   {
    "duration": 9,
    "start_time": "2023-08-21T12:50:06.852Z"
   },
   {
    "duration": 7,
    "start_time": "2023-08-21T12:50:06.862Z"
   },
   {
    "duration": 15,
    "start_time": "2023-08-21T12:50:06.871Z"
   },
   {
    "duration": 37,
    "start_time": "2023-08-21T12:50:06.887Z"
   },
   {
    "duration": 33,
    "start_time": "2023-08-21T12:50:06.926Z"
   },
   {
    "duration": 23,
    "start_time": "2023-08-21T12:50:06.961Z"
   },
   {
    "duration": 14,
    "start_time": "2023-08-21T12:50:06.986Z"
   },
   {
    "duration": 154,
    "start_time": "2023-08-21T12:50:07.002Z"
   },
   {
    "duration": 452,
    "start_time": "2023-08-21T12:50:07.157Z"
   },
   {
    "duration": 276,
    "start_time": "2023-08-21T12:50:07.611Z"
   },
   {
    "duration": 154,
    "start_time": "2023-08-21T12:50:07.889Z"
   },
   {
    "duration": 298,
    "start_time": "2023-08-21T12:50:08.044Z"
   },
   {
    "duration": 143,
    "start_time": "2023-08-21T12:50:08.344Z"
   },
   {
    "duration": 310,
    "start_time": "2023-08-21T12:50:08.488Z"
   },
   {
    "duration": 160,
    "start_time": "2023-08-21T12:50:08.800Z"
   },
   {
    "duration": 280,
    "start_time": "2023-08-21T12:50:08.961Z"
   },
   {
    "duration": 148,
    "start_time": "2023-08-21T12:50:09.243Z"
   },
   {
    "duration": 291,
    "start_time": "2023-08-21T12:50:09.393Z"
   },
   {
    "duration": 234,
    "start_time": "2023-08-21T12:50:09.685Z"
   },
   {
    "duration": 264,
    "start_time": "2023-08-21T12:50:09.921Z"
   },
   {
    "duration": 195,
    "start_time": "2023-08-21T12:50:10.187Z"
   },
   {
    "duration": 26,
    "start_time": "2023-08-21T12:50:10.384Z"
   },
   {
    "duration": 20,
    "start_time": "2023-08-21T12:50:10.412Z"
   },
   {
    "duration": 6,
    "start_time": "2023-08-21T12:50:10.433Z"
   },
   {
    "duration": 18,
    "start_time": "2023-08-21T12:50:10.441Z"
   },
   {
    "duration": 491,
    "start_time": "2023-08-21T12:50:10.461Z"
   },
   {
    "duration": 11,
    "start_time": "2023-08-21T12:50:10.953Z"
   },
   {
    "duration": 21,
    "start_time": "2023-08-21T12:50:10.965Z"
   },
   {
    "duration": 22,
    "start_time": "2023-08-21T12:50:10.988Z"
   },
   {
    "duration": 7,
    "start_time": "2023-08-21T12:50:11.012Z"
   },
   {
    "duration": 17,
    "start_time": "2023-08-21T12:50:11.021Z"
   },
   {
    "duration": 12,
    "start_time": "2023-08-21T12:50:11.040Z"
   },
   {
    "duration": 9,
    "start_time": "2023-08-21T12:50:11.054Z"
   },
   {
    "duration": 18,
    "start_time": "2023-08-21T12:50:11.065Z"
   },
   {
    "duration": 13,
    "start_time": "2023-08-21T12:50:11.085Z"
   },
   {
    "duration": 7,
    "start_time": "2023-08-21T12:50:11.100Z"
   },
   {
    "duration": 6,
    "start_time": "2023-08-21T12:50:11.109Z"
   },
   {
    "duration": 8,
    "start_time": "2023-08-21T12:50:11.117Z"
   },
   {
    "duration": 5,
    "start_time": "2023-08-21T12:50:11.127Z"
   },
   {
    "duration": 7,
    "start_time": "2023-08-21T12:50:11.133Z"
   },
   {
    "duration": 70,
    "start_time": "2023-08-21T12:50:11.142Z"
   },
   {
    "duration": 4,
    "start_time": "2023-08-21T12:50:11.214Z"
   },
   {
    "duration": 8,
    "start_time": "2023-08-21T12:50:11.220Z"
   },
   {
    "duration": 8,
    "start_time": "2023-08-21T12:50:11.229Z"
   },
   {
    "duration": 5,
    "start_time": "2023-08-21T12:50:11.239Z"
   },
   {
    "duration": 16,
    "start_time": "2023-08-21T12:50:11.246Z"
   },
   {
    "duration": 6,
    "start_time": "2023-08-21T12:50:11.264Z"
   },
   {
    "duration": 11,
    "start_time": "2023-08-21T12:50:11.272Z"
   },
   {
    "duration": 30,
    "start_time": "2023-08-21T12:50:11.284Z"
   },
   {
    "duration": 8,
    "start_time": "2023-08-21T12:50:11.316Z"
   },
   {
    "duration": 7,
    "start_time": "2023-08-21T12:50:11.325Z"
   },
   {
    "duration": 5,
    "start_time": "2023-08-21T12:50:11.334Z"
   },
   {
    "duration": 8,
    "start_time": "2023-08-21T12:50:11.341Z"
   },
   {
    "duration": 6,
    "start_time": "2023-08-21T12:50:11.351Z"
   },
   {
    "duration": 3,
    "start_time": "2023-08-21T12:50:11.359Z"
   },
   {
    "duration": 47,
    "start_time": "2023-08-21T12:50:11.364Z"
   },
   {
    "duration": 7,
    "start_time": "2023-08-21T12:50:11.413Z"
   },
   {
    "duration": 6,
    "start_time": "2023-08-21T12:50:11.422Z"
   },
   {
    "duration": 7,
    "start_time": "2023-08-21T12:50:11.429Z"
   },
   {
    "duration": 6,
    "start_time": "2023-08-21T12:50:11.437Z"
   },
   {
    "duration": 5,
    "start_time": "2023-08-21T12:50:11.444Z"
   },
   {
    "duration": 5,
    "start_time": "2023-08-21T12:50:11.451Z"
   },
   {
    "duration": 6,
    "start_time": "2023-08-21T12:50:11.457Z"
   },
   {
    "duration": 4,
    "start_time": "2023-08-21T12:56:13.059Z"
   },
   {
    "duration": 104,
    "start_time": "2023-08-21T12:56:13.065Z"
   },
   {
    "duration": 14,
    "start_time": "2023-08-21T12:56:13.171Z"
   },
   {
    "duration": 7,
    "start_time": "2023-08-21T12:56:13.187Z"
   },
   {
    "duration": 17,
    "start_time": "2023-08-21T12:56:13.196Z"
   },
   {
    "duration": 13,
    "start_time": "2023-08-21T12:56:13.215Z"
   },
   {
    "duration": 6,
    "start_time": "2023-08-21T12:56:13.230Z"
   },
   {
    "duration": 11,
    "start_time": "2023-08-21T12:56:13.237Z"
   },
   {
    "duration": 9,
    "start_time": "2023-08-21T12:56:13.250Z"
   },
   {
    "duration": 66,
    "start_time": "2023-08-21T12:56:13.261Z"
   },
   {
    "duration": 12,
    "start_time": "2023-08-21T12:56:13.329Z"
   },
   {
    "duration": 12,
    "start_time": "2023-08-21T12:56:13.343Z"
   },
   {
    "duration": 8,
    "start_time": "2023-08-21T12:56:13.356Z"
   },
   {
    "duration": 8,
    "start_time": "2023-08-21T12:56:13.366Z"
   },
   {
    "duration": 13,
    "start_time": "2023-08-21T12:56:13.376Z"
   },
   {
    "duration": 25,
    "start_time": "2023-08-21T12:56:13.391Z"
   },
   {
    "duration": 10,
    "start_time": "2023-08-21T12:56:13.418Z"
   },
   {
    "duration": 11,
    "start_time": "2023-08-21T12:56:13.431Z"
   },
   {
    "duration": 9,
    "start_time": "2023-08-21T12:56:13.443Z"
   },
   {
    "duration": 13,
    "start_time": "2023-08-21T12:56:13.454Z"
   },
   {
    "duration": 9,
    "start_time": "2023-08-21T12:56:13.468Z"
   },
   {
    "duration": 7,
    "start_time": "2023-08-21T12:56:13.514Z"
   },
   {
    "duration": 9,
    "start_time": "2023-08-21T12:56:13.524Z"
   },
   {
    "duration": 4,
    "start_time": "2023-08-21T12:56:13.538Z"
   },
   {
    "duration": 11,
    "start_time": "2023-08-21T12:56:13.543Z"
   },
   {
    "duration": 15,
    "start_time": "2023-08-21T12:56:13.556Z"
   },
   {
    "duration": 37,
    "start_time": "2023-08-21T12:56:13.573Z"
   },
   {
    "duration": 7,
    "start_time": "2023-08-21T12:56:13.619Z"
   },
   {
    "duration": 7,
    "start_time": "2023-08-21T12:56:13.628Z"
   },
   {
    "duration": 6,
    "start_time": "2023-08-21T12:56:13.637Z"
   },
   {
    "duration": 8,
    "start_time": "2023-08-21T12:56:13.645Z"
   },
   {
    "duration": 12,
    "start_time": "2023-08-21T12:56:13.655Z"
   },
   {
    "duration": 8,
    "start_time": "2023-08-21T12:56:13.669Z"
   },
   {
    "duration": 39,
    "start_time": "2023-08-21T12:56:13.678Z"
   },
   {
    "duration": 9,
    "start_time": "2023-08-21T12:56:13.723Z"
   },
   {
    "duration": 324,
    "start_time": "2023-08-21T12:56:13.733Z"
   },
   {
    "duration": 217,
    "start_time": "2023-08-21T12:56:14.059Z"
   },
   {
    "duration": 8,
    "start_time": "2023-08-21T12:56:14.277Z"
   },
   {
    "duration": 25,
    "start_time": "2023-08-21T12:56:14.287Z"
   },
   {
    "duration": 17,
    "start_time": "2023-08-21T12:56:14.315Z"
   },
   {
    "duration": 9,
    "start_time": "2023-08-21T12:56:14.334Z"
   },
   {
    "duration": 20,
    "start_time": "2023-08-21T12:56:14.344Z"
   },
   {
    "duration": 17,
    "start_time": "2023-08-21T12:56:14.365Z"
   },
   {
    "duration": 38,
    "start_time": "2023-08-21T12:56:14.384Z"
   },
   {
    "duration": 14,
    "start_time": "2023-08-21T12:56:14.424Z"
   },
   {
    "duration": 7,
    "start_time": "2023-08-21T12:56:14.440Z"
   },
   {
    "duration": 16,
    "start_time": "2023-08-21T12:56:14.448Z"
   },
   {
    "duration": 8,
    "start_time": "2023-08-21T12:56:14.466Z"
   },
   {
    "duration": 9,
    "start_time": "2023-08-21T12:56:14.476Z"
   },
   {
    "duration": 39,
    "start_time": "2023-08-21T12:56:14.487Z"
   },
   {
    "duration": 6,
    "start_time": "2023-08-21T12:56:14.527Z"
   },
   {
    "duration": 22,
    "start_time": "2023-08-21T12:56:14.535Z"
   },
   {
    "duration": 17,
    "start_time": "2023-08-21T12:56:14.559Z"
   },
   {
    "duration": 203,
    "start_time": "2023-08-21T12:56:14.578Z"
   },
   {
    "duration": 421,
    "start_time": "2023-08-21T12:56:14.783Z"
   },
   {
    "duration": 348,
    "start_time": "2023-08-21T12:56:15.206Z"
   },
   {
    "duration": 251,
    "start_time": "2023-08-21T12:56:15.556Z"
   },
   {
    "duration": 331,
    "start_time": "2023-08-21T12:56:15.808Z"
   },
   {
    "duration": 159,
    "start_time": "2023-08-21T12:56:16.140Z"
   },
   {
    "duration": 324,
    "start_time": "2023-08-21T12:56:16.301Z"
   },
   {
    "duration": 151,
    "start_time": "2023-08-21T12:56:16.627Z"
   },
   {
    "duration": 300,
    "start_time": "2023-08-21T12:56:16.779Z"
   },
   {
    "duration": 177,
    "start_time": "2023-08-21T12:56:17.081Z"
   },
   {
    "duration": 318,
    "start_time": "2023-08-21T12:56:17.260Z"
   },
   {
    "duration": 155,
    "start_time": "2023-08-21T12:56:17.580Z"
   },
   {
    "duration": 297,
    "start_time": "2023-08-21T12:56:17.737Z"
   },
   {
    "duration": 231,
    "start_time": "2023-08-21T12:56:18.036Z"
   },
   {
    "duration": 16,
    "start_time": "2023-08-21T12:56:18.270Z"
   },
   {
    "duration": 45,
    "start_time": "2023-08-21T12:56:18.294Z"
   },
   {
    "duration": 10,
    "start_time": "2023-08-21T12:56:18.341Z"
   },
   {
    "duration": 32,
    "start_time": "2023-08-21T12:56:18.353Z"
   },
   {
    "duration": 644,
    "start_time": "2023-08-21T12:56:18.387Z"
   },
   {
    "duration": 15,
    "start_time": "2023-08-21T12:56:19.033Z"
   },
   {
    "duration": 40,
    "start_time": "2023-08-21T12:56:19.050Z"
   },
   {
    "duration": 24,
    "start_time": "2023-08-21T12:56:19.092Z"
   },
   {
    "duration": 7,
    "start_time": "2023-08-21T12:56:19.119Z"
   },
   {
    "duration": 8,
    "start_time": "2023-08-21T12:56:19.129Z"
   },
   {
    "duration": 11,
    "start_time": "2023-08-21T12:56:19.139Z"
   },
   {
    "duration": 7,
    "start_time": "2023-08-21T12:56:19.152Z"
   },
   {
    "duration": 8,
    "start_time": "2023-08-21T12:56:19.161Z"
   },
   {
    "duration": 11,
    "start_time": "2023-08-21T12:56:19.170Z"
   },
   {
    "duration": 15,
    "start_time": "2023-08-21T12:56:19.182Z"
   },
   {
    "duration": 15,
    "start_time": "2023-08-21T12:56:19.199Z"
   },
   {
    "duration": 16,
    "start_time": "2023-08-21T12:56:19.217Z"
   },
   {
    "duration": 5,
    "start_time": "2023-08-21T12:56:19.235Z"
   },
   {
    "duration": 13,
    "start_time": "2023-08-21T12:56:19.241Z"
   },
   {
    "duration": 77,
    "start_time": "2023-08-21T12:56:19.255Z"
   },
   {
    "duration": 5,
    "start_time": "2023-08-21T12:56:19.333Z"
   },
   {
    "duration": 7,
    "start_time": "2023-08-21T12:56:19.340Z"
   },
   {
    "duration": 26,
    "start_time": "2023-08-21T12:56:19.348Z"
   },
   {
    "duration": 10,
    "start_time": "2023-08-21T12:56:19.376Z"
   },
   {
    "duration": 5,
    "start_time": "2023-08-21T12:56:19.388Z"
   },
   {
    "duration": 26,
    "start_time": "2023-08-21T12:56:19.394Z"
   },
   {
    "duration": 12,
    "start_time": "2023-08-21T12:56:19.423Z"
   },
   {
    "duration": 7,
    "start_time": "2023-08-21T12:56:19.437Z"
   },
   {
    "duration": 5,
    "start_time": "2023-08-21T12:56:19.445Z"
   },
   {
    "duration": 7,
    "start_time": "2023-08-21T12:56:19.452Z"
   },
   {
    "duration": 7,
    "start_time": "2023-08-21T12:56:19.461Z"
   },
   {
    "duration": 10,
    "start_time": "2023-08-21T12:56:19.469Z"
   },
   {
    "duration": 36,
    "start_time": "2023-08-21T12:56:19.481Z"
   },
   {
    "duration": 6,
    "start_time": "2023-08-21T12:56:19.519Z"
   },
   {
    "duration": 4,
    "start_time": "2023-08-21T12:56:19.528Z"
   },
   {
    "duration": 9,
    "start_time": "2023-08-21T12:56:19.534Z"
   },
   {
    "duration": 5,
    "start_time": "2023-08-21T12:56:19.545Z"
   },
   {
    "duration": 5,
    "start_time": "2023-08-21T12:56:19.552Z"
   },
   {
    "duration": 6,
    "start_time": "2023-08-21T12:56:19.559Z"
   },
   {
    "duration": 45,
    "start_time": "2023-08-21T12:56:19.567Z"
   },
   {
    "duration": 12,
    "start_time": "2023-08-21T12:56:19.616Z"
   },
   {
    "duration": 6,
    "start_time": "2023-08-21T12:56:19.630Z"
   },
   {
    "duration": 73,
    "start_time": "2023-08-23T12:41:22.059Z"
   },
   {
    "duration": 1529,
    "start_time": "2023-08-23T12:41:27.717Z"
   },
   {
    "duration": 158,
    "start_time": "2023-08-23T12:41:29.248Z"
   },
   {
    "duration": 29,
    "start_time": "2023-08-23T12:41:29.408Z"
   },
   {
    "duration": 7,
    "start_time": "2023-08-23T12:41:29.443Z"
   },
   {
    "duration": 18,
    "start_time": "2023-08-23T12:41:29.453Z"
   },
   {
    "duration": 18,
    "start_time": "2023-08-23T12:41:29.473Z"
   },
   {
    "duration": 6,
    "start_time": "2023-08-23T12:41:29.493Z"
   },
   {
    "duration": 8,
    "start_time": "2023-08-23T12:41:29.501Z"
   },
   {
    "duration": 6,
    "start_time": "2023-08-23T12:41:29.510Z"
   },
   {
    "duration": 31,
    "start_time": "2023-08-23T12:41:29.518Z"
   },
   {
    "duration": 14,
    "start_time": "2023-08-23T12:41:29.551Z"
   },
   {
    "duration": 11,
    "start_time": "2023-08-23T12:41:29.567Z"
   },
   {
    "duration": 6,
    "start_time": "2023-08-23T12:41:29.580Z"
   },
   {
    "duration": 8,
    "start_time": "2023-08-23T12:41:29.589Z"
   },
   {
    "duration": 34,
    "start_time": "2023-08-23T12:41:29.599Z"
   },
   {
    "duration": 6,
    "start_time": "2023-08-23T12:41:29.634Z"
   },
   {
    "duration": 9,
    "start_time": "2023-08-23T12:41:29.644Z"
   },
   {
    "duration": 10,
    "start_time": "2023-08-23T12:41:29.654Z"
   },
   {
    "duration": 5,
    "start_time": "2023-08-23T12:41:29.666Z"
   },
   {
    "duration": 12,
    "start_time": "2023-08-23T12:41:29.674Z"
   },
   {
    "duration": 39,
    "start_time": "2023-08-23T12:41:29.687Z"
   },
   {
    "duration": 7,
    "start_time": "2023-08-23T12:41:29.735Z"
   },
   {
    "duration": 8,
    "start_time": "2023-08-23T12:41:29.744Z"
   },
   {
    "duration": 3,
    "start_time": "2023-08-23T12:41:29.754Z"
   },
   {
    "duration": 15,
    "start_time": "2023-08-23T12:41:29.758Z"
   },
   {
    "duration": 25,
    "start_time": "2023-08-23T12:41:29.775Z"
   },
   {
    "duration": 6,
    "start_time": "2023-08-23T12:41:29.802Z"
   },
   {
    "duration": 18,
    "start_time": "2023-08-23T12:41:29.810Z"
   },
   {
    "duration": 10,
    "start_time": "2023-08-23T12:41:29.835Z"
   },
   {
    "duration": 12,
    "start_time": "2023-08-23T12:41:29.847Z"
   },
   {
    "duration": 7,
    "start_time": "2023-08-23T12:41:29.861Z"
   },
   {
    "duration": 15,
    "start_time": "2023-08-23T12:41:29.869Z"
   },
   {
    "duration": 9,
    "start_time": "2023-08-23T12:41:29.886Z"
   },
   {
    "duration": 18,
    "start_time": "2023-08-23T12:41:29.897Z"
   },
   {
    "duration": 16,
    "start_time": "2023-08-23T12:41:29.917Z"
   },
   {
    "duration": 305,
    "start_time": "2023-08-23T12:41:29.940Z"
   },
   {
    "duration": 235,
    "start_time": "2023-08-23T12:41:30.247Z"
   },
   {
    "duration": 8,
    "start_time": "2023-08-23T12:41:30.485Z"
   },
   {
    "duration": 73,
    "start_time": "2023-08-23T12:41:30.495Z"
   },
   {
    "duration": 50,
    "start_time": "2023-08-23T12:41:30.570Z"
   },
   {
    "duration": 64,
    "start_time": "2023-08-23T12:41:30.630Z"
   },
   {
    "duration": 46,
    "start_time": "2023-08-23T12:41:30.696Z"
   },
   {
    "duration": 35,
    "start_time": "2023-08-23T12:41:30.744Z"
   },
   {
    "duration": 69,
    "start_time": "2023-08-23T12:41:30.781Z"
   },
   {
    "duration": 75,
    "start_time": "2023-08-23T12:41:30.852Z"
   },
   {
    "duration": 65,
    "start_time": "2023-08-23T12:41:30.929Z"
   },
   {
    "duration": 84,
    "start_time": "2023-08-23T12:41:30.995Z"
   },
   {
    "duration": 105,
    "start_time": "2023-08-23T12:41:31.081Z"
   },
   {
    "duration": 84,
    "start_time": "2023-08-23T12:41:31.189Z"
   },
   {
    "duration": 57,
    "start_time": "2023-08-23T12:41:31.275Z"
   },
   {
    "duration": 57,
    "start_time": "2023-08-23T12:41:31.334Z"
   },
   {
    "duration": 104,
    "start_time": "2023-08-23T12:41:31.393Z"
   },
   {
    "duration": 148,
    "start_time": "2023-08-23T12:41:31.499Z"
   },
   {
    "duration": 310,
    "start_time": "2023-08-23T12:41:31.649Z"
   },
   {
    "duration": 525,
    "start_time": "2023-08-23T12:41:31.961Z"
   },
   {
    "duration": 351,
    "start_time": "2023-08-23T12:41:32.489Z"
   },
   {
    "duration": 170,
    "start_time": "2023-08-23T12:41:32.846Z"
   },
   {
    "duration": 297,
    "start_time": "2023-08-23T12:41:33.019Z"
   },
   {
    "duration": 135,
    "start_time": "2023-08-23T12:41:33.325Z"
   },
   {
    "duration": 291,
    "start_time": "2023-08-23T12:41:33.461Z"
   },
   {
    "duration": 164,
    "start_time": "2023-08-23T12:41:33.754Z"
   },
   {
    "duration": 290,
    "start_time": "2023-08-23T12:41:33.919Z"
   },
   {
    "duration": 150,
    "start_time": "2023-08-23T12:41:34.211Z"
   },
   {
    "duration": 305,
    "start_time": "2023-08-23T12:41:34.363Z"
   },
   {
    "duration": 165,
    "start_time": "2023-08-23T12:41:34.670Z"
   },
   {
    "duration": 390,
    "start_time": "2023-08-23T12:41:34.844Z"
   },
   {
    "duration": 212,
    "start_time": "2023-08-23T12:41:35.235Z"
   },
   {
    "duration": 16,
    "start_time": "2023-08-23T12:41:35.449Z"
   },
   {
    "duration": 137,
    "start_time": "2023-08-23T12:41:35.467Z"
   },
   {
    "duration": 33,
    "start_time": "2023-08-23T12:41:35.606Z"
   },
   {
    "duration": 34,
    "start_time": "2023-08-23T12:41:35.641Z"
   },
   {
    "duration": 598,
    "start_time": "2023-08-23T12:41:35.676Z"
   },
   {
    "duration": 10,
    "start_time": "2023-08-23T12:41:36.276Z"
   },
   {
    "duration": 31,
    "start_time": "2023-08-23T12:41:36.287Z"
   },
   {
    "duration": 40,
    "start_time": "2023-08-23T12:41:36.319Z"
   },
   {
    "duration": 43,
    "start_time": "2023-08-23T12:41:36.361Z"
   },
   {
    "duration": 44,
    "start_time": "2023-08-23T12:41:36.405Z"
   },
   {
    "duration": 19,
    "start_time": "2023-08-23T12:41:36.451Z"
   },
   {
    "duration": 13,
    "start_time": "2023-08-23T12:41:36.472Z"
   },
   {
    "duration": 12,
    "start_time": "2023-08-23T12:41:36.487Z"
   },
   {
    "duration": 9,
    "start_time": "2023-08-23T12:41:36.501Z"
   },
   {
    "duration": 6,
    "start_time": "2023-08-23T12:41:36.511Z"
   },
   {
    "duration": 10,
    "start_time": "2023-08-23T12:41:36.519Z"
   },
   {
    "duration": 20,
    "start_time": "2023-08-23T12:41:36.533Z"
   },
   {
    "duration": 35,
    "start_time": "2023-08-23T12:41:36.555Z"
   },
   {
    "duration": 56,
    "start_time": "2023-08-23T12:41:36.591Z"
   },
   {
    "duration": 56,
    "start_time": "2023-08-23T12:41:36.648Z"
   },
   {
    "duration": 4,
    "start_time": "2023-08-23T12:41:36.705Z"
   },
   {
    "duration": 52,
    "start_time": "2023-08-23T12:41:36.711Z"
   },
   {
    "duration": 17,
    "start_time": "2023-08-23T12:41:36.764Z"
   },
   {
    "duration": 9,
    "start_time": "2023-08-23T12:41:36.783Z"
   },
   {
    "duration": 38,
    "start_time": "2023-08-23T12:41:36.794Z"
   },
   {
    "duration": 9,
    "start_time": "2023-08-23T12:41:36.834Z"
   },
   {
    "duration": 6,
    "start_time": "2023-08-23T12:41:36.845Z"
   },
   {
    "duration": 17,
    "start_time": "2023-08-23T12:41:36.853Z"
   },
   {
    "duration": 9,
    "start_time": "2023-08-23T12:41:36.872Z"
   },
   {
    "duration": 12,
    "start_time": "2023-08-23T12:41:36.883Z"
   },
   {
    "duration": 12,
    "start_time": "2023-08-23T12:41:36.897Z"
   },
   {
    "duration": 9,
    "start_time": "2023-08-23T12:41:36.911Z"
   },
   {
    "duration": 20,
    "start_time": "2023-08-23T12:41:36.922Z"
   },
   {
    "duration": 17,
    "start_time": "2023-08-23T12:41:36.944Z"
   },
   {
    "duration": 13,
    "start_time": "2023-08-23T12:41:36.963Z"
   },
   {
    "duration": 15,
    "start_time": "2023-08-23T12:41:36.977Z"
   },
   {
    "duration": 19,
    "start_time": "2023-08-23T12:41:36.994Z"
   },
   {
    "duration": 6,
    "start_time": "2023-08-23T12:41:37.015Z"
   },
   {
    "duration": 19,
    "start_time": "2023-08-23T12:41:37.022Z"
   },
   {
    "duration": 6,
    "start_time": "2023-08-23T12:41:37.043Z"
   },
   {
    "duration": 6,
    "start_time": "2023-08-23T12:41:37.051Z"
   },
   {
    "duration": 21,
    "start_time": "2023-08-23T12:41:37.059Z"
   },
   {
    "duration": 5,
    "start_time": "2023-08-23T12:41:37.082Z"
   },
   {
    "duration": 16,
    "start_time": "2023-08-23T12:42:22.561Z"
   },
   {
    "duration": 16,
    "start_time": "2023-08-23T12:42:32.171Z"
   },
   {
    "duration": 19,
    "start_time": "2023-08-23T12:42:44.338Z"
   },
   {
    "duration": 15,
    "start_time": "2023-08-23T12:42:53.775Z"
   },
   {
    "duration": 9,
    "start_time": "2023-08-23T12:43:03.309Z"
   },
   {
    "duration": 14,
    "start_time": "2023-08-23T12:43:11.866Z"
   },
   {
    "duration": 23,
    "start_time": "2023-08-23T12:43:20.360Z"
   },
   {
    "duration": 15,
    "start_time": "2023-08-23T12:43:29.463Z"
   },
   {
    "duration": 17,
    "start_time": "2023-08-23T12:43:39.344Z"
   },
   {
    "duration": 7,
    "start_time": "2023-08-23T12:50:23.465Z"
   },
   {
    "duration": 15,
    "start_time": "2023-08-23T12:50:31.374Z"
   },
   {
    "duration": 8,
    "start_time": "2023-08-23T12:53:06.776Z"
   },
   {
    "duration": 22,
    "start_time": "2023-08-23T12:54:23.633Z"
   },
   {
    "duration": 75,
    "start_time": "2023-08-23T13:00:36.115Z"
   },
   {
    "duration": 16,
    "start_time": "2023-08-23T13:01:03.373Z"
   },
   {
    "duration": 14,
    "start_time": "2023-08-23T13:02:07.156Z"
   },
   {
    "duration": 18,
    "start_time": "2023-08-23T13:02:42.117Z"
   },
   {
    "duration": 19,
    "start_time": "2023-08-23T13:04:12.132Z"
   },
   {
    "duration": 10,
    "start_time": "2023-08-23T13:04:55.501Z"
   },
   {
    "duration": 16,
    "start_time": "2023-08-23T13:06:09.729Z"
   },
   {
    "duration": 32,
    "start_time": "2023-08-23T13:06:14.556Z"
   },
   {
    "duration": 13,
    "start_time": "2023-08-23T13:07:15.149Z"
   },
   {
    "duration": 13,
    "start_time": "2023-08-23T13:08:09.657Z"
   },
   {
    "duration": 14,
    "start_time": "2023-08-23T13:08:30.918Z"
   },
   {
    "duration": 15,
    "start_time": "2023-08-23T13:08:45.452Z"
   },
   {
    "duration": 30,
    "start_time": "2023-08-23T13:13:21.222Z"
   },
   {
    "duration": 35,
    "start_time": "2023-08-23T13:13:26.241Z"
   },
   {
    "duration": 6,
    "start_time": "2023-08-23T13:13:54.143Z"
   },
   {
    "duration": 26,
    "start_time": "2023-08-23T13:14:05.135Z"
   },
   {
    "duration": 12,
    "start_time": "2023-08-23T13:14:56.640Z"
   },
   {
    "duration": 24,
    "start_time": "2023-08-23T13:15:45.673Z"
   },
   {
    "duration": 6,
    "start_time": "2023-08-23T13:17:05.648Z"
   },
   {
    "duration": 7,
    "start_time": "2023-08-23T13:17:27.145Z"
   },
   {
    "duration": 6,
    "start_time": "2023-08-23T13:17:37.314Z"
   },
   {
    "duration": 9,
    "start_time": "2023-08-23T13:17:42.618Z"
   },
   {
    "duration": 13,
    "start_time": "2023-08-23T13:17:46.419Z"
   },
   {
    "duration": 7,
    "start_time": "2023-08-23T13:17:50.809Z"
   },
   {
    "duration": 6,
    "start_time": "2023-08-23T13:17:54.664Z"
   },
   {
    "duration": 7,
    "start_time": "2023-08-23T13:17:58.843Z"
   },
   {
    "duration": 8,
    "start_time": "2023-08-23T13:18:03.418Z"
   },
   {
    "duration": 8,
    "start_time": "2023-08-23T13:18:07.465Z"
   },
   {
    "duration": 9,
    "start_time": "2023-08-23T13:20:18.654Z"
   },
   {
    "duration": 336,
    "start_time": "2023-08-23T13:20:42.565Z"
   },
   {
    "duration": 7,
    "start_time": "2023-08-23T13:20:47.162Z"
   },
   {
    "duration": 9,
    "start_time": "2023-08-23T13:20:51.520Z"
   },
   {
    "duration": 127,
    "start_time": "2023-08-23T13:20:55.657Z"
   },
   {
    "duration": 6,
    "start_time": "2023-08-23T13:21:00.165Z"
   },
   {
    "duration": 22,
    "start_time": "2023-08-23T13:21:20.869Z"
   },
   {
    "duration": 8,
    "start_time": "2023-08-23T13:22:58.240Z"
   },
   {
    "duration": 16,
    "start_time": "2023-08-23T13:23:01.176Z"
   },
   {
    "duration": 8,
    "start_time": "2023-08-23T13:23:06.020Z"
   },
   {
    "duration": 51,
    "start_time": "2023-08-23T13:23:07.842Z"
   },
   {
    "duration": 5,
    "start_time": "2023-08-23T13:23:11.147Z"
   },
   {
    "duration": 22,
    "start_time": "2023-08-23T13:23:13.420Z"
   },
   {
    "duration": 8,
    "start_time": "2023-08-23T13:24:40.860Z"
   },
   {
    "duration": 6,
    "start_time": "2023-08-23T13:24:45.351Z"
   },
   {
    "duration": 62,
    "start_time": "2023-08-23T13:24:47.649Z"
   },
   {
    "duration": 8,
    "start_time": "2023-08-23T13:24:49.006Z"
   },
   {
    "duration": 9,
    "start_time": "2023-08-23T13:25:33.223Z"
   },
   {
    "duration": 3,
    "start_time": "2023-08-23T13:25:36.707Z"
   },
   {
    "duration": 54,
    "start_time": "2023-08-23T13:25:38.153Z"
   },
   {
    "duration": 11,
    "start_time": "2023-08-23T13:25:40.011Z"
   },
   {
    "duration": 5,
    "start_time": "2023-08-23T13:25:42.214Z"
   },
   {
    "duration": 9,
    "start_time": "2023-08-23T13:26:08.272Z"
   },
   {
    "duration": 9,
    "start_time": "2023-08-23T13:26:09.468Z"
   },
   {
    "duration": 6,
    "start_time": "2023-08-23T13:26:15.470Z"
   },
   {
    "duration": 6,
    "start_time": "2023-08-23T13:26:15.818Z"
   },
   {
    "duration": 17,
    "start_time": "2023-08-23T13:26:17.304Z"
   },
   {
    "duration": 7,
    "start_time": "2023-08-23T13:26:49.055Z"
   },
   {
    "duration": 4,
    "start_time": "2023-08-23T13:26:53.310Z"
   },
   {
    "duration": 71,
    "start_time": "2023-08-23T13:26:54.442Z"
   },
   {
    "duration": 9,
    "start_time": "2023-08-23T13:26:58.418Z"
   },
   {
    "duration": 26,
    "start_time": "2023-08-23T13:27:05.452Z"
   },
   {
    "duration": 19,
    "start_time": "2023-08-23T13:27:49.740Z"
   },
   {
    "duration": 22,
    "start_time": "2023-08-23T13:28:08.622Z"
   },
   {
    "duration": 4,
    "start_time": "2023-08-23T13:30:02.265Z"
   },
   {
    "duration": 2,
    "start_time": "2023-08-23T13:33:13.054Z"
   },
   {
    "duration": 2,
    "start_time": "2023-08-23T13:34:52.064Z"
   },
   {
    "duration": 69,
    "start_time": "2023-08-23T13:35:22.100Z"
   },
   {
    "duration": 24,
    "start_time": "2023-08-23T13:35:27.071Z"
   },
   {
    "duration": 4,
    "start_time": "2023-08-23T13:35:47.655Z"
   },
   {
    "duration": 11,
    "start_time": "2023-08-23T13:35:57.051Z"
   },
   {
    "duration": 3,
    "start_time": "2023-08-23T13:37:35.806Z"
   },
   {
    "duration": 38,
    "start_time": "2023-08-23T13:37:46.239Z"
   },
   {
    "duration": 4,
    "start_time": "2023-08-23T13:37:48.208Z"
   },
   {
    "duration": 22,
    "start_time": "2023-08-23T13:37:52.398Z"
   },
   {
    "duration": 3,
    "start_time": "2023-08-23T13:38:50.054Z"
   },
   {
    "duration": 4,
    "start_time": "2023-08-23T13:40:27.501Z"
   },
   {
    "duration": 5,
    "start_time": "2023-08-23T13:40:28.542Z"
   },
   {
    "duration": 13,
    "start_time": "2023-08-23T13:40:29.321Z"
   },
   {
    "duration": 4,
    "start_time": "2023-08-23T13:40:30.044Z"
   },
   {
    "duration": 3,
    "start_time": "2023-08-23T13:40:30.753Z"
   },
   {
    "duration": 3,
    "start_time": "2023-08-23T13:43:31.804Z"
   },
   {
    "duration": 3,
    "start_time": "2023-08-23T13:44:08.303Z"
   },
   {
    "duration": 47,
    "start_time": "2023-08-23T13:45:12.775Z"
   },
   {
    "duration": 28,
    "start_time": "2023-08-23T13:45:16.151Z"
   },
   {
    "duration": 3,
    "start_time": "2023-08-23T13:45:48.555Z"
   },
   {
    "duration": 28,
    "start_time": "2023-08-23T13:46:32.707Z"
   },
   {
    "duration": 27,
    "start_time": "2023-08-23T13:46:35.138Z"
   },
   {
    "duration": 3,
    "start_time": "2023-08-23T13:46:58.637Z"
   },
   {
    "duration": 47,
    "start_time": "2023-08-23T13:47:16.698Z"
   },
   {
    "duration": 3,
    "start_time": "2023-08-23T13:47:34.894Z"
   },
   {
    "duration": 42,
    "start_time": "2023-08-23T13:48:13.730Z"
   },
   {
    "duration": 3,
    "start_time": "2023-08-23T13:48:29.416Z"
   },
   {
    "duration": 11,
    "start_time": "2023-08-23T13:49:07.346Z"
   },
   {
    "duration": 35,
    "start_time": "2023-08-23T13:49:10.160Z"
   },
   {
    "duration": 16,
    "start_time": "2023-08-23T13:53:39.554Z"
   },
   {
    "duration": 15,
    "start_time": "2023-08-23T13:53:42.521Z"
   },
   {
    "duration": 7,
    "start_time": "2023-08-23T13:53:45.747Z"
   },
   {
    "duration": 192,
    "start_time": "2023-08-23T13:53:45.755Z"
   },
   {
    "duration": 22,
    "start_time": "2023-08-23T13:53:45.949Z"
   },
   {
    "duration": 25,
    "start_time": "2023-08-23T13:53:45.975Z"
   },
   {
    "duration": 58,
    "start_time": "2023-08-23T13:53:46.003Z"
   },
   {
    "duration": 11,
    "start_time": "2023-08-23T13:53:46.062Z"
   },
   {
    "duration": 15,
    "start_time": "2023-08-23T13:53:46.075Z"
   },
   {
    "duration": 19,
    "start_time": "2023-08-23T13:53:46.092Z"
   },
   {
    "duration": 28,
    "start_time": "2023-08-23T13:53:46.113Z"
   },
   {
    "duration": 37,
    "start_time": "2023-08-23T13:53:46.143Z"
   },
   {
    "duration": 18,
    "start_time": "2023-08-23T13:53:46.183Z"
   },
   {
    "duration": 50,
    "start_time": "2023-08-23T13:53:46.203Z"
   },
   {
    "duration": 11,
    "start_time": "2023-08-23T13:53:46.259Z"
   },
   {
    "duration": 23,
    "start_time": "2023-08-23T13:53:46.273Z"
   },
   {
    "duration": 30,
    "start_time": "2023-08-23T13:53:46.298Z"
   },
   {
    "duration": 19,
    "start_time": "2023-08-23T13:53:46.329Z"
   },
   {
    "duration": 16,
    "start_time": "2023-08-23T13:53:46.350Z"
   },
   {
    "duration": 16,
    "start_time": "2023-08-23T13:53:46.368Z"
   },
   {
    "duration": 13,
    "start_time": "2023-08-23T13:53:46.386Z"
   },
   {
    "duration": 15,
    "start_time": "2023-08-23T13:53:46.401Z"
   },
   {
    "duration": 44,
    "start_time": "2023-08-23T13:53:46.418Z"
   },
   {
    "duration": 18,
    "start_time": "2023-08-23T13:53:46.465Z"
   },
   {
    "duration": 29,
    "start_time": "2023-08-23T13:53:46.484Z"
   },
   {
    "duration": 5,
    "start_time": "2023-08-23T13:53:46.514Z"
   },
   {
    "duration": 35,
    "start_time": "2023-08-23T13:53:46.520Z"
   },
   {
    "duration": 37,
    "start_time": "2023-08-23T13:53:46.557Z"
   },
   {
    "duration": 18,
    "start_time": "2023-08-23T13:53:46.595Z"
   },
   {
    "duration": 22,
    "start_time": "2023-08-23T13:53:46.615Z"
   },
   {
    "duration": 30,
    "start_time": "2023-08-23T13:53:46.642Z"
   },
   {
    "duration": 35,
    "start_time": "2023-08-23T13:53:46.674Z"
   },
   {
    "duration": 10,
    "start_time": "2023-08-23T13:53:46.711Z"
   },
   {
    "duration": 32,
    "start_time": "2023-08-23T13:53:46.723Z"
   },
   {
    "duration": 6,
    "start_time": "2023-08-23T13:53:46.757Z"
   },
   {
    "duration": 19,
    "start_time": "2023-08-23T13:53:46.764Z"
   },
   {
    "duration": 11,
    "start_time": "2023-08-23T13:53:46.785Z"
   },
   {
    "duration": 353,
    "start_time": "2023-08-23T13:53:46.798Z"
   },
   {
    "duration": 218,
    "start_time": "2023-08-23T13:53:47.155Z"
   },
   {
    "duration": 8,
    "start_time": "2023-08-23T13:53:47.375Z"
   },
   {
    "duration": 51,
    "start_time": "2023-08-23T13:53:47.385Z"
   },
   {
    "duration": 24,
    "start_time": "2023-08-23T13:53:47.442Z"
   },
   {
    "duration": 34,
    "start_time": "2023-08-23T13:53:47.468Z"
   },
   {
    "duration": 48,
    "start_time": "2023-08-23T13:53:47.504Z"
   },
   {
    "duration": 34,
    "start_time": "2023-08-23T13:53:47.554Z"
   },
   {
    "duration": 38,
    "start_time": "2023-08-23T13:53:47.590Z"
   },
   {
    "duration": 31,
    "start_time": "2023-08-23T13:53:47.629Z"
   },
   {
    "duration": 36,
    "start_time": "2023-08-23T13:53:47.662Z"
   },
   {
    "duration": 54,
    "start_time": "2023-08-23T13:53:47.699Z"
   },
   {
    "duration": 28,
    "start_time": "2023-08-23T13:53:47.755Z"
   },
   {
    "duration": 23,
    "start_time": "2023-08-23T13:53:47.786Z"
   },
   {
    "duration": 63,
    "start_time": "2023-08-23T13:53:47.810Z"
   },
   {
    "duration": 36,
    "start_time": "2023-08-23T13:53:47.874Z"
   },
   {
    "duration": 46,
    "start_time": "2023-08-23T13:53:47.911Z"
   },
   {
    "duration": 28,
    "start_time": "2023-08-23T13:53:47.959Z"
   },
   {
    "duration": 198,
    "start_time": "2023-08-23T13:53:47.989Z"
   },
   {
    "duration": 421,
    "start_time": "2023-08-23T13:53:48.189Z"
   },
   {
    "duration": 336,
    "start_time": "2023-08-23T13:53:48.612Z"
   },
   {
    "duration": 167,
    "start_time": "2023-08-23T13:53:48.950Z"
   },
   {
    "duration": 435,
    "start_time": "2023-08-23T13:53:49.119Z"
   },
   {
    "duration": 137,
    "start_time": "2023-08-23T13:53:49.556Z"
   },
   {
    "duration": 324,
    "start_time": "2023-08-23T13:53:49.694Z"
   },
   {
    "duration": 173,
    "start_time": "2023-08-23T13:53:50.020Z"
   },
   {
    "duration": 324,
    "start_time": "2023-08-23T13:53:50.195Z"
   },
   {
    "duration": 157,
    "start_time": "2023-08-23T13:53:50.523Z"
   },
   {
    "duration": 309,
    "start_time": "2023-08-23T13:53:50.681Z"
   },
   {
    "duration": 154,
    "start_time": "2023-08-23T13:53:50.992Z"
   },
   {
    "duration": 289,
    "start_time": "2023-08-23T13:53:51.152Z"
   },
   {
    "duration": 222,
    "start_time": "2023-08-23T13:53:51.443Z"
   },
   {
    "duration": 15,
    "start_time": "2023-08-23T13:53:51.667Z"
   },
   {
    "duration": 92,
    "start_time": "2023-08-23T13:53:51.684Z"
   },
   {
    "duration": 32,
    "start_time": "2023-08-23T13:53:51.778Z"
   },
   {
    "duration": 65,
    "start_time": "2023-08-23T13:53:51.812Z"
   },
   {
    "duration": 509,
    "start_time": "2023-08-23T13:53:51.879Z"
   },
   {
    "duration": 10,
    "start_time": "2023-08-23T13:53:52.390Z"
   },
   {
    "duration": 54,
    "start_time": "2023-08-23T13:53:52.402Z"
   },
   {
    "duration": 33,
    "start_time": "2023-08-23T13:53:52.458Z"
   },
   {
    "duration": 6,
    "start_time": "2023-08-23T13:53:52.493Z"
   },
   {
    "duration": 7,
    "start_time": "2023-08-23T13:53:52.501Z"
   },
   {
    "duration": 32,
    "start_time": "2023-08-23T13:53:52.510Z"
   },
   {
    "duration": 16,
    "start_time": "2023-08-23T13:53:52.547Z"
   },
   {
    "duration": 40,
    "start_time": "2023-08-23T13:53:52.564Z"
   },
   {
    "duration": 28,
    "start_time": "2023-08-23T13:53:52.606Z"
   },
   {
    "duration": 25,
    "start_time": "2023-08-23T13:53:52.639Z"
   },
   {
    "duration": 6,
    "start_time": "2023-08-23T13:53:52.673Z"
   },
   {
    "duration": 22,
    "start_time": "2023-08-23T13:53:52.681Z"
   },
   {
    "duration": 16,
    "start_time": "2023-08-23T13:53:52.705Z"
   },
   {
    "duration": 36,
    "start_time": "2023-08-23T13:53:52.722Z"
   },
   {
    "duration": 6,
    "start_time": "2023-08-23T13:53:52.759Z"
   },
   {
    "duration": 35,
    "start_time": "2023-08-23T13:53:52.766Z"
   },
   {
    "duration": 7,
    "start_time": "2023-08-23T13:53:52.803Z"
   },
   {
    "duration": 35,
    "start_time": "2023-08-23T13:53:52.811Z"
   },
   {
    "duration": 6,
    "start_time": "2023-08-23T13:53:52.848Z"
   },
   {
    "duration": 50,
    "start_time": "2023-08-23T13:53:52.856Z"
   },
   {
    "duration": 24,
    "start_time": "2023-08-23T13:53:52.908Z"
   },
   {
    "duration": 45,
    "start_time": "2023-08-23T13:53:52.935Z"
   },
   {
    "duration": 12,
    "start_time": "2023-08-23T13:53:52.982Z"
   },
   {
    "duration": 82,
    "start_time": "2023-08-23T13:53:52.996Z"
   },
   {
    "duration": 4,
    "start_time": "2023-08-23T13:53:53.080Z"
   },
   {
    "duration": 13,
    "start_time": "2023-08-23T13:53:53.086Z"
   },
   {
    "duration": 47,
    "start_time": "2023-08-23T13:53:53.101Z"
   },
   {
    "duration": 44,
    "start_time": "2023-08-23T13:53:53.149Z"
   },
   {
    "duration": 22,
    "start_time": "2023-08-23T13:53:53.194Z"
   },
   {
    "duration": 76,
    "start_time": "2023-08-23T13:53:53.218Z"
   },
   {
    "duration": 113,
    "start_time": "2023-08-23T13:53:53.296Z"
   },
   {
    "duration": 4,
    "start_time": "2023-08-23T13:53:53.410Z"
   },
   {
    "duration": 24,
    "start_time": "2023-08-23T13:53:53.416Z"
   },
   {
    "duration": 56,
    "start_time": "2023-08-23T13:53:53.444Z"
   },
   {
    "duration": 3,
    "start_time": "2023-08-23T13:53:53.502Z"
   },
   {
    "duration": 32,
    "start_time": "2023-08-23T13:53:53.507Z"
   },
   {
    "duration": 31,
    "start_time": "2023-08-23T13:53:53.540Z"
   },
   {
    "duration": 16,
    "start_time": "2023-08-23T13:53:53.573Z"
   },
   {
    "duration": 16,
    "start_time": "2023-08-23T13:53:53.590Z"
   },
   {
    "duration": 64,
    "start_time": "2023-08-23T13:53:53.608Z"
   },
   {
    "duration": 3,
    "start_time": "2023-08-23T13:53:53.674Z"
   },
   {
    "duration": 16,
    "start_time": "2023-08-23T13:53:53.679Z"
   },
   {
    "duration": 59,
    "start_time": "2023-08-23T13:53:53.696Z"
   },
   {
    "duration": 3,
    "start_time": "2023-08-23T13:53:53.758Z"
   },
   {
    "duration": 21,
    "start_time": "2023-08-23T13:53:53.762Z"
   },
   {
    "duration": 10,
    "start_time": "2023-08-23T13:53:53.784Z"
   },
   {
    "duration": 26,
    "start_time": "2023-08-23T13:53:53.796Z"
   },
   {
    "duration": 19,
    "start_time": "2023-08-23T13:53:53.823Z"
   },
   {
    "duration": 18,
    "start_time": "2023-08-23T13:53:53.851Z"
   },
   {
    "duration": 15,
    "start_time": "2023-08-23T13:53:53.870Z"
   },
   {
    "duration": 9,
    "start_time": "2023-08-23T13:53:53.887Z"
   },
   {
    "duration": 12,
    "start_time": "2023-08-23T13:53:53.897Z"
   },
   {
    "duration": 11,
    "start_time": "2023-08-23T13:53:53.910Z"
   },
   {
    "duration": 13,
    "start_time": "2023-08-23T13:53:53.923Z"
   },
   {
    "duration": 12,
    "start_time": "2023-08-23T13:53:53.939Z"
   },
   {
    "duration": 11,
    "start_time": "2023-08-23T13:53:53.952Z"
   },
   {
    "duration": 12,
    "start_time": "2023-08-23T13:53:53.965Z"
   },
   {
    "duration": 26,
    "start_time": "2023-08-23T13:53:53.978Z"
   },
   {
    "duration": 37,
    "start_time": "2023-08-23T13:53:54.006Z"
   },
   {
    "duration": 6,
    "start_time": "2023-08-23T13:53:54.045Z"
   },
   {
    "duration": 9,
    "start_time": "2023-08-23T13:53:54.057Z"
   },
   {
    "duration": 33,
    "start_time": "2023-08-23T13:53:54.068Z"
   },
   {
    "duration": 6,
    "start_time": "2023-08-23T13:53:54.103Z"
   },
   {
    "duration": 27,
    "start_time": "2023-08-23T13:53:54.111Z"
   },
   {
    "duration": 9,
    "start_time": "2023-08-23T13:53:54.143Z"
   },
   {
    "duration": 5,
    "start_time": "2023-08-23T13:53:54.154Z"
   },
   {
    "duration": 16,
    "start_time": "2023-08-23T13:53:54.161Z"
   },
   {
    "duration": 10,
    "start_time": "2023-08-23T13:53:54.178Z"
   },
   {
    "duration": 1636,
    "start_time": "2023-08-24T18:06:44.222Z"
   },
   {
    "duration": 157,
    "start_time": "2023-08-24T18:06:45.860Z"
   },
   {
    "duration": 19,
    "start_time": "2023-08-24T18:06:46.018Z"
   },
   {
    "duration": 58,
    "start_time": "2023-08-24T18:06:46.038Z"
   },
   {
    "duration": 17,
    "start_time": "2023-08-24T18:06:46.102Z"
   },
   {
    "duration": 18,
    "start_time": "2023-08-24T18:06:46.121Z"
   },
   {
    "duration": 26,
    "start_time": "2023-08-24T18:06:46.141Z"
   },
   {
    "duration": 29,
    "start_time": "2023-08-24T18:06:46.169Z"
   },
   {
    "duration": 8,
    "start_time": "2023-08-24T18:06:46.204Z"
   },
   {
    "duration": 18,
    "start_time": "2023-08-24T18:06:46.214Z"
   },
   {
    "duration": 34,
    "start_time": "2023-08-24T18:06:46.234Z"
   },
   {
    "duration": 45,
    "start_time": "2023-08-24T18:06:46.270Z"
   },
   {
    "duration": 5,
    "start_time": "2023-08-24T18:06:46.317Z"
   },
   {
    "duration": 25,
    "start_time": "2023-08-24T18:06:46.325Z"
   },
   {
    "duration": 24,
    "start_time": "2023-08-24T18:06:46.351Z"
   },
   {
    "duration": 28,
    "start_time": "2023-08-24T18:06:46.377Z"
   },
   {
    "duration": 38,
    "start_time": "2023-08-24T18:06:46.407Z"
   },
   {
    "duration": 17,
    "start_time": "2023-08-24T18:06:46.447Z"
   },
   {
    "duration": 24,
    "start_time": "2023-08-24T18:06:46.466Z"
   },
   {
    "duration": 23,
    "start_time": "2023-08-24T18:06:46.492Z"
   },
   {
    "duration": 36,
    "start_time": "2023-08-24T18:06:46.517Z"
   },
   {
    "duration": 19,
    "start_time": "2023-08-24T18:06:46.558Z"
   },
   {
    "duration": 33,
    "start_time": "2023-08-24T18:06:46.579Z"
   },
   {
    "duration": 14,
    "start_time": "2023-08-24T18:06:46.614Z"
   },
   {
    "duration": 37,
    "start_time": "2023-08-24T18:06:46.630Z"
   },
   {
    "duration": 46,
    "start_time": "2023-08-24T18:06:46.669Z"
   },
   {
    "duration": 34,
    "start_time": "2023-08-24T18:06:46.717Z"
   },
   {
    "duration": 25,
    "start_time": "2023-08-24T18:06:46.753Z"
   },
   {
    "duration": 39,
    "start_time": "2023-08-24T18:06:46.780Z"
   },
   {
    "duration": 33,
    "start_time": "2023-08-24T18:06:46.821Z"
   },
   {
    "duration": 19,
    "start_time": "2023-08-24T18:06:46.856Z"
   },
   {
    "duration": 40,
    "start_time": "2023-08-24T18:06:46.877Z"
   },
   {
    "duration": 40,
    "start_time": "2023-08-24T18:06:46.919Z"
   },
   {
    "duration": 36,
    "start_time": "2023-08-24T18:06:46.963Z"
   },
   {
    "duration": 9,
    "start_time": "2023-08-24T18:06:47.001Z"
   },
   {
    "duration": 367,
    "start_time": "2023-08-24T18:06:47.011Z"
   },
   {
    "duration": 230,
    "start_time": "2023-08-24T18:06:47.380Z"
   },
   {
    "duration": 8,
    "start_time": "2023-08-24T18:06:47.612Z"
   },
   {
    "duration": 18,
    "start_time": "2023-08-24T18:06:47.622Z"
   },
   {
    "duration": 33,
    "start_time": "2023-08-24T18:06:47.642Z"
   },
   {
    "duration": 33,
    "start_time": "2023-08-24T18:06:47.681Z"
   },
   {
    "duration": 26,
    "start_time": "2023-08-24T18:06:47.715Z"
   },
   {
    "duration": 17,
    "start_time": "2023-08-24T18:06:47.743Z"
   },
   {
    "duration": 10,
    "start_time": "2023-08-24T18:06:47.762Z"
   },
   {
    "duration": 14,
    "start_time": "2023-08-24T18:06:47.774Z"
   },
   {
    "duration": 16,
    "start_time": "2023-08-24T18:06:47.791Z"
   },
   {
    "duration": 9,
    "start_time": "2023-08-24T18:06:47.809Z"
   },
   {
    "duration": 8,
    "start_time": "2023-08-24T18:06:47.820Z"
   },
   {
    "duration": 6,
    "start_time": "2023-08-24T18:06:47.830Z"
   },
   {
    "duration": 26,
    "start_time": "2023-08-24T18:06:47.838Z"
   },
   {
    "duration": 6,
    "start_time": "2023-08-24T18:06:47.866Z"
   },
   {
    "duration": 35,
    "start_time": "2023-08-24T18:06:47.873Z"
   },
   {
    "duration": 14,
    "start_time": "2023-08-24T18:06:47.910Z"
   },
   {
    "duration": 186,
    "start_time": "2023-08-24T18:06:47.926Z"
   },
   {
    "duration": 426,
    "start_time": "2023-08-24T18:06:48.114Z"
   },
   {
    "duration": 383,
    "start_time": "2023-08-24T18:06:48.542Z"
   },
   {
    "duration": 162,
    "start_time": "2023-08-24T18:06:48.926Z"
   },
   {
    "duration": 331,
    "start_time": "2023-08-24T18:06:49.090Z"
   },
   {
    "duration": 144,
    "start_time": "2023-08-24T18:06:49.423Z"
   },
   {
    "duration": 296,
    "start_time": "2023-08-24T18:06:49.569Z"
   },
   {
    "duration": 177,
    "start_time": "2023-08-24T18:06:49.867Z"
   },
   {
    "duration": 324,
    "start_time": "2023-08-24T18:06:50.046Z"
   },
   {
    "duration": 160,
    "start_time": "2023-08-24T18:06:50.372Z"
   },
   {
    "duration": 335,
    "start_time": "2023-08-24T18:06:50.534Z"
   },
   {
    "duration": 159,
    "start_time": "2023-08-24T18:06:50.870Z"
   },
   {
    "duration": 317,
    "start_time": "2023-08-24T18:06:51.031Z"
   },
   {
    "duration": 333,
    "start_time": "2023-08-24T18:06:51.350Z"
   },
   {
    "duration": 28,
    "start_time": "2023-08-24T18:06:51.685Z"
   },
   {
    "duration": 20,
    "start_time": "2023-08-24T18:06:51.715Z"
   },
   {
    "duration": 4,
    "start_time": "2023-08-24T18:06:51.737Z"
   },
   {
    "duration": 14,
    "start_time": "2023-08-24T18:06:51.743Z"
   },
   {
    "duration": 532,
    "start_time": "2023-08-24T18:06:51.781Z"
   },
   {
    "duration": 11,
    "start_time": "2023-08-24T18:06:52.315Z"
   },
   {
    "duration": 22,
    "start_time": "2023-08-24T18:06:52.327Z"
   },
   {
    "duration": 4,
    "start_time": "2023-08-24T18:06:52.350Z"
   },
   {
    "duration": 29,
    "start_time": "2023-08-24T18:06:52.356Z"
   },
   {
    "duration": 26,
    "start_time": "2023-08-24T18:06:52.387Z"
   },
   {
    "duration": 20,
    "start_time": "2023-08-24T18:06:52.415Z"
   },
   {
    "duration": 6,
    "start_time": "2023-08-24T18:06:52.437Z"
   },
   {
    "duration": 17,
    "start_time": "2023-08-24T18:06:52.444Z"
   },
   {
    "duration": 10,
    "start_time": "2023-08-24T18:06:52.462Z"
   },
   {
    "duration": 35,
    "start_time": "2023-08-24T18:06:52.474Z"
   },
   {
    "duration": 11,
    "start_time": "2023-08-24T18:06:52.510Z"
   },
   {
    "duration": 15,
    "start_time": "2023-08-24T18:06:52.523Z"
   },
   {
    "duration": 5,
    "start_time": "2023-08-24T18:06:52.540Z"
   },
   {
    "duration": 11,
    "start_time": "2023-08-24T18:06:52.547Z"
   },
   {
    "duration": 18,
    "start_time": "2023-08-24T18:06:52.559Z"
   },
   {
    "duration": 36,
    "start_time": "2023-08-24T18:06:52.579Z"
   },
   {
    "duration": 5,
    "start_time": "2023-08-24T18:06:52.617Z"
   },
   {
    "duration": 38,
    "start_time": "2023-08-24T18:06:52.624Z"
   },
   {
    "duration": 11,
    "start_time": "2023-08-24T18:06:52.665Z"
   },
   {
    "duration": 33,
    "start_time": "2023-08-24T18:06:52.677Z"
   },
   {
    "duration": 5,
    "start_time": "2023-08-24T18:06:52.712Z"
   },
   {
    "duration": 20,
    "start_time": "2023-08-24T18:06:52.718Z"
   },
   {
    "duration": 4,
    "start_time": "2023-08-24T18:06:52.740Z"
   },
   {
    "duration": 79,
    "start_time": "2023-08-24T18:06:52.746Z"
   },
   {
    "duration": 4,
    "start_time": "2023-08-24T18:06:52.827Z"
   },
   {
    "duration": 12,
    "start_time": "2023-08-24T18:06:52.833Z"
   },
   {
    "duration": 41,
    "start_time": "2023-08-24T18:06:52.846Z"
   },
   {
    "duration": 25,
    "start_time": "2023-08-24T18:06:52.891Z"
   },
   {
    "duration": 4,
    "start_time": "2023-08-24T18:06:52.918Z"
   },
   {
    "duration": 7,
    "start_time": "2023-08-24T18:06:52.924Z"
   },
   {
    "duration": 78,
    "start_time": "2023-08-24T18:06:52.932Z"
   },
   {
    "duration": 3,
    "start_time": "2023-08-24T18:06:53.012Z"
   },
   {
    "duration": 13,
    "start_time": "2023-08-24T18:06:53.017Z"
   },
   {
    "duration": 66,
    "start_time": "2023-08-24T18:06:53.032Z"
   },
   {
    "duration": 4,
    "start_time": "2023-08-24T18:06:53.100Z"
   },
   {
    "duration": 7,
    "start_time": "2023-08-24T18:06:53.106Z"
   },
   {
    "duration": 23,
    "start_time": "2023-08-24T18:06:53.115Z"
   },
   {
    "duration": 3,
    "start_time": "2023-08-24T18:06:53.140Z"
   },
   {
    "duration": 12,
    "start_time": "2023-08-24T18:06:53.145Z"
   },
   {
    "duration": 64,
    "start_time": "2023-08-24T18:06:53.158Z"
   },
   {
    "duration": 3,
    "start_time": "2023-08-24T18:06:53.224Z"
   },
   {
    "duration": 10,
    "start_time": "2023-08-24T18:06:53.228Z"
   },
   {
    "duration": 40,
    "start_time": "2023-08-24T18:06:53.240Z"
   },
   {
    "duration": 8,
    "start_time": "2023-08-24T18:06:53.286Z"
   },
   {
    "duration": 9,
    "start_time": "2023-08-24T18:06:53.296Z"
   },
   {
    "duration": 13,
    "start_time": "2023-08-24T18:06:53.307Z"
   },
   {
    "duration": 27,
    "start_time": "2023-08-24T18:06:53.322Z"
   },
   {
    "duration": 7,
    "start_time": "2023-08-24T18:06:53.351Z"
   },
   {
    "duration": 18,
    "start_time": "2023-08-24T18:06:53.360Z"
   },
   {
    "duration": 4,
    "start_time": "2023-08-24T18:06:53.390Z"
   },
   {
    "duration": 10,
    "start_time": "2023-08-24T18:06:53.396Z"
   },
   {
    "duration": 8,
    "start_time": "2023-08-24T18:06:53.408Z"
   },
   {
    "duration": 14,
    "start_time": "2023-08-24T18:06:53.417Z"
   },
   {
    "duration": 25,
    "start_time": "2023-08-24T18:06:53.432Z"
   },
   {
    "duration": 6,
    "start_time": "2023-08-24T18:06:53.458Z"
   },
   {
    "duration": 5,
    "start_time": "2023-08-24T18:06:53.466Z"
   },
   {
    "duration": 18,
    "start_time": "2023-08-24T18:06:53.473Z"
   },
   {
    "duration": 9,
    "start_time": "2023-08-24T18:06:53.496Z"
   },
   {
    "duration": 13,
    "start_time": "2023-08-24T18:06:53.507Z"
   },
   {
    "duration": 14,
    "start_time": "2023-08-24T18:06:53.521Z"
   },
   {
    "duration": 57,
    "start_time": "2023-08-24T18:06:53.537Z"
   },
   {
    "duration": 20,
    "start_time": "2023-08-24T18:06:53.596Z"
   },
   {
    "duration": 16,
    "start_time": "2023-08-24T18:06:53.618Z"
   },
   {
    "duration": 7,
    "start_time": "2023-08-24T18:06:53.637Z"
   },
   {
    "duration": 7,
    "start_time": "2023-08-24T18:06:53.646Z"
   },
   {
    "duration": 12,
    "start_time": "2023-08-24T18:06:53.654Z"
   },
   {
    "duration": 6,
    "start_time": "2023-08-24T18:06:53.668Z"
   },
   {
    "duration": 20,
    "start_time": "2023-08-24T18:06:53.676Z"
   },
   {
    "duration": 36,
    "start_time": "2023-08-24T18:07:32.267Z"
   },
   {
    "duration": 6,
    "start_time": "2023-08-24T18:08:09.918Z"
   },
   {
    "duration": 5,
    "start_time": "2023-08-24T18:08:14.725Z"
   },
   {
    "duration": 6,
    "start_time": "2023-08-24T18:08:18.521Z"
   },
   {
    "duration": 5,
    "start_time": "2023-08-24T18:08:22.666Z"
   },
   {
    "duration": 1482,
    "start_time": "2023-08-25T16:13:07.811Z"
   },
   {
    "duration": 127,
    "start_time": "2023-08-25T16:13:09.295Z"
   },
   {
    "duration": 20,
    "start_time": "2023-08-25T16:13:09.424Z"
   },
   {
    "duration": 7,
    "start_time": "2023-08-25T16:13:09.446Z"
   },
   {
    "duration": 65,
    "start_time": "2023-08-25T16:13:09.454Z"
   },
   {
    "duration": 195,
    "start_time": "2023-08-25T16:13:19.158Z"
   },
   {
    "duration": 7,
    "start_time": "2023-08-25T16:14:22.104Z"
   },
   {
    "duration": 12,
    "start_time": "2023-08-25T16:14:27.197Z"
   },
   {
    "duration": 8,
    "start_time": "2023-08-25T16:14:41.694Z"
   },
   {
    "duration": 13,
    "start_time": "2023-08-25T16:14:48.361Z"
   },
   {
    "duration": 216,
    "start_time": "2023-08-25T16:15:02.799Z"
   },
   {
    "duration": 22,
    "start_time": "2023-08-25T16:31:32.033Z"
   },
   {
    "duration": 122,
    "start_time": "2023-08-25T16:32:26.110Z"
   },
   {
    "duration": 11,
    "start_time": "2023-08-25T16:32:34.820Z"
   },
   {
    "duration": 13,
    "start_time": "2023-08-25T16:32:46.924Z"
   },
   {
    "duration": 15,
    "start_time": "2023-08-25T16:32:52.134Z"
   },
   {
    "duration": 5,
    "start_time": "2023-08-25T16:33:09.058Z"
   },
   {
    "duration": 18,
    "start_time": "2023-08-25T16:33:12.908Z"
   },
   {
    "duration": 18,
    "start_time": "2023-08-25T16:33:27.177Z"
   },
   {
    "duration": 28,
    "start_time": "2023-08-25T16:33:50.323Z"
   },
   {
    "duration": 119,
    "start_time": "2023-08-25T16:35:11.346Z"
   },
   {
    "duration": 13,
    "start_time": "2023-08-25T16:35:17.543Z"
   },
   {
    "duration": 208,
    "start_time": "2023-08-25T16:35:22.302Z"
   },
   {
    "duration": 1663,
    "start_time": "2023-08-25T16:36:13.588Z"
   },
   {
    "duration": 204,
    "start_time": "2023-08-25T16:36:26.353Z"
   },
   {
    "duration": 11,
    "start_time": "2023-08-25T16:36:39.733Z"
   },
   {
    "duration": 215,
    "start_time": "2023-08-25T16:38:12.451Z"
   },
   {
    "duration": 200,
    "start_time": "2023-08-25T16:38:29.822Z"
   },
   {
    "duration": 194,
    "start_time": "2023-08-25T16:38:51.138Z"
   },
   {
    "duration": 11,
    "start_time": "2023-08-25T16:41:41.310Z"
   },
   {
    "duration": 10,
    "start_time": "2023-08-25T16:42:20.952Z"
   },
   {
    "duration": 33,
    "start_time": "2023-08-25T16:42:28.764Z"
   },
   {
    "duration": 24,
    "start_time": "2023-08-25T16:44:13.137Z"
   },
   {
    "duration": 260,
    "start_time": "2023-08-25T16:44:22.039Z"
   },
   {
    "duration": 88,
    "start_time": "2023-08-25T16:44:23.011Z"
   },
   {
    "duration": 26,
    "start_time": "2023-08-25T16:44:23.962Z"
   },
   {
    "duration": 16,
    "start_time": "2023-08-25T16:44:31.244Z"
   },
   {
    "duration": 20,
    "start_time": "2023-08-25T16:44:38.124Z"
   },
   {
    "duration": 117,
    "start_time": "2023-08-25T16:47:16.013Z"
   },
   {
    "duration": 21,
    "start_time": "2023-08-25T16:47:17.061Z"
   },
   {
    "duration": 20,
    "start_time": "2023-08-25T16:48:29.997Z"
   },
   {
    "duration": 117,
    "start_time": "2023-08-25T16:54:02.546Z"
   },
   {
    "duration": 14,
    "start_time": "2023-08-25T16:54:03.524Z"
   },
   {
    "duration": 13,
    "start_time": "2023-08-25T16:54:03.709Z"
   },
   {
    "duration": 11,
    "start_time": "2023-08-25T16:54:11.188Z"
   },
   {
    "duration": 10,
    "start_time": "2023-08-25T16:54:29.305Z"
   },
   {
    "duration": 26,
    "start_time": "2023-08-25T16:54:34.728Z"
   },
   {
    "duration": 120,
    "start_time": "2023-08-25T17:00:56.131Z"
   },
   {
    "duration": 13,
    "start_time": "2023-08-25T17:01:45.685Z"
   },
   {
    "duration": 10,
    "start_time": "2023-08-25T17:02:07.235Z"
   },
   {
    "duration": 14,
    "start_time": "2023-08-25T17:02:08.517Z"
   },
   {
    "duration": 35,
    "start_time": "2023-08-25T17:02:16.830Z"
   },
   {
    "duration": 27,
    "start_time": "2023-08-25T17:04:13.166Z"
   },
   {
    "duration": 30,
    "start_time": "2023-08-25T17:04:45.414Z"
   },
   {
    "duration": 24,
    "start_time": "2023-08-25T17:04:49.714Z"
   },
   {
    "duration": 39,
    "start_time": "2023-08-25T17:04:56.666Z"
   },
   {
    "duration": 204,
    "start_time": "2023-08-25T17:06:52.321Z"
   },
   {
    "duration": 14,
    "start_time": "2023-08-25T17:07:01.221Z"
   },
   {
    "duration": 1148,
    "start_time": "2023-08-25T17:07:14.555Z"
   },
   {
    "duration": 330,
    "start_time": "2023-08-25T17:17:26.761Z"
   },
   {
    "duration": 14,
    "start_time": "2023-08-25T17:17:28.181Z"
   },
   {
    "duration": 9,
    "start_time": "2023-08-25T17:27:16.311Z"
   },
   {
    "duration": 12,
    "start_time": "2023-08-25T17:27:18.464Z"
   },
   {
    "duration": 10,
    "start_time": "2023-08-25T17:27:19.522Z"
   },
   {
    "duration": 6,
    "start_time": "2023-08-25T17:27:20.308Z"
   },
   {
    "duration": 15,
    "start_time": "2023-08-25T17:27:23.194Z"
   },
   {
    "duration": 127,
    "start_time": "2023-08-25T17:27:55.881Z"
   },
   {
    "duration": 21,
    "start_time": "2023-08-25T17:28:33.958Z"
   },
   {
    "duration": 6,
    "start_time": "2023-08-25T17:28:37.611Z"
   },
   {
    "duration": 19,
    "start_time": "2023-08-25T17:28:41.704Z"
   },
   {
    "duration": 8,
    "start_time": "2023-08-25T17:29:00.588Z"
   },
   {
    "duration": 21,
    "start_time": "2023-08-25T17:29:05.688Z"
   },
   {
    "duration": 12,
    "start_time": "2023-08-25T17:32:11.636Z"
   },
   {
    "duration": 3,
    "start_time": "2023-08-25T17:32:25.399Z"
   },
   {
    "duration": 127,
    "start_time": "2023-08-25T17:32:25.406Z"
   },
   {
    "duration": 17,
    "start_time": "2023-08-25T17:32:25.535Z"
   },
   {
    "duration": 39,
    "start_time": "2023-08-25T17:32:25.554Z"
   },
   {
    "duration": 16,
    "start_time": "2023-08-25T17:32:25.596Z"
   },
   {
    "duration": 9,
    "start_time": "2023-08-25T17:32:25.615Z"
   },
   {
    "duration": 13,
    "start_time": "2023-08-25T17:32:25.626Z"
   },
   {
    "duration": 33,
    "start_time": "2023-08-25T17:32:25.642Z"
   },
   {
    "duration": 20,
    "start_time": "2023-08-25T17:32:25.677Z"
   },
   {
    "duration": 25,
    "start_time": "2023-08-25T17:32:25.699Z"
   },
   {
    "duration": 20,
    "start_time": "2023-08-25T17:32:25.728Z"
   },
   {
    "duration": 26,
    "start_time": "2023-08-25T17:32:25.750Z"
   },
   {
    "duration": 25,
    "start_time": "2023-08-25T17:32:25.778Z"
   },
   {
    "duration": 10,
    "start_time": "2023-08-25T17:32:25.805Z"
   },
   {
    "duration": 15,
    "start_time": "2023-08-25T17:32:25.817Z"
   },
   {
    "duration": 5,
    "start_time": "2023-08-25T17:32:25.835Z"
   },
   {
    "duration": 34,
    "start_time": "2023-08-25T17:32:25.841Z"
   },
   {
    "duration": 18,
    "start_time": "2023-08-25T17:32:25.876Z"
   },
   {
    "duration": 19,
    "start_time": "2023-08-25T17:32:25.896Z"
   },
   {
    "duration": 17,
    "start_time": "2023-08-25T17:32:25.922Z"
   },
   {
    "duration": 32,
    "start_time": "2023-08-25T17:32:25.941Z"
   },
   {
    "duration": 22,
    "start_time": "2023-08-25T17:32:25.975Z"
   },
   {
    "duration": 15,
    "start_time": "2023-08-25T17:32:25.999Z"
   },
   {
    "duration": 3,
    "start_time": "2023-08-25T17:32:26.016Z"
   },
   {
    "duration": 10,
    "start_time": "2023-08-25T17:32:26.021Z"
   },
   {
    "duration": 42,
    "start_time": "2023-08-25T17:32:26.033Z"
   },
   {
    "duration": 10,
    "start_time": "2023-08-25T17:32:26.077Z"
   },
   {
    "duration": 22,
    "start_time": "2023-08-25T17:32:26.089Z"
   },
   {
    "duration": 35,
    "start_time": "2023-08-25T17:32:26.116Z"
   },
   {
    "duration": 30,
    "start_time": "2023-08-25T17:32:26.153Z"
   },
   {
    "duration": 17,
    "start_time": "2023-08-25T17:32:26.186Z"
   },
   {
    "duration": 20,
    "start_time": "2023-08-25T17:32:26.205Z"
   },
   {
    "duration": 15,
    "start_time": "2023-08-25T17:32:26.228Z"
   },
   {
    "duration": 12,
    "start_time": "2023-08-25T17:32:26.246Z"
   },
   {
    "duration": 25,
    "start_time": "2023-08-25T17:32:26.260Z"
   },
   {
    "duration": 321,
    "start_time": "2023-08-25T17:32:26.287Z"
   },
   {
    "duration": 215,
    "start_time": "2023-08-25T17:32:26.610Z"
   },
   {
    "duration": 8,
    "start_time": "2023-08-25T17:32:26.827Z"
   },
   {
    "duration": 37,
    "start_time": "2023-08-25T17:32:26.838Z"
   },
   {
    "duration": 26,
    "start_time": "2023-08-25T17:32:26.878Z"
   },
   {
    "duration": 20,
    "start_time": "2023-08-25T17:32:26.905Z"
   },
   {
    "duration": 96,
    "start_time": "2023-08-25T17:32:26.927Z"
   },
   {
    "duration": 33,
    "start_time": "2023-08-25T17:32:27.026Z"
   },
   {
    "duration": 30,
    "start_time": "2023-08-25T17:32:27.062Z"
   },
   {
    "duration": 39,
    "start_time": "2023-08-25T17:32:27.095Z"
   },
   {
    "duration": 22,
    "start_time": "2023-08-25T17:32:27.137Z"
   },
   {
    "duration": 22,
    "start_time": "2023-08-25T17:32:27.162Z"
   },
   {
    "duration": 22,
    "start_time": "2023-08-25T17:32:27.187Z"
   },
   {
    "duration": 30,
    "start_time": "2023-08-25T17:32:27.211Z"
   },
   {
    "duration": 48,
    "start_time": "2023-08-25T17:32:27.244Z"
   },
   {
    "duration": 10,
    "start_time": "2023-08-25T17:32:27.295Z"
   },
   {
    "duration": 23,
    "start_time": "2023-08-25T17:32:27.307Z"
   },
   {
    "duration": 14,
    "start_time": "2023-08-25T17:32:27.332Z"
   },
   {
    "duration": 196,
    "start_time": "2023-08-25T17:32:27.348Z"
   },
   {
    "duration": 415,
    "start_time": "2023-08-25T17:32:27.546Z"
   },
   {
    "duration": 391,
    "start_time": "2023-08-25T17:32:27.967Z"
   },
   {
    "duration": 161,
    "start_time": "2023-08-25T17:32:28.360Z"
   },
   {
    "duration": 311,
    "start_time": "2023-08-25T17:32:28.527Z"
   },
   {
    "duration": 165,
    "start_time": "2023-08-25T17:32:28.840Z"
   },
   {
    "duration": 294,
    "start_time": "2023-08-25T17:32:29.007Z"
   },
   {
    "duration": 157,
    "start_time": "2023-08-25T17:32:29.303Z"
   },
   {
    "duration": 298,
    "start_time": "2023-08-25T17:32:29.462Z"
   },
   {
    "duration": 144,
    "start_time": "2023-08-25T17:32:29.762Z"
   },
   {
    "duration": 340,
    "start_time": "2023-08-25T17:32:29.908Z"
   },
   {
    "duration": 186,
    "start_time": "2023-08-25T17:32:30.250Z"
   },
   {
    "duration": 290,
    "start_time": "2023-08-25T17:32:30.439Z"
   },
   {
    "duration": 348,
    "start_time": "2023-08-25T17:32:30.730Z"
   },
   {
    "duration": 17,
    "start_time": "2023-08-25T17:32:31.085Z"
   },
   {
    "duration": 32,
    "start_time": "2023-08-25T17:32:31.103Z"
   },
   {
    "duration": 25,
    "start_time": "2023-08-25T17:32:31.137Z"
   },
   {
    "duration": 41,
    "start_time": "2023-08-25T17:32:31.164Z"
   },
   {
    "duration": 515,
    "start_time": "2023-08-25T17:32:31.206Z"
   },
   {
    "duration": 12,
    "start_time": "2023-08-25T17:32:31.723Z"
   },
   {
    "duration": 50,
    "start_time": "2023-08-25T17:32:31.738Z"
   },
   {
    "duration": 51,
    "start_time": "2023-08-25T17:32:31.790Z"
   },
   {
    "duration": 45,
    "start_time": "2023-08-25T17:32:31.843Z"
   },
   {
    "duration": 44,
    "start_time": "2023-08-25T17:32:31.890Z"
   },
   {
    "duration": 43,
    "start_time": "2023-08-25T17:32:31.936Z"
   },
   {
    "duration": 23,
    "start_time": "2023-08-25T17:32:31.981Z"
   },
   {
    "duration": 37,
    "start_time": "2023-08-25T17:32:32.005Z"
   },
   {
    "duration": 55,
    "start_time": "2023-08-25T17:32:32.044Z"
   },
   {
    "duration": 34,
    "start_time": "2023-08-25T17:32:32.101Z"
   },
   {
    "duration": 17,
    "start_time": "2023-08-25T17:32:32.148Z"
   },
   {
    "duration": 36,
    "start_time": "2023-08-25T17:32:32.168Z"
   },
   {
    "duration": 77,
    "start_time": "2023-08-25T17:32:32.205Z"
   },
   {
    "duration": 91,
    "start_time": "2023-08-25T17:32:32.283Z"
   },
   {
    "duration": 15,
    "start_time": "2023-08-25T17:32:32.376Z"
   },
   {
    "duration": 41,
    "start_time": "2023-08-25T17:32:32.393Z"
   },
   {
    "duration": 33,
    "start_time": "2023-08-25T17:32:32.436Z"
   },
   {
    "duration": 42,
    "start_time": "2023-08-25T17:32:32.475Z"
   },
   {
    "duration": 39,
    "start_time": "2023-08-25T17:32:32.519Z"
   },
   {
    "duration": 54,
    "start_time": "2023-08-25T17:32:32.560Z"
   },
   {
    "duration": 21,
    "start_time": "2023-08-25T17:32:32.616Z"
   },
   {
    "duration": 31,
    "start_time": "2023-08-25T17:32:32.639Z"
   },
   {
    "duration": 19,
    "start_time": "2023-08-25T17:32:32.671Z"
   },
   {
    "duration": 56,
    "start_time": "2023-08-25T17:32:32.692Z"
   },
   {
    "duration": 16,
    "start_time": "2023-08-25T17:32:32.749Z"
   },
   {
    "duration": 21,
    "start_time": "2023-08-25T17:32:32.774Z"
   },
   {
    "duration": 29,
    "start_time": "2023-08-25T17:32:32.797Z"
   },
   {
    "duration": 28,
    "start_time": "2023-08-25T17:32:32.829Z"
   },
   {
    "duration": 12,
    "start_time": "2023-08-25T17:32:32.859Z"
   },
   {
    "duration": 3,
    "start_time": "2023-08-25T17:32:32.873Z"
   },
   {
    "duration": 48,
    "start_time": "2023-08-25T17:32:32.878Z"
   },
   {
    "duration": 4,
    "start_time": "2023-08-25T17:32:32.928Z"
   },
   {
    "duration": 9,
    "start_time": "2023-08-25T17:32:32.933Z"
   },
   {
    "duration": 63,
    "start_time": "2023-08-25T17:32:32.945Z"
   },
   {
    "duration": 4,
    "start_time": "2023-08-25T17:32:33.010Z"
   },
   {
    "duration": 22,
    "start_time": "2023-08-25T17:32:33.016Z"
   },
   {
    "duration": 57,
    "start_time": "2023-08-25T17:32:33.040Z"
   },
   {
    "duration": 13,
    "start_time": "2023-08-25T17:32:33.099Z"
   },
   {
    "duration": 12,
    "start_time": "2023-08-25T17:32:33.114Z"
   },
   {
    "duration": 47,
    "start_time": "2023-08-25T17:32:33.128Z"
   },
   {
    "duration": 11,
    "start_time": "2023-08-25T17:32:33.177Z"
   },
   {
    "duration": 38,
    "start_time": "2023-08-25T17:32:33.197Z"
   },
   {
    "duration": 99,
    "start_time": "2023-08-25T17:32:33.237Z"
   },
   {
    "duration": 42,
    "start_time": "2023-08-25T17:32:33.337Z"
   },
   {
    "duration": 10,
    "start_time": "2023-08-25T17:32:33.385Z"
   },
   {
    "duration": 25,
    "start_time": "2023-08-25T17:32:33.397Z"
   },
   {
    "duration": 36,
    "start_time": "2023-08-25T17:32:33.424Z"
   },
   {
    "duration": 21,
    "start_time": "2023-08-25T17:32:33.462Z"
   },
   {
    "duration": 15,
    "start_time": "2023-08-25T17:32:33.485Z"
   },
   {
    "duration": 23,
    "start_time": "2023-08-25T17:32:33.501Z"
   },
   {
    "duration": 24,
    "start_time": "2023-08-25T17:32:33.525Z"
   },
   {
    "duration": 34,
    "start_time": "2023-08-25T17:32:33.551Z"
   },
   {
    "duration": 35,
    "start_time": "2023-08-25T17:32:33.588Z"
   },
   {
    "duration": 25,
    "start_time": "2023-08-25T17:32:33.624Z"
   },
   {
    "duration": 11,
    "start_time": "2023-08-25T17:32:33.650Z"
   },
   {
    "duration": 29,
    "start_time": "2023-08-25T17:32:33.662Z"
   },
   {
    "duration": 13,
    "start_time": "2023-08-25T17:32:33.693Z"
   },
   {
    "duration": 7,
    "start_time": "2023-08-25T17:32:33.708Z"
   },
   {
    "duration": 12,
    "start_time": "2023-08-25T17:32:33.716Z"
   },
   {
    "duration": 9,
    "start_time": "2023-08-25T17:32:33.730Z"
   },
   {
    "duration": 13,
    "start_time": "2023-08-25T17:32:33.741Z"
   },
   {
    "duration": 26,
    "start_time": "2023-08-25T17:32:33.756Z"
   },
   {
    "duration": 13,
    "start_time": "2023-08-25T17:32:33.785Z"
   },
   {
    "duration": 22,
    "start_time": "2023-08-25T17:32:33.800Z"
   },
   {
    "duration": 6,
    "start_time": "2023-08-25T17:32:33.824Z"
   },
   {
    "duration": 15,
    "start_time": "2023-08-25T17:32:33.831Z"
   },
   {
    "duration": 12,
    "start_time": "2023-08-25T17:32:33.847Z"
   },
   {
    "duration": 28,
    "start_time": "2023-08-25T17:32:33.861Z"
   },
   {
    "duration": 139,
    "start_time": "2023-08-25T17:44:43.242Z"
   },
   {
    "duration": 19,
    "start_time": "2023-08-25T17:45:23.389Z"
   },
   {
    "duration": 23,
    "start_time": "2023-08-25T17:45:41.464Z"
   },
   {
    "duration": 21,
    "start_time": "2023-08-25T17:46:50.836Z"
   },
   {
    "duration": 18,
    "start_time": "2023-08-25T17:47:04.434Z"
   },
   {
    "duration": 16,
    "start_time": "2023-08-25T17:47:26.914Z"
   },
   {
    "duration": 21,
    "start_time": "2023-08-25T17:48:00.179Z"
   },
   {
    "duration": 8,
    "start_time": "2023-08-25T17:48:49.482Z"
   },
   {
    "duration": 12,
    "start_time": "2023-08-25T17:48:55.981Z"
   },
   {
    "duration": 194,
    "start_time": "2023-08-25T17:55:30.541Z"
   },
   {
    "duration": 22,
    "start_time": "2023-08-25T17:55:36.763Z"
   },
   {
    "duration": 7,
    "start_time": "2023-08-25T17:55:57.383Z"
   },
   {
    "duration": 12,
    "start_time": "2023-08-25T17:56:30.412Z"
   },
   {
    "duration": 13,
    "start_time": "2023-08-25T17:56:30.592Z"
   },
   {
    "duration": 21,
    "start_time": "2023-08-25T17:56:36.288Z"
   },
   {
    "duration": 12,
    "start_time": "2023-08-25T17:56:48.945Z"
   },
   {
    "duration": 22,
    "start_time": "2023-08-25T17:56:51.224Z"
   },
   {
    "duration": 21,
    "start_time": "2023-08-25T17:58:28.505Z"
   },
   {
    "duration": 216,
    "start_time": "2023-08-25T18:02:36.340Z"
   },
   {
    "duration": 217,
    "start_time": "2023-08-25T18:04:29.163Z"
   },
   {
    "duration": 214,
    "start_time": "2023-08-25T18:04:47.526Z"
   },
   {
    "duration": 206,
    "start_time": "2023-08-25T18:04:53.631Z"
   },
   {
    "duration": 218,
    "start_time": "2023-08-25T18:05:07.414Z"
   },
   {
    "duration": 200,
    "start_time": "2023-08-25T18:05:25.946Z"
   },
   {
    "duration": 18,
    "start_time": "2023-08-25T18:05:50.461Z"
   },
   {
    "duration": 11,
    "start_time": "2023-08-25T18:05:55.082Z"
   },
   {
    "duration": 4,
    "start_time": "2023-08-25T18:06:00.713Z"
   },
   {
    "duration": 5,
    "start_time": "2023-08-25T18:06:04.203Z"
   },
   {
    "duration": 186,
    "start_time": "2023-08-25T18:06:20.537Z"
   },
   {
    "duration": 202,
    "start_time": "2023-08-25T18:06:26.483Z"
   },
   {
    "duration": 95,
    "start_time": "2023-08-25T18:07:17.619Z"
   },
   {
    "duration": 19,
    "start_time": "2023-08-25T18:07:23.066Z"
   },
   {
    "duration": 10,
    "start_time": "2023-08-25T18:08:06.300Z"
   },
   {
    "duration": 9,
    "start_time": "2023-08-25T18:08:17.202Z"
   },
   {
    "duration": 9,
    "start_time": "2023-08-25T18:08:21.594Z"
   },
   {
    "duration": 9,
    "start_time": "2023-08-25T18:08:32.846Z"
   },
   {
    "duration": 17,
    "start_time": "2023-08-25T18:08:36.942Z"
   },
   {
    "duration": 14,
    "start_time": "2023-08-25T18:09:08.903Z"
   },
   {
    "duration": 8,
    "start_time": "2023-08-25T18:10:11.244Z"
   },
   {
    "duration": 17,
    "start_time": "2023-08-25T18:10:14.354Z"
   },
   {
    "duration": 13,
    "start_time": "2023-08-25T18:10:55.902Z"
   },
   {
    "duration": 13,
    "start_time": "2023-08-25T18:11:03.351Z"
   },
   {
    "duration": 11,
    "start_time": "2023-08-25T18:11:35.516Z"
   },
   {
    "duration": 12,
    "start_time": "2023-08-25T18:12:39.135Z"
   },
   {
    "duration": 11,
    "start_time": "2023-08-25T18:12:57.202Z"
   },
   {
    "duration": 17,
    "start_time": "2023-08-25T18:13:07.568Z"
   },
   {
    "duration": 11,
    "start_time": "2023-08-25T18:13:14.914Z"
   },
   {
    "duration": 11,
    "start_time": "2023-08-25T18:13:32.708Z"
   },
   {
    "duration": 10,
    "start_time": "2023-08-25T18:13:46.951Z"
   },
   {
    "duration": 12,
    "start_time": "2023-08-25T18:13:56.020Z"
   },
   {
    "duration": 21,
    "start_time": "2023-08-25T18:14:02.665Z"
   },
   {
    "duration": 14,
    "start_time": "2023-08-25T18:14:14.931Z"
   },
   {
    "duration": 20,
    "start_time": "2023-08-25T18:14:21.965Z"
   },
   {
    "duration": 11,
    "start_time": "2023-08-25T18:14:28.106Z"
   },
   {
    "duration": 11,
    "start_time": "2023-08-25T18:14:32.743Z"
   },
   {
    "duration": 17,
    "start_time": "2023-08-25T18:14:37.757Z"
   },
   {
    "duration": 11,
    "start_time": "2023-08-25T18:14:42.486Z"
   },
   {
    "duration": 10,
    "start_time": "2023-08-25T18:14:46.902Z"
   },
   {
    "duration": 13,
    "start_time": "2023-08-25T18:14:53.290Z"
   },
   {
    "duration": 12,
    "start_time": "2023-08-25T18:14:57.729Z"
   },
   {
    "duration": 12,
    "start_time": "2023-08-25T18:15:07.343Z"
   },
   {
    "duration": 11,
    "start_time": "2023-08-25T18:15:12.798Z"
   },
   {
    "duration": 12,
    "start_time": "2023-08-25T18:15:17.831Z"
   },
   {
    "duration": 13,
    "start_time": "2023-08-25T18:15:23.111Z"
   },
   {
    "duration": 10,
    "start_time": "2023-08-25T18:15:48.286Z"
   },
   {
    "duration": 8,
    "start_time": "2023-08-25T18:16:10.465Z"
   },
   {
    "duration": 157,
    "start_time": "2023-08-25T18:16:10.482Z"
   },
   {
    "duration": 15,
    "start_time": "2023-08-25T18:16:10.642Z"
   },
   {
    "duration": 24,
    "start_time": "2023-08-25T18:16:10.658Z"
   },
   {
    "duration": 24,
    "start_time": "2023-08-25T18:16:10.685Z"
   },
   {
    "duration": 6,
    "start_time": "2023-08-25T18:16:10.711Z"
   },
   {
    "duration": 19,
    "start_time": "2023-08-25T18:16:10.719Z"
   },
   {
    "duration": 18,
    "start_time": "2023-08-25T18:16:10.739Z"
   },
   {
    "duration": 23,
    "start_time": "2023-08-25T18:16:10.758Z"
   },
   {
    "duration": 10,
    "start_time": "2023-08-25T18:16:10.782Z"
   },
   {
    "duration": 18,
    "start_time": "2023-08-25T18:16:10.795Z"
   },
   {
    "duration": 14,
    "start_time": "2023-08-25T18:16:10.814Z"
   },
   {
    "duration": 12,
    "start_time": "2023-08-25T18:16:10.830Z"
   },
   {
    "duration": 17,
    "start_time": "2023-08-25T18:16:10.845Z"
   },
   {
    "duration": 28,
    "start_time": "2023-08-25T18:16:10.864Z"
   },
   {
    "duration": 22,
    "start_time": "2023-08-25T18:16:10.895Z"
   },
   {
    "duration": 22,
    "start_time": "2023-08-25T18:16:10.919Z"
   },
   {
    "duration": 9,
    "start_time": "2023-08-25T18:16:10.943Z"
   },
   {
    "duration": 26,
    "start_time": "2023-08-25T18:16:10.954Z"
   },
   {
    "duration": 9,
    "start_time": "2023-08-25T18:16:10.982Z"
   },
   {
    "duration": 12,
    "start_time": "2023-08-25T18:16:10.993Z"
   },
   {
    "duration": 10,
    "start_time": "2023-08-25T18:16:11.007Z"
   },
   {
    "duration": 16,
    "start_time": "2023-08-25T18:16:11.019Z"
   },
   {
    "duration": 6,
    "start_time": "2023-08-25T18:16:11.037Z"
   },
   {
    "duration": 23,
    "start_time": "2023-08-25T18:16:11.044Z"
   },
   {
    "duration": 14,
    "start_time": "2023-08-25T18:16:11.068Z"
   },
   {
    "duration": 27,
    "start_time": "2023-08-25T18:16:11.085Z"
   },
   {
    "duration": 11,
    "start_time": "2023-08-25T18:16:11.113Z"
   },
   {
    "duration": 8,
    "start_time": "2023-08-25T18:16:11.128Z"
   },
   {
    "duration": 11,
    "start_time": "2023-08-25T18:16:11.138Z"
   },
   {
    "duration": 8,
    "start_time": "2023-08-25T18:16:11.151Z"
   },
   {
    "duration": 20,
    "start_time": "2023-08-25T18:16:11.161Z"
   },
   {
    "duration": 299,
    "start_time": "2023-08-25T18:16:11.184Z"
   },
   {
    "duration": 205,
    "start_time": "2023-08-25T18:16:11.485Z"
   },
   {
    "duration": 8,
    "start_time": "2023-08-25T18:16:11.693Z"
   },
   {
    "duration": 17,
    "start_time": "2023-08-25T18:16:11.702Z"
   },
   {
    "duration": 14,
    "start_time": "2023-08-25T18:16:11.721Z"
   },
   {
    "duration": 13,
    "start_time": "2023-08-25T18:16:11.736Z"
   },
   {
    "duration": 11,
    "start_time": "2023-08-25T18:16:11.772Z"
   },
   {
    "duration": 24,
    "start_time": "2023-08-25T18:16:11.785Z"
   },
   {
    "duration": 12,
    "start_time": "2023-08-25T18:16:11.811Z"
   },
   {
    "duration": 14,
    "start_time": "2023-08-25T18:16:11.825Z"
   },
   {
    "duration": 13,
    "start_time": "2023-08-25T18:16:11.840Z"
   },
   {
    "duration": 22,
    "start_time": "2023-08-25T18:16:11.855Z"
   },
   {
    "duration": 12,
    "start_time": "2023-08-25T18:16:11.878Z"
   },
   {
    "duration": 24,
    "start_time": "2023-08-25T18:16:11.891Z"
   },
   {
    "duration": 33,
    "start_time": "2023-08-25T18:16:11.916Z"
   },
   {
    "duration": 12,
    "start_time": "2023-08-25T18:16:11.951Z"
   },
   {
    "duration": 29,
    "start_time": "2023-08-25T18:16:11.964Z"
   },
   {
    "duration": 15,
    "start_time": "2023-08-25T18:16:11.995Z"
   },
   {
    "duration": 156,
    "start_time": "2023-08-25T18:16:12.012Z"
   },
   {
    "duration": 440,
    "start_time": "2023-08-25T18:16:12.172Z"
   },
   {
    "duration": 316,
    "start_time": "2023-08-25T18:16:12.614Z"
   },
   {
    "duration": 181,
    "start_time": "2023-08-25T18:16:12.932Z"
   },
   {
    "duration": 415,
    "start_time": "2023-08-25T18:16:13.115Z"
   },
   {
    "duration": 152,
    "start_time": "2023-08-25T18:16:13.532Z"
   },
   {
    "duration": 320,
    "start_time": "2023-08-25T18:16:13.686Z"
   },
   {
    "duration": 182,
    "start_time": "2023-08-25T18:16:14.008Z"
   },
   {
    "duration": 295,
    "start_time": "2023-08-25T18:16:14.192Z"
   },
   {
    "duration": 157,
    "start_time": "2023-08-25T18:16:14.489Z"
   },
   {
    "duration": 294,
    "start_time": "2023-08-25T18:16:14.648Z"
   },
   {
    "duration": 156,
    "start_time": "2023-08-25T18:16:14.944Z"
   },
   {
    "duration": 281,
    "start_time": "2023-08-25T18:16:15.103Z"
   },
   {
    "duration": 202,
    "start_time": "2023-08-25T18:16:15.385Z"
   },
   {
    "duration": 19,
    "start_time": "2023-08-25T18:16:15.589Z"
   },
   {
    "duration": 24,
    "start_time": "2023-08-25T18:16:15.610Z"
   },
   {
    "duration": 32,
    "start_time": "2023-08-25T18:16:15.636Z"
   },
   {
    "duration": 15,
    "start_time": "2023-08-25T18:16:15.678Z"
   },
   {
    "duration": 541,
    "start_time": "2023-08-25T18:16:15.694Z"
   },
   {
    "duration": 12,
    "start_time": "2023-08-25T18:16:16.237Z"
   },
   {
    "duration": 44,
    "start_time": "2023-08-25T18:16:16.251Z"
   },
   {
    "duration": 42,
    "start_time": "2023-08-25T18:16:16.298Z"
   },
   {
    "duration": 41,
    "start_time": "2023-08-25T18:16:16.342Z"
   },
   {
    "duration": 23,
    "start_time": "2023-08-25T18:16:16.386Z"
   },
   {
    "duration": 30,
    "start_time": "2023-08-25T18:16:16.411Z"
   },
   {
    "duration": 21,
    "start_time": "2023-08-25T18:16:16.443Z"
   },
   {
    "duration": 35,
    "start_time": "2023-08-25T18:16:16.465Z"
   },
   {
    "duration": 17,
    "start_time": "2023-08-25T18:16:16.502Z"
   },
   {
    "duration": 48,
    "start_time": "2023-08-25T18:16:16.521Z"
   },
   {
    "duration": 21,
    "start_time": "2023-08-25T18:16:16.572Z"
   },
   {
    "duration": 26,
    "start_time": "2023-08-25T18:16:16.595Z"
   },
   {
    "duration": 14,
    "start_time": "2023-08-25T18:16:16.623Z"
   },
   {
    "duration": 13,
    "start_time": "2023-08-25T18:16:16.647Z"
   },
   {
    "duration": 20,
    "start_time": "2023-08-25T18:16:16.662Z"
   },
   {
    "duration": 36,
    "start_time": "2023-08-25T18:16:16.684Z"
   },
   {
    "duration": 22,
    "start_time": "2023-08-25T18:16:16.721Z"
   },
   {
    "duration": 27,
    "start_time": "2023-08-25T18:16:16.745Z"
   },
   {
    "duration": 10,
    "start_time": "2023-08-25T18:16:16.773Z"
   },
   {
    "duration": 15,
    "start_time": "2023-08-25T18:16:16.785Z"
   },
   {
    "duration": 21,
    "start_time": "2023-08-25T18:16:16.801Z"
   },
   {
    "duration": 29,
    "start_time": "2023-08-25T18:16:16.824Z"
   },
   {
    "duration": 28,
    "start_time": "2023-08-25T18:16:16.855Z"
   },
   {
    "duration": 62,
    "start_time": "2023-08-25T18:16:16.886Z"
   },
   {
    "duration": 10,
    "start_time": "2023-08-25T18:16:16.950Z"
   },
   {
    "duration": 32,
    "start_time": "2023-08-25T18:16:16.962Z"
   },
   {
    "duration": 58,
    "start_time": "2023-08-25T18:16:16.996Z"
   },
   {
    "duration": 31,
    "start_time": "2023-08-25T18:16:17.056Z"
   },
   {
    "duration": 5,
    "start_time": "2023-08-25T18:16:17.089Z"
   },
   {
    "duration": 6,
    "start_time": "2023-08-25T18:16:17.095Z"
   },
   {
    "duration": 54,
    "start_time": "2023-08-25T18:16:17.102Z"
   },
   {
    "duration": 4,
    "start_time": "2023-08-25T18:16:17.158Z"
   },
   {
    "duration": 23,
    "start_time": "2023-08-25T18:16:17.164Z"
   },
   {
    "duration": 57,
    "start_time": "2023-08-25T18:16:17.189Z"
   },
   {
    "duration": 9,
    "start_time": "2023-08-25T18:16:17.252Z"
   },
   {
    "duration": 7,
    "start_time": "2023-08-25T18:16:17.263Z"
   },
   {
    "duration": 39,
    "start_time": "2023-08-25T18:16:17.277Z"
   },
   {
    "duration": 5,
    "start_time": "2023-08-25T18:16:17.319Z"
   },
   {
    "duration": 7,
    "start_time": "2023-08-25T18:16:17.325Z"
   },
   {
    "duration": 28,
    "start_time": "2023-08-25T18:16:17.333Z"
   },
   {
    "duration": 13,
    "start_time": "2023-08-25T18:16:17.368Z"
   },
   {
    "duration": 32,
    "start_time": "2023-08-25T18:16:17.383Z"
   },
   {
    "duration": 50,
    "start_time": "2023-08-25T18:16:17.418Z"
   },
   {
    "duration": 4,
    "start_time": "2023-08-25T18:16:17.470Z"
   },
   {
    "duration": 25,
    "start_time": "2023-08-25T18:16:17.476Z"
   },
   {
    "duration": 24,
    "start_time": "2023-08-25T18:16:17.503Z"
   },
   {
    "duration": 51,
    "start_time": "2023-08-25T18:16:17.529Z"
   },
   {
    "duration": 17,
    "start_time": "2023-08-25T18:16:17.581Z"
   },
   {
    "duration": 33,
    "start_time": "2023-08-25T18:16:17.600Z"
   },
   {
    "duration": 26,
    "start_time": "2023-08-25T18:16:17.636Z"
   },
   {
    "duration": 25,
    "start_time": "2023-08-25T18:16:17.664Z"
   },
   {
    "duration": 26,
    "start_time": "2023-08-25T18:16:17.692Z"
   },
   {
    "duration": 41,
    "start_time": "2023-08-25T18:16:17.720Z"
   },
   {
    "duration": 28,
    "start_time": "2023-08-25T18:16:17.763Z"
   },
   {
    "duration": 34,
    "start_time": "2023-08-25T18:16:17.793Z"
   },
   {
    "duration": 16,
    "start_time": "2023-08-25T18:16:17.828Z"
   },
   {
    "duration": 12,
    "start_time": "2023-08-25T18:16:17.847Z"
   },
   {
    "duration": 31,
    "start_time": "2023-08-25T18:16:17.861Z"
   },
   {
    "duration": 16,
    "start_time": "2023-08-25T18:16:17.894Z"
   },
   {
    "duration": 5,
    "start_time": "2023-08-25T18:16:17.914Z"
   },
   {
    "duration": 7,
    "start_time": "2023-08-25T18:16:17.921Z"
   },
   {
    "duration": 27,
    "start_time": "2023-08-25T18:16:17.930Z"
   },
   {
    "duration": 19,
    "start_time": "2023-08-25T18:16:17.959Z"
   },
   {
    "duration": 8,
    "start_time": "2023-08-25T18:16:17.988Z"
   },
   {
    "duration": 13,
    "start_time": "2023-08-25T18:16:17.999Z"
   },
   {
    "duration": 12,
    "start_time": "2023-08-25T18:16:18.013Z"
   },
   {
    "duration": 7,
    "start_time": "2023-08-25T18:16:18.027Z"
   },
   {
    "duration": 11,
    "start_time": "2023-08-25T18:16:18.036Z"
   },
   {
    "duration": 28,
    "start_time": "2023-08-25T18:21:52.401Z"
   },
   {
    "duration": 5,
    "start_time": "2023-08-25T18:22:11.398Z"
   },
   {
    "duration": 13,
    "start_time": "2023-08-25T18:26:25.837Z"
   },
   {
    "duration": 20,
    "start_time": "2023-08-25T18:26:30.267Z"
   },
   {
    "duration": 19,
    "start_time": "2023-08-25T18:26:52.126Z"
   },
   {
    "duration": 18,
    "start_time": "2023-08-25T18:27:51.443Z"
   },
   {
    "duration": 33,
    "start_time": "2023-08-25T18:28:04.189Z"
   },
   {
    "duration": 14,
    "start_time": "2023-08-25T18:28:30.682Z"
   },
   {
    "duration": 14,
    "start_time": "2023-08-25T18:28:37.552Z"
   },
   {
    "duration": 15,
    "start_time": "2023-08-25T18:29:01.227Z"
   },
   {
    "duration": 14,
    "start_time": "2023-08-25T18:29:48.997Z"
   },
   {
    "duration": 386,
    "start_time": "2023-08-25T18:30:45.644Z"
   },
   {
    "duration": 12,
    "start_time": "2023-08-25T18:30:50.782Z"
   },
   {
    "duration": 11,
    "start_time": "2023-08-25T18:30:54.886Z"
   },
   {
    "duration": 13,
    "start_time": "2023-08-25T18:31:08.501Z"
   },
   {
    "duration": 15,
    "start_time": "2023-08-25T18:31:16.896Z"
   },
   {
    "duration": 14,
    "start_time": "2023-08-25T18:34:56.996Z"
   },
   {
    "duration": 6,
    "start_time": "2023-08-25T18:38:38.441Z"
   },
   {
    "duration": 9,
    "start_time": "2023-08-25T18:38:46.041Z"
   },
   {
    "duration": 13,
    "start_time": "2023-08-25T18:39:20.482Z"
   },
   {
    "duration": 14,
    "start_time": "2023-08-25T18:39:43.188Z"
   },
   {
    "duration": 7,
    "start_time": "2023-08-25T18:39:52.482Z"
   },
   {
    "duration": 116,
    "start_time": "2023-08-25T18:40:08.022Z"
   },
   {
    "duration": 18,
    "start_time": "2023-08-25T18:40:17.899Z"
   },
   {
    "duration": 10,
    "start_time": "2023-08-25T18:41:55.638Z"
   },
   {
    "duration": 14,
    "start_time": "2023-08-25T18:42:01.014Z"
   },
   {
    "duration": 48,
    "start_time": "2023-08-28T12:29:02.685Z"
   },
   {
    "duration": 1473,
    "start_time": "2023-08-28T12:29:05.841Z"
   },
   {
    "duration": 161,
    "start_time": "2023-08-28T12:29:07.316Z"
   },
   {
    "duration": 17,
    "start_time": "2023-08-28T12:29:07.479Z"
   },
   {
    "duration": 12,
    "start_time": "2023-08-28T12:29:07.498Z"
   },
   {
    "duration": 10,
    "start_time": "2023-08-28T12:29:07.512Z"
   },
   {
    "duration": 7,
    "start_time": "2023-08-28T12:29:07.524Z"
   },
   {
    "duration": 15,
    "start_time": "2023-08-28T12:29:07.533Z"
   },
   {
    "duration": 13,
    "start_time": "2023-08-28T12:29:07.549Z"
   },
   {
    "duration": 45,
    "start_time": "2023-08-28T12:29:07.564Z"
   },
   {
    "duration": 4,
    "start_time": "2023-08-28T12:29:07.612Z"
   },
   {
    "duration": 11,
    "start_time": "2023-08-28T12:29:07.618Z"
   },
   {
    "duration": 8,
    "start_time": "2023-08-28T12:29:07.631Z"
   },
   {
    "duration": 5,
    "start_time": "2023-08-28T12:29:07.641Z"
   },
   {
    "duration": 8,
    "start_time": "2023-08-28T12:29:07.647Z"
   },
   {
    "duration": 10,
    "start_time": "2023-08-28T12:29:07.656Z"
   },
   {
    "duration": 42,
    "start_time": "2023-08-28T12:29:07.668Z"
   },
   {
    "duration": 11,
    "start_time": "2023-08-28T12:29:07.712Z"
   },
   {
    "duration": 5,
    "start_time": "2023-08-28T12:29:07.725Z"
   },
   {
    "duration": 4,
    "start_time": "2023-08-28T12:29:07.732Z"
   },
   {
    "duration": 11,
    "start_time": "2023-08-28T12:29:07.738Z"
   },
   {
    "duration": 2,
    "start_time": "2023-08-28T12:29:07.751Z"
   },
   {
    "duration": 12,
    "start_time": "2023-08-28T12:29:07.755Z"
   },
   {
    "duration": 42,
    "start_time": "2023-08-28T12:29:07.768Z"
   },
   {
    "duration": 6,
    "start_time": "2023-08-28T12:29:07.812Z"
   },
   {
    "duration": 7,
    "start_time": "2023-08-28T12:29:07.819Z"
   },
   {
    "duration": 6,
    "start_time": "2023-08-28T12:29:07.827Z"
   },
   {
    "duration": 6,
    "start_time": "2023-08-28T12:29:07.835Z"
   },
   {
    "duration": 6,
    "start_time": "2023-08-28T12:29:07.846Z"
   },
   {
    "duration": 6,
    "start_time": "2023-08-28T12:29:07.854Z"
   },
   {
    "duration": 50,
    "start_time": "2023-08-28T12:29:07.862Z"
   },
   {
    "duration": 7,
    "start_time": "2023-08-28T12:29:07.914Z"
   },
   {
    "duration": 7,
    "start_time": "2023-08-28T12:29:07.923Z"
   },
   {
    "duration": 314,
    "start_time": "2023-08-28T12:29:07.932Z"
   },
   {
    "duration": 213,
    "start_time": "2023-08-28T12:29:08.248Z"
   },
   {
    "duration": 9,
    "start_time": "2023-08-28T12:29:08.463Z"
   },
   {
    "duration": 64,
    "start_time": "2023-08-28T12:29:08.474Z"
   },
   {
    "duration": 16,
    "start_time": "2023-08-28T12:29:08.540Z"
   },
   {
    "duration": 8,
    "start_time": "2023-08-28T12:29:08.558Z"
   },
   {
    "duration": 8,
    "start_time": "2023-08-28T12:29:08.568Z"
   },
   {
    "duration": 32,
    "start_time": "2023-08-28T12:29:08.578Z"
   },
   {
    "duration": 9,
    "start_time": "2023-08-28T12:29:08.612Z"
   },
   {
    "duration": 8,
    "start_time": "2023-08-28T12:29:08.623Z"
   },
   {
    "duration": 11,
    "start_time": "2023-08-28T12:29:08.633Z"
   },
   {
    "duration": 17,
    "start_time": "2023-08-28T12:29:08.645Z"
   },
   {
    "duration": 8,
    "start_time": "2023-08-28T12:29:08.665Z"
   },
   {
    "duration": 7,
    "start_time": "2023-08-28T12:29:08.674Z"
   },
   {
    "duration": 47,
    "start_time": "2023-08-28T12:29:08.682Z"
   },
   {
    "duration": 7,
    "start_time": "2023-08-28T12:29:08.731Z"
   },
   {
    "duration": 20,
    "start_time": "2023-08-28T12:29:08.739Z"
   },
   {
    "duration": 14,
    "start_time": "2023-08-28T12:29:08.760Z"
   },
   {
    "duration": 173,
    "start_time": "2023-08-28T12:29:08.776Z"
   },
   {
    "duration": 489,
    "start_time": "2023-08-28T12:29:08.950Z"
   },
   {
    "duration": 316,
    "start_time": "2023-08-28T12:29:09.441Z"
   },
   {
    "duration": 135,
    "start_time": "2023-08-28T12:29:09.758Z"
   },
   {
    "duration": 274,
    "start_time": "2023-08-28T12:29:09.895Z"
   },
   {
    "duration": 147,
    "start_time": "2023-08-28T12:29:10.170Z"
   },
   {
    "duration": 274,
    "start_time": "2023-08-28T12:29:10.318Z"
   },
   {
    "duration": 143,
    "start_time": "2023-08-28T12:29:10.594Z"
   },
   {
    "duration": 278,
    "start_time": "2023-08-28T12:29:10.738Z"
   },
   {
    "duration": 162,
    "start_time": "2023-08-28T12:29:11.017Z"
   },
   {
    "duration": 284,
    "start_time": "2023-08-28T12:29:11.180Z"
   },
   {
    "duration": 147,
    "start_time": "2023-08-28T12:29:11.466Z"
   },
   {
    "duration": 349,
    "start_time": "2023-08-28T12:29:11.615Z"
   },
   {
    "duration": 204,
    "start_time": "2023-08-28T12:29:11.966Z"
   },
   {
    "duration": 17,
    "start_time": "2023-08-28T12:29:12.171Z"
   },
   {
    "duration": 34,
    "start_time": "2023-08-28T12:29:12.189Z"
   },
   {
    "duration": 7,
    "start_time": "2023-08-28T12:29:12.225Z"
   },
   {
    "duration": 15,
    "start_time": "2023-08-28T12:29:12.234Z"
   },
   {
    "duration": 569,
    "start_time": "2023-08-28T12:29:12.250Z"
   },
   {
    "duration": 11,
    "start_time": "2023-08-28T12:29:12.821Z"
   },
   {
    "duration": 39,
    "start_time": "2023-08-28T12:29:12.834Z"
   },
   {
    "duration": 4,
    "start_time": "2023-08-28T12:29:12.875Z"
   },
   {
    "duration": 16,
    "start_time": "2023-08-28T12:29:12.880Z"
   },
   {
    "duration": 11,
    "start_time": "2023-08-28T12:29:12.898Z"
   },
   {
    "duration": 21,
    "start_time": "2023-08-28T12:29:12.911Z"
   },
   {
    "duration": 18,
    "start_time": "2023-08-28T12:29:12.934Z"
   },
   {
    "duration": 22,
    "start_time": "2023-08-28T12:29:12.954Z"
   },
   {
    "duration": 18,
    "start_time": "2023-08-28T12:29:12.978Z"
   },
   {
    "duration": 20,
    "start_time": "2023-08-28T12:29:12.998Z"
   },
   {
    "duration": 13,
    "start_time": "2023-08-28T12:29:13.021Z"
   },
   {
    "duration": 15,
    "start_time": "2023-08-28T12:29:13.036Z"
   },
   {
    "duration": 4,
    "start_time": "2023-08-28T12:29:13.058Z"
   },
   {
    "duration": 13,
    "start_time": "2023-08-28T12:29:13.064Z"
   },
   {
    "duration": 6,
    "start_time": "2023-08-28T12:29:13.079Z"
   },
   {
    "duration": 35,
    "start_time": "2023-08-28T12:29:13.087Z"
   },
   {
    "duration": 6,
    "start_time": "2023-08-28T12:29:13.125Z"
   },
   {
    "duration": 15,
    "start_time": "2023-08-28T12:29:13.133Z"
   },
   {
    "duration": 7,
    "start_time": "2023-08-28T12:29:13.150Z"
   },
   {
    "duration": 20,
    "start_time": "2023-08-28T12:29:13.158Z"
   },
   {
    "duration": 31,
    "start_time": "2023-08-28T12:29:13.179Z"
   },
   {
    "duration": 24,
    "start_time": "2023-08-28T12:29:13.212Z"
   },
   {
    "duration": 6,
    "start_time": "2023-08-28T12:29:13.237Z"
   },
   {
    "duration": 70,
    "start_time": "2023-08-28T12:29:13.244Z"
   },
   {
    "duration": 5,
    "start_time": "2023-08-28T12:29:13.315Z"
   },
   {
    "duration": 35,
    "start_time": "2023-08-28T12:29:13.322Z"
   },
   {
    "duration": 23,
    "start_time": "2023-08-28T12:29:13.359Z"
   },
   {
    "duration": 25,
    "start_time": "2023-08-28T12:29:13.384Z"
   },
   {
    "duration": 3,
    "start_time": "2023-08-28T12:29:13.411Z"
   },
   {
    "duration": 20,
    "start_time": "2023-08-28T12:29:13.416Z"
   },
   {
    "duration": 79,
    "start_time": "2023-08-28T12:29:13.438Z"
   },
   {
    "duration": 3,
    "start_time": "2023-08-28T12:29:13.519Z"
   },
   {
    "duration": 68,
    "start_time": "2023-08-28T12:29:13.524Z"
   },
   {
    "duration": 88,
    "start_time": "2023-08-28T12:29:13.593Z"
   },
   {
    "duration": 3,
    "start_time": "2023-08-28T12:29:13.683Z"
   },
   {
    "duration": 8,
    "start_time": "2023-08-28T12:29:13.688Z"
   },
   {
    "duration": 40,
    "start_time": "2023-08-28T12:29:13.697Z"
   },
   {
    "duration": 3,
    "start_time": "2023-08-28T12:29:13.739Z"
   },
   {
    "duration": 6,
    "start_time": "2023-08-28T12:29:13.744Z"
   },
   {
    "duration": 41,
    "start_time": "2023-08-28T12:29:13.751Z"
   },
   {
    "duration": 19,
    "start_time": "2023-08-28T12:29:13.793Z"
   },
   {
    "duration": 10,
    "start_time": "2023-08-28T12:29:13.813Z"
   },
   {
    "duration": 72,
    "start_time": "2023-08-28T12:29:13.825Z"
   },
   {
    "duration": 3,
    "start_time": "2023-08-28T12:29:13.898Z"
   },
   {
    "duration": 16,
    "start_time": "2023-08-28T12:29:13.903Z"
   },
   {
    "duration": 24,
    "start_time": "2023-08-28T12:29:13.921Z"
   },
   {
    "duration": 50,
    "start_time": "2023-08-28T12:29:13.947Z"
   },
   {
    "duration": 12,
    "start_time": "2023-08-28T12:29:13.999Z"
   },
   {
    "duration": 11,
    "start_time": "2023-08-28T12:29:14.013Z"
   },
   {
    "duration": 79,
    "start_time": "2023-08-28T12:29:14.026Z"
   },
   {
    "duration": 0,
    "start_time": "2023-08-28T12:29:14.107Z"
   },
   {
    "duration": 0,
    "start_time": "2023-08-28T12:29:14.108Z"
   },
   {
    "duration": 0,
    "start_time": "2023-08-28T12:29:14.109Z"
   },
   {
    "duration": 0,
    "start_time": "2023-08-28T12:29:14.111Z"
   },
   {
    "duration": 0,
    "start_time": "2023-08-28T12:29:14.112Z"
   },
   {
    "duration": 0,
    "start_time": "2023-08-28T12:29:14.114Z"
   },
   {
    "duration": 0,
    "start_time": "2023-08-28T12:29:14.117Z"
   },
   {
    "duration": 0,
    "start_time": "2023-08-28T12:29:14.118Z"
   },
   {
    "duration": 0,
    "start_time": "2023-08-28T12:29:14.120Z"
   },
   {
    "duration": 0,
    "start_time": "2023-08-28T12:29:14.122Z"
   },
   {
    "duration": 0,
    "start_time": "2023-08-28T12:29:14.124Z"
   },
   {
    "duration": 0,
    "start_time": "2023-08-28T12:29:14.125Z"
   },
   {
    "duration": 0,
    "start_time": "2023-08-28T12:29:14.126Z"
   },
   {
    "duration": 0,
    "start_time": "2023-08-28T12:29:14.128Z"
   },
   {
    "duration": 0,
    "start_time": "2023-08-28T12:29:14.129Z"
   },
   {
    "duration": 0,
    "start_time": "2023-08-28T12:29:14.130Z"
   },
   {
    "duration": 0,
    "start_time": "2023-08-28T12:29:14.132Z"
   },
   {
    "duration": 0,
    "start_time": "2023-08-28T12:29:14.133Z"
   },
   {
    "duration": 0,
    "start_time": "2023-08-28T12:29:14.135Z"
   },
   {
    "duration": 0,
    "start_time": "2023-08-28T12:29:14.136Z"
   },
   {
    "duration": 0,
    "start_time": "2023-08-28T12:29:14.137Z"
   },
   {
    "duration": 3,
    "start_time": "2023-08-28T12:29:33.295Z"
   },
   {
    "duration": 88,
    "start_time": "2023-08-28T12:29:33.300Z"
   },
   {
    "duration": 15,
    "start_time": "2023-08-28T12:29:33.390Z"
   },
   {
    "duration": 28,
    "start_time": "2023-08-28T12:29:33.407Z"
   },
   {
    "duration": 22,
    "start_time": "2023-08-28T12:29:33.437Z"
   },
   {
    "duration": 21,
    "start_time": "2023-08-28T12:29:33.461Z"
   },
   {
    "duration": 24,
    "start_time": "2023-08-28T12:29:33.484Z"
   },
   {
    "duration": 26,
    "start_time": "2023-08-28T12:29:33.510Z"
   },
   {
    "duration": 35,
    "start_time": "2023-08-28T12:29:33.538Z"
   },
   {
    "duration": 27,
    "start_time": "2023-08-28T12:29:33.575Z"
   },
   {
    "duration": 41,
    "start_time": "2023-08-28T12:29:33.604Z"
   },
   {
    "duration": 20,
    "start_time": "2023-08-28T12:29:33.647Z"
   },
   {
    "duration": 22,
    "start_time": "2023-08-28T12:29:33.669Z"
   },
   {
    "duration": 32,
    "start_time": "2023-08-28T12:29:33.693Z"
   },
   {
    "duration": 39,
    "start_time": "2023-08-28T12:29:33.727Z"
   },
   {
    "duration": 12,
    "start_time": "2023-08-28T12:29:33.768Z"
   },
   {
    "duration": 23,
    "start_time": "2023-08-28T12:29:33.782Z"
   },
   {
    "duration": 29,
    "start_time": "2023-08-28T12:29:33.807Z"
   },
   {
    "duration": 22,
    "start_time": "2023-08-28T12:29:33.838Z"
   },
   {
    "duration": 25,
    "start_time": "2023-08-28T12:29:33.861Z"
   },
   {
    "duration": 6,
    "start_time": "2023-08-28T12:29:33.888Z"
   },
   {
    "duration": 21,
    "start_time": "2023-08-28T12:29:33.895Z"
   },
   {
    "duration": 24,
    "start_time": "2023-08-28T12:29:33.918Z"
   },
   {
    "duration": 14,
    "start_time": "2023-08-28T12:29:33.946Z"
   },
   {
    "duration": 15,
    "start_time": "2023-08-28T12:29:33.962Z"
   },
   {
    "duration": 16,
    "start_time": "2023-08-28T12:29:33.979Z"
   },
   {
    "duration": 19,
    "start_time": "2023-08-28T12:29:33.997Z"
   },
   {
    "duration": 12,
    "start_time": "2023-08-28T12:29:34.017Z"
   },
   {
    "duration": 23,
    "start_time": "2023-08-28T12:29:34.031Z"
   },
   {
    "duration": 22,
    "start_time": "2023-08-28T12:29:34.056Z"
   },
   {
    "duration": 14,
    "start_time": "2023-08-28T12:29:34.080Z"
   },
   {
    "duration": 14,
    "start_time": "2023-08-28T12:29:34.096Z"
   },
   {
    "duration": 301,
    "start_time": "2023-08-28T12:29:34.112Z"
   },
   {
    "duration": 219,
    "start_time": "2023-08-28T12:29:34.415Z"
   },
   {
    "duration": 9,
    "start_time": "2023-08-28T12:29:34.635Z"
   },
   {
    "duration": 31,
    "start_time": "2023-08-28T12:29:34.646Z"
   },
   {
    "duration": 45,
    "start_time": "2023-08-28T12:29:34.679Z"
   },
   {
    "duration": 38,
    "start_time": "2023-08-28T12:29:34.725Z"
   },
   {
    "duration": 35,
    "start_time": "2023-08-28T12:29:34.765Z"
   },
   {
    "duration": 33,
    "start_time": "2023-08-28T12:29:34.802Z"
   },
   {
    "duration": 26,
    "start_time": "2023-08-28T12:29:34.837Z"
   },
   {
    "duration": 49,
    "start_time": "2023-08-28T12:29:34.865Z"
   },
   {
    "duration": 34,
    "start_time": "2023-08-28T12:29:34.916Z"
   },
   {
    "duration": 38,
    "start_time": "2023-08-28T12:29:34.952Z"
   },
   {
    "duration": 38,
    "start_time": "2023-08-28T12:29:34.992Z"
   },
   {
    "duration": 55,
    "start_time": "2023-08-28T12:29:35.032Z"
   },
   {
    "duration": 54,
    "start_time": "2023-08-28T12:29:35.089Z"
   },
   {
    "duration": 39,
    "start_time": "2023-08-28T12:29:35.144Z"
   },
   {
    "duration": 31,
    "start_time": "2023-08-28T12:29:35.185Z"
   },
   {
    "duration": 28,
    "start_time": "2023-08-28T12:29:35.218Z"
   },
   {
    "duration": 193,
    "start_time": "2023-08-28T12:29:35.248Z"
   },
   {
    "duration": 385,
    "start_time": "2023-08-28T12:29:35.443Z"
   },
   {
    "duration": 309,
    "start_time": "2023-08-28T12:29:35.831Z"
   },
   {
    "duration": 141,
    "start_time": "2023-08-28T12:29:36.142Z"
   },
   {
    "duration": 370,
    "start_time": "2023-08-28T12:29:36.285Z"
   },
   {
    "duration": 161,
    "start_time": "2023-08-28T12:29:36.658Z"
   },
   {
    "duration": 274,
    "start_time": "2023-08-28T12:29:36.822Z"
   },
   {
    "duration": 135,
    "start_time": "2023-08-28T12:29:37.098Z"
   },
   {
    "duration": 285,
    "start_time": "2023-08-28T12:29:37.235Z"
   },
   {
    "duration": 155,
    "start_time": "2023-08-28T12:29:37.522Z"
   },
   {
    "duration": 276,
    "start_time": "2023-08-28T12:29:37.678Z"
   },
   {
    "duration": 146,
    "start_time": "2023-08-28T12:29:37.956Z"
   },
   {
    "duration": 257,
    "start_time": "2023-08-28T12:29:38.108Z"
   },
   {
    "duration": 214,
    "start_time": "2023-08-28T12:29:38.367Z"
   },
   {
    "duration": 29,
    "start_time": "2023-08-28T12:29:38.584Z"
   },
   {
    "duration": 32,
    "start_time": "2023-08-28T12:29:38.615Z"
   },
   {
    "duration": 40,
    "start_time": "2023-08-28T12:29:38.649Z"
   },
   {
    "duration": 28,
    "start_time": "2023-08-28T12:29:38.691Z"
   },
   {
    "duration": 554,
    "start_time": "2023-08-28T12:29:38.728Z"
   },
   {
    "duration": 12,
    "start_time": "2023-08-28T12:29:39.284Z"
   },
   {
    "duration": 26,
    "start_time": "2023-08-28T12:29:39.310Z"
   },
   {
    "duration": 78,
    "start_time": "2023-08-28T12:29:39.338Z"
   },
   {
    "duration": 39,
    "start_time": "2023-08-28T12:29:39.418Z"
   },
   {
    "duration": 36,
    "start_time": "2023-08-28T12:29:39.459Z"
   },
   {
    "duration": 38,
    "start_time": "2023-08-28T12:29:39.497Z"
   },
   {
    "duration": 56,
    "start_time": "2023-08-28T12:29:39.537Z"
   },
   {
    "duration": 44,
    "start_time": "2023-08-28T12:29:39.595Z"
   },
   {
    "duration": 28,
    "start_time": "2023-08-28T12:29:39.642Z"
   },
   {
    "duration": 73,
    "start_time": "2023-08-28T12:29:39.672Z"
   },
   {
    "duration": 38,
    "start_time": "2023-08-28T12:29:39.747Z"
   },
   {
    "duration": 43,
    "start_time": "2023-08-28T12:29:39.787Z"
   },
   {
    "duration": 38,
    "start_time": "2023-08-28T12:29:39.832Z"
   },
   {
    "duration": 46,
    "start_time": "2023-08-28T12:29:39.872Z"
   },
   {
    "duration": 23,
    "start_time": "2023-08-28T12:29:39.920Z"
   },
   {
    "duration": 39,
    "start_time": "2023-08-28T12:29:39.944Z"
   },
   {
    "duration": 49,
    "start_time": "2023-08-28T12:29:39.985Z"
   },
   {
    "duration": 39,
    "start_time": "2023-08-28T12:29:40.036Z"
   },
   {
    "duration": 33,
    "start_time": "2023-08-28T12:29:40.077Z"
   },
   {
    "duration": 93,
    "start_time": "2023-08-28T12:29:40.112Z"
   },
   {
    "duration": 23,
    "start_time": "2023-08-28T12:29:40.208Z"
   },
   {
    "duration": 41,
    "start_time": "2023-08-28T12:29:40.232Z"
   },
   {
    "duration": 28,
    "start_time": "2023-08-28T12:29:40.275Z"
   },
   {
    "duration": 73,
    "start_time": "2023-08-28T12:29:40.304Z"
   },
   {
    "duration": 5,
    "start_time": "2023-08-28T12:29:40.379Z"
   },
   {
    "duration": 35,
    "start_time": "2023-08-28T12:29:40.386Z"
   },
   {
    "duration": 58,
    "start_time": "2023-08-28T12:29:40.423Z"
   },
   {
    "duration": 33,
    "start_time": "2023-08-28T12:29:40.484Z"
   },
   {
    "duration": 18,
    "start_time": "2023-08-28T12:29:40.519Z"
   },
   {
    "duration": 44,
    "start_time": "2023-08-28T12:29:40.539Z"
   },
   {
    "duration": 89,
    "start_time": "2023-08-28T12:29:40.584Z"
   },
   {
    "duration": 12,
    "start_time": "2023-08-28T12:29:40.674Z"
   },
   {
    "duration": 21,
    "start_time": "2023-08-28T12:29:40.688Z"
   },
   {
    "duration": 91,
    "start_time": "2023-08-28T12:29:40.711Z"
   },
   {
    "duration": 3,
    "start_time": "2023-08-28T12:29:40.804Z"
   },
   {
    "duration": 14,
    "start_time": "2023-08-28T12:29:40.808Z"
   },
   {
    "duration": 46,
    "start_time": "2023-08-28T12:29:40.824Z"
   },
   {
    "duration": 7,
    "start_time": "2023-08-28T12:29:40.871Z"
   },
   {
    "duration": 36,
    "start_time": "2023-08-28T12:29:40.880Z"
   },
   {
    "duration": 74,
    "start_time": "2023-08-28T12:29:40.918Z"
   },
   {
    "duration": 5,
    "start_time": "2023-08-28T12:29:40.994Z"
   },
   {
    "duration": 60,
    "start_time": "2023-08-28T12:29:41.000Z"
   },
   {
    "duration": 79,
    "start_time": "2023-08-28T12:29:41.062Z"
   },
   {
    "duration": 3,
    "start_time": "2023-08-28T12:29:41.143Z"
   },
   {
    "duration": 21,
    "start_time": "2023-08-28T12:29:41.148Z"
   },
   {
    "duration": 39,
    "start_time": "2023-08-28T12:29:41.171Z"
   },
   {
    "duration": 61,
    "start_time": "2023-08-28T12:29:41.213Z"
   },
   {
    "duration": 31,
    "start_time": "2023-08-28T12:29:41.276Z"
   },
   {
    "duration": 41,
    "start_time": "2023-08-28T12:29:41.309Z"
   },
   {
    "duration": 11,
    "start_time": "2023-08-28T12:29:41.351Z"
   },
   {
    "duration": 53,
    "start_time": "2023-08-28T12:29:41.363Z"
   },
   {
    "duration": 30,
    "start_time": "2023-08-28T12:29:41.418Z"
   },
   {
    "duration": 22,
    "start_time": "2023-08-28T12:29:41.450Z"
   },
   {
    "duration": 20,
    "start_time": "2023-08-28T12:29:41.474Z"
   },
   {
    "duration": 23,
    "start_time": "2023-08-28T12:29:41.496Z"
   },
   {
    "duration": 30,
    "start_time": "2023-08-28T12:29:41.521Z"
   },
   {
    "duration": 30,
    "start_time": "2023-08-28T12:29:41.553Z"
   },
   {
    "duration": 52,
    "start_time": "2023-08-28T12:29:41.585Z"
   },
   {
    "duration": 34,
    "start_time": "2023-08-28T12:29:41.639Z"
   },
   {
    "duration": 30,
    "start_time": "2023-08-28T12:29:41.675Z"
   },
   {
    "duration": 29,
    "start_time": "2023-08-28T12:29:41.707Z"
   },
   {
    "duration": 24,
    "start_time": "2023-08-28T12:29:41.738Z"
   },
   {
    "duration": 61,
    "start_time": "2023-08-28T12:29:41.764Z"
   },
   {
    "duration": 53,
    "start_time": "2023-08-28T12:29:41.826Z"
   },
   {
    "duration": 38,
    "start_time": "2023-08-28T12:29:41.880Z"
   },
   {
    "duration": 21,
    "start_time": "2023-08-28T12:29:41.920Z"
   },
   {
    "duration": 29,
    "start_time": "2023-08-28T12:29:41.943Z"
   },
   {
    "duration": 60,
    "start_time": "2023-08-28T12:29:41.974Z"
   },
   {
    "duration": 37,
    "start_time": "2023-08-28T12:29:42.035Z"
   },
   {
    "duration": 27,
    "start_time": "2023-08-28T12:29:42.073Z"
   },
   {
    "duration": 13,
    "start_time": "2023-08-28T12:30:12.038Z"
   },
   {
    "duration": 27,
    "start_time": "2023-08-28T12:30:14.005Z"
   },
   {
    "duration": 95,
    "start_time": "2023-08-28T12:30:29.901Z"
   },
   {
    "duration": 13,
    "start_time": "2023-08-28T12:30:34.051Z"
   },
   {
    "duration": 9,
    "start_time": "2023-08-28T12:30:37.157Z"
   },
   {
    "duration": 9,
    "start_time": "2023-08-28T12:30:38.596Z"
   },
   {
    "duration": 16,
    "start_time": "2023-08-28T12:30:39.893Z"
   },
   {
    "duration": 14,
    "start_time": "2023-08-28T12:39:26.396Z"
   },
   {
    "duration": 4,
    "start_time": "2023-08-28T12:39:31.849Z"
   },
   {
    "duration": 119,
    "start_time": "2023-08-28T12:39:31.855Z"
   },
   {
    "duration": 17,
    "start_time": "2023-08-28T12:39:31.976Z"
   },
   {
    "duration": 39,
    "start_time": "2023-08-28T12:39:31.996Z"
   },
   {
    "duration": 19,
    "start_time": "2023-08-28T12:39:32.037Z"
   },
   {
    "duration": 13,
    "start_time": "2023-08-28T12:39:32.058Z"
   },
   {
    "duration": 19,
    "start_time": "2023-08-28T12:39:32.073Z"
   },
   {
    "duration": 53,
    "start_time": "2023-08-28T12:39:32.094Z"
   },
   {
    "duration": 21,
    "start_time": "2023-08-28T12:39:32.150Z"
   },
   {
    "duration": 37,
    "start_time": "2023-08-28T12:39:32.173Z"
   },
   {
    "duration": 62,
    "start_time": "2023-08-28T12:39:32.212Z"
   },
   {
    "duration": 167,
    "start_time": "2023-08-28T12:39:32.276Z"
   },
   {
    "duration": 25,
    "start_time": "2023-08-28T12:39:32.445Z"
   },
   {
    "duration": 8,
    "start_time": "2023-08-28T12:39:32.472Z"
   },
   {
    "duration": 38,
    "start_time": "2023-08-28T12:39:32.482Z"
   },
   {
    "duration": 20,
    "start_time": "2023-08-28T12:39:32.522Z"
   },
   {
    "duration": 16,
    "start_time": "2023-08-28T12:39:32.544Z"
   },
   {
    "duration": 24,
    "start_time": "2023-08-28T12:39:32.563Z"
   },
   {
    "duration": 20,
    "start_time": "2023-08-28T12:39:32.589Z"
   },
   {
    "duration": 7,
    "start_time": "2023-08-28T12:39:32.611Z"
   },
   {
    "duration": 13,
    "start_time": "2023-08-28T12:39:32.620Z"
   },
   {
    "duration": 4,
    "start_time": "2023-08-28T12:39:32.636Z"
   },
   {
    "duration": 14,
    "start_time": "2023-08-28T12:39:32.642Z"
   },
   {
    "duration": 19,
    "start_time": "2023-08-28T12:39:32.661Z"
   },
   {
    "duration": 31,
    "start_time": "2023-08-28T12:39:32.684Z"
   },
   {
    "duration": 10,
    "start_time": "2023-08-28T12:39:32.718Z"
   },
   {
    "duration": 24,
    "start_time": "2023-08-28T12:39:32.730Z"
   },
   {
    "duration": 7,
    "start_time": "2023-08-28T12:39:32.756Z"
   },
   {
    "duration": 13,
    "start_time": "2023-08-28T12:39:32.765Z"
   },
   {
    "duration": 20,
    "start_time": "2023-08-28T12:39:32.779Z"
   },
   {
    "duration": 25,
    "start_time": "2023-08-28T12:39:32.801Z"
   },
   {
    "duration": 148,
    "start_time": "2023-08-28T12:39:32.828Z"
   },
   {
    "duration": 20,
    "start_time": "2023-08-28T12:39:32.978Z"
   },
   {
    "duration": 405,
    "start_time": "2023-08-28T12:39:33.000Z"
   },
   {
    "duration": 235,
    "start_time": "2023-08-28T12:39:33.408Z"
   },
   {
    "duration": 9,
    "start_time": "2023-08-28T12:39:33.645Z"
   },
   {
    "duration": 22,
    "start_time": "2023-08-28T12:39:33.656Z"
   },
   {
    "duration": 38,
    "start_time": "2023-08-28T12:39:33.680Z"
   },
   {
    "duration": 7,
    "start_time": "2023-08-28T12:39:33.720Z"
   },
   {
    "duration": 18,
    "start_time": "2023-08-28T12:39:33.728Z"
   },
   {
    "duration": 18,
    "start_time": "2023-08-28T12:39:33.748Z"
   },
   {
    "duration": 13,
    "start_time": "2023-08-28T12:39:33.768Z"
   },
   {
    "duration": 31,
    "start_time": "2023-08-28T12:39:33.783Z"
   },
   {
    "duration": 14,
    "start_time": "2023-08-28T12:39:33.817Z"
   },
   {
    "duration": 10,
    "start_time": "2023-08-28T12:39:33.833Z"
   },
   {
    "duration": 8,
    "start_time": "2023-08-28T12:39:33.845Z"
   },
   {
    "duration": 14,
    "start_time": "2023-08-28T12:39:33.855Z"
   },
   {
    "duration": 39,
    "start_time": "2023-08-28T12:39:33.870Z"
   },
   {
    "duration": 6,
    "start_time": "2023-08-28T12:39:33.911Z"
   },
   {
    "duration": 24,
    "start_time": "2023-08-28T12:39:33.919Z"
   },
   {
    "duration": 14,
    "start_time": "2023-08-28T12:39:33.945Z"
   },
   {
    "duration": 167,
    "start_time": "2023-08-28T12:39:33.961Z"
   },
   {
    "duration": 410,
    "start_time": "2023-08-28T12:39:34.130Z"
   },
   {
    "duration": 315,
    "start_time": "2023-08-28T12:39:34.543Z"
   },
   {
    "duration": 173,
    "start_time": "2023-08-28T12:39:34.860Z"
   },
   {
    "duration": 331,
    "start_time": "2023-08-28T12:39:35.035Z"
   },
   {
    "duration": 172,
    "start_time": "2023-08-28T12:39:35.368Z"
   },
   {
    "duration": 305,
    "start_time": "2023-08-28T12:39:35.543Z"
   },
   {
    "duration": 262,
    "start_time": "2023-08-28T12:39:35.851Z"
   },
   {
    "duration": 294,
    "start_time": "2023-08-28T12:39:36.115Z"
   },
   {
    "duration": 156,
    "start_time": "2023-08-28T12:39:36.411Z"
   },
   {
    "duration": 313,
    "start_time": "2023-08-28T12:39:36.569Z"
   },
   {
    "duration": 140,
    "start_time": "2023-08-28T12:39:36.884Z"
   },
   {
    "duration": 262,
    "start_time": "2023-08-28T12:39:37.026Z"
   },
   {
    "duration": 208,
    "start_time": "2023-08-28T12:39:37.290Z"
   },
   {
    "duration": 20,
    "start_time": "2023-08-28T12:39:37.499Z"
   },
   {
    "duration": 21,
    "start_time": "2023-08-28T12:39:37.521Z"
   },
   {
    "duration": 7,
    "start_time": "2023-08-28T12:39:37.544Z"
   },
   {
    "duration": 14,
    "start_time": "2023-08-28T12:39:37.558Z"
   },
   {
    "duration": 605,
    "start_time": "2023-08-28T12:39:37.573Z"
   },
   {
    "duration": 11,
    "start_time": "2023-08-28T12:39:38.180Z"
   },
   {
    "duration": 35,
    "start_time": "2023-08-28T12:39:38.193Z"
   },
   {
    "duration": 29,
    "start_time": "2023-08-28T12:39:38.230Z"
   },
   {
    "duration": 18,
    "start_time": "2023-08-28T12:39:38.261Z"
   },
   {
    "duration": 40,
    "start_time": "2023-08-28T12:39:38.280Z"
   },
   {
    "duration": 42,
    "start_time": "2023-08-28T12:39:38.322Z"
   },
   {
    "duration": 20,
    "start_time": "2023-08-28T12:39:38.366Z"
   },
   {
    "duration": 25,
    "start_time": "2023-08-28T12:39:38.388Z"
   },
   {
    "duration": 23,
    "start_time": "2023-08-28T12:39:38.415Z"
   },
   {
    "duration": 40,
    "start_time": "2023-08-28T12:39:38.439Z"
   },
   {
    "duration": 25,
    "start_time": "2023-08-28T12:39:38.480Z"
   },
   {
    "duration": 25,
    "start_time": "2023-08-28T12:39:38.507Z"
   },
   {
    "duration": 33,
    "start_time": "2023-08-28T12:39:38.534Z"
   },
   {
    "duration": 23,
    "start_time": "2023-08-28T12:39:38.570Z"
   },
   {
    "duration": 26,
    "start_time": "2023-08-28T12:39:38.595Z"
   },
   {
    "duration": 28,
    "start_time": "2023-08-28T12:39:38.623Z"
   },
   {
    "duration": 20,
    "start_time": "2023-08-28T12:39:38.653Z"
   },
   {
    "duration": 17,
    "start_time": "2023-08-28T12:39:38.675Z"
   },
   {
    "duration": 7,
    "start_time": "2023-08-28T12:39:38.693Z"
   },
   {
    "duration": 15,
    "start_time": "2023-08-28T12:39:38.701Z"
   },
   {
    "duration": 10,
    "start_time": "2023-08-28T12:39:38.717Z"
   },
   {
    "duration": 17,
    "start_time": "2023-08-28T12:39:38.729Z"
   },
   {
    "duration": 5,
    "start_time": "2023-08-28T12:39:38.747Z"
   },
   {
    "duration": 87,
    "start_time": "2023-08-28T12:39:38.753Z"
   },
   {
    "duration": 4,
    "start_time": "2023-08-28T12:39:38.842Z"
   },
   {
    "duration": 20,
    "start_time": "2023-08-28T12:39:38.847Z"
   },
   {
    "duration": 56,
    "start_time": "2023-08-28T12:39:38.868Z"
   },
   {
    "duration": 31,
    "start_time": "2023-08-28T12:39:38.926Z"
   },
   {
    "duration": 3,
    "start_time": "2023-08-28T12:39:38.959Z"
   },
   {
    "duration": 38,
    "start_time": "2023-08-28T12:39:38.964Z"
   },
   {
    "duration": 71,
    "start_time": "2023-08-28T12:39:39.004Z"
   },
   {
    "duration": 9,
    "start_time": "2023-08-28T12:39:39.077Z"
   },
   {
    "duration": 8,
    "start_time": "2023-08-28T12:39:39.088Z"
   },
   {
    "duration": 84,
    "start_time": "2023-08-28T12:39:39.098Z"
   },
   {
    "duration": 3,
    "start_time": "2023-08-28T12:39:39.184Z"
   },
   {
    "duration": 7,
    "start_time": "2023-08-28T12:39:39.190Z"
   },
   {
    "duration": 29,
    "start_time": "2023-08-28T12:39:39.199Z"
   },
   {
    "duration": 4,
    "start_time": "2023-08-28T12:39:39.230Z"
   },
   {
    "duration": 24,
    "start_time": "2023-08-28T12:39:39.236Z"
   },
   {
    "duration": 51,
    "start_time": "2023-08-28T12:39:39.262Z"
   },
   {
    "duration": 4,
    "start_time": "2023-08-28T12:39:39.315Z"
   },
   {
    "duration": 5,
    "start_time": "2023-08-28T12:39:39.321Z"
   },
   {
    "duration": 48,
    "start_time": "2023-08-28T12:39:39.327Z"
   },
   {
    "duration": 4,
    "start_time": "2023-08-28T12:39:39.377Z"
   },
   {
    "duration": 29,
    "start_time": "2023-08-28T12:39:39.384Z"
   },
   {
    "duration": 11,
    "start_time": "2023-08-28T12:39:39.415Z"
   },
   {
    "duration": 45,
    "start_time": "2023-08-28T12:39:39.428Z"
   },
   {
    "duration": 14,
    "start_time": "2023-08-28T12:39:39.475Z"
   },
   {
    "duration": 32,
    "start_time": "2023-08-28T12:39:39.491Z"
   },
   {
    "duration": 17,
    "start_time": "2023-08-28T12:39:39.526Z"
   },
   {
    "duration": 11,
    "start_time": "2023-08-28T12:39:39.545Z"
   },
   {
    "duration": 12,
    "start_time": "2023-08-28T12:39:39.558Z"
   },
   {
    "duration": 40,
    "start_time": "2023-08-28T12:39:39.572Z"
   },
   {
    "duration": 5,
    "start_time": "2023-08-28T12:39:39.614Z"
   },
   {
    "duration": 5,
    "start_time": "2023-08-28T12:39:39.621Z"
   },
   {
    "duration": 10,
    "start_time": "2023-08-28T12:39:39.628Z"
   },
   {
    "duration": 7,
    "start_time": "2023-08-28T12:39:39.640Z"
   },
   {
    "duration": 8,
    "start_time": "2023-08-28T12:39:39.649Z"
   },
   {
    "duration": 52,
    "start_time": "2023-08-28T12:39:39.658Z"
   },
   {
    "duration": 8,
    "start_time": "2023-08-28T12:39:39.712Z"
   },
   {
    "duration": 6,
    "start_time": "2023-08-28T12:39:39.722Z"
   },
   {
    "duration": 6,
    "start_time": "2023-08-28T12:39:39.730Z"
   },
   {
    "duration": 3,
    "start_time": "2023-08-28T12:39:39.738Z"
   },
   {
    "duration": 5,
    "start_time": "2023-08-28T12:39:39.743Z"
   },
   {
    "duration": 9,
    "start_time": "2023-08-28T12:39:39.750Z"
   },
   {
    "duration": 52,
    "start_time": "2023-08-28T12:39:39.762Z"
   },
   {
    "duration": 6,
    "start_time": "2023-08-28T12:39:39.816Z"
   },
   {
    "duration": 8,
    "start_time": "2023-08-28T12:39:39.823Z"
   },
   {
    "duration": 6,
    "start_time": "2023-08-28T12:39:39.834Z"
   },
   {
    "duration": 8,
    "start_time": "2023-08-28T12:39:39.842Z"
   },
   {
    "duration": 7,
    "start_time": "2023-08-28T12:39:39.852Z"
   },
   {
    "duration": 7,
    "start_time": "2023-08-28T12:39:52.359Z"
   },
   {
    "duration": 15,
    "start_time": "2023-08-28T12:40:22.222Z"
   },
   {
    "duration": 15,
    "start_time": "2023-08-28T12:40:33.317Z"
   },
   {
    "duration": 19,
    "start_time": "2023-08-28T12:41:42.264Z"
   },
   {
    "duration": 12,
    "start_time": "2023-08-28T12:41:57.368Z"
   },
   {
    "duration": 177,
    "start_time": "2023-08-28T12:48:32.553Z"
   },
   {
    "duration": 16,
    "start_time": "2023-08-28T12:48:40.633Z"
   },
   {
    "duration": 13,
    "start_time": "2023-08-28T12:48:48.026Z"
   },
   {
    "duration": 14,
    "start_time": "2023-08-28T12:48:51.257Z"
   },
   {
    "duration": 61,
    "start_time": "2023-08-29T09:16:09.436Z"
   },
   {
    "duration": 1610,
    "start_time": "2023-08-29T09:16:13.012Z"
   },
   {
    "duration": 196,
    "start_time": "2023-08-29T09:16:14.625Z"
   },
   {
    "duration": 19,
    "start_time": "2023-08-29T09:16:14.822Z"
   },
   {
    "duration": 8,
    "start_time": "2023-08-29T09:16:14.843Z"
   },
   {
    "duration": 26,
    "start_time": "2023-08-29T09:16:14.853Z"
   },
   {
    "duration": 8,
    "start_time": "2023-08-29T09:16:14.881Z"
   },
   {
    "duration": 10,
    "start_time": "2023-08-29T09:16:14.890Z"
   },
   {
    "duration": 14,
    "start_time": "2023-08-29T09:16:14.902Z"
   },
   {
    "duration": 29,
    "start_time": "2023-08-29T09:16:14.918Z"
   },
   {
    "duration": 27,
    "start_time": "2023-08-29T09:16:14.950Z"
   },
   {
    "duration": 22,
    "start_time": "2023-08-29T09:16:14.978Z"
   },
   {
    "duration": 67,
    "start_time": "2023-08-29T09:16:15.002Z"
   },
   {
    "duration": 23,
    "start_time": "2023-08-29T09:16:15.071Z"
   },
   {
    "duration": 23,
    "start_time": "2023-08-29T09:16:15.096Z"
   },
   {
    "duration": 18,
    "start_time": "2023-08-29T09:16:15.121Z"
   },
   {
    "duration": 12,
    "start_time": "2023-08-29T09:16:15.142Z"
   },
   {
    "duration": 22,
    "start_time": "2023-08-29T09:16:15.157Z"
   },
   {
    "duration": 25,
    "start_time": "2023-08-29T09:16:15.181Z"
   },
   {
    "duration": 25,
    "start_time": "2023-08-29T09:16:15.208Z"
   },
   {
    "duration": 8,
    "start_time": "2023-08-29T09:16:15.234Z"
   },
   {
    "duration": 11,
    "start_time": "2023-08-29T09:16:15.244Z"
   },
   {
    "duration": 4,
    "start_time": "2023-08-29T09:16:15.257Z"
   },
   {
    "duration": 19,
    "start_time": "2023-08-29T09:16:15.263Z"
   },
   {
    "duration": 16,
    "start_time": "2023-08-29T09:16:15.284Z"
   },
   {
    "duration": 20,
    "start_time": "2023-08-29T09:16:15.301Z"
   },
   {
    "duration": 13,
    "start_time": "2023-08-29T09:16:15.322Z"
   },
   {
    "duration": 17,
    "start_time": "2023-08-29T09:16:15.337Z"
   },
   {
    "duration": 19,
    "start_time": "2023-08-29T09:16:15.359Z"
   },
   {
    "duration": 25,
    "start_time": "2023-08-29T09:16:15.380Z"
   },
   {
    "duration": 20,
    "start_time": "2023-08-29T09:16:15.406Z"
   },
   {
    "duration": 23,
    "start_time": "2023-08-29T09:16:15.428Z"
   },
   {
    "duration": 15,
    "start_time": "2023-08-29T09:16:15.452Z"
   },
   {
    "duration": 35,
    "start_time": "2023-08-29T09:16:15.468Z"
   },
   {
    "duration": 311,
    "start_time": "2023-08-29T09:16:15.505Z"
   },
   {
    "duration": 214,
    "start_time": "2023-08-29T09:16:15.818Z"
   },
   {
    "duration": 8,
    "start_time": "2023-08-29T09:16:16.033Z"
   },
   {
    "duration": 37,
    "start_time": "2023-08-29T09:16:16.042Z"
   },
   {
    "duration": 29,
    "start_time": "2023-08-29T09:16:16.081Z"
   },
   {
    "duration": 36,
    "start_time": "2023-08-29T09:16:16.112Z"
   },
   {
    "duration": 22,
    "start_time": "2023-08-29T09:16:16.150Z"
   },
   {
    "duration": 15,
    "start_time": "2023-08-29T09:16:16.173Z"
   },
   {
    "duration": 15,
    "start_time": "2023-08-29T09:16:16.190Z"
   },
   {
    "duration": 27,
    "start_time": "2023-08-29T09:16:16.207Z"
   },
   {
    "duration": 15,
    "start_time": "2023-08-29T09:16:16.236Z"
   },
   {
    "duration": 34,
    "start_time": "2023-08-29T09:16:16.253Z"
   },
   {
    "duration": 22,
    "start_time": "2023-08-29T09:16:16.289Z"
   },
   {
    "duration": 59,
    "start_time": "2023-08-29T09:16:16.313Z"
   },
   {
    "duration": 52,
    "start_time": "2023-08-29T09:16:16.374Z"
   },
   {
    "duration": 27,
    "start_time": "2023-08-29T09:16:16.428Z"
   },
   {
    "duration": 26,
    "start_time": "2023-08-29T09:16:16.456Z"
   },
   {
    "duration": 27,
    "start_time": "2023-08-29T09:16:16.484Z"
   },
   {
    "duration": 186,
    "start_time": "2023-08-29T09:16:16.513Z"
   },
   {
    "duration": 463,
    "start_time": "2023-08-29T09:16:16.701Z"
   },
   {
    "duration": 284,
    "start_time": "2023-08-29T09:16:17.166Z"
   },
   {
    "duration": 161,
    "start_time": "2023-08-29T09:16:17.452Z"
   },
   {
    "duration": 281,
    "start_time": "2023-08-29T09:16:17.615Z"
   },
   {
    "duration": 159,
    "start_time": "2023-08-29T09:16:17.899Z"
   },
   {
    "duration": 280,
    "start_time": "2023-08-29T09:16:18.073Z"
   },
   {
    "duration": 152,
    "start_time": "2023-08-29T09:16:18.355Z"
   },
   {
    "duration": 290,
    "start_time": "2023-08-29T09:16:18.509Z"
   },
   {
    "duration": 169,
    "start_time": "2023-08-29T09:16:18.801Z"
   },
   {
    "duration": 308,
    "start_time": "2023-08-29T09:16:18.972Z"
   },
   {
    "duration": 140,
    "start_time": "2023-08-29T09:16:19.282Z"
   },
   {
    "duration": 399,
    "start_time": "2023-08-29T09:16:19.425Z"
   },
   {
    "duration": 227,
    "start_time": "2023-08-29T09:16:19.826Z"
   },
   {
    "duration": 24,
    "start_time": "2023-08-29T09:16:20.055Z"
   },
   {
    "duration": 25,
    "start_time": "2023-08-29T09:16:20.081Z"
   },
   {
    "duration": 19,
    "start_time": "2023-08-29T09:16:20.108Z"
   },
   {
    "duration": 43,
    "start_time": "2023-08-29T09:16:20.130Z"
   },
   {
    "duration": 565,
    "start_time": "2023-08-29T09:16:20.175Z"
   },
   {
    "duration": 15,
    "start_time": "2023-08-29T09:16:20.742Z"
   },
   {
    "duration": 33,
    "start_time": "2023-08-29T09:16:20.759Z"
   },
   {
    "duration": 36,
    "start_time": "2023-08-29T09:16:20.794Z"
   },
   {
    "duration": 9,
    "start_time": "2023-08-29T09:16:20.833Z"
   },
   {
    "duration": 25,
    "start_time": "2023-08-29T09:16:20.844Z"
   },
   {
    "duration": 22,
    "start_time": "2023-08-29T09:16:20.871Z"
   },
   {
    "duration": 33,
    "start_time": "2023-08-29T09:16:20.895Z"
   },
   {
    "duration": 33,
    "start_time": "2023-08-29T09:16:20.930Z"
   },
   {
    "duration": 7,
    "start_time": "2023-08-29T09:16:20.965Z"
   },
   {
    "duration": 20,
    "start_time": "2023-08-29T09:16:20.974Z"
   },
   {
    "duration": 13,
    "start_time": "2023-08-29T09:16:20.996Z"
   },
   {
    "duration": 19,
    "start_time": "2023-08-29T09:16:21.016Z"
   },
   {
    "duration": 16,
    "start_time": "2023-08-29T09:16:21.037Z"
   },
   {
    "duration": 23,
    "start_time": "2023-08-29T09:16:21.054Z"
   },
   {
    "duration": 7,
    "start_time": "2023-08-29T09:16:21.079Z"
   },
   {
    "duration": 40,
    "start_time": "2023-08-29T09:16:21.087Z"
   },
   {
    "duration": 70,
    "start_time": "2023-08-29T09:16:21.128Z"
   },
   {
    "duration": 23,
    "start_time": "2023-08-29T09:16:21.200Z"
   },
   {
    "duration": 7,
    "start_time": "2023-08-29T09:16:21.225Z"
   },
   {
    "duration": 49,
    "start_time": "2023-08-29T09:16:21.234Z"
   },
   {
    "duration": 34,
    "start_time": "2023-08-29T09:16:21.285Z"
   },
   {
    "duration": 40,
    "start_time": "2023-08-29T09:16:21.321Z"
   },
   {
    "duration": 22,
    "start_time": "2023-08-29T09:16:21.364Z"
   },
   {
    "duration": 106,
    "start_time": "2023-08-29T09:16:21.388Z"
   },
   {
    "duration": 4,
    "start_time": "2023-08-29T09:16:21.496Z"
   },
   {
    "duration": 19,
    "start_time": "2023-08-29T09:16:21.502Z"
   },
   {
    "duration": 25,
    "start_time": "2023-08-29T09:16:21.523Z"
   },
   {
    "duration": 32,
    "start_time": "2023-08-29T09:16:21.549Z"
   },
   {
    "duration": 23,
    "start_time": "2023-08-29T09:16:21.583Z"
   },
   {
    "duration": 17,
    "start_time": "2023-08-29T09:16:21.608Z"
   },
   {
    "duration": 70,
    "start_time": "2023-08-29T09:16:21.627Z"
   },
   {
    "duration": 3,
    "start_time": "2023-08-29T09:16:21.699Z"
   },
   {
    "duration": 7,
    "start_time": "2023-08-29T09:16:21.704Z"
   },
   {
    "duration": 66,
    "start_time": "2023-08-29T09:16:21.712Z"
   },
   {
    "duration": 4,
    "start_time": "2023-08-29T09:16:21.780Z"
   },
   {
    "duration": 21,
    "start_time": "2023-08-29T09:16:21.785Z"
   },
   {
    "duration": 30,
    "start_time": "2023-08-29T09:16:21.807Z"
   },
   {
    "duration": 11,
    "start_time": "2023-08-29T09:16:21.839Z"
   },
   {
    "duration": 18,
    "start_time": "2023-08-29T09:16:21.852Z"
   },
   {
    "duration": 26,
    "start_time": "2023-08-29T09:16:21.872Z"
   },
   {
    "duration": 25,
    "start_time": "2023-08-29T09:16:21.900Z"
   },
   {
    "duration": 16,
    "start_time": "2023-08-29T09:16:21.927Z"
   },
   {
    "duration": 47,
    "start_time": "2023-08-29T09:16:21.945Z"
   },
   {
    "duration": 14,
    "start_time": "2023-08-29T09:16:21.994Z"
   },
   {
    "duration": 8,
    "start_time": "2023-08-29T09:16:22.010Z"
   },
   {
    "duration": 19,
    "start_time": "2023-08-29T09:16:22.020Z"
   },
   {
    "duration": 32,
    "start_time": "2023-08-29T09:16:22.040Z"
   },
   {
    "duration": 75,
    "start_time": "2023-08-29T09:16:22.074Z"
   },
   {
    "duration": 0,
    "start_time": "2023-08-29T09:16:22.151Z"
   },
   {
    "duration": 0,
    "start_time": "2023-08-29T09:16:22.168Z"
   },
   {
    "duration": 0,
    "start_time": "2023-08-29T09:16:22.169Z"
   },
   {
    "duration": 0,
    "start_time": "2023-08-29T09:16:22.170Z"
   },
   {
    "duration": 0,
    "start_time": "2023-08-29T09:16:22.171Z"
   },
   {
    "duration": 0,
    "start_time": "2023-08-29T09:16:22.173Z"
   },
   {
    "duration": 0,
    "start_time": "2023-08-29T09:16:22.174Z"
   },
   {
    "duration": 0,
    "start_time": "2023-08-29T09:16:22.176Z"
   },
   {
    "duration": 0,
    "start_time": "2023-08-29T09:16:22.177Z"
   },
   {
    "duration": 0,
    "start_time": "2023-08-29T09:16:22.179Z"
   },
   {
    "duration": 0,
    "start_time": "2023-08-29T09:16:22.180Z"
   },
   {
    "duration": 0,
    "start_time": "2023-08-29T09:16:22.181Z"
   },
   {
    "duration": 0,
    "start_time": "2023-08-29T09:16:22.182Z"
   },
   {
    "duration": 0,
    "start_time": "2023-08-29T09:16:22.184Z"
   },
   {
    "duration": 0,
    "start_time": "2023-08-29T09:16:22.185Z"
   },
   {
    "duration": 0,
    "start_time": "2023-08-29T09:16:22.186Z"
   },
   {
    "duration": 0,
    "start_time": "2023-08-29T09:16:22.187Z"
   },
   {
    "duration": 0,
    "start_time": "2023-08-29T09:16:22.188Z"
   },
   {
    "duration": 0,
    "start_time": "2023-08-29T09:16:22.189Z"
   },
   {
    "duration": 0,
    "start_time": "2023-08-29T09:16:22.190Z"
   },
   {
    "duration": 0,
    "start_time": "2023-08-29T09:16:22.191Z"
   },
   {
    "duration": 0,
    "start_time": "2023-08-29T09:16:22.193Z"
   },
   {
    "duration": 0,
    "start_time": "2023-08-29T09:16:22.195Z"
   },
   {
    "duration": 5,
    "start_time": "2023-08-29T09:17:07.769Z"
   },
   {
    "duration": 41,
    "start_time": "2023-08-29T09:17:16.383Z"
   },
   {
    "duration": 15,
    "start_time": "2023-08-29T09:18:07.152Z"
   },
   {
    "duration": 16,
    "start_time": "2023-08-29T09:19:03.328Z"
   },
   {
    "duration": 24,
    "start_time": "2023-08-29T09:19:34.099Z"
   },
   {
    "duration": 11,
    "start_time": "2023-08-29T09:22:28.492Z"
   },
   {
    "duration": 19,
    "start_time": "2023-08-29T09:22:35.861Z"
   },
   {
    "duration": 10,
    "start_time": "2023-08-29T09:22:39.722Z"
   },
   {
    "duration": 18,
    "start_time": "2023-08-29T09:23:15.127Z"
   },
   {
    "duration": 18,
    "start_time": "2023-08-29T09:23:23.998Z"
   },
   {
    "duration": 12,
    "start_time": "2023-08-29T09:23:44.590Z"
   },
   {
    "duration": 27,
    "start_time": "2023-08-29T09:24:46.601Z"
   },
   {
    "duration": 13,
    "start_time": "2023-08-29T09:25:44.713Z"
   },
   {
    "duration": 14,
    "start_time": "2023-08-29T09:25:48.854Z"
   },
   {
    "duration": 19,
    "start_time": "2023-08-29T09:26:08.726Z"
   },
   {
    "duration": 26,
    "start_time": "2023-08-29T09:26:12.606Z"
   },
   {
    "duration": 25,
    "start_time": "2023-08-29T09:27:11.158Z"
   },
   {
    "duration": 15,
    "start_time": "2023-08-29T09:27:17.027Z"
   },
   {
    "duration": 35,
    "start_time": "2023-08-29T09:27:19.879Z"
   },
   {
    "duration": 56,
    "start_time": "2023-08-29T09:34:35.410Z"
   },
   {
    "duration": 17100,
    "start_time": "2023-08-29T09:34:45.206Z"
   },
   {
    "duration": 19615,
    "start_time": "2023-08-29T09:37:00.925Z"
   },
   {
    "duration": 9,
    "start_time": "2023-08-29T09:38:21.781Z"
   },
   {
    "duration": 1968,
    "start_time": "2023-08-29T09:38:34.493Z"
   },
   {
    "duration": 303,
    "start_time": "2023-08-29T09:38:46.643Z"
   },
   {
    "duration": 5,
    "start_time": "2023-08-29T09:41:19.540Z"
   },
   {
    "duration": 12,
    "start_time": "2023-08-29T09:42:02.430Z"
   },
   {
    "duration": 15,
    "start_time": "2023-08-29T09:42:05.902Z"
   },
   {
    "duration": 9,
    "start_time": "2023-08-29T09:42:52.338Z"
   },
   {
    "duration": 19,
    "start_time": "2023-08-29T09:43:00.152Z"
   },
   {
    "duration": 10,
    "start_time": "2023-08-29T09:43:14.196Z"
   },
   {
    "duration": 15,
    "start_time": "2023-08-29T09:43:17.300Z"
   },
   {
    "duration": 19,
    "start_time": "2023-08-29T09:44:12.834Z"
   },
   {
    "duration": 15,
    "start_time": "2023-08-29T09:44:41.709Z"
   },
   {
    "duration": 7,
    "start_time": "2023-08-29T09:50:07.191Z"
   },
   {
    "duration": 47,
    "start_time": "2023-08-29T09:50:11.686Z"
   },
   {
    "duration": 14,
    "start_time": "2023-08-29T09:51:16.628Z"
   },
   {
    "duration": 16,
    "start_time": "2023-08-29T09:53:00.223Z"
   },
   {
    "duration": 16,
    "start_time": "2023-08-29T09:53:45.895Z"
   },
   {
    "duration": 16,
    "start_time": "2023-08-29T09:54:08.171Z"
   },
   {
    "duration": 17,
    "start_time": "2023-08-29T09:54:30.586Z"
   },
   {
    "duration": 15,
    "start_time": "2023-08-29T09:55:08.806Z"
   },
   {
    "duration": 16,
    "start_time": "2023-08-29T09:55:40.286Z"
   },
   {
    "duration": 1421,
    "start_time": "2023-09-01T07:22:08.100Z"
   },
   {
    "duration": 96,
    "start_time": "2023-09-01T07:22:09.524Z"
   },
   {
    "duration": 17,
    "start_time": "2023-09-01T07:22:09.622Z"
   },
   {
    "duration": 24,
    "start_time": "2023-09-01T07:22:09.641Z"
   },
   {
    "duration": 47,
    "start_time": "2023-09-01T07:22:09.666Z"
   },
   {
    "duration": 122,
    "start_time": "2023-09-01T07:22:09.715Z"
   },
   {
    "duration": 145,
    "start_time": "2023-09-01T07:22:09.839Z"
   },
   {
    "duration": 64,
    "start_time": "2023-09-01T07:22:09.985Z"
   },
   {
    "duration": 31,
    "start_time": "2023-09-01T07:22:10.050Z"
   },
   {
    "duration": 72,
    "start_time": "2023-09-01T07:22:10.084Z"
   },
   {
    "duration": 76,
    "start_time": "2023-09-01T07:22:10.158Z"
   },
   {
    "duration": 101,
    "start_time": "2023-09-01T07:22:10.237Z"
   },
   {
    "duration": 46,
    "start_time": "2023-09-01T07:22:10.340Z"
   },
   {
    "duration": 25,
    "start_time": "2023-09-01T07:22:10.387Z"
   },
   {
    "duration": 31,
    "start_time": "2023-09-01T07:22:10.414Z"
   },
   {
    "duration": 23,
    "start_time": "2023-09-01T07:22:10.447Z"
   },
   {
    "duration": 10,
    "start_time": "2023-09-01T07:22:10.471Z"
   },
   {
    "duration": 99,
    "start_time": "2023-09-01T07:22:10.483Z"
   },
   {
    "duration": 32,
    "start_time": "2023-09-01T07:22:10.584Z"
   },
   {
    "duration": 100,
    "start_time": "2023-09-01T07:22:10.618Z"
   },
   {
    "duration": 41,
    "start_time": "2023-09-01T07:22:10.720Z"
   },
   {
    "duration": 125,
    "start_time": "2023-09-01T07:22:10.762Z"
   },
   {
    "duration": 24,
    "start_time": "2023-09-01T07:22:10.889Z"
   },
   {
    "duration": 98,
    "start_time": "2023-09-01T07:22:10.915Z"
   },
   {
    "duration": 40,
    "start_time": "2023-09-01T07:22:11.015Z"
   },
   {
    "duration": 56,
    "start_time": "2023-09-01T07:22:11.056Z"
   },
   {
    "duration": 20,
    "start_time": "2023-09-01T07:22:11.113Z"
   },
   {
    "duration": 5,
    "start_time": "2023-09-01T07:22:11.137Z"
   },
   {
    "duration": 7,
    "start_time": "2023-09-01T07:22:11.144Z"
   },
   {
    "duration": 19,
    "start_time": "2023-09-01T07:22:11.153Z"
   },
   {
    "duration": 5,
    "start_time": "2023-09-01T07:22:11.174Z"
   },
   {
    "duration": 10,
    "start_time": "2023-09-01T07:22:11.181Z"
   },
   {
    "duration": 12,
    "start_time": "2023-09-01T07:22:11.192Z"
   },
   {
    "duration": 280,
    "start_time": "2023-09-01T07:22:11.206Z"
   },
   {
    "duration": 191,
    "start_time": "2023-09-01T07:22:11.487Z"
   },
   {
    "duration": 7,
    "start_time": "2023-09-01T07:22:11.680Z"
   },
   {
    "duration": 20,
    "start_time": "2023-09-01T07:22:11.689Z"
   },
   {
    "duration": 21,
    "start_time": "2023-09-01T07:22:11.711Z"
   },
   {
    "duration": 8,
    "start_time": "2023-09-01T07:22:11.734Z"
   },
   {
    "duration": 9,
    "start_time": "2023-09-01T07:22:11.743Z"
   },
   {
    "duration": 15,
    "start_time": "2023-09-01T07:22:11.753Z"
   },
   {
    "duration": 27,
    "start_time": "2023-09-01T07:22:11.770Z"
   },
   {
    "duration": 19,
    "start_time": "2023-09-01T07:22:11.799Z"
   },
   {
    "duration": 11,
    "start_time": "2023-09-01T07:22:11.819Z"
   },
   {
    "duration": 11,
    "start_time": "2023-09-01T07:22:11.831Z"
   },
   {
    "duration": 26,
    "start_time": "2023-09-01T07:22:11.844Z"
   },
   {
    "duration": 8,
    "start_time": "2023-09-01T07:22:11.871Z"
   },
   {
    "duration": 34,
    "start_time": "2023-09-01T07:22:11.880Z"
   },
   {
    "duration": 7,
    "start_time": "2023-09-01T07:22:11.916Z"
   },
   {
    "duration": 19,
    "start_time": "2023-09-01T07:22:11.925Z"
   },
   {
    "duration": 12,
    "start_time": "2023-09-01T07:22:11.946Z"
   },
   {
    "duration": 168,
    "start_time": "2023-09-01T07:22:11.960Z"
   },
   {
    "duration": 356,
    "start_time": "2023-09-01T07:22:12.130Z"
   },
   {
    "duration": 337,
    "start_time": "2023-09-01T07:22:12.488Z"
   },
   {
    "duration": 140,
    "start_time": "2023-09-01T07:22:12.827Z"
   },
   {
    "duration": 269,
    "start_time": "2023-09-01T07:22:12.968Z"
   },
   {
    "duration": 135,
    "start_time": "2023-09-01T07:22:13.239Z"
   },
   {
    "duration": 275,
    "start_time": "2023-09-01T07:22:13.377Z"
   },
   {
    "duration": 138,
    "start_time": "2023-09-01T07:22:13.654Z"
   },
   {
    "duration": 262,
    "start_time": "2023-09-01T07:22:13.794Z"
   },
   {
    "duration": 144,
    "start_time": "2023-09-01T07:22:14.058Z"
   },
   {
    "duration": 273,
    "start_time": "2023-09-01T07:22:14.203Z"
   },
   {
    "duration": 133,
    "start_time": "2023-09-01T07:22:14.478Z"
   },
   {
    "duration": 238,
    "start_time": "2023-09-01T07:22:14.612Z"
   },
   {
    "duration": 290,
    "start_time": "2023-09-01T07:22:14.852Z"
   },
   {
    "duration": 16,
    "start_time": "2023-09-01T07:22:15.144Z"
   },
   {
    "duration": 19,
    "start_time": "2023-09-01T07:22:15.161Z"
   },
   {
    "duration": 13,
    "start_time": "2023-09-01T07:22:15.182Z"
   },
   {
    "duration": 41,
    "start_time": "2023-09-01T07:22:15.197Z"
   },
   {
    "duration": 500,
    "start_time": "2023-09-01T07:22:15.240Z"
   },
   {
    "duration": 11,
    "start_time": "2023-09-01T07:22:15.742Z"
   },
   {
    "duration": 26,
    "start_time": "2023-09-01T07:22:15.755Z"
   },
   {
    "duration": 29,
    "start_time": "2023-09-01T07:22:15.783Z"
   },
   {
    "duration": 24,
    "start_time": "2023-09-01T07:22:15.814Z"
   },
   {
    "duration": 37,
    "start_time": "2023-09-01T07:22:15.839Z"
   },
   {
    "duration": 34,
    "start_time": "2023-09-01T07:22:15.877Z"
   },
   {
    "duration": 42,
    "start_time": "2023-09-01T07:22:15.912Z"
   },
   {
    "duration": 40,
    "start_time": "2023-09-01T07:22:15.955Z"
   },
   {
    "duration": 32,
    "start_time": "2023-09-01T07:22:15.996Z"
   },
   {
    "duration": 55,
    "start_time": "2023-09-01T07:22:16.029Z"
   },
   {
    "duration": 34,
    "start_time": "2023-09-01T07:22:16.085Z"
   },
   {
    "duration": 23,
    "start_time": "2023-09-01T07:22:16.125Z"
   },
   {
    "duration": 30,
    "start_time": "2023-09-01T07:22:16.149Z"
   },
   {
    "duration": 28,
    "start_time": "2023-09-01T07:22:16.181Z"
   },
   {
    "duration": 27,
    "start_time": "2023-09-01T07:22:16.211Z"
   },
   {
    "duration": 23,
    "start_time": "2023-09-01T07:22:16.240Z"
   },
   {
    "duration": 42,
    "start_time": "2023-09-01T07:22:16.265Z"
   },
   {
    "duration": 23,
    "start_time": "2023-09-01T07:22:16.308Z"
   },
   {
    "duration": 24,
    "start_time": "2023-09-01T07:22:16.333Z"
   },
   {
    "duration": 36,
    "start_time": "2023-09-01T07:22:16.358Z"
   },
   {
    "duration": 22,
    "start_time": "2023-09-01T07:22:16.396Z"
   },
   {
    "duration": 41,
    "start_time": "2023-09-01T07:22:16.420Z"
   },
   {
    "duration": 48,
    "start_time": "2023-09-01T07:22:16.463Z"
   },
   {
    "duration": 98,
    "start_time": "2023-09-01T07:22:16.512Z"
   },
   {
    "duration": 18,
    "start_time": "2023-09-01T07:22:16.612Z"
   },
   {
    "duration": 45,
    "start_time": "2023-09-01T07:22:16.632Z"
   },
   {
    "duration": 65,
    "start_time": "2023-09-01T07:22:16.679Z"
   },
   {
    "duration": 47,
    "start_time": "2023-09-01T07:22:16.746Z"
   },
   {
    "duration": 17,
    "start_time": "2023-09-01T07:22:16.795Z"
   },
   {
    "duration": 17,
    "start_time": "2023-09-01T07:22:16.814Z"
   },
   {
    "duration": 106,
    "start_time": "2023-09-01T07:22:16.832Z"
   },
   {
    "duration": 8,
    "start_time": "2023-09-01T07:22:16.941Z"
   },
   {
    "duration": 21,
    "start_time": "2023-09-01T07:22:16.951Z"
   },
   {
    "duration": 96,
    "start_time": "2023-09-01T07:22:16.974Z"
   },
   {
    "duration": 4,
    "start_time": "2023-09-01T07:22:17.073Z"
   },
   {
    "duration": 30,
    "start_time": "2023-09-01T07:22:17.079Z"
   },
   {
    "duration": 51,
    "start_time": "2023-09-01T07:22:17.111Z"
   },
   {
    "duration": 23,
    "start_time": "2023-09-01T07:22:17.163Z"
   },
   {
    "duration": 43,
    "start_time": "2023-09-01T07:22:17.188Z"
   },
   {
    "duration": 39,
    "start_time": "2023-09-01T07:22:17.233Z"
   },
   {
    "duration": 8,
    "start_time": "2023-09-01T07:22:17.273Z"
   },
   {
    "duration": 18,
    "start_time": "2023-09-01T07:22:17.282Z"
   },
   {
    "duration": 59,
    "start_time": "2023-09-01T07:22:17.301Z"
   },
   {
    "duration": 16,
    "start_time": "2023-09-01T07:22:17.362Z"
   },
   {
    "duration": 8,
    "start_time": "2023-09-01T07:22:17.380Z"
   },
   {
    "duration": 18,
    "start_time": "2023-09-01T07:22:17.389Z"
   },
   {
    "duration": 42,
    "start_time": "2023-09-01T07:22:17.408Z"
   },
   {
    "duration": 20,
    "start_time": "2023-09-01T07:22:17.451Z"
   },
   {
    "duration": 25,
    "start_time": "2023-09-01T07:22:17.473Z"
   },
   {
    "duration": 12,
    "start_time": "2023-09-01T07:22:17.500Z"
   },
   {
    "duration": 20,
    "start_time": "2023-09-01T07:22:17.513Z"
   },
   {
    "duration": 11,
    "start_time": "2023-09-01T07:22:17.535Z"
   },
   {
    "duration": 19,
    "start_time": "2023-09-01T07:22:17.548Z"
   },
   {
    "duration": 27,
    "start_time": "2023-09-01T07:22:17.568Z"
   },
   {
    "duration": 22,
    "start_time": "2023-09-01T07:22:17.597Z"
   },
   {
    "duration": 14,
    "start_time": "2023-09-01T07:22:17.620Z"
   },
   {
    "duration": 14,
    "start_time": "2023-09-01T07:22:17.636Z"
   },
   {
    "duration": 23,
    "start_time": "2023-09-01T07:22:17.651Z"
   },
   {
    "duration": 15,
    "start_time": "2023-09-01T07:22:17.676Z"
   },
   {
    "duration": 12,
    "start_time": "2023-09-01T07:22:17.692Z"
   },
   {
    "duration": 20,
    "start_time": "2023-09-01T07:22:17.705Z"
   },
   {
    "duration": 10,
    "start_time": "2023-09-01T07:22:17.727Z"
   },
   {
    "duration": 17,
    "start_time": "2023-09-01T07:22:17.739Z"
   },
   {
    "duration": 6,
    "start_time": "2023-09-01T07:22:17.757Z"
   },
   {
    "duration": 24,
    "start_time": "2023-09-01T07:22:17.764Z"
   },
   {
    "duration": 17,
    "start_time": "2023-09-01T07:22:17.789Z"
   },
   {
    "duration": 10,
    "start_time": "2023-09-01T07:22:17.807Z"
   },
   {
    "duration": 6,
    "start_time": "2023-09-01T07:22:17.818Z"
   },
   {
    "duration": 9,
    "start_time": "2023-09-01T07:22:17.825Z"
   },
   {
    "duration": 8,
    "start_time": "2023-09-01T07:22:17.835Z"
   },
   {
    "duration": 12,
    "start_time": "2023-09-01T07:22:17.844Z"
   },
   {
    "duration": 5,
    "start_time": "2023-09-01T07:22:17.858Z"
   },
   {
    "duration": 5,
    "start_time": "2023-09-01T07:22:17.864Z"
   },
   {
    "duration": 8,
    "start_time": "2023-09-01T07:22:17.870Z"
   },
   {
    "duration": 8,
    "start_time": "2023-09-01T07:22:17.880Z"
   },
   {
    "duration": 7,
    "start_time": "2023-09-01T07:22:17.889Z"
   },
   {
    "duration": 26,
    "start_time": "2023-09-01T07:22:17.898Z"
   },
   {
    "duration": 1604,
    "start_time": "2023-09-05T15:29:46.474Z"
   },
   {
    "duration": 143,
    "start_time": "2023-09-05T15:29:48.080Z"
   },
   {
    "duration": 21,
    "start_time": "2023-09-05T15:29:48.225Z"
   },
   {
    "duration": 8,
    "start_time": "2023-09-05T15:29:48.248Z"
   },
   {
    "duration": 16,
    "start_time": "2023-09-05T15:29:48.257Z"
   },
   {
    "duration": 10,
    "start_time": "2023-09-05T15:29:48.275Z"
   },
   {
    "duration": 31,
    "start_time": "2023-09-05T15:29:48.287Z"
   },
   {
    "duration": 21,
    "start_time": "2023-09-05T15:29:48.322Z"
   },
   {
    "duration": 13,
    "start_time": "2023-09-05T15:29:48.344Z"
   },
   {
    "duration": 18,
    "start_time": "2023-09-05T15:29:48.360Z"
   },
   {
    "duration": 5,
    "start_time": "2023-09-05T15:29:48.380Z"
   },
   {
    "duration": 20,
    "start_time": "2023-09-05T15:29:48.410Z"
   },
   {
    "duration": 29,
    "start_time": "2023-09-05T15:29:48.431Z"
   },
   {
    "duration": 4,
    "start_time": "2023-09-05T15:29:48.462Z"
   },
   {
    "duration": 7,
    "start_time": "2023-09-05T15:29:48.468Z"
   },
   {
    "duration": 10,
    "start_time": "2023-09-05T15:29:48.477Z"
   },
   {
    "duration": 8,
    "start_time": "2023-09-05T15:29:48.489Z"
   },
   {
    "duration": 37,
    "start_time": "2023-09-05T15:29:48.499Z"
   },
   {
    "duration": 31,
    "start_time": "2023-09-05T15:29:48.537Z"
   },
   {
    "duration": 17,
    "start_time": "2023-09-05T15:29:48.570Z"
   },
   {
    "duration": 35,
    "start_time": "2023-09-05T15:29:48.589Z"
   },
   {
    "duration": 4,
    "start_time": "2023-09-05T15:29:48.627Z"
   },
   {
    "duration": 33,
    "start_time": "2023-09-05T15:29:48.633Z"
   },
   {
    "duration": 34,
    "start_time": "2023-09-05T15:29:48.668Z"
   },
   {
    "duration": 18,
    "start_time": "2023-09-05T15:29:48.704Z"
   },
   {
    "duration": 9,
    "start_time": "2023-09-05T15:29:48.723Z"
   },
   {
    "duration": 9,
    "start_time": "2023-09-05T15:29:48.734Z"
   },
   {
    "duration": 11,
    "start_time": "2023-09-05T15:29:48.748Z"
   },
   {
    "duration": 18,
    "start_time": "2023-09-05T15:29:48.761Z"
   },
   {
    "duration": 8,
    "start_time": "2023-09-05T15:29:48.781Z"
   },
   {
    "duration": 8,
    "start_time": "2023-09-05T15:29:48.791Z"
   },
   {
    "duration": 16,
    "start_time": "2023-09-05T15:29:48.801Z"
   },
   {
    "duration": 8,
    "start_time": "2023-09-05T15:29:48.820Z"
   },
   {
    "duration": 329,
    "start_time": "2023-09-05T15:29:48.830Z"
   },
   {
    "duration": 222,
    "start_time": "2023-09-05T15:29:49.161Z"
   },
   {
    "duration": 9,
    "start_time": "2023-09-05T15:29:49.384Z"
   },
   {
    "duration": 145,
    "start_time": "2023-09-05T15:29:49.395Z"
   },
   {
    "duration": 54,
    "start_time": "2023-09-05T15:29:49.542Z"
   },
   {
    "duration": 36,
    "start_time": "2023-09-05T15:29:49.598Z"
   },
   {
    "duration": 15,
    "start_time": "2023-09-05T15:29:49.636Z"
   },
   {
    "duration": 31,
    "start_time": "2023-09-05T15:29:49.652Z"
   },
   {
    "duration": 34,
    "start_time": "2023-09-05T15:29:49.685Z"
   },
   {
    "duration": 45,
    "start_time": "2023-09-05T15:29:49.721Z"
   },
   {
    "duration": 22,
    "start_time": "2023-09-05T15:29:49.768Z"
   },
   {
    "duration": 52,
    "start_time": "2023-09-05T15:29:49.792Z"
   },
   {
    "duration": 37,
    "start_time": "2023-09-05T15:29:49.845Z"
   },
   {
    "duration": 32,
    "start_time": "2023-09-05T15:29:49.884Z"
   },
   {
    "duration": 64,
    "start_time": "2023-09-05T15:29:49.918Z"
   },
   {
    "duration": 11,
    "start_time": "2023-09-05T15:29:49.984Z"
   },
   {
    "duration": 59,
    "start_time": "2023-09-05T15:29:49.996Z"
   },
   {
    "duration": 13,
    "start_time": "2023-09-05T15:29:50.057Z"
   },
   {
    "duration": 176,
    "start_time": "2023-09-05T15:29:50.072Z"
   },
   {
    "duration": 428,
    "start_time": "2023-09-05T15:29:50.249Z"
   },
   {
    "duration": 373,
    "start_time": "2023-09-05T15:29:50.679Z"
   },
   {
    "duration": 171,
    "start_time": "2023-09-05T15:29:51.054Z"
   },
   {
    "duration": 311,
    "start_time": "2023-09-05T15:29:51.227Z"
   },
   {
    "duration": 153,
    "start_time": "2023-09-05T15:29:51.540Z"
   },
   {
    "duration": 322,
    "start_time": "2023-09-05T15:29:51.694Z"
   },
   {
    "duration": 149,
    "start_time": "2023-09-05T15:29:52.021Z"
   },
   {
    "duration": 325,
    "start_time": "2023-09-05T15:29:52.172Z"
   },
   {
    "duration": 186,
    "start_time": "2023-09-05T15:29:52.499Z"
   },
   {
    "duration": 330,
    "start_time": "2023-09-05T15:29:52.687Z"
   },
   {
    "duration": 148,
    "start_time": "2023-09-05T15:29:53.020Z"
   },
   {
    "duration": 275,
    "start_time": "2023-09-05T15:29:53.170Z"
   },
   {
    "duration": 333,
    "start_time": "2023-09-05T15:29:53.447Z"
   },
   {
    "duration": 16,
    "start_time": "2023-09-05T15:29:53.781Z"
   },
   {
    "duration": 33,
    "start_time": "2023-09-05T15:29:53.809Z"
   },
   {
    "duration": 8,
    "start_time": "2023-09-05T15:29:53.844Z"
   },
   {
    "duration": 32,
    "start_time": "2023-09-05T15:29:53.854Z"
   },
   {
    "duration": 590,
    "start_time": "2023-09-05T15:29:53.888Z"
   },
   {
    "duration": 10,
    "start_time": "2023-09-05T15:29:54.480Z"
   },
   {
    "duration": 44,
    "start_time": "2023-09-05T15:29:54.491Z"
   },
   {
    "duration": 3,
    "start_time": "2023-09-05T15:29:54.537Z"
   },
   {
    "duration": 39,
    "start_time": "2023-09-05T15:29:54.542Z"
   },
   {
    "duration": 16,
    "start_time": "2023-09-05T15:29:54.583Z"
   },
   {
    "duration": 32,
    "start_time": "2023-09-05T15:29:54.601Z"
   },
   {
    "duration": 10,
    "start_time": "2023-09-05T15:29:54.637Z"
   },
   {
    "duration": 40,
    "start_time": "2023-09-05T15:29:54.648Z"
   },
   {
    "duration": 36,
    "start_time": "2023-09-05T15:29:54.690Z"
   },
   {
    "duration": 40,
    "start_time": "2023-09-05T15:29:54.728Z"
   },
   {
    "duration": 54,
    "start_time": "2023-09-05T15:29:54.769Z"
   },
   {
    "duration": 59,
    "start_time": "2023-09-05T15:29:54.830Z"
   },
   {
    "duration": 16,
    "start_time": "2023-09-05T15:29:54.891Z"
   },
   {
    "duration": 36,
    "start_time": "2023-09-05T15:29:54.908Z"
   },
   {
    "duration": 19,
    "start_time": "2023-09-05T15:29:54.946Z"
   },
   {
    "duration": 40,
    "start_time": "2023-09-05T15:29:54.967Z"
   },
   {
    "duration": 32,
    "start_time": "2023-09-05T15:29:55.009Z"
   },
   {
    "duration": 44,
    "start_time": "2023-09-05T15:29:55.043Z"
   },
   {
    "duration": 39,
    "start_time": "2023-09-05T15:29:55.089Z"
   },
   {
    "duration": 22,
    "start_time": "2023-09-05T15:29:55.130Z"
   },
   {
    "duration": 20,
    "start_time": "2023-09-05T15:29:55.154Z"
   },
   {
    "duration": 50,
    "start_time": "2023-09-05T15:29:55.176Z"
   },
   {
    "duration": 7,
    "start_time": "2023-09-05T15:29:55.229Z"
   },
   {
    "duration": 107,
    "start_time": "2023-09-05T15:29:55.238Z"
   },
   {
    "duration": 5,
    "start_time": "2023-09-05T15:29:55.347Z"
   },
   {
    "duration": 29,
    "start_time": "2023-09-05T15:29:55.354Z"
   },
   {
    "duration": 42,
    "start_time": "2023-09-05T15:29:55.384Z"
   },
   {
    "duration": 21,
    "start_time": "2023-09-05T15:29:55.431Z"
   },
   {
    "duration": 4,
    "start_time": "2023-09-05T15:29:55.455Z"
   },
   {
    "duration": 19,
    "start_time": "2023-09-05T15:29:55.462Z"
   },
   {
    "duration": 84,
    "start_time": "2023-09-05T15:29:55.482Z"
   },
   {
    "duration": 4,
    "start_time": "2023-09-05T15:29:55.568Z"
   },
   {
    "duration": 34,
    "start_time": "2023-09-05T15:29:55.573Z"
   },
   {
    "duration": 91,
    "start_time": "2023-09-05T15:29:55.609Z"
   },
   {
    "duration": 4,
    "start_time": "2023-09-05T15:29:55.702Z"
   },
   {
    "duration": 21,
    "start_time": "2023-09-05T15:29:55.707Z"
   },
   {
    "duration": 43,
    "start_time": "2023-09-05T15:29:55.730Z"
   },
   {
    "duration": 4,
    "start_time": "2023-09-05T15:29:55.775Z"
   },
   {
    "duration": 20,
    "start_time": "2023-09-05T15:29:55.780Z"
   },
   {
    "duration": 57,
    "start_time": "2023-09-05T15:29:55.802Z"
   },
   {
    "duration": 9,
    "start_time": "2023-09-05T15:29:55.862Z"
   },
   {
    "duration": 11,
    "start_time": "2023-09-05T15:29:55.872Z"
   },
   {
    "duration": 81,
    "start_time": "2023-09-05T15:29:55.885Z"
   },
   {
    "duration": 4,
    "start_time": "2023-09-05T15:29:55.968Z"
   },
   {
    "duration": 9,
    "start_time": "2023-09-05T15:29:55.974Z"
   },
   {
    "duration": 17,
    "start_time": "2023-09-05T15:29:55.985Z"
   },
   {
    "duration": 45,
    "start_time": "2023-09-05T15:29:56.004Z"
   },
   {
    "duration": 48,
    "start_time": "2023-09-05T15:29:56.050Z"
   },
   {
    "duration": 30,
    "start_time": "2023-09-05T15:29:56.100Z"
   },
   {
    "duration": 34,
    "start_time": "2023-09-05T15:29:56.132Z"
   },
   {
    "duration": 30,
    "start_time": "2023-09-05T15:29:56.168Z"
   },
   {
    "duration": 23,
    "start_time": "2023-09-05T15:29:56.200Z"
   },
   {
    "duration": 27,
    "start_time": "2023-09-05T15:29:56.224Z"
   },
   {
    "duration": 13,
    "start_time": "2023-09-05T15:29:56.252Z"
   },
   {
    "duration": 13,
    "start_time": "2023-09-05T15:29:56.267Z"
   },
   {
    "duration": 13,
    "start_time": "2023-09-05T15:29:56.282Z"
   },
   {
    "duration": 15,
    "start_time": "2023-09-05T15:29:56.297Z"
   },
   {
    "duration": 14,
    "start_time": "2023-09-05T15:29:56.314Z"
   },
   {
    "duration": 10,
    "start_time": "2023-09-05T15:29:56.330Z"
   },
   {
    "duration": 9,
    "start_time": "2023-09-05T15:29:56.342Z"
   },
   {
    "duration": 5,
    "start_time": "2023-09-05T15:29:56.353Z"
   },
   {
    "duration": 23,
    "start_time": "2023-09-05T15:29:56.360Z"
   },
   {
    "duration": 14,
    "start_time": "2023-09-05T15:29:56.385Z"
   },
   {
    "duration": 6,
    "start_time": "2023-09-05T15:29:56.400Z"
   },
   {
    "duration": 18,
    "start_time": "2023-09-05T15:29:56.408Z"
   },
   {
    "duration": 13,
    "start_time": "2023-09-05T15:29:56.428Z"
   },
   {
    "duration": 15,
    "start_time": "2023-09-05T15:29:56.443Z"
   },
   {
    "duration": 11,
    "start_time": "2023-09-05T15:29:56.460Z"
   },
   {
    "duration": 14,
    "start_time": "2023-09-05T15:29:56.472Z"
   },
   {
    "duration": 12,
    "start_time": "2023-09-05T15:29:56.488Z"
   },
   {
    "duration": 36,
    "start_time": "2023-09-05T15:29:56.502Z"
   },
   {
    "duration": 14,
    "start_time": "2023-09-05T15:29:56.540Z"
   },
   {
    "duration": 13,
    "start_time": "2023-09-05T15:29:56.556Z"
   },
   {
    "duration": 6,
    "start_time": "2023-09-05T15:29:56.573Z"
   },
   {
    "duration": 7,
    "start_time": "2023-09-05T15:29:56.581Z"
   },
   {
    "duration": 43,
    "start_time": "2023-09-05T15:29:56.589Z"
   },
   {
    "duration": 79,
    "start_time": "2023-09-05T15:29:56.634Z"
   },
   {
    "duration": 297,
    "start_time": "2023-09-05T15:29:56.715Z"
   },
   {
    "duration": 171,
    "start_time": "2023-09-05T15:30:37.005Z"
   }
  ],
  "kernelspec": {
   "display_name": "Python 3 (ipykernel)",
   "language": "python",
   "name": "python3"
  },
  "language_info": {
   "codemirror_mode": {
    "name": "ipython",
    "version": 3
   },
   "file_extension": ".py",
   "mimetype": "text/x-python",
   "name": "python",
   "nbconvert_exporter": "python",
   "pygments_lexer": "ipython3",
   "version": "3.11.5"
  },
  "toc": {
   "base_numbering": 1,
   "nav_menu": {},
   "number_sections": true,
   "sideBar": true,
   "skip_h1_title": false,
   "title_cell": "Table of Contents",
   "title_sidebar": "Contents",
   "toc_cell": false,
   "toc_position": {},
   "toc_section_display": true,
   "toc_window_display": false
  }
 },
 "nbformat": 4,
 "nbformat_minor": 5
}
